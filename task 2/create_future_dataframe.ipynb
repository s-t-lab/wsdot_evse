{
 "cells": [
  {
   "cell_type": "code",
   "execution_count": 1,
   "outputs": [
    {
     "name": "stderr",
     "output_type": "stream",
     "text": [
      "C:\\Users\\steff\\anaconda3\\lib\\site-packages\\fuzzywuzzy\\fuzz.py:11: UserWarning: Using slow pure-python SequenceMatcher. Install python-Levenshtein to remove this warning\n",
      "  warnings.warn('Using slow pure-python SequenceMatcher. Install python-Levenshtein to remove this warning')\n"
     ]
    }
   ],
   "source": [
    "import pandas as pd\n",
    "import numpy as np\n",
    "import datetime as dt\n",
    "import matplotlib.pyplot as plt\n",
    "from uszipcode import SearchEngine\n",
    "search = SearchEngine()\n",
    "\n",
    "import utils as u\n",
    "from config.GLOBAL import *"
   ],
   "metadata": {
    "collapsed": false
   }
  },
  {
   "cell_type": "code",
   "execution_count": 2,
   "outputs": [],
   "source": [
    "census_tracts_2010_filtered = census_tracts_2010\n",
    "census_tracts_2010_filtered = [x for x in census_tracts_2010_filtered if x not in census_tracts_2010_0n_veh]\n",
    "census_tracts_2010_filtered = [x for x in census_tracts_2010_filtered if x not in census_tracts_2010_less_than_100n_veh]\n",
    "census_tracts_2010_filtered = [x for x in census_tracts_2010_filtered if x not in census_tracts_2010_missing_ACS_data]\n",
    "census_tracts_2010_filtered = [x for x in census_tracts_2010_filtered if x not in census_tracts_2010_]"
   ],
   "metadata": {
    "collapsed": false
   }
  },
  {
   "cell_type": "code",
   "execution_count": 29,
   "outputs": [],
   "source": [
    "# multiindex = pd.MultiIndex.from_product([times, census_tracts_2010], names=[\"time\", \"census_tract_2010\"])\n",
    "multiindex = pd.MultiIndex.from_product([times_future, census_tracts_2010_filtered], names=[\"time\", \"census_tract_2010\"])\n",
    "# multiindex = pd.MultiIndex.from_product([times_all, census_tracts_2010_filtered], names=[\"date\", \"census_tract_2010\"])"
   ],
   "metadata": {
    "collapsed": false
   }
  },
  {
   "cell_type": "code",
   "execution_count": 30,
   "outputs": [
    {
     "data": {
      "text/plain": "                              county zip_code\ntime       census_tract_2010                 \n2022-10-31 53001950100         Adams    99169\n           53001950200         Adams    99371\n           53001950300         Adams    99344\n           53001950400         Adams    99344\n           53001950500         Adams    99344\n...                              ...      ...\n2035-12-31 53077940002        Yakima    98948\n           53077940003        Yakima    98903\n           53077940004        Yakima    98951\n           53077940005        Yakima    98948\n           53077940006        Yakima    98948\n\n[228483 rows x 2 columns]",
      "text/html": "<div>\n<style scoped>\n    .dataframe tbody tr th:only-of-type {\n        vertical-align: middle;\n    }\n\n    .dataframe tbody tr th {\n        vertical-align: top;\n    }\n\n    .dataframe thead th {\n        text-align: right;\n    }\n</style>\n<table border=\"1\" class=\"dataframe\">\n  <thead>\n    <tr style=\"text-align: right;\">\n      <th></th>\n      <th></th>\n      <th>county</th>\n      <th>zip_code</th>\n    </tr>\n    <tr>\n      <th>time</th>\n      <th>census_tract_2010</th>\n      <th></th>\n      <th></th>\n    </tr>\n  </thead>\n  <tbody>\n    <tr>\n      <th rowspan=\"5\" valign=\"top\">2022-10-31</th>\n      <th>53001950100</th>\n      <td>Adams</td>\n      <td>99169</td>\n    </tr>\n    <tr>\n      <th>53001950200</th>\n      <td>Adams</td>\n      <td>99371</td>\n    </tr>\n    <tr>\n      <th>53001950300</th>\n      <td>Adams</td>\n      <td>99344</td>\n    </tr>\n    <tr>\n      <th>53001950400</th>\n      <td>Adams</td>\n      <td>99344</td>\n    </tr>\n    <tr>\n      <th>53001950500</th>\n      <td>Adams</td>\n      <td>99344</td>\n    </tr>\n    <tr>\n      <th>...</th>\n      <th>...</th>\n      <td>...</td>\n      <td>...</td>\n    </tr>\n    <tr>\n      <th rowspan=\"5\" valign=\"top\">2035-12-31</th>\n      <th>53077940002</th>\n      <td>Yakima</td>\n      <td>98948</td>\n    </tr>\n    <tr>\n      <th>53077940003</th>\n      <td>Yakima</td>\n      <td>98903</td>\n    </tr>\n    <tr>\n      <th>53077940004</th>\n      <td>Yakima</td>\n      <td>98951</td>\n    </tr>\n    <tr>\n      <th>53077940005</th>\n      <td>Yakima</td>\n      <td>98948</td>\n    </tr>\n    <tr>\n      <th>53077940006</th>\n      <td>Yakima</td>\n      <td>98948</td>\n    </tr>\n  </tbody>\n</table>\n<p>228483 rows × 2 columns</p>\n</div>"
     },
     "execution_count": 30,
     "metadata": {},
     "output_type": "execute_result"
    }
   ],
   "source": [
    "# create final dataframe and add county and ZIP code column to it\n",
    "df_future = pd.DataFrame(index=multiindex, columns=[\"county\", \"zip_code\"])\n",
    "# for census_tract in census_tracts_2010:\n",
    "for census_tract in census_tracts_2010_filtered:\n",
    "    if census_tract in tract_to_zip.index:\n",
    "        zip_code = tract_to_zip.loc[census_tract, \"zip_code\"]\n",
    "        df_future.loc[(slice(None), census_tract), \"zip_code\"] = zip_code\n",
    "        df_future.loc[(slice(None), census_tract), \"county\"] = search.by_zipcode(zip_code).county.replace(\" County\", \"\")\n",
    "df_future"
   ],
   "metadata": {
    "collapsed": false
   }
  },
  {
   "cell_type": "code",
   "execution_count": 31,
   "outputs": [],
   "source": [
    "empty_df_future = df_future.copy()"
   ],
   "metadata": {
    "collapsed": false
   }
  },
  {
   "cell_type": "code",
   "execution_count": 60,
   "outputs": [],
   "source": [
    "df = empty_df_future.copy()"
   ],
   "metadata": {
    "collapsed": false
   }
  },
  {
   "cell_type": "code",
   "execution_count": 23,
   "outputs": [
    {
     "data": {
      "text/plain": "                   fixeff_i\ncensus_tract_2010          \n53001950100        0.000000\n53001950200       -2.905202\n53001950300       -0.418235\n53001950400       -2.304883\n53001950500       -1.290576\n...                     ...\n53077940002       -1.583640\n53077940003       -1.470011\n53077940004       -2.144669\n53077940005       -2.749912\n53077940006       -1.831687\n\n[1437 rows x 1 columns]",
      "text/html": "<div>\n<style scoped>\n    .dataframe tbody tr th:only-of-type {\n        vertical-align: middle;\n    }\n\n    .dataframe tbody tr th {\n        vertical-align: top;\n    }\n\n    .dataframe thead th {\n        text-align: right;\n    }\n</style>\n<table border=\"1\" class=\"dataframe\">\n  <thead>\n    <tr style=\"text-align: right;\">\n      <th></th>\n      <th>fixeff_i</th>\n    </tr>\n    <tr>\n      <th>census_tract_2010</th>\n      <th></th>\n    </tr>\n  </thead>\n  <tbody>\n    <tr>\n      <th>53001950100</th>\n      <td>0.000000</td>\n    </tr>\n    <tr>\n      <th>53001950200</th>\n      <td>-2.905202</td>\n    </tr>\n    <tr>\n      <th>53001950300</th>\n      <td>-0.418235</td>\n    </tr>\n    <tr>\n      <th>53001950400</th>\n      <td>-2.304883</td>\n    </tr>\n    <tr>\n      <th>53001950500</th>\n      <td>-1.290576</td>\n    </tr>\n    <tr>\n      <th>...</th>\n      <td>...</td>\n    </tr>\n    <tr>\n      <th>53077940002</th>\n      <td>-1.583640</td>\n    </tr>\n    <tr>\n      <th>53077940003</th>\n      <td>-1.470011</td>\n    </tr>\n    <tr>\n      <th>53077940004</th>\n      <td>-2.144669</td>\n    </tr>\n    <tr>\n      <th>53077940005</th>\n      <td>-2.749912</td>\n    </tr>\n    <tr>\n      <th>53077940006</th>\n      <td>-1.831687</td>\n    </tr>\n  </tbody>\n</table>\n<p>1437 rows × 1 columns</p>\n</div>"
     },
     "execution_count": 23,
     "metadata": {},
     "output_type": "execute_result"
    }
   ],
   "source": [
    "#read location fixed effects\n",
    "fixeff_i = pd.read_csv(\"results/model~1/model_fixeff_i.csv\")\n",
    "fixeff_i = fixeff_i.rename({\"x\": \"fixeff_i\"}, axis=1)\n",
    "fixeff_i = fixeff_i.set_index(\"census_tract_2010\")\n",
    "fixeff_i"
   ],
   "metadata": {
    "collapsed": false
   }
  },
  {
   "cell_type": "code",
   "execution_count": 7,
   "outputs": [
    {
     "data": {
      "text/plain": "            t_dummy_predict  fixeff_t_predict\ndate                                         \n2011-01-31                1         -0.583585\n2011-02-28                2         -0.253416\n2011-03-31                3          0.044707\n2011-04-30                4          0.316458\n2011-05-31                5          0.566126\n...                     ...               ...\n2035-08-31              296         10.297228\n2035-09-30              297         10.307330\n2035-10-31              298         10.317398\n2035-11-30              299         10.327434\n2035-12-31              300         10.337437\n\n[300 rows x 2 columns]",
      "text/html": "<div>\n<style scoped>\n    .dataframe tbody tr th:only-of-type {\n        vertical-align: middle;\n    }\n\n    .dataframe tbody tr th {\n        vertical-align: top;\n    }\n\n    .dataframe thead th {\n        text-align: right;\n    }\n</style>\n<table border=\"1\" class=\"dataframe\">\n  <thead>\n    <tr style=\"text-align: right;\">\n      <th></th>\n      <th>t_dummy_predict</th>\n      <th>fixeff_t_predict</th>\n    </tr>\n    <tr>\n      <th>date</th>\n      <th></th>\n      <th></th>\n    </tr>\n  </thead>\n  <tbody>\n    <tr>\n      <th>2011-01-31</th>\n      <td>1</td>\n      <td>-0.583585</td>\n    </tr>\n    <tr>\n      <th>2011-02-28</th>\n      <td>2</td>\n      <td>-0.253416</td>\n    </tr>\n    <tr>\n      <th>2011-03-31</th>\n      <td>3</td>\n      <td>0.044707</td>\n    </tr>\n    <tr>\n      <th>2011-04-30</th>\n      <td>4</td>\n      <td>0.316458</td>\n    </tr>\n    <tr>\n      <th>2011-05-31</th>\n      <td>5</td>\n      <td>0.566126</td>\n    </tr>\n    <tr>\n      <th>...</th>\n      <td>...</td>\n      <td>...</td>\n    </tr>\n    <tr>\n      <th>2035-08-31</th>\n      <td>296</td>\n      <td>10.297228</td>\n    </tr>\n    <tr>\n      <th>2035-09-30</th>\n      <td>297</td>\n      <td>10.307330</td>\n    </tr>\n    <tr>\n      <th>2035-10-31</th>\n      <td>298</td>\n      <td>10.317398</td>\n    </tr>\n    <tr>\n      <th>2035-11-30</th>\n      <td>299</td>\n      <td>10.327434</td>\n    </tr>\n    <tr>\n      <th>2035-12-31</th>\n      <td>300</td>\n      <td>10.337437</td>\n    </tr>\n  </tbody>\n</table>\n<p>300 rows × 2 columns</p>\n</div>"
     },
     "execution_count": 7,
     "metadata": {},
     "output_type": "execute_result"
    }
   ],
   "source": [
    "#read time fixed effects\n",
    "# fixef_t = pd.read_csv(\"results/model~1/model_fixef_t.csv\")\n",
    "fixeff_t = pd.read_csv(\"results/model~1/model_fixeff_t_predict.csv\")\n",
    "fixeff_t = fixeff_t.rename({\"date_predict\": \"date\"}, axis=1)\n",
    "fixeff_t = fixeff_t.drop(\"Unnamed: 0\", axis=1)\n",
    "# fixeff_t = fixeff_t.convert_dtypes()\n",
    "fixeff_t[\"date\"] = pd.to_datetime(fixeff_t[\"date\"]).dt.date\n",
    "fixeff_t = fixeff_t.set_index(\"date\")\n",
    "fixeff_t"
   ],
   "metadata": {
    "collapsed": false
   }
  },
  {
   "cell_type": "code",
   "execution_count": 19,
   "outputs": [
    {
     "data": {
      "text/plain": "                                          Unnamed: 0       time  county  \\\ndate       census_tract_2010                                              \n2011-01-31 53001950100        53001950100-2011-01-31 2011-01-31   Adams   \n           53001950200        53001950200-2011-01-31 2011-01-31   Adams   \n           53001950300        53001950300-2011-01-31 2011-01-31   Adams   \n           53001950400        53001950400-2011-01-31 2011-01-31   Adams   \n           53001950500        53001950500-2011-01-31 2011-01-31   Adams   \n...                                              ...        ...     ...   \n2022-09-30 53077940002        53077940002-2022-09-30 2022-09-30  Yakima   \n           53077940003        53077940003-2022-09-30 2022-09-30  Yakima   \n           53077940004        53077940004-2022-09-30 2022-09-30  Yakima   \n           53077940005        53077940005-2022-09-30 2022-09-30  Yakima   \n           53077940006        53077940006-2022-09-30 2022-09-30  Yakima   \n\n                              zip_code  n_ev  n_bev  n_phev  m_ev  m_bev  \\\ndate       census_tract_2010                                               \n2011-01-31 53001950100           99169  0.01   0.01    0.01     7      6   \n           53001950200           99371  0.01   0.01    0.01     7      6   \n           53001950300           99344  0.01   0.01    0.01     7      6   \n           53001950400           99344  0.01   0.01    0.01     7      6   \n           53001950500           99344  0.01   0.01    0.01     7      6   \n...                                ...   ...    ...     ...   ...    ...   \n2022-09-30 53077940002           98948  6.00   4.00    2.00   121     60   \n           53077940003           98903  4.00   1.00    3.00   121     60   \n           53077940004           98951  2.00   2.00    0.01   121     60   \n           53077940005           98948  1.00   1.00    0.01   121     60   \n           53077940006           98948  2.00   2.00    0.01   121     60   \n\n                              m_phev  ...   p_white  p_bachelor  \\\ndate       census_tract_2010          ...                         \n2011-01-31 53001950100             1  ...  0.930305    0.146269   \n           53001950200             1  ...  0.842457    0.320513   \n           53001950300             1  ...  0.503580    0.062859   \n           53001950400             1  ...  0.644241    0.148916   \n           53001950500             1  ...  0.516711    0.061387   \n...                              ...  ...       ...         ...   \n2022-09-30 53077940002            64  ...  0.438808    0.100344   \n           53077940003            64  ...  0.462168    0.239831   \n           53077940004            64  ...  0.537067    0.046347   \n           53077940005            64  ...  0.601439    0.086981   \n           53077940006            64  ...  0.549848    0.039939   \n\n                              p_single_family_unit              tract_date  \\\ndate       census_tract_2010                                                 \n2011-01-31 53001950100                    0.813604  53001950100-2011-01-31   \n           53001950200                    0.792271  53001950200-2011-01-31   \n           53001950300                    0.348436  53001950300-2011-01-31   \n           53001950400                    0.622989  53001950400-2011-01-31   \n           53001950500                    0.726737  53001950500-2011-01-31   \n...                                            ...                     ...   \n2022-09-30 53077940002                    0.823129  53077940002-2022-09-30   \n           53077940003                    0.698741  53077940003-2022-09-30   \n           53077940004                    0.688690  53077940004-2022-09-30   \n           53077940005                    0.750708  53077940005-2022-09-30   \n           53077940006                    0.795062  53077940006-2022-09-30   \n\n                               index  index_p  p_ev_log_odds_res  \\\ndate       census_tract_2010                                       \n2011-01-31 53001950100             1        1          -1.891626   \n           53001950200             2      142          -5.066795   \n           53001950300             3      283          -1.253086   \n           53001950400             4      424          -4.198314   \n           53001950500             5      565          -2.377608   \n...                              ...      ...                ...   \n2022-09-30 53077940002        202613   202053          -1.027278   \n           53077940003        202614   202194          -0.987372   \n           53077940004        202615   202335          -0.359050   \n           53077940005        202616   202476          -0.638273   \n           53077940006        202617   202617          -0.273439   \n\n                              p_ev_log_odds_predict  p_ev_predict  p_ev_res  \ndate       census_tract_2010                                                 \n2011-01-31 53001950100                   -14.130161  7.300438e-07 -0.000004  \n           53001950200                   -16.943662  4.379870e-08 -0.000007  \n           53001950300                   -14.578062  4.664743e-07 -0.000001  \n           53001950400                   -16.423694  7.366824e-08 -0.000005  \n           53001950500                   -15.307598  2.249027e-07 -0.000002  \n...                                             ...           ...       ...  \n2022-09-30 53077940002                    -7.407965  6.060360e-04 -0.001085  \n           53077940003                    -7.330813  6.546120e-04 -0.001101  \n           53077940004                    -8.073505  3.115919e-04 -0.000135  \n           53077940005                    -8.718201  1.635544e-04 -0.000146  \n           53077940006                    -7.720316  4.435234e-04 -0.000139  \n\n[202617 rows x 38 columns]",
      "text/html": "<div>\n<style scoped>\n    .dataframe tbody tr th:only-of-type {\n        vertical-align: middle;\n    }\n\n    .dataframe tbody tr th {\n        vertical-align: top;\n    }\n\n    .dataframe thead th {\n        text-align: right;\n    }\n</style>\n<table border=\"1\" class=\"dataframe\">\n  <thead>\n    <tr style=\"text-align: right;\">\n      <th></th>\n      <th></th>\n      <th>Unnamed: 0</th>\n      <th>time</th>\n      <th>county</th>\n      <th>zip_code</th>\n      <th>n_ev</th>\n      <th>n_bev</th>\n      <th>n_phev</th>\n      <th>m_ev</th>\n      <th>m_bev</th>\n      <th>m_phev</th>\n      <th>...</th>\n      <th>p_white</th>\n      <th>p_bachelor</th>\n      <th>p_single_family_unit</th>\n      <th>tract_date</th>\n      <th>index</th>\n      <th>index_p</th>\n      <th>p_ev_log_odds_res</th>\n      <th>p_ev_log_odds_predict</th>\n      <th>p_ev_predict</th>\n      <th>p_ev_res</th>\n    </tr>\n    <tr>\n      <th>date</th>\n      <th>census_tract_2010</th>\n      <th></th>\n      <th></th>\n      <th></th>\n      <th></th>\n      <th></th>\n      <th></th>\n      <th></th>\n      <th></th>\n      <th></th>\n      <th></th>\n      <th></th>\n      <th></th>\n      <th></th>\n      <th></th>\n      <th></th>\n      <th></th>\n      <th></th>\n      <th></th>\n      <th></th>\n      <th></th>\n      <th></th>\n    </tr>\n  </thead>\n  <tbody>\n    <tr>\n      <th rowspan=\"5\" valign=\"top\">2011-01-31</th>\n      <th>53001950100</th>\n      <td>53001950100-2011-01-31</td>\n      <td>2011-01-31</td>\n      <td>Adams</td>\n      <td>99169</td>\n      <td>0.01</td>\n      <td>0.01</td>\n      <td>0.01</td>\n      <td>7</td>\n      <td>6</td>\n      <td>1</td>\n      <td>...</td>\n      <td>0.930305</td>\n      <td>0.146269</td>\n      <td>0.813604</td>\n      <td>53001950100-2011-01-31</td>\n      <td>1</td>\n      <td>1</td>\n      <td>-1.891626</td>\n      <td>-14.130161</td>\n      <td>7.300438e-07</td>\n      <td>-0.000004</td>\n    </tr>\n    <tr>\n      <th>53001950200</th>\n      <td>53001950200-2011-01-31</td>\n      <td>2011-01-31</td>\n      <td>Adams</td>\n      <td>99371</td>\n      <td>0.01</td>\n      <td>0.01</td>\n      <td>0.01</td>\n      <td>7</td>\n      <td>6</td>\n      <td>1</td>\n      <td>...</td>\n      <td>0.842457</td>\n      <td>0.320513</td>\n      <td>0.792271</td>\n      <td>53001950200-2011-01-31</td>\n      <td>2</td>\n      <td>142</td>\n      <td>-5.066795</td>\n      <td>-16.943662</td>\n      <td>4.379870e-08</td>\n      <td>-0.000007</td>\n    </tr>\n    <tr>\n      <th>53001950300</th>\n      <td>53001950300-2011-01-31</td>\n      <td>2011-01-31</td>\n      <td>Adams</td>\n      <td>99344</td>\n      <td>0.01</td>\n      <td>0.01</td>\n      <td>0.01</td>\n      <td>7</td>\n      <td>6</td>\n      <td>1</td>\n      <td>...</td>\n      <td>0.503580</td>\n      <td>0.062859</td>\n      <td>0.348436</td>\n      <td>53001950300-2011-01-31</td>\n      <td>3</td>\n      <td>283</td>\n      <td>-1.253086</td>\n      <td>-14.578062</td>\n      <td>4.664743e-07</td>\n      <td>-0.000001</td>\n    </tr>\n    <tr>\n      <th>53001950400</th>\n      <td>53001950400-2011-01-31</td>\n      <td>2011-01-31</td>\n      <td>Adams</td>\n      <td>99344</td>\n      <td>0.01</td>\n      <td>0.01</td>\n      <td>0.01</td>\n      <td>7</td>\n      <td>6</td>\n      <td>1</td>\n      <td>...</td>\n      <td>0.644241</td>\n      <td>0.148916</td>\n      <td>0.622989</td>\n      <td>53001950400-2011-01-31</td>\n      <td>4</td>\n      <td>424</td>\n      <td>-4.198314</td>\n      <td>-16.423694</td>\n      <td>7.366824e-08</td>\n      <td>-0.000005</td>\n    </tr>\n    <tr>\n      <th>53001950500</th>\n      <td>53001950500-2011-01-31</td>\n      <td>2011-01-31</td>\n      <td>Adams</td>\n      <td>99344</td>\n      <td>0.01</td>\n      <td>0.01</td>\n      <td>0.01</td>\n      <td>7</td>\n      <td>6</td>\n      <td>1</td>\n      <td>...</td>\n      <td>0.516711</td>\n      <td>0.061387</td>\n      <td>0.726737</td>\n      <td>53001950500-2011-01-31</td>\n      <td>5</td>\n      <td>565</td>\n      <td>-2.377608</td>\n      <td>-15.307598</td>\n      <td>2.249027e-07</td>\n      <td>-0.000002</td>\n    </tr>\n    <tr>\n      <th>...</th>\n      <th>...</th>\n      <td>...</td>\n      <td>...</td>\n      <td>...</td>\n      <td>...</td>\n      <td>...</td>\n      <td>...</td>\n      <td>...</td>\n      <td>...</td>\n      <td>...</td>\n      <td>...</td>\n      <td>...</td>\n      <td>...</td>\n      <td>...</td>\n      <td>...</td>\n      <td>...</td>\n      <td>...</td>\n      <td>...</td>\n      <td>...</td>\n      <td>...</td>\n      <td>...</td>\n      <td>...</td>\n    </tr>\n    <tr>\n      <th rowspan=\"5\" valign=\"top\">2022-09-30</th>\n      <th>53077940002</th>\n      <td>53077940002-2022-09-30</td>\n      <td>2022-09-30</td>\n      <td>Yakima</td>\n      <td>98948</td>\n      <td>6.00</td>\n      <td>4.00</td>\n      <td>2.00</td>\n      <td>121</td>\n      <td>60</td>\n      <td>64</td>\n      <td>...</td>\n      <td>0.438808</td>\n      <td>0.100344</td>\n      <td>0.823129</td>\n      <td>53077940002-2022-09-30</td>\n      <td>202613</td>\n      <td>202053</td>\n      <td>-1.027278</td>\n      <td>-7.407965</td>\n      <td>6.060360e-04</td>\n      <td>-0.001085</td>\n    </tr>\n    <tr>\n      <th>53077940003</th>\n      <td>53077940003-2022-09-30</td>\n      <td>2022-09-30</td>\n      <td>Yakima</td>\n      <td>98903</td>\n      <td>4.00</td>\n      <td>1.00</td>\n      <td>3.00</td>\n      <td>121</td>\n      <td>60</td>\n      <td>64</td>\n      <td>...</td>\n      <td>0.462168</td>\n      <td>0.239831</td>\n      <td>0.698741</td>\n      <td>53077940003-2022-09-30</td>\n      <td>202614</td>\n      <td>202194</td>\n      <td>-0.987372</td>\n      <td>-7.330813</td>\n      <td>6.546120e-04</td>\n      <td>-0.001101</td>\n    </tr>\n    <tr>\n      <th>53077940004</th>\n      <td>53077940004-2022-09-30</td>\n      <td>2022-09-30</td>\n      <td>Yakima</td>\n      <td>98951</td>\n      <td>2.00</td>\n      <td>2.00</td>\n      <td>0.01</td>\n      <td>121</td>\n      <td>60</td>\n      <td>64</td>\n      <td>...</td>\n      <td>0.537067</td>\n      <td>0.046347</td>\n      <td>0.688690</td>\n      <td>53077940004-2022-09-30</td>\n      <td>202615</td>\n      <td>202335</td>\n      <td>-0.359050</td>\n      <td>-8.073505</td>\n      <td>3.115919e-04</td>\n      <td>-0.000135</td>\n    </tr>\n    <tr>\n      <th>53077940005</th>\n      <td>53077940005-2022-09-30</td>\n      <td>2022-09-30</td>\n      <td>Yakima</td>\n      <td>98948</td>\n      <td>1.00</td>\n      <td>1.00</td>\n      <td>0.01</td>\n      <td>121</td>\n      <td>60</td>\n      <td>64</td>\n      <td>...</td>\n      <td>0.601439</td>\n      <td>0.086981</td>\n      <td>0.750708</td>\n      <td>53077940005-2022-09-30</td>\n      <td>202616</td>\n      <td>202476</td>\n      <td>-0.638273</td>\n      <td>-8.718201</td>\n      <td>1.635544e-04</td>\n      <td>-0.000146</td>\n    </tr>\n    <tr>\n      <th>53077940006</th>\n      <td>53077940006-2022-09-30</td>\n      <td>2022-09-30</td>\n      <td>Yakima</td>\n      <td>98948</td>\n      <td>2.00</td>\n      <td>2.00</td>\n      <td>0.01</td>\n      <td>121</td>\n      <td>60</td>\n      <td>64</td>\n      <td>...</td>\n      <td>0.549848</td>\n      <td>0.039939</td>\n      <td>0.795062</td>\n      <td>53077940006-2022-09-30</td>\n      <td>202617</td>\n      <td>202617</td>\n      <td>-0.273439</td>\n      <td>-7.720316</td>\n      <td>4.435234e-04</td>\n      <td>-0.000139</td>\n    </tr>\n  </tbody>\n</table>\n<p>202617 rows × 38 columns</p>\n</div>"
     },
     "execution_count": 19,
     "metadata": {},
     "output_type": "execute_result"
    }
   ],
   "source": [
    "df_past = pd.read_csv(\"data/data_2011_to_2022_R.csv\", parse_dates=[\"time\", \"date\"])\n",
    "df_past[\"date\"] = pd.to_datetime(df_past[\"date\"]).dt.date\n",
    "df_past = df_past.sort_values(\"index\")\n",
    "df_past = df_past.set_index([\"date\", \"census_tract_2010\"])\n",
    "df_past"
   ],
   "metadata": {
    "collapsed": false
   }
  },
  {
   "cell_type": "code",
   "execution_count": 32,
   "outputs": [
    {
     "data": {
      "text/plain": "                                          Unnamed: 0       time  county  \\\ndate       census_tract_2010                                              \n2011-01-31 53001950100        53001950100-2011-01-31 2011-01-31   Adams   \n           53001950200        53001950200-2011-01-31 2011-01-31   Adams   \n           53001950300        53001950300-2011-01-31 2011-01-31   Adams   \n           53001950400        53001950400-2011-01-31 2011-01-31   Adams   \n           53001950500        53001950500-2011-01-31 2011-01-31   Adams   \n...                                              ...        ...     ...   \n2035-12-31 53077940002                           NaN        NaT  Yakima   \n           53077940003                           NaN        NaT  Yakima   \n           53077940004                           NaN        NaT  Yakima   \n           53077940005                           NaN        NaT  Yakima   \n           53077940006                           NaN        NaT  Yakima   \n\n                             zip_code  n_ev  n_bev  n_phev  m_ev  m_bev  \\\ndate       census_tract_2010                                              \n2011-01-31 53001950100          99169  0.01   0.01    0.01   7.0    6.0   \n           53001950200          99371  0.01   0.01    0.01   7.0    6.0   \n           53001950300          99344  0.01   0.01    0.01   7.0    6.0   \n           53001950400          99344  0.01   0.01    0.01   7.0    6.0   \n           53001950500          99344  0.01   0.01    0.01   7.0    6.0   \n...                               ...   ...    ...     ...   ...    ...   \n2035-12-31 53077940002          98948   NaN    NaN     NaN   NaN    NaN   \n           53077940003          98903   NaN    NaN     NaN   NaN    NaN   \n           53077940004          98951   NaN    NaN     NaN   NaN    NaN   \n           53077940005          98948   NaN    NaN     NaN   NaN    NaN   \n           53077940006          98948   NaN    NaN     NaN   NaN    NaN   \n\n                              m_phev  ...   p_white  p_bachelor  \\\ndate       census_tract_2010          ...                         \n2011-01-31 53001950100           1.0  ...  0.930305    0.146269   \n           53001950200           1.0  ...  0.842457    0.320513   \n           53001950300           1.0  ...  0.503580    0.062859   \n           53001950400           1.0  ...  0.644241    0.148916   \n           53001950500           1.0  ...  0.516711    0.061387   \n...                              ...  ...       ...         ...   \n2035-12-31 53077940002           NaN  ...       NaN         NaN   \n           53077940003           NaN  ...       NaN         NaN   \n           53077940004           NaN  ...       NaN         NaN   \n           53077940005           NaN  ...       NaN         NaN   \n           53077940006           NaN  ...       NaN         NaN   \n\n                              p_single_family_unit              tract_date  \\\ndate       census_tract_2010                                                 \n2011-01-31 53001950100                    0.813604  53001950100-2011-01-31   \n           53001950200                    0.792271  53001950200-2011-01-31   \n           53001950300                    0.348436  53001950300-2011-01-31   \n           53001950400                    0.622989  53001950400-2011-01-31   \n           53001950500                    0.726737  53001950500-2011-01-31   \n...                                            ...                     ...   \n2035-12-31 53077940002                         NaN                     NaN   \n           53077940003                         NaN                     NaN   \n           53077940004                         NaN                     NaN   \n           53077940005                         NaN                     NaN   \n           53077940006                         NaN                     NaN   \n\n                              index  index_p  p_ev_log_odds_res  \\\ndate       census_tract_2010                                      \n2011-01-31 53001950100          1.0      1.0          -1.891626   \n           53001950200          2.0    142.0          -5.066795   \n           53001950300          3.0    283.0          -1.253086   \n           53001950400          4.0    424.0          -4.198314   \n           53001950500          5.0    565.0          -2.377608   \n...                             ...      ...                ...   \n2035-12-31 53077940002          NaN      NaN                NaN   \n           53077940003          NaN      NaN                NaN   \n           53077940004          NaN      NaN                NaN   \n           53077940005          NaN      NaN                NaN   \n           53077940006          NaN      NaN                NaN   \n\n                              p_ev_log_odds_predict  p_ev_predict  p_ev_res  \ndate       census_tract_2010                                                 \n2011-01-31 53001950100                   -14.130161  7.300438e-07 -0.000004  \n           53001950200                   -16.943662  4.379870e-08 -0.000007  \n           53001950300                   -14.578062  4.664743e-07 -0.000001  \n           53001950400                   -16.423694  7.366824e-08 -0.000005  \n           53001950500                   -15.307598  2.249027e-07 -0.000002  \n...                                             ...           ...       ...  \n2035-12-31 53077940002                          NaN           NaN       NaN  \n           53077940003                          NaN           NaN       NaN  \n           53077940004                          NaN           NaN       NaN  \n           53077940005                          NaN           NaN       NaN  \n           53077940006                          NaN           NaN       NaN  \n\n[431100 rows x 38 columns]",
      "text/html": "<div>\n<style scoped>\n    .dataframe tbody tr th:only-of-type {\n        vertical-align: middle;\n    }\n\n    .dataframe tbody tr th {\n        vertical-align: top;\n    }\n\n    .dataframe thead th {\n        text-align: right;\n    }\n</style>\n<table border=\"1\" class=\"dataframe\">\n  <thead>\n    <tr style=\"text-align: right;\">\n      <th></th>\n      <th></th>\n      <th>Unnamed: 0</th>\n      <th>time</th>\n      <th>county</th>\n      <th>zip_code</th>\n      <th>n_ev</th>\n      <th>n_bev</th>\n      <th>n_phev</th>\n      <th>m_ev</th>\n      <th>m_bev</th>\n      <th>m_phev</th>\n      <th>...</th>\n      <th>p_white</th>\n      <th>p_bachelor</th>\n      <th>p_single_family_unit</th>\n      <th>tract_date</th>\n      <th>index</th>\n      <th>index_p</th>\n      <th>p_ev_log_odds_res</th>\n      <th>p_ev_log_odds_predict</th>\n      <th>p_ev_predict</th>\n      <th>p_ev_res</th>\n    </tr>\n    <tr>\n      <th>date</th>\n      <th>census_tract_2010</th>\n      <th></th>\n      <th></th>\n      <th></th>\n      <th></th>\n      <th></th>\n      <th></th>\n      <th></th>\n      <th></th>\n      <th></th>\n      <th></th>\n      <th></th>\n      <th></th>\n      <th></th>\n      <th></th>\n      <th></th>\n      <th></th>\n      <th></th>\n      <th></th>\n      <th></th>\n      <th></th>\n      <th></th>\n    </tr>\n  </thead>\n  <tbody>\n    <tr>\n      <th rowspan=\"5\" valign=\"top\">2011-01-31</th>\n      <th>53001950100</th>\n      <td>53001950100-2011-01-31</td>\n      <td>2011-01-31</td>\n      <td>Adams</td>\n      <td>99169</td>\n      <td>0.01</td>\n      <td>0.01</td>\n      <td>0.01</td>\n      <td>7.0</td>\n      <td>6.0</td>\n      <td>1.0</td>\n      <td>...</td>\n      <td>0.930305</td>\n      <td>0.146269</td>\n      <td>0.813604</td>\n      <td>53001950100-2011-01-31</td>\n      <td>1.0</td>\n      <td>1.0</td>\n      <td>-1.891626</td>\n      <td>-14.130161</td>\n      <td>7.300438e-07</td>\n      <td>-0.000004</td>\n    </tr>\n    <tr>\n      <th>53001950200</th>\n      <td>53001950200-2011-01-31</td>\n      <td>2011-01-31</td>\n      <td>Adams</td>\n      <td>99371</td>\n      <td>0.01</td>\n      <td>0.01</td>\n      <td>0.01</td>\n      <td>7.0</td>\n      <td>6.0</td>\n      <td>1.0</td>\n      <td>...</td>\n      <td>0.842457</td>\n      <td>0.320513</td>\n      <td>0.792271</td>\n      <td>53001950200-2011-01-31</td>\n      <td>2.0</td>\n      <td>142.0</td>\n      <td>-5.066795</td>\n      <td>-16.943662</td>\n      <td>4.379870e-08</td>\n      <td>-0.000007</td>\n    </tr>\n    <tr>\n      <th>53001950300</th>\n      <td>53001950300-2011-01-31</td>\n      <td>2011-01-31</td>\n      <td>Adams</td>\n      <td>99344</td>\n      <td>0.01</td>\n      <td>0.01</td>\n      <td>0.01</td>\n      <td>7.0</td>\n      <td>6.0</td>\n      <td>1.0</td>\n      <td>...</td>\n      <td>0.503580</td>\n      <td>0.062859</td>\n      <td>0.348436</td>\n      <td>53001950300-2011-01-31</td>\n      <td>3.0</td>\n      <td>283.0</td>\n      <td>-1.253086</td>\n      <td>-14.578062</td>\n      <td>4.664743e-07</td>\n      <td>-0.000001</td>\n    </tr>\n    <tr>\n      <th>53001950400</th>\n      <td>53001950400-2011-01-31</td>\n      <td>2011-01-31</td>\n      <td>Adams</td>\n      <td>99344</td>\n      <td>0.01</td>\n      <td>0.01</td>\n      <td>0.01</td>\n      <td>7.0</td>\n      <td>6.0</td>\n      <td>1.0</td>\n      <td>...</td>\n      <td>0.644241</td>\n      <td>0.148916</td>\n      <td>0.622989</td>\n      <td>53001950400-2011-01-31</td>\n      <td>4.0</td>\n      <td>424.0</td>\n      <td>-4.198314</td>\n      <td>-16.423694</td>\n      <td>7.366824e-08</td>\n      <td>-0.000005</td>\n    </tr>\n    <tr>\n      <th>53001950500</th>\n      <td>53001950500-2011-01-31</td>\n      <td>2011-01-31</td>\n      <td>Adams</td>\n      <td>99344</td>\n      <td>0.01</td>\n      <td>0.01</td>\n      <td>0.01</td>\n      <td>7.0</td>\n      <td>6.0</td>\n      <td>1.0</td>\n      <td>...</td>\n      <td>0.516711</td>\n      <td>0.061387</td>\n      <td>0.726737</td>\n      <td>53001950500-2011-01-31</td>\n      <td>5.0</td>\n      <td>565.0</td>\n      <td>-2.377608</td>\n      <td>-15.307598</td>\n      <td>2.249027e-07</td>\n      <td>-0.000002</td>\n    </tr>\n    <tr>\n      <th>...</th>\n      <th>...</th>\n      <td>...</td>\n      <td>...</td>\n      <td>...</td>\n      <td>...</td>\n      <td>...</td>\n      <td>...</td>\n      <td>...</td>\n      <td>...</td>\n      <td>...</td>\n      <td>...</td>\n      <td>...</td>\n      <td>...</td>\n      <td>...</td>\n      <td>...</td>\n      <td>...</td>\n      <td>...</td>\n      <td>...</td>\n      <td>...</td>\n      <td>...</td>\n      <td>...</td>\n      <td>...</td>\n    </tr>\n    <tr>\n      <th rowspan=\"5\" valign=\"top\">2035-12-31</th>\n      <th>53077940002</th>\n      <td>NaN</td>\n      <td>NaT</td>\n      <td>Yakima</td>\n      <td>98948</td>\n      <td>NaN</td>\n      <td>NaN</td>\n      <td>NaN</td>\n      <td>NaN</td>\n      <td>NaN</td>\n      <td>NaN</td>\n      <td>...</td>\n      <td>NaN</td>\n      <td>NaN</td>\n      <td>NaN</td>\n      <td>NaN</td>\n      <td>NaN</td>\n      <td>NaN</td>\n      <td>NaN</td>\n      <td>NaN</td>\n      <td>NaN</td>\n      <td>NaN</td>\n    </tr>\n    <tr>\n      <th>53077940003</th>\n      <td>NaN</td>\n      <td>NaT</td>\n      <td>Yakima</td>\n      <td>98903</td>\n      <td>NaN</td>\n      <td>NaN</td>\n      <td>NaN</td>\n      <td>NaN</td>\n      <td>NaN</td>\n      <td>NaN</td>\n      <td>...</td>\n      <td>NaN</td>\n      <td>NaN</td>\n      <td>NaN</td>\n      <td>NaN</td>\n      <td>NaN</td>\n      <td>NaN</td>\n      <td>NaN</td>\n      <td>NaN</td>\n      <td>NaN</td>\n      <td>NaN</td>\n    </tr>\n    <tr>\n      <th>53077940004</th>\n      <td>NaN</td>\n      <td>NaT</td>\n      <td>Yakima</td>\n      <td>98951</td>\n      <td>NaN</td>\n      <td>NaN</td>\n      <td>NaN</td>\n      <td>NaN</td>\n      <td>NaN</td>\n      <td>NaN</td>\n      <td>...</td>\n      <td>NaN</td>\n      <td>NaN</td>\n      <td>NaN</td>\n      <td>NaN</td>\n      <td>NaN</td>\n      <td>NaN</td>\n      <td>NaN</td>\n      <td>NaN</td>\n      <td>NaN</td>\n      <td>NaN</td>\n    </tr>\n    <tr>\n      <th>53077940005</th>\n      <td>NaN</td>\n      <td>NaT</td>\n      <td>Yakima</td>\n      <td>98948</td>\n      <td>NaN</td>\n      <td>NaN</td>\n      <td>NaN</td>\n      <td>NaN</td>\n      <td>NaN</td>\n      <td>NaN</td>\n      <td>...</td>\n      <td>NaN</td>\n      <td>NaN</td>\n      <td>NaN</td>\n      <td>NaN</td>\n      <td>NaN</td>\n      <td>NaN</td>\n      <td>NaN</td>\n      <td>NaN</td>\n      <td>NaN</td>\n      <td>NaN</td>\n    </tr>\n    <tr>\n      <th>53077940006</th>\n      <td>NaN</td>\n      <td>NaT</td>\n      <td>Yakima</td>\n      <td>98948</td>\n      <td>NaN</td>\n      <td>NaN</td>\n      <td>NaN</td>\n      <td>NaN</td>\n      <td>NaN</td>\n      <td>NaN</td>\n      <td>...</td>\n      <td>NaN</td>\n      <td>NaN</td>\n      <td>NaN</td>\n      <td>NaN</td>\n      <td>NaN</td>\n      <td>NaN</td>\n      <td>NaN</td>\n      <td>NaN</td>\n      <td>NaN</td>\n      <td>NaN</td>\n    </tr>\n  </tbody>\n</table>\n<p>431100 rows × 38 columns</p>\n</div>"
     },
     "execution_count": 32,
     "metadata": {},
     "output_type": "execute_result"
    }
   ],
   "source": [
    "df = pd.concat([df_past,df_future])\n",
    "df"
   ],
   "metadata": {
    "collapsed": false
   }
  },
  {
   "cell_type": "code",
   "execution_count": 33,
   "outputs": [],
   "source": [
    "df_copy = df.copy()"
   ],
   "metadata": {
    "collapsed": false
   }
  },
  {
   "cell_type": "code",
   "execution_count": 24,
   "outputs": [],
   "source": [
    "df = df_copy"
   ],
   "metadata": {
    "collapsed": false
   }
  },
  {
   "cell_type": "code",
   "execution_count": 48,
   "outputs": [
    {
     "data": {
      "text/plain": "            n_veh\ndate             \n2022-09-30   2188\n2022-09-30   1477\n2022-09-30   6293\n2022-09-30   2103\n2022-09-30   4260\n...           ...\n2022-09-30   3548\n2022-09-30   2279\n2022-09-30   4483\n2022-09-30   3230\n2022-09-30   3431\n\n[1437 rows x 1 columns]",
      "text/html": "<div>\n<style scoped>\n    .dataframe tbody tr th:only-of-type {\n        vertical-align: middle;\n    }\n\n    .dataframe tbody tr th {\n        vertical-align: top;\n    }\n\n    .dataframe thead th {\n        text-align: right;\n    }\n</style>\n<table border=\"1\" class=\"dataframe\">\n  <thead>\n    <tr style=\"text-align: right;\">\n      <th></th>\n      <th>n_veh</th>\n    </tr>\n    <tr>\n      <th>date</th>\n      <th></th>\n    </tr>\n  </thead>\n  <tbody>\n    <tr>\n      <th>2022-09-30</th>\n      <td>2188</td>\n    </tr>\n    <tr>\n      <th>2022-09-30</th>\n      <td>1477</td>\n    </tr>\n    <tr>\n      <th>2022-09-30</th>\n      <td>6293</td>\n    </tr>\n    <tr>\n      <th>2022-09-30</th>\n      <td>2103</td>\n    </tr>\n    <tr>\n      <th>2022-09-30</th>\n      <td>4260</td>\n    </tr>\n    <tr>\n      <th>...</th>\n      <td>...</td>\n    </tr>\n    <tr>\n      <th>2022-09-30</th>\n      <td>3548</td>\n    </tr>\n    <tr>\n      <th>2022-09-30</th>\n      <td>2279</td>\n    </tr>\n    <tr>\n      <th>2022-09-30</th>\n      <td>4483</td>\n    </tr>\n    <tr>\n      <th>2022-09-30</th>\n      <td>3230</td>\n    </tr>\n    <tr>\n      <th>2022-09-30</th>\n      <td>3431</td>\n    </tr>\n  </tbody>\n</table>\n<p>1437 rows × 1 columns</p>\n</div>"
     },
     "execution_count": 48,
     "metadata": {},
     "output_type": "execute_result"
    }
   ],
   "source": [
    "# n_veh = data.loc[data[\"date\"] == pd.to_datetime(\"2022-09-30\").date(), [\"date\", \"n_veh\"]]\n",
    "# n_veh = n_veh.set_index(\"date\")\n",
    "# n_veh"
   ],
   "metadata": {
    "collapsed": false
   }
  },
  {
   "cell_type": "code",
   "execution_count": 68,
   "outputs": [],
   "source": [
    "# df = empty_df.copy()"
   ],
   "metadata": {
    "collapsed": false
   }
  },
  {
   "cell_type": "code",
   "execution_count": 34,
   "outputs": [
    {
     "data": {
      "text/plain": "                                          Unnamed: 0       time  county  \\\ndate       census_tract_2010                                              \n2011-01-31 53001950100        53001950100-2011-01-31 2011-01-31   Adams   \n           53001950200        53001950200-2011-01-31 2011-01-31   Adams   \n           53001950300        53001950300-2011-01-31 2011-01-31   Adams   \n           53001950400        53001950400-2011-01-31 2011-01-31   Adams   \n           53001950500        53001950500-2011-01-31 2011-01-31   Adams   \n...                                              ...        ...     ...   \n2035-12-31 53077940002                           NaN        NaT  Yakima   \n           53077940003                           NaN        NaT  Yakima   \n           53077940004                           NaN        NaT  Yakima   \n           53077940005                           NaN        NaT  Yakima   \n           53077940006                           NaN        NaT  Yakima   \n\n                             zip_code  n_ev  n_bev  n_phev  m_ev  m_bev  \\\ndate       census_tract_2010                                              \n2011-01-31 53001950100          99169  0.01   0.01    0.01   7.0    6.0   \n           53001950200          99371  0.01   0.01    0.01   7.0    6.0   \n           53001950300          99344  0.01   0.01    0.01   7.0    6.0   \n           53001950400          99344  0.01   0.01    0.01   7.0    6.0   \n           53001950500          99344  0.01   0.01    0.01   7.0    6.0   \n...                               ...   ...    ...     ...   ...    ...   \n2035-12-31 53077940002          98948   NaN    NaN     NaN   NaN    NaN   \n           53077940003          98903   NaN    NaN     NaN   NaN    NaN   \n           53077940004          98951   NaN    NaN     NaN   NaN    NaN   \n           53077940005          98948   NaN    NaN     NaN   NaN    NaN   \n           53077940006          98948   NaN    NaN     NaN   NaN    NaN   \n\n                              m_phev  ...              tract_date  index  \\\ndate       census_tract_2010          ...                                  \n2011-01-31 53001950100           1.0  ...  53001950100-2011-01-31    1.0   \n           53001950200           1.0  ...  53001950200-2011-01-31    2.0   \n           53001950300           1.0  ...  53001950300-2011-01-31    3.0   \n           53001950400           1.0  ...  53001950400-2011-01-31    4.0   \n           53001950500           1.0  ...  53001950500-2011-01-31    5.0   \n...                              ...  ...                     ...    ...   \n2035-12-31 53077940002           NaN  ...                     NaN    NaN   \n           53077940003           NaN  ...                     NaN    NaN   \n           53077940004           NaN  ...                     NaN    NaN   \n           53077940005           NaN  ...                     NaN    NaN   \n           53077940006           NaN  ...                     NaN    NaN   \n\n                              index_p  p_ev_log_odds_res  \\\ndate       census_tract_2010                               \n2011-01-31 53001950100            1.0          -1.891626   \n           53001950200          142.0          -5.066795   \n           53001950300          283.0          -1.253086   \n           53001950400          424.0          -4.198314   \n           53001950500          565.0          -2.377608   \n...                               ...                ...   \n2035-12-31 53077940002            NaN                NaN   \n           53077940003            NaN                NaN   \n           53077940004            NaN                NaN   \n           53077940005            NaN                NaN   \n           53077940006            NaN                NaN   \n\n                              p_ev_log_odds_predict  p_ev_predict  p_ev_res  \\\ndate       census_tract_2010                                                  \n2011-01-31 53001950100                   -14.130161  7.300438e-07 -0.000004   \n           53001950200                   -16.943662  4.379870e-08 -0.000007   \n           53001950300                   -14.578062  4.664743e-07 -0.000001   \n           53001950400                   -16.423694  7.366824e-08 -0.000005   \n           53001950500                   -15.307598  2.249027e-07 -0.000002   \n...                                             ...           ...       ...   \n2035-12-31 53077940002                          NaN           NaN       NaN   \n           53077940003                          NaN           NaN       NaN   \n           53077940004                          NaN           NaN       NaN   \n           53077940005                          NaN           NaN       NaN   \n           53077940006                          NaN           NaN       NaN   \n\n                              fixeff_i  t_dummy_predict  fixeff_t_predict  \ndate       census_tract_2010                                               \n2011-01-31 53001950100        0.000000                1         -0.583585  \n           53001950200       -2.905202                1         -0.583585  \n           53001950300       -0.418235                1         -0.583585  \n           53001950400       -2.304883                1         -0.583585  \n           53001950500       -1.290576                1         -0.583585  \n...                                ...              ...               ...  \n2035-12-31 53077940002       -1.583640              300         10.337437  \n           53077940003       -1.470011              300         10.337437  \n           53077940004       -2.144669              300         10.337437  \n           53077940005       -2.749912              300         10.337437  \n           53077940006       -1.831687              300         10.337437  \n\n[431100 rows x 41 columns]",
      "text/html": "<div>\n<style scoped>\n    .dataframe tbody tr th:only-of-type {\n        vertical-align: middle;\n    }\n\n    .dataframe tbody tr th {\n        vertical-align: top;\n    }\n\n    .dataframe thead th {\n        text-align: right;\n    }\n</style>\n<table border=\"1\" class=\"dataframe\">\n  <thead>\n    <tr style=\"text-align: right;\">\n      <th></th>\n      <th></th>\n      <th>Unnamed: 0</th>\n      <th>time</th>\n      <th>county</th>\n      <th>zip_code</th>\n      <th>n_ev</th>\n      <th>n_bev</th>\n      <th>n_phev</th>\n      <th>m_ev</th>\n      <th>m_bev</th>\n      <th>m_phev</th>\n      <th>...</th>\n      <th>tract_date</th>\n      <th>index</th>\n      <th>index_p</th>\n      <th>p_ev_log_odds_res</th>\n      <th>p_ev_log_odds_predict</th>\n      <th>p_ev_predict</th>\n      <th>p_ev_res</th>\n      <th>fixeff_i</th>\n      <th>t_dummy_predict</th>\n      <th>fixeff_t_predict</th>\n    </tr>\n    <tr>\n      <th>date</th>\n      <th>census_tract_2010</th>\n      <th></th>\n      <th></th>\n      <th></th>\n      <th></th>\n      <th></th>\n      <th></th>\n      <th></th>\n      <th></th>\n      <th></th>\n      <th></th>\n      <th></th>\n      <th></th>\n      <th></th>\n      <th></th>\n      <th></th>\n      <th></th>\n      <th></th>\n      <th></th>\n      <th></th>\n      <th></th>\n      <th></th>\n    </tr>\n  </thead>\n  <tbody>\n    <tr>\n      <th rowspan=\"5\" valign=\"top\">2011-01-31</th>\n      <th>53001950100</th>\n      <td>53001950100-2011-01-31</td>\n      <td>2011-01-31</td>\n      <td>Adams</td>\n      <td>99169</td>\n      <td>0.01</td>\n      <td>0.01</td>\n      <td>0.01</td>\n      <td>7.0</td>\n      <td>6.0</td>\n      <td>1.0</td>\n      <td>...</td>\n      <td>53001950100-2011-01-31</td>\n      <td>1.0</td>\n      <td>1.0</td>\n      <td>-1.891626</td>\n      <td>-14.130161</td>\n      <td>7.300438e-07</td>\n      <td>-0.000004</td>\n      <td>0.000000</td>\n      <td>1</td>\n      <td>-0.583585</td>\n    </tr>\n    <tr>\n      <th>53001950200</th>\n      <td>53001950200-2011-01-31</td>\n      <td>2011-01-31</td>\n      <td>Adams</td>\n      <td>99371</td>\n      <td>0.01</td>\n      <td>0.01</td>\n      <td>0.01</td>\n      <td>7.0</td>\n      <td>6.0</td>\n      <td>1.0</td>\n      <td>...</td>\n      <td>53001950200-2011-01-31</td>\n      <td>2.0</td>\n      <td>142.0</td>\n      <td>-5.066795</td>\n      <td>-16.943662</td>\n      <td>4.379870e-08</td>\n      <td>-0.000007</td>\n      <td>-2.905202</td>\n      <td>1</td>\n      <td>-0.583585</td>\n    </tr>\n    <tr>\n      <th>53001950300</th>\n      <td>53001950300-2011-01-31</td>\n      <td>2011-01-31</td>\n      <td>Adams</td>\n      <td>99344</td>\n      <td>0.01</td>\n      <td>0.01</td>\n      <td>0.01</td>\n      <td>7.0</td>\n      <td>6.0</td>\n      <td>1.0</td>\n      <td>...</td>\n      <td>53001950300-2011-01-31</td>\n      <td>3.0</td>\n      <td>283.0</td>\n      <td>-1.253086</td>\n      <td>-14.578062</td>\n      <td>4.664743e-07</td>\n      <td>-0.000001</td>\n      <td>-0.418235</td>\n      <td>1</td>\n      <td>-0.583585</td>\n    </tr>\n    <tr>\n      <th>53001950400</th>\n      <td>53001950400-2011-01-31</td>\n      <td>2011-01-31</td>\n      <td>Adams</td>\n      <td>99344</td>\n      <td>0.01</td>\n      <td>0.01</td>\n      <td>0.01</td>\n      <td>7.0</td>\n      <td>6.0</td>\n      <td>1.0</td>\n      <td>...</td>\n      <td>53001950400-2011-01-31</td>\n      <td>4.0</td>\n      <td>424.0</td>\n      <td>-4.198314</td>\n      <td>-16.423694</td>\n      <td>7.366824e-08</td>\n      <td>-0.000005</td>\n      <td>-2.304883</td>\n      <td>1</td>\n      <td>-0.583585</td>\n    </tr>\n    <tr>\n      <th>53001950500</th>\n      <td>53001950500-2011-01-31</td>\n      <td>2011-01-31</td>\n      <td>Adams</td>\n      <td>99344</td>\n      <td>0.01</td>\n      <td>0.01</td>\n      <td>0.01</td>\n      <td>7.0</td>\n      <td>6.0</td>\n      <td>1.0</td>\n      <td>...</td>\n      <td>53001950500-2011-01-31</td>\n      <td>5.0</td>\n      <td>565.0</td>\n      <td>-2.377608</td>\n      <td>-15.307598</td>\n      <td>2.249027e-07</td>\n      <td>-0.000002</td>\n      <td>-1.290576</td>\n      <td>1</td>\n      <td>-0.583585</td>\n    </tr>\n    <tr>\n      <th>...</th>\n      <th>...</th>\n      <td>...</td>\n      <td>...</td>\n      <td>...</td>\n      <td>...</td>\n      <td>...</td>\n      <td>...</td>\n      <td>...</td>\n      <td>...</td>\n      <td>...</td>\n      <td>...</td>\n      <td>...</td>\n      <td>...</td>\n      <td>...</td>\n      <td>...</td>\n      <td>...</td>\n      <td>...</td>\n      <td>...</td>\n      <td>...</td>\n      <td>...</td>\n      <td>...</td>\n      <td>...</td>\n    </tr>\n    <tr>\n      <th rowspan=\"5\" valign=\"top\">2035-12-31</th>\n      <th>53077940002</th>\n      <td>NaN</td>\n      <td>NaT</td>\n      <td>Yakima</td>\n      <td>98948</td>\n      <td>NaN</td>\n      <td>NaN</td>\n      <td>NaN</td>\n      <td>NaN</td>\n      <td>NaN</td>\n      <td>NaN</td>\n      <td>...</td>\n      <td>NaN</td>\n      <td>NaN</td>\n      <td>NaN</td>\n      <td>NaN</td>\n      <td>NaN</td>\n      <td>NaN</td>\n      <td>NaN</td>\n      <td>-1.583640</td>\n      <td>300</td>\n      <td>10.337437</td>\n    </tr>\n    <tr>\n      <th>53077940003</th>\n      <td>NaN</td>\n      <td>NaT</td>\n      <td>Yakima</td>\n      <td>98903</td>\n      <td>NaN</td>\n      <td>NaN</td>\n      <td>NaN</td>\n      <td>NaN</td>\n      <td>NaN</td>\n      <td>NaN</td>\n      <td>...</td>\n      <td>NaN</td>\n      <td>NaN</td>\n      <td>NaN</td>\n      <td>NaN</td>\n      <td>NaN</td>\n      <td>NaN</td>\n      <td>NaN</td>\n      <td>-1.470011</td>\n      <td>300</td>\n      <td>10.337437</td>\n    </tr>\n    <tr>\n      <th>53077940004</th>\n      <td>NaN</td>\n      <td>NaT</td>\n      <td>Yakima</td>\n      <td>98951</td>\n      <td>NaN</td>\n      <td>NaN</td>\n      <td>NaN</td>\n      <td>NaN</td>\n      <td>NaN</td>\n      <td>NaN</td>\n      <td>...</td>\n      <td>NaN</td>\n      <td>NaN</td>\n      <td>NaN</td>\n      <td>NaN</td>\n      <td>NaN</td>\n      <td>NaN</td>\n      <td>NaN</td>\n      <td>-2.144669</td>\n      <td>300</td>\n      <td>10.337437</td>\n    </tr>\n    <tr>\n      <th>53077940005</th>\n      <td>NaN</td>\n      <td>NaT</td>\n      <td>Yakima</td>\n      <td>98948</td>\n      <td>NaN</td>\n      <td>NaN</td>\n      <td>NaN</td>\n      <td>NaN</td>\n      <td>NaN</td>\n      <td>NaN</td>\n      <td>...</td>\n      <td>NaN</td>\n      <td>NaN</td>\n      <td>NaN</td>\n      <td>NaN</td>\n      <td>NaN</td>\n      <td>NaN</td>\n      <td>NaN</td>\n      <td>-2.749912</td>\n      <td>300</td>\n      <td>10.337437</td>\n    </tr>\n    <tr>\n      <th>53077940006</th>\n      <td>NaN</td>\n      <td>NaT</td>\n      <td>Yakima</td>\n      <td>98948</td>\n      <td>NaN</td>\n      <td>NaN</td>\n      <td>NaN</td>\n      <td>NaN</td>\n      <td>NaN</td>\n      <td>NaN</td>\n      <td>...</td>\n      <td>NaN</td>\n      <td>NaN</td>\n      <td>NaN</td>\n      <td>NaN</td>\n      <td>NaN</td>\n      <td>NaN</td>\n      <td>NaN</td>\n      <td>-1.831687</td>\n      <td>300</td>\n      <td>10.337437</td>\n    </tr>\n  </tbody>\n</table>\n<p>431100 rows × 41 columns</p>\n</div>"
     },
     "execution_count": 34,
     "metadata": {},
     "output_type": "execute_result"
    }
   ],
   "source": [
    "df = df.join(fixeff_i, on=[\"census_tract_2010\"], how=\"left\")\n",
    "df = df.join(fixeff_t, on=[\"date\"], how=\"left\")\n",
    "# df = df.join(data, on=[\"date\"], how=\"left\")\n",
    "df"
   ],
   "metadata": {
    "collapsed": false
   }
  },
  {
   "cell_type": "code",
   "execution_count": null,
   "outputs": [],
   "source": [
    "#Fill in forecasts of predictors and n_veh"
   ],
   "metadata": {
    "collapsed": false
   }
  },
  {
   "cell_type": "code",
   "execution_count": 36,
   "outputs": [
    {
     "name": "stdout",
     "output_type": "stream",
     "text": [
      "2022-10-31 2022-11-30 2022-12-31 2023-01-31 2023-02-28 2023-03-31 2023-04-30 2023-05-31 2023-06-30 2023-07-31 2023-08-31 2023-09-30 2023-10-31 2023-11-30 2023-12-31 2024-01-31 2024-02-29 2024-03-31 2024-04-30 2024-05-31 2024-06-30 2024-07-31 2024-08-31 2024-09-30 2024-10-31 2024-11-30 2024-12-31 2025-01-31 2025-02-28 2025-03-31 2025-04-30 2025-05-31 2025-06-30 2025-07-31 2025-08-31 2025-09-30 2025-10-31 2025-11-30 2025-12-31 2026-01-31 2026-02-28 2026-03-31 2026-04-30 2026-05-31 2026-06-30 2026-07-31 2026-08-31 2026-09-30 2026-10-31 2026-11-30 2026-12-31 2027-01-31 2027-02-28 2027-03-31 2027-04-30 2027-05-31 2027-06-30 2027-07-31 2027-08-31 2027-09-30 2027-10-31 2027-11-30 2027-12-31 2028-01-31 2028-02-29 2028-03-31 2028-04-30 2028-05-31 2028-06-30 2028-07-31 2028-08-31 2028-09-30 2028-10-31 2028-11-30 2028-12-31 2029-01-31 2029-02-28 2029-03-31 2029-04-30 2029-05-31 2029-06-30 2029-07-31 2029-08-31 2029-09-30 2029-10-31 2029-11-30 2029-12-31 2030-01-31 2030-02-28 2030-03-31 2030-04-30 2030-05-31 2030-06-30 2030-07-31 2030-08-31 2030-09-30 2030-10-31 2030-11-30 2030-12-31 2031-01-31 2031-02-28 2031-03-31 2031-04-30 2031-05-31 2031-06-30 2031-07-31 2031-08-31 2031-09-30 2031-10-31 2031-11-30 2031-12-31 2032-01-31 2032-02-29 2032-03-31 2032-04-30 2032-05-31 2032-06-30 2032-07-31 2032-08-31 2032-09-30 2032-10-31 2032-11-30 2032-12-31 2033-01-31 2033-02-28 2033-03-31 2033-04-30 2033-05-31 2033-06-30 2033-07-31 2033-08-31 2033-09-30 2033-10-31 2033-11-30 2033-12-31 2034-01-31 2034-02-28 2034-03-31 2034-04-30 2034-05-31 2034-06-30 2034-07-31 2034-08-31 2034-09-30 2034-10-31 2034-11-30 2034-12-31 2035-01-31 2035-02-28 2035-03-31 2035-04-30 2035-05-31 2035-06-30 2035-07-31 2035-08-31 2035-09-30 2035-10-31 2035-11-30 2035-12-31 "
     ]
    },
    {
     "data": {
      "text/plain": "                                          Unnamed: 0       time  county  \\\ndate       census_tract_2010                                              \n2011-01-31 53001950100        53001950100-2011-01-31 2011-01-31   Adams   \n           53001950200        53001950200-2011-01-31 2011-01-31   Adams   \n           53001950300        53001950300-2011-01-31 2011-01-31   Adams   \n           53001950400        53001950400-2011-01-31 2011-01-31   Adams   \n           53001950500        53001950500-2011-01-31 2011-01-31   Adams   \n...                                              ...        ...     ...   \n2035-12-31 53077940002                           NaN        NaT  Yakima   \n           53077940003                           NaN        NaT  Yakima   \n           53077940004                           NaN        NaT  Yakima   \n           53077940005                           NaN        NaT  Yakima   \n           53077940006                           NaN        NaT  Yakima   \n\n                             zip_code  n_ev  n_bev  n_phev  m_ev  m_bev  \\\ndate       census_tract_2010                                              \n2011-01-31 53001950100          99169  0.01   0.01    0.01   7.0    6.0   \n           53001950200          99371  0.01   0.01    0.01   7.0    6.0   \n           53001950300          99344  0.01   0.01    0.01   7.0    6.0   \n           53001950400          99344  0.01   0.01    0.01   7.0    6.0   \n           53001950500          99344  0.01   0.01    0.01   7.0    6.0   \n...                               ...   ...    ...     ...   ...    ...   \n2035-12-31 53077940002          98948   NaN    NaN     NaN   NaN    NaN   \n           53077940003          98903   NaN    NaN     NaN   NaN    NaN   \n           53077940004          98951   NaN    NaN     NaN   NaN    NaN   \n           53077940005          98948   NaN    NaN     NaN   NaN    NaN   \n           53077940006          98948   NaN    NaN     NaN   NaN    NaN   \n\n                              m_phev  ...              tract_date  index  \\\ndate       census_tract_2010          ...                                  \n2011-01-31 53001950100           1.0  ...  53001950100-2011-01-31    1.0   \n           53001950200           1.0  ...  53001950200-2011-01-31    2.0   \n           53001950300           1.0  ...  53001950300-2011-01-31    3.0   \n           53001950400           1.0  ...  53001950400-2011-01-31    4.0   \n           53001950500           1.0  ...  53001950500-2011-01-31    5.0   \n...                              ...  ...                     ...    ...   \n2035-12-31 53077940002           NaN  ...                     NaN    NaN   \n           53077940003           NaN  ...                     NaN    NaN   \n           53077940004           NaN  ...                     NaN    NaN   \n           53077940005           NaN  ...                     NaN    NaN   \n           53077940006           NaN  ...                     NaN    NaN   \n\n                              index_p  p_ev_log_odds_res  \\\ndate       census_tract_2010                               \n2011-01-31 53001950100            1.0          -1.891626   \n           53001950200          142.0          -5.066795   \n           53001950300          283.0          -1.253086   \n           53001950400          424.0          -4.198314   \n           53001950500          565.0          -2.377608   \n...                               ...                ...   \n2035-12-31 53077940002            NaN                NaN   \n           53077940003            NaN                NaN   \n           53077940004            NaN                NaN   \n           53077940005            NaN                NaN   \n           53077940006            NaN                NaN   \n\n                              p_ev_log_odds_predict  p_ev_predict  p_ev_res  \\\ndate       census_tract_2010                                                  \n2011-01-31 53001950100                   -14.130161  7.300438e-07 -0.000004   \n           53001950200                   -16.943662  4.379870e-08 -0.000007   \n           53001950300                   -14.578062  4.664743e-07 -0.000001   \n           53001950400                   -16.423694  7.366824e-08 -0.000005   \n           53001950500                   -15.307598  2.249027e-07 -0.000002   \n...                                             ...           ...       ...   \n2035-12-31 53077940002                          NaN           NaN       NaN   \n           53077940003                          NaN           NaN       NaN   \n           53077940004                          NaN           NaN       NaN   \n           53077940005                          NaN           NaN       NaN   \n           53077940006                          NaN           NaN       NaN   \n\n                              fixeff_i  t_dummy_predict  fixeff_t_predict  \ndate       census_tract_2010                                               \n2011-01-31 53001950100        0.000000                1         -0.583585  \n           53001950200       -2.905202                1         -0.583585  \n           53001950300       -0.418235                1         -0.583585  \n           53001950400       -2.304883                1         -0.583585  \n           53001950500       -1.290576                1         -0.583585  \n...                                ...              ...               ...  \n2035-12-31 53077940002       -1.583640              300         10.337437  \n           53077940003       -1.470011              300         10.337437  \n           53077940004       -2.144669              300         10.337437  \n           53077940005       -2.749912              300         10.337437  \n           53077940006       -1.831687              300         10.337437  \n\n[431100 rows x 41 columns]",
      "text/html": "<div>\n<style scoped>\n    .dataframe tbody tr th:only-of-type {\n        vertical-align: middle;\n    }\n\n    .dataframe tbody tr th {\n        vertical-align: top;\n    }\n\n    .dataframe thead th {\n        text-align: right;\n    }\n</style>\n<table border=\"1\" class=\"dataframe\">\n  <thead>\n    <tr style=\"text-align: right;\">\n      <th></th>\n      <th></th>\n      <th>Unnamed: 0</th>\n      <th>time</th>\n      <th>county</th>\n      <th>zip_code</th>\n      <th>n_ev</th>\n      <th>n_bev</th>\n      <th>n_phev</th>\n      <th>m_ev</th>\n      <th>m_bev</th>\n      <th>m_phev</th>\n      <th>...</th>\n      <th>tract_date</th>\n      <th>index</th>\n      <th>index_p</th>\n      <th>p_ev_log_odds_res</th>\n      <th>p_ev_log_odds_predict</th>\n      <th>p_ev_predict</th>\n      <th>p_ev_res</th>\n      <th>fixeff_i</th>\n      <th>t_dummy_predict</th>\n      <th>fixeff_t_predict</th>\n    </tr>\n    <tr>\n      <th>date</th>\n      <th>census_tract_2010</th>\n      <th></th>\n      <th></th>\n      <th></th>\n      <th></th>\n      <th></th>\n      <th></th>\n      <th></th>\n      <th></th>\n      <th></th>\n      <th></th>\n      <th></th>\n      <th></th>\n      <th></th>\n      <th></th>\n      <th></th>\n      <th></th>\n      <th></th>\n      <th></th>\n      <th></th>\n      <th></th>\n      <th></th>\n    </tr>\n  </thead>\n  <tbody>\n    <tr>\n      <th rowspan=\"5\" valign=\"top\">2011-01-31</th>\n      <th>53001950100</th>\n      <td>53001950100-2011-01-31</td>\n      <td>2011-01-31</td>\n      <td>Adams</td>\n      <td>99169</td>\n      <td>0.01</td>\n      <td>0.01</td>\n      <td>0.01</td>\n      <td>7.0</td>\n      <td>6.0</td>\n      <td>1.0</td>\n      <td>...</td>\n      <td>53001950100-2011-01-31</td>\n      <td>1.0</td>\n      <td>1.0</td>\n      <td>-1.891626</td>\n      <td>-14.130161</td>\n      <td>7.300438e-07</td>\n      <td>-0.000004</td>\n      <td>0.000000</td>\n      <td>1</td>\n      <td>-0.583585</td>\n    </tr>\n    <tr>\n      <th>53001950200</th>\n      <td>53001950200-2011-01-31</td>\n      <td>2011-01-31</td>\n      <td>Adams</td>\n      <td>99371</td>\n      <td>0.01</td>\n      <td>0.01</td>\n      <td>0.01</td>\n      <td>7.0</td>\n      <td>6.0</td>\n      <td>1.0</td>\n      <td>...</td>\n      <td>53001950200-2011-01-31</td>\n      <td>2.0</td>\n      <td>142.0</td>\n      <td>-5.066795</td>\n      <td>-16.943662</td>\n      <td>4.379870e-08</td>\n      <td>-0.000007</td>\n      <td>-2.905202</td>\n      <td>1</td>\n      <td>-0.583585</td>\n    </tr>\n    <tr>\n      <th>53001950300</th>\n      <td>53001950300-2011-01-31</td>\n      <td>2011-01-31</td>\n      <td>Adams</td>\n      <td>99344</td>\n      <td>0.01</td>\n      <td>0.01</td>\n      <td>0.01</td>\n      <td>7.0</td>\n      <td>6.0</td>\n      <td>1.0</td>\n      <td>...</td>\n      <td>53001950300-2011-01-31</td>\n      <td>3.0</td>\n      <td>283.0</td>\n      <td>-1.253086</td>\n      <td>-14.578062</td>\n      <td>4.664743e-07</td>\n      <td>-0.000001</td>\n      <td>-0.418235</td>\n      <td>1</td>\n      <td>-0.583585</td>\n    </tr>\n    <tr>\n      <th>53001950400</th>\n      <td>53001950400-2011-01-31</td>\n      <td>2011-01-31</td>\n      <td>Adams</td>\n      <td>99344</td>\n      <td>0.01</td>\n      <td>0.01</td>\n      <td>0.01</td>\n      <td>7.0</td>\n      <td>6.0</td>\n      <td>1.0</td>\n      <td>...</td>\n      <td>53001950400-2011-01-31</td>\n      <td>4.0</td>\n      <td>424.0</td>\n      <td>-4.198314</td>\n      <td>-16.423694</td>\n      <td>7.366824e-08</td>\n      <td>-0.000005</td>\n      <td>-2.304883</td>\n      <td>1</td>\n      <td>-0.583585</td>\n    </tr>\n    <tr>\n      <th>53001950500</th>\n      <td>53001950500-2011-01-31</td>\n      <td>2011-01-31</td>\n      <td>Adams</td>\n      <td>99344</td>\n      <td>0.01</td>\n      <td>0.01</td>\n      <td>0.01</td>\n      <td>7.0</td>\n      <td>6.0</td>\n      <td>1.0</td>\n      <td>...</td>\n      <td>53001950500-2011-01-31</td>\n      <td>5.0</td>\n      <td>565.0</td>\n      <td>-2.377608</td>\n      <td>-15.307598</td>\n      <td>2.249027e-07</td>\n      <td>-0.000002</td>\n      <td>-1.290576</td>\n      <td>1</td>\n      <td>-0.583585</td>\n    </tr>\n    <tr>\n      <th>...</th>\n      <th>...</th>\n      <td>...</td>\n      <td>...</td>\n      <td>...</td>\n      <td>...</td>\n      <td>...</td>\n      <td>...</td>\n      <td>...</td>\n      <td>...</td>\n      <td>...</td>\n      <td>...</td>\n      <td>...</td>\n      <td>...</td>\n      <td>...</td>\n      <td>...</td>\n      <td>...</td>\n      <td>...</td>\n      <td>...</td>\n      <td>...</td>\n      <td>...</td>\n      <td>...</td>\n      <td>...</td>\n    </tr>\n    <tr>\n      <th rowspan=\"5\" valign=\"top\">2035-12-31</th>\n      <th>53077940002</th>\n      <td>NaN</td>\n      <td>NaT</td>\n      <td>Yakima</td>\n      <td>98948</td>\n      <td>NaN</td>\n      <td>NaN</td>\n      <td>NaN</td>\n      <td>NaN</td>\n      <td>NaN</td>\n      <td>NaN</td>\n      <td>...</td>\n      <td>NaN</td>\n      <td>NaN</td>\n      <td>NaN</td>\n      <td>NaN</td>\n      <td>NaN</td>\n      <td>NaN</td>\n      <td>NaN</td>\n      <td>-1.583640</td>\n      <td>300</td>\n      <td>10.337437</td>\n    </tr>\n    <tr>\n      <th>53077940003</th>\n      <td>NaN</td>\n      <td>NaT</td>\n      <td>Yakima</td>\n      <td>98903</td>\n      <td>NaN</td>\n      <td>NaN</td>\n      <td>NaN</td>\n      <td>NaN</td>\n      <td>NaN</td>\n      <td>NaN</td>\n      <td>...</td>\n      <td>NaN</td>\n      <td>NaN</td>\n      <td>NaN</td>\n      <td>NaN</td>\n      <td>NaN</td>\n      <td>NaN</td>\n      <td>NaN</td>\n      <td>-1.470011</td>\n      <td>300</td>\n      <td>10.337437</td>\n    </tr>\n    <tr>\n      <th>53077940004</th>\n      <td>NaN</td>\n      <td>NaT</td>\n      <td>Yakima</td>\n      <td>98951</td>\n      <td>NaN</td>\n      <td>NaN</td>\n      <td>NaN</td>\n      <td>NaN</td>\n      <td>NaN</td>\n      <td>NaN</td>\n      <td>...</td>\n      <td>NaN</td>\n      <td>NaN</td>\n      <td>NaN</td>\n      <td>NaN</td>\n      <td>NaN</td>\n      <td>NaN</td>\n      <td>NaN</td>\n      <td>-2.144669</td>\n      <td>300</td>\n      <td>10.337437</td>\n    </tr>\n    <tr>\n      <th>53077940005</th>\n      <td>NaN</td>\n      <td>NaT</td>\n      <td>Yakima</td>\n      <td>98948</td>\n      <td>NaN</td>\n      <td>NaN</td>\n      <td>NaN</td>\n      <td>NaN</td>\n      <td>NaN</td>\n      <td>NaN</td>\n      <td>...</td>\n      <td>NaN</td>\n      <td>NaN</td>\n      <td>NaN</td>\n      <td>NaN</td>\n      <td>NaN</td>\n      <td>NaN</td>\n      <td>NaN</td>\n      <td>-2.749912</td>\n      <td>300</td>\n      <td>10.337437</td>\n    </tr>\n    <tr>\n      <th>53077940006</th>\n      <td>NaN</td>\n      <td>NaT</td>\n      <td>Yakima</td>\n      <td>98948</td>\n      <td>NaN</td>\n      <td>NaN</td>\n      <td>NaN</td>\n      <td>NaN</td>\n      <td>NaN</td>\n      <td>NaN</td>\n      <td>...</td>\n      <td>NaN</td>\n      <td>NaN</td>\n      <td>NaN</td>\n      <td>NaN</td>\n      <td>NaN</td>\n      <td>NaN</td>\n      <td>NaN</td>\n      <td>-1.831687</td>\n      <td>300</td>\n      <td>10.337437</td>\n    </tr>\n  </tbody>\n</table>\n<p>431100 rows × 41 columns</p>\n</div>"
     },
     "execution_count": 36,
     "metadata": {},
     "output_type": "execute_result"
    }
   ],
   "source": [
    "# df[\"n_veh\"] = 0\n",
    "# df.loc[(times, slice(None)), \"n_veh\"] = data.loc[(times, slice(None)), \"n_veh\"]\n",
    "for time in times_future:\n",
    "    print(time, \"\", end=\"\")\n",
    "    # print(df.loc[(time, slice(None)), \"n_veh\"])\n",
    "    # print(data.loc[(times[-1], slice(None)), \"n_veh\"])\n",
    "    # print(len(df.loc[(time, slice(None)), \"n_veh\"]))\n",
    "    # print(len(df_past.loc[(times[-1], slice(None)), \"n_veh\"].values))\n",
    "    # i\n",
    "    df.loc[(time, slice(None)), \"n_veh\"] = df_past.loc[(times[-1], slice(None)), \"n_veh\"].values\n",
    "df"
   ],
   "metadata": {
    "collapsed": false
   }
  },
  {
   "cell_type": "code",
   "execution_count": 42,
   "outputs": [],
   "source": [
    "df.to_csv(\"data/data_future.csv\")"
   ],
   "metadata": {
    "collapsed": false
   }
  },
  {
   "cell_type": "code",
   "execution_count": null,
   "outputs": [],
   "source": [],
   "metadata": {
    "collapsed": false
   }
  }
 ],
 "metadata": {
  "kernelspec": {
   "display_name": "Python 3",
   "language": "python",
   "name": "python3"
  },
  "language_info": {
   "codemirror_mode": {
    "name": "ipython",
    "version": 2
   },
   "file_extension": ".py",
   "mimetype": "text/x-python",
   "name": "python",
   "nbconvert_exporter": "python",
   "pygments_lexer": "ipython2",
   "version": "2.7.6"
  }
 },
 "nbformat": 4,
 "nbformat_minor": 0
}
