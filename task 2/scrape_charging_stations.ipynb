{
 "cells": [
  {
   "cell_type": "markdown",
   "id": "33b66a0c",
   "metadata": {},
   "source": [
    "# scrape_charging_stations.ipynb\n",
    "**This notebook downloads the record of public EV charging stations from [NREL's Alternative Fuel Data Center](https://developer.nrel.gov/docs/transportation/alt-fuel-stations-v1/) and stores the outputs in the corresponding folder `data/evse/raw/`**\n",
    "+ Each downloaded file is recorded with today's date in its filename, e.g. `EV_charging_stations_WA (as of 2022-02-27).csv`\n",
    "+ This notebook also updates the most recent file for each of the datasets using the ``update_latest_file()`` function from the `utils.py` library, and stores it in a separate file, e.g. `EV_charging_stations_WA.csv` (without any date note)\n",
    "+ Time required for scraping: ~1 second"
   ]
  },
  {
   "cell_type": "code",
   "execution_count": 1,
   "id": "eed38500",
   "metadata": {},
   "outputs": [
    {
     "name": "stderr",
     "output_type": "stream",
     "text": [
      "C:\\Users\\steff\\anaconda3\\lib\\site-packages\\fuzzywuzzy\\fuzz.py:11: UserWarning: Using slow pure-python SequenceMatcher. Install python-Levenshtein to remove this warning\n",
      "  warnings.warn('Using slow pure-python SequenceMatcher. Install python-Levenshtein to remove this warning')\n"
     ]
    }
   ],
   "source": [
    "import pandas as pd\n",
    "import datetime as dt\n",
    "import censusgeocode as cg\n",
    "from uszipcode import SearchEngine\n",
    "search = SearchEngine()\n",
    "\n",
    "from utils import scrape_from_api,update_latest_file\n",
    "from keys import AFDC_API_KEY\n",
    "from config.GLOBAL import *"
   ]
  },
  {
   "cell_type": "code",
   "execution_count": 2,
   "id": "a6a1b144",
   "metadata": {},
   "outputs": [],
   "source": [
    "folder = \"data/evse/\"\n",
    "fname_base = \"EV_charging_stations_WA\"\n",
    "today = dt.date.today().strftime(\"%Y-%m-%d\")\n",
    "filename = folder + fname_base + \".csv\"\n",
    "filename_raw = folder + \"raw/\" + fname_base + \" (as of {0:s}).csv\".format(today)\n",
    "\n",
    "url = \"https://developer.nrel.gov/api/alt-fuel-stations/v1.csv\"\n",
    "params = {}\n",
    "params[\"api_key\"] = AFDC_API_KEY\n",
    "params[\"fuel_type\"] = \"ELEC\"\n",
    "params[\"state\"] = \"WA\""
   ]
  },
  {
   "cell_type": "code",
   "execution_count": 46,
   "id": "7178a9f1",
   "metadata": {},
   "outputs": [],
   "source": [
    "scrape_from_api(url, params, filename_raw)"
   ]
  },
  {
   "cell_type": "code",
   "execution_count": 47,
   "id": "8a934f37",
   "metadata": {},
   "outputs": [
    {
     "name": "stdout",
     "output_type": "stream",
     "text": [
      "latest file: 'EV_charging_stations_WA (as of 2022-11-08).csv'\n"
     ]
    }
   ],
   "source": [
    "update_latest_file(fname_base, folder)"
   ]
  },
  {
   "cell_type": "code",
   "execution_count": 52,
   "outputs": [],
   "source": [
    "#rename column headers in latest file\n",
    "df = pd.read_csv(filename)\n",
    "df_key = pd.read_csv(\"config/EV_charging_stations_key.csv\")\n",
    "df = df.rename(columns={row[0]: row[1] for row in df_key[[\"full name\", \"name\"]].values})\n",
    "df.to_csv(filename, index=False)"
   ],
   "metadata": {
    "collapsed": false
   }
  },
  {
   "cell_type": "code",
   "execution_count": 53,
   "outputs": [
    {
     "data": {
      "text/plain": "Index(['fuel_type_code', 'station_name', 'street_address',\n       'intersection_directions', 'city', 'state', 'zip', 'plus4',\n       'station_phone', 'status_code', 'expected_date',\n       'groups_with_access_code', 'access_days_time', 'cards_accepted',\n       'bd_blends', 'ng_fill_type_code', 'ng_psi', 'l1_count', 'l2_count',\n       'dcfc_count', 'ev_other_info', 'ev_network', 'ev_network_web',\n       'geocode_status', 'latitude', 'longitude', 'date_last_confirmed', 'ID',\n       'updated_at', 'owner_type_code', 'federal_agency_ID',\n       'federal_agency_name', 'open_date', 'hydrogen_status_link',\n       'ng_vehicle_class', 'LPG_primary', 'e_blender_pump',\n       'ev_connector_types', 'country', 'intersection_directions_french',\n       'access_days_time_french)', 'bd_blends_french)',\n       'groups_with_access_code_french', 'hydrogen_is_retail', 'access_code',\n       'access_detail_code', 'federal_agency_code', 'facility_type',\n       'cng_dispenser_num', 'cng_on_site_renewable_source',\n       'cng_total_compression_capacity', 'cng_storage_capacity',\n       'lng_on_site_renewable_source', 'e_other_ethanol_blends', 'ev_pricing',\n       'ev_pricing_french)', 'lpg_nozzle_types', 'hydrogen_pressures',\n       'hydrogen_standards', 'cng_fill_type_code', 'cng_psi',\n       'cng_vehicle_class', 'lng_vehicle_class', 'ev_on_site_renewable_source',\n       'restricted_access'],\n      dtype='object')"
     },
     "execution_count": 53,
     "metadata": {},
     "output_type": "execute_result"
    }
   ],
   "source": [
    "df.columns"
   ],
   "metadata": {
    "collapsed": false
   }
  },
  {
   "cell_type": "code",
   "execution_count": 56,
   "outputs": [
    {
     "name": "stdout",
     "output_type": "stream",
     "text": [
      "0 10 20 30 40 50 60 70 80 90 100 110 120 130 140 150 160 170 180 190 200 210 220 230 240 250 260 270 280 290 300 310 320 330 340 350 360 370 380 390 400 410 420 430 440 450 460 470 480 490 500 510 520 530 540 550 560 570 580 590 600 610 620 630 640 650 660 670 680 690 700 710 720 730 740 750 760 770 780 790 800 810 820 830 840 850 860 870 880 890 900 910 920 930 940 950 960 970 980 990 1000 1010 1020 1030 1040 1050 1060 1070 1080 1090 1100 1110 1120 1130 1140 1150 1160 1170 1180 1190 1200 1210 1220 1230 1240 1250 1260 1270 1280 1290 1300 1310 1320 1330 1340 1350 1360 1370 1380 1390 1400 1410 1420 1430 1440 1450 1460 1470 1480 1490 1500 1510 1520 1530 1540 1550 1560 1570 1580 1590 1600 1610 1620 1630 1640 1650 1660 1670 1680 1690 1700 1710 1720 1730 1740 1750 1760 1770 1780 1790 1800 1810 1820 1830 1840 1850 1860 1870 1880 1890 1900 "
     ]
    }
   ],
   "source": [
    "#add 2020 census tract field to data\n",
    "df = pd.read_csv(filename)\n",
    "\n",
    "df[\"census_tract_2020\"] = None\n",
    "for ind,row in df.iterrows():\n",
    "    if ind % 10 == 0:\n",
    "        print(ind, \"\", end=\"\")\n",
    "    res = cg.coordinates(df.loc[ind, \"longitude\"], df.loc[ind, \"latitude\"])#, vintage=\"Census2010_Current\")\n",
    "    df.loc[ind, \"census_tract_2020\"] = res[\"Census Tracts\"][0][\"GEOID\"]\n",
    "df[\"census_tract_2020\"] = df[\"census_tract_2020\"].astype(\"int64\")"
   ],
   "metadata": {
    "collapsed": false
   }
  },
  {
   "cell_type": "code",
   "execution_count": 57,
   "outputs": [
    {
     "data": {
      "text/plain": "     fuel_type_code                                       station_name  \\\n0              ELEC                  City of Lacey - City Hall Parking   \n1              ELEC  Seattle-Tacoma International Airport - General...   \n2              ELEC                             Haggen Food & Pharmacy   \n3              ELEC                                        Avista Corp   \n4              ELEC                                  Steam Plant Grill   \n...             ...                                                ...   \n1902           ELEC        University of Washington - Parking Area W40   \n1903           ELEC         University of Washington - Parking Lot N22   \n1904           ELEC                                    Union Bay Plaza   \n1905           ELEC                      OLY CITY HALL OLY CITY HALL 1   \n1906           ELEC                            TAO FAWU FARM STATION 1   \n\n               street_address                         intersection_directions  \\\n0              420 College St           At 3rd Ave SE, next to police station   \n1         17801 Pacific Hwy S      5th floor parking garage; rows D, G, and I   \n2     1313 Cooper Point Rd SW  In front of the building on the left hand side   \n3          1411 E Mission Ave                                             NaN   \n4            159 S Lincoln St                                             NaN   \n...                       ...                                             ...   \n1902      814 NE Northlake Pl                                             NaN   \n1903    4060 E Stevens Way NE                                             NaN   \n1904     4516 Union Bay Pl NE                                             NaN   \n1905            601 4th Ave E                                             NaN   \n1906          3825 Cabrant Rd                                             NaN   \n\n         city state    zip  plus4 station_phone status_code  ...  \\\n0       Lacey    WA  98503    NaN  360-491-3214           E  ...   \n1     Seattle    WA  98188    NaN  206-787-5388           E  ...   \n2     Olympia    WA  98502    NaN  360-754-1428           E  ...   \n3     Spokane    WA  99252    NaN  509-489-0500           E  ...   \n4     Spokane    WA  99201    NaN  509-777-3900           E  ...   \n...       ...   ...    ...    ...           ...         ...  ...   \n1902  Seattle    WA  98105    NaN  206-221-3701           E  ...   \n1903  Seattle    WA  98195    NaN  206-221-3701           E  ...   \n1904  Seattle    WA  98105    NaN           NaN           E  ...   \n1905  Olympia    WA  98501    NaN  888-758-4389           T  ...   \n1906  Everson    WA  98247    NaN  888-758-4389           E  ...   \n\n     lpg_nozzle_types hydrogen_pressures hydrogen_standards  \\\n0                 NaN                NaN                NaN   \n1                 NaN                NaN                NaN   \n2                 NaN                NaN                NaN   \n3                 NaN                NaN                NaN   \n4                 NaN                NaN                NaN   \n...               ...                ...                ...   \n1902              NaN                NaN                NaN   \n1903              NaN                NaN                NaN   \n1904              NaN                NaN                NaN   \n1905              NaN                NaN                NaN   \n1906              NaN                NaN                NaN   \n\n     cng_fill_type_code  cng_psi  cng_vehicle_class  lng_vehicle_class  \\\n0                   NaN      NaN                NaN                NaN   \n1                   NaN      NaN                NaN                NaN   \n2                   NaN      NaN                NaN                NaN   \n3                   NaN      NaN                NaN                NaN   \n4                   NaN      NaN                NaN                NaN   \n...                 ...      ...                ...                ...   \n1902                NaN      NaN                NaN                NaN   \n1903                NaN      NaN                NaN                NaN   \n1904                NaN      NaN                NaN                NaN   \n1905                NaN      NaN                NaN                NaN   \n1906                NaN      NaN                NaN                NaN   \n\n      ev_on_site_renewable_source  restricted_access  census_tract_2020  \n0                             NaN              False        53067011200  \n1                             NaN              False        53033028402  \n2                             NaN              False        53067010510  \n3                             NaN              False        53063001800  \n4                             NaN              False        53063003500  \n...                           ...                ...                ...  \n1902                          NaN              False        53033005202  \n1903                          NaN              False        53033005303  \n1904                          NaN              False        53033004202  \n1905                          NaN                NaN        53067010100  \n1906                          NaN                NaN        53073010201  \n\n[1907 rows x 66 columns]",
      "text/html": "<div>\n<style scoped>\n    .dataframe tbody tr th:only-of-type {\n        vertical-align: middle;\n    }\n\n    .dataframe tbody tr th {\n        vertical-align: top;\n    }\n\n    .dataframe thead th {\n        text-align: right;\n    }\n</style>\n<table border=\"1\" class=\"dataframe\">\n  <thead>\n    <tr style=\"text-align: right;\">\n      <th></th>\n      <th>fuel_type_code</th>\n      <th>station_name</th>\n      <th>street_address</th>\n      <th>intersection_directions</th>\n      <th>city</th>\n      <th>state</th>\n      <th>zip</th>\n      <th>plus4</th>\n      <th>station_phone</th>\n      <th>status_code</th>\n      <th>...</th>\n      <th>lpg_nozzle_types</th>\n      <th>hydrogen_pressures</th>\n      <th>hydrogen_standards</th>\n      <th>cng_fill_type_code</th>\n      <th>cng_psi</th>\n      <th>cng_vehicle_class</th>\n      <th>lng_vehicle_class</th>\n      <th>ev_on_site_renewable_source</th>\n      <th>restricted_access</th>\n      <th>census_tract_2020</th>\n    </tr>\n  </thead>\n  <tbody>\n    <tr>\n      <th>0</th>\n      <td>ELEC</td>\n      <td>City of Lacey - City Hall Parking</td>\n      <td>420 College St</td>\n      <td>At 3rd Ave SE, next to police station</td>\n      <td>Lacey</td>\n      <td>WA</td>\n      <td>98503</td>\n      <td>NaN</td>\n      <td>360-491-3214</td>\n      <td>E</td>\n      <td>...</td>\n      <td>NaN</td>\n      <td>NaN</td>\n      <td>NaN</td>\n      <td>NaN</td>\n      <td>NaN</td>\n      <td>NaN</td>\n      <td>NaN</td>\n      <td>NaN</td>\n      <td>False</td>\n      <td>53067011200</td>\n    </tr>\n    <tr>\n      <th>1</th>\n      <td>ELEC</td>\n      <td>Seattle-Tacoma International Airport - General...</td>\n      <td>17801 Pacific Hwy S</td>\n      <td>5th floor parking garage; rows D, G, and I</td>\n      <td>Seattle</td>\n      <td>WA</td>\n      <td>98188</td>\n      <td>NaN</td>\n      <td>206-787-5388</td>\n      <td>E</td>\n      <td>...</td>\n      <td>NaN</td>\n      <td>NaN</td>\n      <td>NaN</td>\n      <td>NaN</td>\n      <td>NaN</td>\n      <td>NaN</td>\n      <td>NaN</td>\n      <td>NaN</td>\n      <td>False</td>\n      <td>53033028402</td>\n    </tr>\n    <tr>\n      <th>2</th>\n      <td>ELEC</td>\n      <td>Haggen Food &amp; Pharmacy</td>\n      <td>1313 Cooper Point Rd SW</td>\n      <td>In front of the building on the left hand side</td>\n      <td>Olympia</td>\n      <td>WA</td>\n      <td>98502</td>\n      <td>NaN</td>\n      <td>360-754-1428</td>\n      <td>E</td>\n      <td>...</td>\n      <td>NaN</td>\n      <td>NaN</td>\n      <td>NaN</td>\n      <td>NaN</td>\n      <td>NaN</td>\n      <td>NaN</td>\n      <td>NaN</td>\n      <td>NaN</td>\n      <td>False</td>\n      <td>53067010510</td>\n    </tr>\n    <tr>\n      <th>3</th>\n      <td>ELEC</td>\n      <td>Avista Corp</td>\n      <td>1411 E Mission Ave</td>\n      <td>NaN</td>\n      <td>Spokane</td>\n      <td>WA</td>\n      <td>99252</td>\n      <td>NaN</td>\n      <td>509-489-0500</td>\n      <td>E</td>\n      <td>...</td>\n      <td>NaN</td>\n      <td>NaN</td>\n      <td>NaN</td>\n      <td>NaN</td>\n      <td>NaN</td>\n      <td>NaN</td>\n      <td>NaN</td>\n      <td>NaN</td>\n      <td>False</td>\n      <td>53063001800</td>\n    </tr>\n    <tr>\n      <th>4</th>\n      <td>ELEC</td>\n      <td>Steam Plant Grill</td>\n      <td>159 S Lincoln St</td>\n      <td>NaN</td>\n      <td>Spokane</td>\n      <td>WA</td>\n      <td>99201</td>\n      <td>NaN</td>\n      <td>509-777-3900</td>\n      <td>E</td>\n      <td>...</td>\n      <td>NaN</td>\n      <td>NaN</td>\n      <td>NaN</td>\n      <td>NaN</td>\n      <td>NaN</td>\n      <td>NaN</td>\n      <td>NaN</td>\n      <td>NaN</td>\n      <td>False</td>\n      <td>53063003500</td>\n    </tr>\n    <tr>\n      <th>...</th>\n      <td>...</td>\n      <td>...</td>\n      <td>...</td>\n      <td>...</td>\n      <td>...</td>\n      <td>...</td>\n      <td>...</td>\n      <td>...</td>\n      <td>...</td>\n      <td>...</td>\n      <td>...</td>\n      <td>...</td>\n      <td>...</td>\n      <td>...</td>\n      <td>...</td>\n      <td>...</td>\n      <td>...</td>\n      <td>...</td>\n      <td>...</td>\n      <td>...</td>\n      <td>...</td>\n    </tr>\n    <tr>\n      <th>1902</th>\n      <td>ELEC</td>\n      <td>University of Washington - Parking Area W40</td>\n      <td>814 NE Northlake Pl</td>\n      <td>NaN</td>\n      <td>Seattle</td>\n      <td>WA</td>\n      <td>98105</td>\n      <td>NaN</td>\n      <td>206-221-3701</td>\n      <td>E</td>\n      <td>...</td>\n      <td>NaN</td>\n      <td>NaN</td>\n      <td>NaN</td>\n      <td>NaN</td>\n      <td>NaN</td>\n      <td>NaN</td>\n      <td>NaN</td>\n      <td>NaN</td>\n      <td>False</td>\n      <td>53033005202</td>\n    </tr>\n    <tr>\n      <th>1903</th>\n      <td>ELEC</td>\n      <td>University of Washington - Parking Lot N22</td>\n      <td>4060 E Stevens Way NE</td>\n      <td>NaN</td>\n      <td>Seattle</td>\n      <td>WA</td>\n      <td>98195</td>\n      <td>NaN</td>\n      <td>206-221-3701</td>\n      <td>E</td>\n      <td>...</td>\n      <td>NaN</td>\n      <td>NaN</td>\n      <td>NaN</td>\n      <td>NaN</td>\n      <td>NaN</td>\n      <td>NaN</td>\n      <td>NaN</td>\n      <td>NaN</td>\n      <td>False</td>\n      <td>53033005303</td>\n    </tr>\n    <tr>\n      <th>1904</th>\n      <td>ELEC</td>\n      <td>Union Bay Plaza</td>\n      <td>4516 Union Bay Pl NE</td>\n      <td>NaN</td>\n      <td>Seattle</td>\n      <td>WA</td>\n      <td>98105</td>\n      <td>NaN</td>\n      <td>NaN</td>\n      <td>E</td>\n      <td>...</td>\n      <td>NaN</td>\n      <td>NaN</td>\n      <td>NaN</td>\n      <td>NaN</td>\n      <td>NaN</td>\n      <td>NaN</td>\n      <td>NaN</td>\n      <td>NaN</td>\n      <td>False</td>\n      <td>53033004202</td>\n    </tr>\n    <tr>\n      <th>1905</th>\n      <td>ELEC</td>\n      <td>OLY CITY HALL OLY CITY HALL 1</td>\n      <td>601 4th Ave E</td>\n      <td>NaN</td>\n      <td>Olympia</td>\n      <td>WA</td>\n      <td>98501</td>\n      <td>NaN</td>\n      <td>888-758-4389</td>\n      <td>T</td>\n      <td>...</td>\n      <td>NaN</td>\n      <td>NaN</td>\n      <td>NaN</td>\n      <td>NaN</td>\n      <td>NaN</td>\n      <td>NaN</td>\n      <td>NaN</td>\n      <td>NaN</td>\n      <td>NaN</td>\n      <td>53067010100</td>\n    </tr>\n    <tr>\n      <th>1906</th>\n      <td>ELEC</td>\n      <td>TAO FAWU FARM STATION 1</td>\n      <td>3825 Cabrant Rd</td>\n      <td>NaN</td>\n      <td>Everson</td>\n      <td>WA</td>\n      <td>98247</td>\n      <td>NaN</td>\n      <td>888-758-4389</td>\n      <td>E</td>\n      <td>...</td>\n      <td>NaN</td>\n      <td>NaN</td>\n      <td>NaN</td>\n      <td>NaN</td>\n      <td>NaN</td>\n      <td>NaN</td>\n      <td>NaN</td>\n      <td>NaN</td>\n      <td>NaN</td>\n      <td>53073010201</td>\n    </tr>\n  </tbody>\n</table>\n<p>1907 rows × 66 columns</p>\n</div>"
     },
     "execution_count": 57,
     "metadata": {},
     "output_type": "execute_result"
    }
   ],
   "source": [
    "df"
   ],
   "metadata": {
    "collapsed": false
   }
  },
  {
   "cell_type": "code",
   "execution_count": 58,
   "outputs": [
    {
     "data": {
      "text/plain": "     fuel_type_code                                       station_name  \\\n0              ELEC                  City of Lacey - City Hall Parking   \n1              ELEC  Seattle-Tacoma International Airport - General...   \n2              ELEC                             Haggen Food & Pharmacy   \n3              ELEC                                        Avista Corp   \n4              ELEC                                  Steam Plant Grill   \n...             ...                                                ...   \n1902           ELEC        University of Washington - Parking Area W40   \n1903           ELEC         University of Washington - Parking Lot N22   \n1904           ELEC                                    Union Bay Plaza   \n1905           ELEC                      OLY CITY HALL OLY CITY HALL 1   \n1906           ELEC                            TAO FAWU FARM STATION 1   \n\n               street_address                         intersection_directions  \\\n0              420 College St           At 3rd Ave SE, next to police station   \n1         17801 Pacific Hwy S      5th floor parking garage; rows D, G, and I   \n2     1313 Cooper Point Rd SW  In front of the building on the left hand side   \n3          1411 E Mission Ave                                             NaN   \n4            159 S Lincoln St                                             NaN   \n...                       ...                                             ...   \n1902      814 NE Northlake Pl                                             NaN   \n1903    4060 E Stevens Way NE                                             NaN   \n1904     4516 Union Bay Pl NE                                             NaN   \n1905            601 4th Ave E                                             NaN   \n1906          3825 Cabrant Rd                                             NaN   \n\n         city state    zip  plus4 station_phone status_code  ...  \\\n0       Lacey    WA  98503    NaN  360-491-3214           E  ...   \n1     Seattle    WA  98188    NaN  206-787-5388           E  ...   \n2     Olympia    WA  98502    NaN  360-754-1428           E  ...   \n3     Spokane    WA  99252    NaN  509-489-0500           E  ...   \n4     Spokane    WA  99201    NaN  509-777-3900           E  ...   \n...       ...   ...    ...    ...           ...         ...  ...   \n1902  Seattle    WA  98105    NaN  206-221-3701           E  ...   \n1903  Seattle    WA  98195    NaN  206-221-3701           E  ...   \n1904  Seattle    WA  98105    NaN           NaN           E  ...   \n1905  Olympia    WA  98501    NaN  888-758-4389           T  ...   \n1906  Everson    WA  98247    NaN  888-758-4389           E  ...   \n\n     hydrogen_pressures hydrogen_standards cng_fill_type_code cng_psi  \\\n0                   NaN                NaN                NaN     NaN   \n1                   NaN                NaN                NaN     NaN   \n2                   NaN                NaN                NaN     NaN   \n3                   NaN                NaN                NaN     NaN   \n4                   NaN                NaN                NaN     NaN   \n...                 ...                ...                ...     ...   \n1902                NaN                NaN                NaN     NaN   \n1903                NaN                NaN                NaN     NaN   \n1904                NaN                NaN                NaN     NaN   \n1905                NaN                NaN                NaN     NaN   \n1906                NaN                NaN                NaN     NaN   \n\n      cng_vehicle_class  lng_vehicle_class  ev_on_site_renewable_source  \\\n0                   NaN                NaN                          NaN   \n1                   NaN                NaN                          NaN   \n2                   NaN                NaN                          NaN   \n3                   NaN                NaN                          NaN   \n4                   NaN                NaN                          NaN   \n...                 ...                ...                          ...   \n1902                NaN                NaN                          NaN   \n1903                NaN                NaN                          NaN   \n1904                NaN                NaN                          NaN   \n1905                NaN                NaN                          NaN   \n1906                NaN                NaN                          NaN   \n\n      restricted_access  census_tract_2020  census_tract_2010  \n0                 False        53067011200        53067011200  \n1                 False        53033028402        53033028402  \n2                 False        53067010510        53067010510  \n3                 False        53063001800        53063001800  \n4                 False        53063003500        53063003500  \n...                 ...                ...                ...  \n1902              False        53033005202        53033005200  \n1903              False        53033005303        53033005302  \n1904              False        53033004202        53033004200  \n1905                NaN        53067010100        53067010100  \n1906                NaN        53073010201        53073010200  \n\n[1907 rows x 67 columns]",
      "text/html": "<div>\n<style scoped>\n    .dataframe tbody tr th:only-of-type {\n        vertical-align: middle;\n    }\n\n    .dataframe tbody tr th {\n        vertical-align: top;\n    }\n\n    .dataframe thead th {\n        text-align: right;\n    }\n</style>\n<table border=\"1\" class=\"dataframe\">\n  <thead>\n    <tr style=\"text-align: right;\">\n      <th></th>\n      <th>fuel_type_code</th>\n      <th>station_name</th>\n      <th>street_address</th>\n      <th>intersection_directions</th>\n      <th>city</th>\n      <th>state</th>\n      <th>zip</th>\n      <th>plus4</th>\n      <th>station_phone</th>\n      <th>status_code</th>\n      <th>...</th>\n      <th>hydrogen_pressures</th>\n      <th>hydrogen_standards</th>\n      <th>cng_fill_type_code</th>\n      <th>cng_psi</th>\n      <th>cng_vehicle_class</th>\n      <th>lng_vehicle_class</th>\n      <th>ev_on_site_renewable_source</th>\n      <th>restricted_access</th>\n      <th>census_tract_2020</th>\n      <th>census_tract_2010</th>\n    </tr>\n  </thead>\n  <tbody>\n    <tr>\n      <th>0</th>\n      <td>ELEC</td>\n      <td>City of Lacey - City Hall Parking</td>\n      <td>420 College St</td>\n      <td>At 3rd Ave SE, next to police station</td>\n      <td>Lacey</td>\n      <td>WA</td>\n      <td>98503</td>\n      <td>NaN</td>\n      <td>360-491-3214</td>\n      <td>E</td>\n      <td>...</td>\n      <td>NaN</td>\n      <td>NaN</td>\n      <td>NaN</td>\n      <td>NaN</td>\n      <td>NaN</td>\n      <td>NaN</td>\n      <td>NaN</td>\n      <td>False</td>\n      <td>53067011200</td>\n      <td>53067011200</td>\n    </tr>\n    <tr>\n      <th>1</th>\n      <td>ELEC</td>\n      <td>Seattle-Tacoma International Airport - General...</td>\n      <td>17801 Pacific Hwy S</td>\n      <td>5th floor parking garage; rows D, G, and I</td>\n      <td>Seattle</td>\n      <td>WA</td>\n      <td>98188</td>\n      <td>NaN</td>\n      <td>206-787-5388</td>\n      <td>E</td>\n      <td>...</td>\n      <td>NaN</td>\n      <td>NaN</td>\n      <td>NaN</td>\n      <td>NaN</td>\n      <td>NaN</td>\n      <td>NaN</td>\n      <td>NaN</td>\n      <td>False</td>\n      <td>53033028402</td>\n      <td>53033028402</td>\n    </tr>\n    <tr>\n      <th>2</th>\n      <td>ELEC</td>\n      <td>Haggen Food &amp; Pharmacy</td>\n      <td>1313 Cooper Point Rd SW</td>\n      <td>In front of the building on the left hand side</td>\n      <td>Olympia</td>\n      <td>WA</td>\n      <td>98502</td>\n      <td>NaN</td>\n      <td>360-754-1428</td>\n      <td>E</td>\n      <td>...</td>\n      <td>NaN</td>\n      <td>NaN</td>\n      <td>NaN</td>\n      <td>NaN</td>\n      <td>NaN</td>\n      <td>NaN</td>\n      <td>NaN</td>\n      <td>False</td>\n      <td>53067010510</td>\n      <td>53067010510</td>\n    </tr>\n    <tr>\n      <th>3</th>\n      <td>ELEC</td>\n      <td>Avista Corp</td>\n      <td>1411 E Mission Ave</td>\n      <td>NaN</td>\n      <td>Spokane</td>\n      <td>WA</td>\n      <td>99252</td>\n      <td>NaN</td>\n      <td>509-489-0500</td>\n      <td>E</td>\n      <td>...</td>\n      <td>NaN</td>\n      <td>NaN</td>\n      <td>NaN</td>\n      <td>NaN</td>\n      <td>NaN</td>\n      <td>NaN</td>\n      <td>NaN</td>\n      <td>False</td>\n      <td>53063001800</td>\n      <td>53063001800</td>\n    </tr>\n    <tr>\n      <th>4</th>\n      <td>ELEC</td>\n      <td>Steam Plant Grill</td>\n      <td>159 S Lincoln St</td>\n      <td>NaN</td>\n      <td>Spokane</td>\n      <td>WA</td>\n      <td>99201</td>\n      <td>NaN</td>\n      <td>509-777-3900</td>\n      <td>E</td>\n      <td>...</td>\n      <td>NaN</td>\n      <td>NaN</td>\n      <td>NaN</td>\n      <td>NaN</td>\n      <td>NaN</td>\n      <td>NaN</td>\n      <td>NaN</td>\n      <td>False</td>\n      <td>53063003500</td>\n      <td>53063003500</td>\n    </tr>\n    <tr>\n      <th>...</th>\n      <td>...</td>\n      <td>...</td>\n      <td>...</td>\n      <td>...</td>\n      <td>...</td>\n      <td>...</td>\n      <td>...</td>\n      <td>...</td>\n      <td>...</td>\n      <td>...</td>\n      <td>...</td>\n      <td>...</td>\n      <td>...</td>\n      <td>...</td>\n      <td>...</td>\n      <td>...</td>\n      <td>...</td>\n      <td>...</td>\n      <td>...</td>\n      <td>...</td>\n      <td>...</td>\n    </tr>\n    <tr>\n      <th>1902</th>\n      <td>ELEC</td>\n      <td>University of Washington - Parking Area W40</td>\n      <td>814 NE Northlake Pl</td>\n      <td>NaN</td>\n      <td>Seattle</td>\n      <td>WA</td>\n      <td>98105</td>\n      <td>NaN</td>\n      <td>206-221-3701</td>\n      <td>E</td>\n      <td>...</td>\n      <td>NaN</td>\n      <td>NaN</td>\n      <td>NaN</td>\n      <td>NaN</td>\n      <td>NaN</td>\n      <td>NaN</td>\n      <td>NaN</td>\n      <td>False</td>\n      <td>53033005202</td>\n      <td>53033005200</td>\n    </tr>\n    <tr>\n      <th>1903</th>\n      <td>ELEC</td>\n      <td>University of Washington - Parking Lot N22</td>\n      <td>4060 E Stevens Way NE</td>\n      <td>NaN</td>\n      <td>Seattle</td>\n      <td>WA</td>\n      <td>98195</td>\n      <td>NaN</td>\n      <td>206-221-3701</td>\n      <td>E</td>\n      <td>...</td>\n      <td>NaN</td>\n      <td>NaN</td>\n      <td>NaN</td>\n      <td>NaN</td>\n      <td>NaN</td>\n      <td>NaN</td>\n      <td>NaN</td>\n      <td>False</td>\n      <td>53033005303</td>\n      <td>53033005302</td>\n    </tr>\n    <tr>\n      <th>1904</th>\n      <td>ELEC</td>\n      <td>Union Bay Plaza</td>\n      <td>4516 Union Bay Pl NE</td>\n      <td>NaN</td>\n      <td>Seattle</td>\n      <td>WA</td>\n      <td>98105</td>\n      <td>NaN</td>\n      <td>NaN</td>\n      <td>E</td>\n      <td>...</td>\n      <td>NaN</td>\n      <td>NaN</td>\n      <td>NaN</td>\n      <td>NaN</td>\n      <td>NaN</td>\n      <td>NaN</td>\n      <td>NaN</td>\n      <td>False</td>\n      <td>53033004202</td>\n      <td>53033004200</td>\n    </tr>\n    <tr>\n      <th>1905</th>\n      <td>ELEC</td>\n      <td>OLY CITY HALL OLY CITY HALL 1</td>\n      <td>601 4th Ave E</td>\n      <td>NaN</td>\n      <td>Olympia</td>\n      <td>WA</td>\n      <td>98501</td>\n      <td>NaN</td>\n      <td>888-758-4389</td>\n      <td>T</td>\n      <td>...</td>\n      <td>NaN</td>\n      <td>NaN</td>\n      <td>NaN</td>\n      <td>NaN</td>\n      <td>NaN</td>\n      <td>NaN</td>\n      <td>NaN</td>\n      <td>NaN</td>\n      <td>53067010100</td>\n      <td>53067010100</td>\n    </tr>\n    <tr>\n      <th>1906</th>\n      <td>ELEC</td>\n      <td>TAO FAWU FARM STATION 1</td>\n      <td>3825 Cabrant Rd</td>\n      <td>NaN</td>\n      <td>Everson</td>\n      <td>WA</td>\n      <td>98247</td>\n      <td>NaN</td>\n      <td>888-758-4389</td>\n      <td>E</td>\n      <td>...</td>\n      <td>NaN</td>\n      <td>NaN</td>\n      <td>NaN</td>\n      <td>NaN</td>\n      <td>NaN</td>\n      <td>NaN</td>\n      <td>NaN</td>\n      <td>NaN</td>\n      <td>53073010201</td>\n      <td>53073010200</td>\n    </tr>\n  </tbody>\n</table>\n<p>1907 rows × 67 columns</p>\n</div>"
     },
     "execution_count": 58,
     "metadata": {},
     "output_type": "execute_result"
    }
   ],
   "source": [
    "#add 2010 census tract\n",
    "df[\"census_tract_2010\"] = 0\n",
    "for ind,row in df.iterrows():\n",
    "    if df.loc[ind, \"census_tract_2020\"] in df_tract_20_10:\n",
    "        df.loc[ind, \"census_tract_2010\"] = df_tract_20_10.loc[df.loc[ind, \"census_tract_2020\"]]\n",
    "# df[\"census_tract_2010\"] = df[\"census_tract_2010\"].astype(int)\n",
    "df"
   ],
   "metadata": {
    "collapsed": false
   }
  },
  {
   "cell_type": "code",
   "execution_count": 42,
   "outputs": [
    {
     "name": "stdout",
     "output_type": "stream",
     "text": [
      "595\n",
      "548\n"
     ]
    }
   ],
   "source": [
    "print(len(df[\"census_tract_2020\"].unique()))\n",
    "print(len(df[\"census_tract_2010\"].unique()))"
   ],
   "metadata": {
    "collapsed": false
   }
  },
  {
   "cell_type": "code",
   "execution_count": 60,
   "outputs": [],
   "source": [
    "df.to_csv(filename.split(\".\")[0] + \"_2010tracts.csv\")"
   ],
   "metadata": {
    "collapsed": false
   }
  },
  {
   "cell_type": "code",
   "execution_count": 61,
   "outputs": [],
   "source": [
    "multiindex = pd.MultiIndex.from_product([times, census_tracts_2020], names=[\"time\", \"census_tract_2020\"])\n",
    "# columns = [\"n_ev\", \"n_bev\", \"n_phev\", \"m_ev\", \"m_bev\", \"m_phev\"]"
   ],
   "metadata": {
    "collapsed": false
   }
  },
  {
   "cell_type": "code",
   "execution_count": 62,
   "outputs": [
    {
     "data": {
      "text/plain": "                              county zip_code\ntime       census_tract_2020                 \n2011-01-31 53001950100         Adams    99169\n           53001950200         Adams    99371\n           53001950301           NaN      NaN\n           53001950302           NaN      NaN\n           53001950303           NaN      NaN\n...                              ...      ...\n2022-09-30 53077940003        Yakima    98903\n           53077940005        Yakima    98948\n           53077940006        Yakima    98948\n           53077940007           NaN      NaN\n           53077940008           NaN      NaN\n\n[251544 rows x 2 columns]",
      "text/html": "<div>\n<style scoped>\n    .dataframe tbody tr th:only-of-type {\n        vertical-align: middle;\n    }\n\n    .dataframe tbody tr th {\n        vertical-align: top;\n    }\n\n    .dataframe thead th {\n        text-align: right;\n    }\n</style>\n<table border=\"1\" class=\"dataframe\">\n  <thead>\n    <tr style=\"text-align: right;\">\n      <th></th>\n      <th></th>\n      <th>county</th>\n      <th>zip_code</th>\n    </tr>\n    <tr>\n      <th>time</th>\n      <th>census_tract_2020</th>\n      <th></th>\n      <th></th>\n    </tr>\n  </thead>\n  <tbody>\n    <tr>\n      <th rowspan=\"5\" valign=\"top\">2011-01-31</th>\n      <th>53001950100</th>\n      <td>Adams</td>\n      <td>99169</td>\n    </tr>\n    <tr>\n      <th>53001950200</th>\n      <td>Adams</td>\n      <td>99371</td>\n    </tr>\n    <tr>\n      <th>53001950301</th>\n      <td>NaN</td>\n      <td>NaN</td>\n    </tr>\n    <tr>\n      <th>53001950302</th>\n      <td>NaN</td>\n      <td>NaN</td>\n    </tr>\n    <tr>\n      <th>53001950303</th>\n      <td>NaN</td>\n      <td>NaN</td>\n    </tr>\n    <tr>\n      <th>...</th>\n      <th>...</th>\n      <td>...</td>\n      <td>...</td>\n    </tr>\n    <tr>\n      <th rowspan=\"5\" valign=\"top\">2022-09-30</th>\n      <th>53077940003</th>\n      <td>Yakima</td>\n      <td>98903</td>\n    </tr>\n    <tr>\n      <th>53077940005</th>\n      <td>Yakima</td>\n      <td>98948</td>\n    </tr>\n    <tr>\n      <th>53077940006</th>\n      <td>Yakima</td>\n      <td>98948</td>\n    </tr>\n    <tr>\n      <th>53077940007</th>\n      <td>NaN</td>\n      <td>NaN</td>\n    </tr>\n    <tr>\n      <th>53077940008</th>\n      <td>NaN</td>\n      <td>NaN</td>\n    </tr>\n  </tbody>\n</table>\n<p>251544 rows × 2 columns</p>\n</div>"
     },
     "execution_count": 62,
     "metadata": {},
     "output_type": "execute_result"
    }
   ],
   "source": [
    "# create final dataframe and add county and ZIP code column to it\n",
    "final_df = pd.DataFrame(index=multiindex, columns=[\"county\", \"zip_code\"])\n",
    "# for zip_code in zip_codes:\n",
    "#     final_df.loc[(slice(None), zip_code), \"county\"] = search.by_zipcode(zip_code).county.replace(\" County\", \"\")\n",
    "for census_tract in census_tracts_2020:\n",
    "    if census_tract in tract_to_zip.index:\n",
    "        zip_code = tract_to_zip.loc[census_tract, \"zip_code\"]\n",
    "        final_df.loc[(slice(None), census_tract), \"zip_code\"] = zip_code\n",
    "        final_df.loc[(slice(None), census_tract), \"county\"] = search.by_zipcode(zip_code).county.replace(\" County\", \"\")\n",
    "final_df"
   ],
   "metadata": {
    "collapsed": false
   }
  },
  {
   "cell_type": "code",
   "execution_count": 63,
   "outputs": [
    {
     "name": "stdout",
     "output_type": "stream",
     "text": [
      "2011-01-31 2011-02-28 2011-03-31 2011-04-30 2011-05-31 2011-06-30 2011-07-31 2011-08-31 2011-09-30 2011-10-31 2011-11-30 2011-12-31 2012-01-31 2012-02-29 2012-03-31 2012-04-30 2012-05-31 2012-06-30 2012-07-31 2012-08-31 2012-09-30 2012-10-31 2012-11-30 2012-12-31 2013-01-31 2013-02-28 2013-03-31 2013-04-30 2013-05-31 2013-06-30 2013-07-31 2013-08-31 2013-09-30 2013-10-31 2013-11-30 2013-12-31 2014-01-31 2014-02-28 2014-03-31 2014-04-30 2014-05-31 2014-06-30 2014-07-31 2014-08-31 2014-09-30 2014-10-31 2014-11-30 2014-12-31 2015-01-31 2015-02-28 2015-03-31 2015-04-30 2015-05-31 2015-06-30 2015-07-31 2015-08-31 2015-09-30 2015-10-31 2015-11-30 2015-12-31 2016-01-31 2016-02-29 2016-03-31 2016-04-30 2016-05-31 2016-06-30 2016-07-31 2016-08-31 2016-09-30 2016-10-31 2016-11-30 2016-12-31 2017-01-31 2017-02-28 2017-03-31 2017-04-30 2017-05-31 2017-06-30 2017-07-31 2017-08-31 2017-09-30 2017-10-31 2017-11-30 2017-12-31 2018-01-31 2018-02-28 2018-03-31 2018-04-30 2018-05-31 2018-06-30 2018-07-31 2018-08-31 2018-09-30 2018-10-31 2018-11-30 2018-12-31 2019-01-31 2019-02-28 2019-03-31 2019-04-30 2019-05-31 2019-06-30 2019-07-31 2019-08-31 2019-09-30 2019-10-31 2019-11-30 2019-12-31 2020-01-31 2020-02-29 2020-03-31 2020-04-30 2020-05-31 2020-06-30 2020-07-31 2020-08-31 2020-09-30 2020-10-31 2020-11-30 2020-12-31 2021-01-31 2021-02-28 2021-03-31 2021-04-30 2021-05-31 2021-06-30 2021-07-31 2021-08-31 2021-09-30 2021-10-31 2021-11-30 2021-12-31 2022-01-31 2022-02-28 2022-03-31 2022-04-30 2022-05-31 2022-06-30 2022-07-31 2022-08-31 2022-09-30 done\n"
     ]
    }
   ],
   "source": [
    "#calculate predictor variable\n",
    "#number of installed L2 and DCFC station locations by zip code and month\n",
    "# df_evse = pd.read_csv(\"data/evse/EV_charging_stations_WA.csv\")\n",
    "df = pd.read_csv(\"data/evse/EV_charging_stations_WA_2010tracts.csv\")\n",
    "\n",
    "# df_evse = df_evse.drop(\"Unnamed: 0\", axis=1)\n",
    "# print(df_evse.columns)\n",
    "# df_evse.columns = df_evse_key[\"name\"].to_list() + [\"census_tract_2020\"]\n",
    "# df_evse.columns = df_evse_key[\"name\"].to_list() + [\"census_tract_2020\", \"census_tract_2010\"]\n",
    "# print(df_evse.columns)\n",
    "# k\n",
    "\n",
    "# print(df_evse[\"open_date\"].min())\n",
    "df = df[df[\"open_date\"] != \"0022-07-22\"]\n",
    "\n",
    "df[\"open_date\"] = pd.to_datetime(df[\"open_date\"]).dt.date\n",
    "# j\n",
    "df[\"l2_count\"] = df[\"l2_count\"].fillna(0).astype(int)\n",
    "df[\"dcfc_count\"] = df[\"dcfc_count\"].fillna(0).astype(int)\n",
    "\n",
    "# df_evse[\"has_l2_or_dcfc\"] = df_evse[\"l2_count\"] > 0 #boolean if location has at least one L2 charger\n",
    "df[\"has_l2_or_dcfc\"] = (df[\"l2_count\"] > 0) | (df[\"dcfc_count\"] > 0) #boolean if location has at least one L2 or DCFC charger\n",
    "\n",
    "final_df[\"n_evse\"] = 0\n",
    "for time in times:\n",
    "    print(time, \"\", end=\"\")\n",
    "    # for zip_code in zip_codes:\n",
    "    for census_tract in census_tracts_2020:\n",
    "        # dff = df_evse[(df_evse[\"open_date\"] < time) & (df_evse[\"zip\"] == zip_code)] #create helper dataframe containing all stations built in this zip code until this time\n",
    "        dff = df[(df[\"open_date\"] < time) & (df[\"census_tract_2020\"] == census_tract)] #create helper dataframe containing all stations built in this census tract until this time\n",
    "        n_evse = sum(dff[\"has_l2_or_dcfc\"]) #counts number of locations with at least one charging station in that ZIP code and for that month\n",
    "        final_df.loc[(time, census_tract), \"n_evse\"] = n_evse\n",
    "\n",
    "print(\"done\")"
   ],
   "metadata": {
    "collapsed": false
   }
  },
  {
   "cell_type": "code",
   "execution_count": 64,
   "outputs": [
    {
     "data": {
      "text/plain": "                              county zip_code  n_evse\ntime       census_tract_2020                         \n2011-01-31 53001950100         Adams    99169       0\n           53001950200         Adams    99371       0\n           53001950301           NaN      NaN       0\n           53001950302           NaN      NaN       0\n           53001950303           NaN      NaN       0\n...                              ...      ...     ...\n2022-09-30 53077940003        Yakima    98903       0\n           53077940005        Yakima    98948       0\n           53077940006        Yakima    98948       0\n           53077940007           NaN      NaN       0\n           53077940008           NaN      NaN       2\n\n[251544 rows x 3 columns]",
      "text/html": "<div>\n<style scoped>\n    .dataframe tbody tr th:only-of-type {\n        vertical-align: middle;\n    }\n\n    .dataframe tbody tr th {\n        vertical-align: top;\n    }\n\n    .dataframe thead th {\n        text-align: right;\n    }\n</style>\n<table border=\"1\" class=\"dataframe\">\n  <thead>\n    <tr style=\"text-align: right;\">\n      <th></th>\n      <th></th>\n      <th>county</th>\n      <th>zip_code</th>\n      <th>n_evse</th>\n    </tr>\n    <tr>\n      <th>time</th>\n      <th>census_tract_2020</th>\n      <th></th>\n      <th></th>\n      <th></th>\n    </tr>\n  </thead>\n  <tbody>\n    <tr>\n      <th rowspan=\"5\" valign=\"top\">2011-01-31</th>\n      <th>53001950100</th>\n      <td>Adams</td>\n      <td>99169</td>\n      <td>0</td>\n    </tr>\n    <tr>\n      <th>53001950200</th>\n      <td>Adams</td>\n      <td>99371</td>\n      <td>0</td>\n    </tr>\n    <tr>\n      <th>53001950301</th>\n      <td>NaN</td>\n      <td>NaN</td>\n      <td>0</td>\n    </tr>\n    <tr>\n      <th>53001950302</th>\n      <td>NaN</td>\n      <td>NaN</td>\n      <td>0</td>\n    </tr>\n    <tr>\n      <th>53001950303</th>\n      <td>NaN</td>\n      <td>NaN</td>\n      <td>0</td>\n    </tr>\n    <tr>\n      <th>...</th>\n      <th>...</th>\n      <td>...</td>\n      <td>...</td>\n      <td>...</td>\n    </tr>\n    <tr>\n      <th rowspan=\"5\" valign=\"top\">2022-09-30</th>\n      <th>53077940003</th>\n      <td>Yakima</td>\n      <td>98903</td>\n      <td>0</td>\n    </tr>\n    <tr>\n      <th>53077940005</th>\n      <td>Yakima</td>\n      <td>98948</td>\n      <td>0</td>\n    </tr>\n    <tr>\n      <th>53077940006</th>\n      <td>Yakima</td>\n      <td>98948</td>\n      <td>0</td>\n    </tr>\n    <tr>\n      <th>53077940007</th>\n      <td>NaN</td>\n      <td>NaN</td>\n      <td>0</td>\n    </tr>\n    <tr>\n      <th>53077940008</th>\n      <td>NaN</td>\n      <td>NaN</td>\n      <td>2</td>\n    </tr>\n  </tbody>\n</table>\n<p>251544 rows × 3 columns</p>\n</div>"
     },
     "execution_count": 64,
     "metadata": {},
     "output_type": "execute_result"
    }
   ],
   "source": [
    "final_df"
   ],
   "metadata": {
    "collapsed": false
   }
  },
  {
   "cell_type": "code",
   "execution_count": 66,
   "outputs": [
    {
     "data": {
      "text/plain": "65652"
     },
     "execution_count": 66,
     "metadata": {},
     "output_type": "execute_result"
    }
   ],
   "source": [
    "final_df[\"n_evse\"].sum()"
   ],
   "metadata": {
    "collapsed": false
   }
  },
  {
   "cell_type": "code",
   "execution_count": 65,
   "outputs": [],
   "source": [
    "final_df.to_csv(\"data/evse/evse_2.csv\")"
   ],
   "metadata": {
    "collapsed": false
   }
  },
  {
   "cell_type": "code",
   "execution_count": 68,
   "outputs": [
    {
     "data": {
      "text/plain": "                              n_evse\ntime       census_tract_2010        \n2011-01-31 53001950100             0\n           53001950200             0\n           53001950300             0\n           53001950400             0\n           53001950500             0\n...                              ...\n2022-09-30 53077940002             0\n           53077940003             0\n           53077940004             2\n           53077940005             0\n           53077940006             0\n\n[205437 rows x 1 columns]",
      "text/html": "<div>\n<style scoped>\n    .dataframe tbody tr th:only-of-type {\n        vertical-align: middle;\n    }\n\n    .dataframe tbody tr th {\n        vertical-align: top;\n    }\n\n    .dataframe thead th {\n        text-align: right;\n    }\n</style>\n<table border=\"1\" class=\"dataframe\">\n  <thead>\n    <tr style=\"text-align: right;\">\n      <th></th>\n      <th></th>\n      <th>n_evse</th>\n    </tr>\n    <tr>\n      <th>time</th>\n      <th>census_tract_2010</th>\n      <th></th>\n    </tr>\n  </thead>\n  <tbody>\n    <tr>\n      <th rowspan=\"5\" valign=\"top\">2011-01-31</th>\n      <th>53001950100</th>\n      <td>0</td>\n    </tr>\n    <tr>\n      <th>53001950200</th>\n      <td>0</td>\n    </tr>\n    <tr>\n      <th>53001950300</th>\n      <td>0</td>\n    </tr>\n    <tr>\n      <th>53001950400</th>\n      <td>0</td>\n    </tr>\n    <tr>\n      <th>53001950500</th>\n      <td>0</td>\n    </tr>\n    <tr>\n      <th>...</th>\n      <th>...</th>\n      <td>...</td>\n    </tr>\n    <tr>\n      <th rowspan=\"5\" valign=\"top\">2022-09-30</th>\n      <th>53077940002</th>\n      <td>0</td>\n    </tr>\n    <tr>\n      <th>53077940003</th>\n      <td>0</td>\n    </tr>\n    <tr>\n      <th>53077940004</th>\n      <td>2</td>\n    </tr>\n    <tr>\n      <th>53077940005</th>\n      <td>0</td>\n    </tr>\n    <tr>\n      <th>53077940006</th>\n      <td>0</td>\n    </tr>\n  </tbody>\n</table>\n<p>205437 rows × 1 columns</p>\n</div>"
     },
     "execution_count": 68,
     "metadata": {},
     "output_type": "execute_result"
    }
   ],
   "source": [
    "#express in terms of 2010 census tracts as the index\n",
    "final_df_2010tracts = final_df.reset_index()\n",
    "# final_df_2010tracts[\"n_evse\"] = final_df_2010tracts[\"n_evse\"].fillna(0)\n",
    "final_df_2010tracts[\"census_tract_2010\"] = final_df_2010tracts[\"census_tract_2020\"].map(df_tract_20_10.to_dict())\n",
    "# final_df_2010tracts[[\"census_tract_2020\", \"zip_code\", \"county\"]] = final_df_2010tracts[[\"census_tract_2020\", \"zip_code\", \"county\"]].astype(str)\n",
    "\n",
    "final_df_2010tracts2 = final_df_2010tracts[[\"time\", \"census_tract_2010\", \"census_tract_2020\", \"zip_code\", \"county\", \"n_evse\"]].groupby([\"time\", \"census_tract_2010\"]).sum() #for count variables (n_evse)\n",
    "# final_df_2010tracts3 = final_df_2010tracts[[\"time\", \"census_tract_2010\", \"census_tract_2020\", \"zip_code\"] + columns[3:]].groupby([\"time\", \"census_tract_2010\"]).mean() #product variety (m_ev, m_bev, m_phev)\n",
    "# final_df_2010tracts4 = final_df_2010tracts2.merge(final_df_2010tracts3, on=[\"time\", \"census_tract_2010\"])\n",
    "# final_df_2010tracts4 = final_df_2010tracts4.drop([\"census_tract_2020_y\", \"zip_code_y\"], axis=1)\n",
    "final_df_2010tracts2 = final_df_2010tracts2.drop(\"census_tract_2020\", axis=1)\n",
    "# final_df_2010tracts4 = final_df_2010tracts4.rename({\"census_tract_2020_x\": \"census_tract_2020\", \"zip_code_x\": \"zip_code\"}, axis=1)\n",
    "\n",
    "final_df_2010tracts2.to_csv(\"data/evse/evse_2010tracts.csv\")\n",
    "# final_df_2010tracts2.to_csv(\"data/evse/evse_2010tracts_2.csv\")\n",
    "final_df_2010tracts2"
   ],
   "metadata": {
    "collapsed": false
   }
  },
  {
   "cell_type": "code",
   "execution_count": null,
   "outputs": [],
   "source": [
    "#express in terms of 2010 census tracts as the index (WRONG METHOD, DO NOT USE)\n",
    "final_df_2010tracts = final_df.reset_index()\n",
    "final_df_2010tracts[\"census_tract_2010\"] = final_df_2010tracts[\"census_tract_2020\"].map(df_tract_20_10.to_dict())\n",
    "final_df_2010tracts = final_df_2010tracts.set_index([\"time\", \"census_tract_2010\"])\n",
    "final_df_2010tracts.to_csv(\"data/evse/evse_2010tracts.csv\")\n",
    "final_df_2010tracts"
   ],
   "metadata": {
    "collapsed": false
   }
  }
 ],
 "metadata": {
  "kernelspec": {
   "display_name": "Python 3 (ipykernel)",
   "language": "python",
   "name": "python3"
  },
  "language_info": {
   "codemirror_mode": {
    "name": "ipython",
    "version": 3
   },
   "file_extension": ".py",
   "mimetype": "text/x-python",
   "name": "python",
   "nbconvert_exporter": "python",
   "pygments_lexer": "ipython3",
   "version": "3.8.8"
  }
 },
 "nbformat": 4,
 "nbformat_minor": 5
}
