{
 "cells": [
  {
   "cell_type": "markdown",
   "id": "33b66a0c",
   "metadata": {},
   "source": [
    "# scrape_charging_stations.ipynb\n",
    "**This notebook downloads the record of public EV charging stations from [NREL's Alternative Fuel Data Center](https://developer.nrel.gov/docs/transportation/alt-fuel-stations-v1/) and stores the outputs in the corresponding folder `data/evse/raw/`**\n",
    "+ Each downloaded file is recorded with today's date in its filename, e.g. `EV_charging_stations_WA (as of 2022-02-27).csv`\n",
    "+ This notebook also updates the most recent file for each of the datasets using the ``update_latest_file()`` function from the `utils.py` library, and stores it in a separate file, e.g. `EV_charging_stations_WA.csv` (without any date note)\n",
    "+ Time required for scraping: ~1 second"
   ]
  },
  {
   "cell_type": "code",
   "execution_count": 1,
   "id": "eed38500",
   "metadata": {},
   "outputs": [],
   "source": [
    "import os\n",
    "import requests\n",
    "import datetime as dt\n",
    "\n",
    "from utils import scrape_from_api,update_latest_file\n",
    "from keys import AFDC_API_KEY"
   ]
  },
  {
   "cell_type": "code",
   "execution_count": 4,
   "id": "a6a1b144",
   "metadata": {},
   "outputs": [],
   "source": [
    "folder = \"data/evse/\"\n",
    "fname_base = \"EV_charging_stations_WA\"\n",
    "today = dt.date.today().strftime(\"%Y-%m-%d\")\n",
    "filename = folder + \"raw/\" + fname_base + \" (as of {0:s}).csv\".format(today)\n",
    "\n",
    "url = \"https://developer.nrel.gov/api/alt-fuel-stations/v1.csv\"\n",
    "params = {}\n",
    "params[\"api_key\"] = AFDC_API_KEY\n",
    "params[\"fuel_type\"] = \"ELEC\"\n",
    "params[\"state\"] = \"WA\""
   ]
  },
  {
   "cell_type": "code",
   "execution_count": 5,
   "id": "7178a9f1",
   "metadata": {},
   "outputs": [],
   "source": [
    "scrape_from_api(url, params, filename)"
   ]
  },
  {
   "cell_type": "code",
   "execution_count": 6,
   "id": "8a934f37",
   "metadata": {},
   "outputs": [
    {
     "name": "stdout",
     "output_type": "stream",
     "text": [
      "latest file: 'EV_charging_stations_WA (as of 2022-04-01).csv'\n"
     ]
    }
   ],
   "source": [
    "update_latest_file(fname_base, folder)"
   ]
  }
 ],
 "metadata": {
  "kernelspec": {
   "display_name": "Python 3 (ipykernel)",
   "language": "python",
   "name": "python3"
  },
  "language_info": {
   "codemirror_mode": {
    "name": "ipython",
    "version": 3
   },
   "file_extension": ".py",
   "mimetype": "text/x-python",
   "name": "python",
   "nbconvert_exporter": "python",
   "pygments_lexer": "ipython3",
   "version": "3.8.8"
  }
 },
 "nbformat": 4,
 "nbformat_minor": 5
}
