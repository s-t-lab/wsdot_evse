{
 "cells": [
  {
   "cell_type": "markdown",
   "id": "bb5e1e40",
   "metadata": {},
   "source": [
    "# process_EV_registration_activity.ipynb\n",
    "**This notebook extracts EV registration counts by ZIP code and by month from the EV title and registration activity data file (scraped by the `scrape_veh_registration_data.ipynb` file) and stores the resulting EV counts in `data/vehicles/ev_counts.csv`.**\n",
    "+ For each month and for each ZIP code, counts the number of \"Original Registration\" and \"Registration Renewal\" entries within the past year (365 days).\n",
    "+ Likewise, for each month and for each ZIP code, counts the number of unique EV models on the market in WA until that date (month). This is taken as an estimate for the EV model variety at each point in time.\n",
    "+ Stores resulting dataframe (panel data by month (January 2017 to December 2021) and by ZIP code (all ZIP codes in WA)) in `data/vehicles/ev_counts.csv`."
   ]
  },
  {
   "cell_type": "code",
   "execution_count": 2,
   "id": "bec2b2ae",
   "metadata": {},
   "outputs": [
    {
     "name": "stderr",
     "output_type": "stream",
     "text": [
      "C:\\Users\\steff\\anaconda3\\lib\\site-packages\\fuzzywuzzy\\fuzz.py:11: UserWarning: Using slow pure-python SequenceMatcher. Install python-Levenshtein to remove this warning\n",
      "  warnings.warn('Using slow pure-python SequenceMatcher. Install python-Levenshtein to remove this warning')\n"
     ]
    }
   ],
   "source": [
    "import pandas as pd\n",
    "import numpy as np\n",
    "import datetime as dt\n",
    "from uszipcode import SearchEngine\n",
    "search = SearchEngine()\n",
    "\n",
    "import utils as u\n",
    "from config.GLOBAL import *"
   ]
  },
  {
   "cell_type": "code",
   "execution_count": 3,
   "id": "fcbfc7d4",
   "metadata": {},
   "outputs": [
    {
     "data": {
      "text/plain": "name                                   ev_type    vin_1-10  model_year  \\\n0               Battery Electric Vehicle (BEV)  5YJ3E1EA3J        2018   \n1               Battery Electric Vehicle (BEV)  5YJ3E1EA3J        2018   \n2               Battery Electric Vehicle (BEV)  5YJ3E1EA3J        2018   \n3               Battery Electric Vehicle (BEV)  5YJ3E1EA3J        2018   \n4               Battery Electric Vehicle (BEV)  1FTFW1ED3M        2021   \n...                                        ...         ...         ...   \n620980  Plug-in Hybrid Electric Vehicle (PHEV)  1G1RG6E49C        2012   \n620981  Plug-in Hybrid Electric Vehicle (PHEV)  1G1RG6E49C        2012   \n620982  Plug-in Hybrid Electric Vehicle (PHEV)  1G1RG6E49C        2012   \n620983  Plug-in Hybrid Electric Vehicle (PHEV)  1G1RG6E49C        2012   \n620984  Plug-in Hybrid Electric Vehicle (PHEV)  1G1RG6E49C        2012   \n\nname         make    model new_used  sale_price               trans_date  \\\n0           TESLA  Model 3     Used        0.00  2020-01-02T00:00:00.000   \n1           TESLA  Model 3     Used        0.00  2020-12-17T00:00:00.000   \n2           TESLA  Model 3     Used        0.00  2021-12-29T00:00:00.000   \n3           TESLA  Model 3      New    53000.00  2019-01-29T00:00:00.000   \n4            FORD    F-150      New    69497.57  2021-09-08T00:00:00.000   \n...           ...      ...      ...         ...                      ...   \n620980  CHEVROLET     Volt     Used        0.00  2021-03-17T00:00:00.000   \n620981  CHEVROLET     Volt     Used        0.00  2022-03-21T00:00:00.000   \n620982  CHEVROLET     Volt     Used    11000.00  2017-04-20T00:00:00.000   \n620983  CHEVROLET     Volt     Used        0.00  2017-04-20T00:00:00.000   \n620984  CHEVROLET     Volt     Used        0.00  2018-03-19T00:00:00.000   \n\nname               trans_type  trans_year  ... legislative_district  \\\n0        Registration Renewal        2020  ...                  5.0   \n1        Registration Renewal        2020  ...                  5.0   \n2        Registration Renewal        2021  ...                  5.0   \n3              Original Title        2019  ...                  5.0   \n4              Original Title        2021  ...                 41.0   \n...                       ...         ...  ...                  ...   \n620980   Registration Renewal        2021  ...                 24.0   \n620981   Registration Renewal        2022  ...                 24.0   \n620982         Original Title        2017  ...                 24.0   \n620983  Original Registration        2017  ...                 24.0   \n620984   Registration Renewal        2018  ...                 24.0   \n\nname                                                  NaN    NaN    NaN  \\\n0       TRANSACTION NOT ELIGIBLE: Non-sale, registrati...   True  False   \n1       TRANSACTION NOT ELIGIBLE: Non-sale, registrati...   True  False   \n2       TRANSACTION NOT ELIGIBLE: Non-sale, registrati...   True  False   \n3       TRANSACTION NOT ELIGIBLE: Sale before August 2...   True  False   \n4       ERROR: No battery range; TRANSACTION NOT ELIGI...  False   True   \n...                                                   ...    ...    ...   \n620980  TRANSACTION NOT ELIGIBLE: Non-sale, registrati...   True  False   \n620981  TRANSACTION NOT ELIGIBLE: Non-sale, registrati...   True  False   \n620982  TRANSACTION NOT ELIGIBLE: Sale before August 2019   True  False   \n620983  TRANSACTION NOT ELIGIBLE: Non-sale, registrati...   True  False   \n620984  TRANSACTION NOT ELIGIBLE: Non-sale, registrati...   True  False   \n\nname      NaN    NaN                                                NaN  \\\n0       False      0  Odometer reading is not collected at time of r...   \n1       False      0  Odometer reading is not collected at time of r...   \n2       False      0  Odometer reading is not collected at time of r...   \n3       False     50                                     Actual Mileage   \n4       False     24                                     Actual Mileage   \n...       ...    ...                                                ...   \n620980  False      0  Odometer reading is not collected at time of r...   \n620981  False      0  Odometer reading is not collected at time of r...   \n620982   True  28277                                     Actual Mileage   \n620983  False      0  Odometer reading is not collected at time of r...   \n620984  False      0  Odometer reading is not collected at time of r...   \n\nname               NaN             NaN census_tract_2020  \n0                  Yes              No      5.303303e+10  \n1                  Yes              No      5.303303e+10  \n2                  Yes              No      5.303303e+10  \n3       Not Applicable  Not Applicable      5.303303e+10  \n4       Not Applicable  Not Applicable      5.303302e+10  \n...                ...             ...               ...  \n620980             Yes              No      5.302700e+10  \n620981             Yes              No      5.302700e+10  \n620982  Not Applicable  Not Applicable      5.302700e+10  \n620983              No              No      5.302700e+10  \n620984              No              No      5.302700e+10  \n\n[620985 rows x 31 columns]",
      "text/html": "<div>\n<style scoped>\n    .dataframe tbody tr th:only-of-type {\n        vertical-align: middle;\n    }\n\n    .dataframe tbody tr th {\n        vertical-align: top;\n    }\n\n    .dataframe thead th {\n        text-align: right;\n    }\n</style>\n<table border=\"1\" class=\"dataframe\">\n  <thead>\n    <tr style=\"text-align: right;\">\n      <th>name</th>\n      <th>ev_type</th>\n      <th>vin_1-10</th>\n      <th>model_year</th>\n      <th>make</th>\n      <th>model</th>\n      <th>new_used</th>\n      <th>sale_price</th>\n      <th>trans_date</th>\n      <th>trans_type</th>\n      <th>trans_year</th>\n      <th>...</th>\n      <th>legislative_district</th>\n      <th>NaN</th>\n      <th>NaN</th>\n      <th>NaN</th>\n      <th>NaN</th>\n      <th>NaN</th>\n      <th>NaN</th>\n      <th>NaN</th>\n      <th>NaN</th>\n      <th>census_tract_2020</th>\n    </tr>\n  </thead>\n  <tbody>\n    <tr>\n      <th>0</th>\n      <td>Battery Electric Vehicle (BEV)</td>\n      <td>5YJ3E1EA3J</td>\n      <td>2018</td>\n      <td>TESLA</td>\n      <td>Model 3</td>\n      <td>Used</td>\n      <td>0.00</td>\n      <td>2020-01-02T00:00:00.000</td>\n      <td>Registration Renewal</td>\n      <td>2020</td>\n      <td>...</td>\n      <td>5.0</td>\n      <td>TRANSACTION NOT ELIGIBLE: Non-sale, registrati...</td>\n      <td>True</td>\n      <td>False</td>\n      <td>False</td>\n      <td>0</td>\n      <td>Odometer reading is not collected at time of r...</td>\n      <td>Yes</td>\n      <td>No</td>\n      <td>5.303303e+10</td>\n    </tr>\n    <tr>\n      <th>1</th>\n      <td>Battery Electric Vehicle (BEV)</td>\n      <td>5YJ3E1EA3J</td>\n      <td>2018</td>\n      <td>TESLA</td>\n      <td>Model 3</td>\n      <td>Used</td>\n      <td>0.00</td>\n      <td>2020-12-17T00:00:00.000</td>\n      <td>Registration Renewal</td>\n      <td>2020</td>\n      <td>...</td>\n      <td>5.0</td>\n      <td>TRANSACTION NOT ELIGIBLE: Non-sale, registrati...</td>\n      <td>True</td>\n      <td>False</td>\n      <td>False</td>\n      <td>0</td>\n      <td>Odometer reading is not collected at time of r...</td>\n      <td>Yes</td>\n      <td>No</td>\n      <td>5.303303e+10</td>\n    </tr>\n    <tr>\n      <th>2</th>\n      <td>Battery Electric Vehicle (BEV)</td>\n      <td>5YJ3E1EA3J</td>\n      <td>2018</td>\n      <td>TESLA</td>\n      <td>Model 3</td>\n      <td>Used</td>\n      <td>0.00</td>\n      <td>2021-12-29T00:00:00.000</td>\n      <td>Registration Renewal</td>\n      <td>2021</td>\n      <td>...</td>\n      <td>5.0</td>\n      <td>TRANSACTION NOT ELIGIBLE: Non-sale, registrati...</td>\n      <td>True</td>\n      <td>False</td>\n      <td>False</td>\n      <td>0</td>\n      <td>Odometer reading is not collected at time of r...</td>\n      <td>Yes</td>\n      <td>No</td>\n      <td>5.303303e+10</td>\n    </tr>\n    <tr>\n      <th>3</th>\n      <td>Battery Electric Vehicle (BEV)</td>\n      <td>5YJ3E1EA3J</td>\n      <td>2018</td>\n      <td>TESLA</td>\n      <td>Model 3</td>\n      <td>New</td>\n      <td>53000.00</td>\n      <td>2019-01-29T00:00:00.000</td>\n      <td>Original Title</td>\n      <td>2019</td>\n      <td>...</td>\n      <td>5.0</td>\n      <td>TRANSACTION NOT ELIGIBLE: Sale before August 2...</td>\n      <td>True</td>\n      <td>False</td>\n      <td>False</td>\n      <td>50</td>\n      <td>Actual Mileage</td>\n      <td>Not Applicable</td>\n      <td>Not Applicable</td>\n      <td>5.303303e+10</td>\n    </tr>\n    <tr>\n      <th>4</th>\n      <td>Battery Electric Vehicle (BEV)</td>\n      <td>1FTFW1ED3M</td>\n      <td>2021</td>\n      <td>FORD</td>\n      <td>F-150</td>\n      <td>New</td>\n      <td>69497.57</td>\n      <td>2021-09-08T00:00:00.000</td>\n      <td>Original Title</td>\n      <td>2021</td>\n      <td>...</td>\n      <td>41.0</td>\n      <td>ERROR: No battery range; TRANSACTION NOT ELIGI...</td>\n      <td>False</td>\n      <td>True</td>\n      <td>False</td>\n      <td>24</td>\n      <td>Actual Mileage</td>\n      <td>Not Applicable</td>\n      <td>Not Applicable</td>\n      <td>5.303302e+10</td>\n    </tr>\n    <tr>\n      <th>...</th>\n      <td>...</td>\n      <td>...</td>\n      <td>...</td>\n      <td>...</td>\n      <td>...</td>\n      <td>...</td>\n      <td>...</td>\n      <td>...</td>\n      <td>...</td>\n      <td>...</td>\n      <td>...</td>\n      <td>...</td>\n      <td>...</td>\n      <td>...</td>\n      <td>...</td>\n      <td>...</td>\n      <td>...</td>\n      <td>...</td>\n      <td>...</td>\n      <td>...</td>\n      <td>...</td>\n    </tr>\n    <tr>\n      <th>620980</th>\n      <td>Plug-in Hybrid Electric Vehicle (PHEV)</td>\n      <td>1G1RG6E49C</td>\n      <td>2012</td>\n      <td>CHEVROLET</td>\n      <td>Volt</td>\n      <td>Used</td>\n      <td>0.00</td>\n      <td>2021-03-17T00:00:00.000</td>\n      <td>Registration Renewal</td>\n      <td>2021</td>\n      <td>...</td>\n      <td>24.0</td>\n      <td>TRANSACTION NOT ELIGIBLE: Non-sale, registrati...</td>\n      <td>True</td>\n      <td>False</td>\n      <td>False</td>\n      <td>0</td>\n      <td>Odometer reading is not collected at time of r...</td>\n      <td>Yes</td>\n      <td>No</td>\n      <td>5.302700e+10</td>\n    </tr>\n    <tr>\n      <th>620981</th>\n      <td>Plug-in Hybrid Electric Vehicle (PHEV)</td>\n      <td>1G1RG6E49C</td>\n      <td>2012</td>\n      <td>CHEVROLET</td>\n      <td>Volt</td>\n      <td>Used</td>\n      <td>0.00</td>\n      <td>2022-03-21T00:00:00.000</td>\n      <td>Registration Renewal</td>\n      <td>2022</td>\n      <td>...</td>\n      <td>24.0</td>\n      <td>TRANSACTION NOT ELIGIBLE: Non-sale, registrati...</td>\n      <td>True</td>\n      <td>False</td>\n      <td>False</td>\n      <td>0</td>\n      <td>Odometer reading is not collected at time of r...</td>\n      <td>Yes</td>\n      <td>No</td>\n      <td>5.302700e+10</td>\n    </tr>\n    <tr>\n      <th>620982</th>\n      <td>Plug-in Hybrid Electric Vehicle (PHEV)</td>\n      <td>1G1RG6E49C</td>\n      <td>2012</td>\n      <td>CHEVROLET</td>\n      <td>Volt</td>\n      <td>Used</td>\n      <td>11000.00</td>\n      <td>2017-04-20T00:00:00.000</td>\n      <td>Original Title</td>\n      <td>2017</td>\n      <td>...</td>\n      <td>24.0</td>\n      <td>TRANSACTION NOT ELIGIBLE: Sale before August 2019</td>\n      <td>True</td>\n      <td>False</td>\n      <td>True</td>\n      <td>28277</td>\n      <td>Actual Mileage</td>\n      <td>Not Applicable</td>\n      <td>Not Applicable</td>\n      <td>5.302700e+10</td>\n    </tr>\n    <tr>\n      <th>620983</th>\n      <td>Plug-in Hybrid Electric Vehicle (PHEV)</td>\n      <td>1G1RG6E49C</td>\n      <td>2012</td>\n      <td>CHEVROLET</td>\n      <td>Volt</td>\n      <td>Used</td>\n      <td>0.00</td>\n      <td>2017-04-20T00:00:00.000</td>\n      <td>Original Registration</td>\n      <td>2017</td>\n      <td>...</td>\n      <td>24.0</td>\n      <td>TRANSACTION NOT ELIGIBLE: Non-sale, registrati...</td>\n      <td>True</td>\n      <td>False</td>\n      <td>False</td>\n      <td>0</td>\n      <td>Odometer reading is not collected at time of r...</td>\n      <td>No</td>\n      <td>No</td>\n      <td>5.302700e+10</td>\n    </tr>\n    <tr>\n      <th>620984</th>\n      <td>Plug-in Hybrid Electric Vehicle (PHEV)</td>\n      <td>1G1RG6E49C</td>\n      <td>2012</td>\n      <td>CHEVROLET</td>\n      <td>Volt</td>\n      <td>Used</td>\n      <td>0.00</td>\n      <td>2018-03-19T00:00:00.000</td>\n      <td>Registration Renewal</td>\n      <td>2018</td>\n      <td>...</td>\n      <td>24.0</td>\n      <td>TRANSACTION NOT ELIGIBLE: Non-sale, registrati...</td>\n      <td>True</td>\n      <td>False</td>\n      <td>False</td>\n      <td>0</td>\n      <td>Odometer reading is not collected at time of r...</td>\n      <td>No</td>\n      <td>No</td>\n      <td>5.302700e+10</td>\n    </tr>\n  </tbody>\n</table>\n<p>620985 rows × 31 columns</p>\n</div>"
     },
     "execution_count": 3,
     "metadata": {},
     "output_type": "execute_result"
    }
   ],
   "source": [
    "df_raw = pd.read_csv(\"data/vehicles/Electric_Vehicle_Title_and_Registration_Activity.csv\")\n",
    "df_key = pd.read_csv(\"config/Electric_Vehicle_Title_and_Registration_Activity_key.csv\")\n",
    "\n",
    "df_raw.columns = df_key[\"name\"]\n",
    "df_raw"
   ]
  },
  {
   "cell_type": "code",
   "execution_count": 4,
   "id": "9af9b511",
   "metadata": {},
   "outputs": [],
   "source": [
    "# convert transaction date column to date format\n",
    "df_raw[\"trans_date\"] = pd.to_datetime(df_raw[\"trans_date\"]).dt.date\n",
    "\n",
    "# create make-model column\n",
    "df_raw[\"make_model\"] = df_raw[\"make\"] + \" \" + df_raw[\"model\"]"
   ]
  },
  {
   "cell_type": "code",
   "execution_count": 5,
   "outputs": [],
   "source": [
    "#clean data\n",
    "df_raw = df_raw[df_raw[\"state\"] == \"WA\"]"
   ],
   "metadata": {
    "collapsed": false
   }
  },
  {
   "cell_type": "code",
   "execution_count": 6,
   "id": "737d86ba",
   "metadata": {},
   "outputs": [],
   "source": [
    "df = df_raw.copy()\n",
    "# df = df[df[\"zip\"].isin([1262,98119,98144,99362,99403,99603])]"
   ]
  },
  {
   "cell_type": "code",
   "execution_count": 7,
   "outputs": [
    {
     "name": "stdout",
     "output_type": "stream",
     "text": [
      "2010-01-06\n",
      "2022-09-30\n",
      "1771\n",
      "1771\n"
     ]
    }
   ],
   "source": [
    "#see how recent the data is\n",
    "print(df[\"trans_date\"].min())\n",
    "print(df[\"trans_date\"].max())\n",
    "print(len(df[\"census_tract_2020\"].unique()))\n",
    "print(len(df[df[\"state\"]==\"WA\"][\"census_tract_2020\"].unique()))"
   ],
   "metadata": {
    "collapsed": false
   }
  },
  {
   "cell_type": "code",
   "execution_count": 8,
   "outputs": [
    {
     "data": {
      "text/plain": "[datetime.date(2011, 1, 31),\n datetime.date(2011, 2, 28),\n datetime.date(2011, 3, 31),\n datetime.date(2011, 4, 30),\n datetime.date(2011, 5, 31),\n datetime.date(2011, 6, 30),\n datetime.date(2011, 7, 31),\n datetime.date(2011, 8, 31),\n datetime.date(2011, 9, 30),\n datetime.date(2011, 10, 31),\n datetime.date(2011, 11, 30),\n datetime.date(2011, 12, 31),\n datetime.date(2012, 1, 31),\n datetime.date(2012, 2, 29),\n datetime.date(2012, 3, 31),\n datetime.date(2012, 4, 30),\n datetime.date(2012, 5, 31),\n datetime.date(2012, 6, 30),\n datetime.date(2012, 7, 31),\n datetime.date(2012, 8, 31),\n datetime.date(2012, 9, 30),\n datetime.date(2012, 10, 31),\n datetime.date(2012, 11, 30),\n datetime.date(2012, 12, 31),\n datetime.date(2013, 1, 31),\n datetime.date(2013, 2, 28),\n datetime.date(2013, 3, 31),\n datetime.date(2013, 4, 30),\n datetime.date(2013, 5, 31),\n datetime.date(2013, 6, 30),\n datetime.date(2013, 7, 31),\n datetime.date(2013, 8, 31),\n datetime.date(2013, 9, 30),\n datetime.date(2013, 10, 31),\n datetime.date(2013, 11, 30),\n datetime.date(2013, 12, 31),\n datetime.date(2014, 1, 31),\n datetime.date(2014, 2, 28),\n datetime.date(2014, 3, 31),\n datetime.date(2014, 4, 30),\n datetime.date(2014, 5, 31),\n datetime.date(2014, 6, 30),\n datetime.date(2014, 7, 31),\n datetime.date(2014, 8, 31),\n datetime.date(2014, 9, 30),\n datetime.date(2014, 10, 31),\n datetime.date(2014, 11, 30),\n datetime.date(2014, 12, 31),\n datetime.date(2015, 1, 31),\n datetime.date(2015, 2, 28),\n datetime.date(2015, 3, 31),\n datetime.date(2015, 4, 30),\n datetime.date(2015, 5, 31),\n datetime.date(2015, 6, 30),\n datetime.date(2015, 7, 31),\n datetime.date(2015, 8, 31),\n datetime.date(2015, 9, 30),\n datetime.date(2015, 10, 31),\n datetime.date(2015, 11, 30),\n datetime.date(2015, 12, 31),\n datetime.date(2016, 1, 31),\n datetime.date(2016, 2, 29),\n datetime.date(2016, 3, 31),\n datetime.date(2016, 4, 30),\n datetime.date(2016, 5, 31),\n datetime.date(2016, 6, 30),\n datetime.date(2016, 7, 31),\n datetime.date(2016, 8, 31),\n datetime.date(2016, 9, 30),\n datetime.date(2016, 10, 31),\n datetime.date(2016, 11, 30),\n datetime.date(2016, 12, 31),\n datetime.date(2017, 1, 31),\n datetime.date(2017, 2, 28),\n datetime.date(2017, 3, 31),\n datetime.date(2017, 4, 30),\n datetime.date(2017, 5, 31),\n datetime.date(2017, 6, 30),\n datetime.date(2017, 7, 31),\n datetime.date(2017, 8, 31),\n datetime.date(2017, 9, 30),\n datetime.date(2017, 10, 31),\n datetime.date(2017, 11, 30),\n datetime.date(2017, 12, 31),\n datetime.date(2018, 1, 31),\n datetime.date(2018, 2, 28),\n datetime.date(2018, 3, 31),\n datetime.date(2018, 4, 30),\n datetime.date(2018, 5, 31),\n datetime.date(2018, 6, 30),\n datetime.date(2018, 7, 31),\n datetime.date(2018, 8, 31),\n datetime.date(2018, 9, 30),\n datetime.date(2018, 10, 31),\n datetime.date(2018, 11, 30),\n datetime.date(2018, 12, 31),\n datetime.date(2019, 1, 31),\n datetime.date(2019, 2, 28),\n datetime.date(2019, 3, 31),\n datetime.date(2019, 4, 30),\n datetime.date(2019, 5, 31),\n datetime.date(2019, 6, 30),\n datetime.date(2019, 7, 31),\n datetime.date(2019, 8, 31),\n datetime.date(2019, 9, 30),\n datetime.date(2019, 10, 31),\n datetime.date(2019, 11, 30),\n datetime.date(2019, 12, 31),\n datetime.date(2020, 1, 31),\n datetime.date(2020, 2, 29),\n datetime.date(2020, 3, 31),\n datetime.date(2020, 4, 30),\n datetime.date(2020, 5, 31),\n datetime.date(2020, 6, 30),\n datetime.date(2020, 7, 31),\n datetime.date(2020, 8, 31),\n datetime.date(2020, 9, 30),\n datetime.date(2020, 10, 31),\n datetime.date(2020, 11, 30),\n datetime.date(2020, 12, 31),\n datetime.date(2021, 1, 31),\n datetime.date(2021, 2, 28),\n datetime.date(2021, 3, 31),\n datetime.date(2021, 4, 30),\n datetime.date(2021, 5, 31),\n datetime.date(2021, 6, 30),\n datetime.date(2021, 7, 31),\n datetime.date(2021, 8, 31),\n datetime.date(2021, 9, 30),\n datetime.date(2021, 10, 31),\n datetime.date(2021, 11, 30),\n datetime.date(2021, 12, 31),\n datetime.date(2022, 1, 31),\n datetime.date(2022, 2, 28),\n datetime.date(2022, 3, 31),\n datetime.date(2022, 4, 30),\n datetime.date(2022, 5, 31),\n datetime.date(2022, 6, 30),\n datetime.date(2022, 7, 31),\n datetime.date(2022, 8, 31),\n datetime.date(2022, 9, 30)]"
     },
     "execution_count": 8,
     "metadata": {},
     "output_type": "execute_result"
    }
   ],
   "source": [
    "times"
   ],
   "metadata": {
    "collapsed": false
   }
  },
  {
   "cell_type": "code",
   "execution_count": 15,
   "id": "a3735364",
   "metadata": {},
   "outputs": [],
   "source": [
    "# multiindex = pd.MultiIndex.from_product([times, zip_codes], names=[\"time\", \"zip\"])\n",
    "# multiindex = pd.MultiIndex.from_product([times, census_tracts_2020], names=[\"time\", \"census_tract_2020\"])\n",
    "columns = [\"n_ev\", \"n_bev\", \"n_phev\", \"m_ev\", \"m_bev\", \"m_phev\"]\n",
    "columns = [\"n_ev\", \"n_bev\", \"n_phev\", \"n_ev_new_sales\", \"n_bev_new_sales\", \"n_phev_new_sales\", \"n_ev_used_sales\", \"n_bev_used_sales\", \"n_phev_used_sales\", \"n_ev_renewals\", \"n_bev_renewals\", \"n_phev_renewals\", \"m_ev\", \"m_bev\", \"m_phev\"]"
   ]
  },
  {
   "cell_type": "code",
   "execution_count": 16,
   "outputs": [
    {
     "data": {
      "text/plain": "                              county zip_code countyFIPS  n_ev  n_bev  n_phev  \\\ntime       census_tract_2020                                                    \n2011-01-31 53001950100         Adams    99169      53001     0      0       0   \n           53001950200         Adams    99371      53001     0      0       0   \n           53001950301         Adams      NaN      53001     0      0       0   \n           53001950302         Adams      NaN      53001     0      0       0   \n           53001950303         Adams      NaN      53001     0      0       0   \n...                              ...      ...        ...   ...    ...     ...   \n2022-09-30 53077940003        Yakima    98903      53077     0      0       0   \n           53077940005        Yakima    98948      53077     0      0       0   \n           53077940006        Yakima    98948      53077     0      0       0   \n           53077940007        Yakima      NaN      53077     0      0       0   \n           53077940008        Yakima      NaN      53077     0      0       0   \n\n                              n_ev_new_sales  n_bev_new_sales  \\\ntime       census_tract_2020                                    \n2011-01-31 53001950100                     0                0   \n           53001950200                     0                0   \n           53001950301                     0                0   \n           53001950302                     0                0   \n           53001950303                     0                0   \n...                                      ...              ...   \n2022-09-30 53077940003                     0                0   \n           53077940005                     0                0   \n           53077940006                     0                0   \n           53077940007                     0                0   \n           53077940008                     0                0   \n\n                              n_phev_new_sales  n_ev_used_sales  \\\ntime       census_tract_2020                                      \n2011-01-31 53001950100                       0                0   \n           53001950200                       0                0   \n           53001950301                       0                0   \n           53001950302                       0                0   \n           53001950303                       0                0   \n...                                        ...              ...   \n2022-09-30 53077940003                       0                0   \n           53077940005                       0                0   \n           53077940006                       0                0   \n           53077940007                       0                0   \n           53077940008                       0                0   \n\n                              n_bev_used_sales  n_phev_used_sales  \\\ntime       census_tract_2020                                        \n2011-01-31 53001950100                       0                  0   \n           53001950200                       0                  0   \n           53001950301                       0                  0   \n           53001950302                       0                  0   \n           53001950303                       0                  0   \n...                                        ...                ...   \n2022-09-30 53077940003                       0                  0   \n           53077940005                       0                  0   \n           53077940006                       0                  0   \n           53077940007                       0                  0   \n           53077940008                       0                  0   \n\n                              n_ev_renewals  n_bev_renewals  n_phev_renewals  \\\ntime       census_tract_2020                                                   \n2011-01-31 53001950100                    0               0                0   \n           53001950200                    0               0                0   \n           53001950301                    0               0                0   \n           53001950302                    0               0                0   \n           53001950303                    0               0                0   \n...                                     ...             ...              ...   \n2022-09-30 53077940003                    0               0                0   \n           53077940005                    0               0                0   \n           53077940006                    0               0                0   \n           53077940007                    0               0                0   \n           53077940008                    0               0                0   \n\n                              m_ev  m_bev  m_phev  \ntime       census_tract_2020                       \n2011-01-31 53001950100           0      0       0  \n           53001950200           0      0       0  \n           53001950301           0      0       0  \n           53001950302           0      0       0  \n           53001950303           0      0       0  \n...                            ...    ...     ...  \n2022-09-30 53077940003           0      0       0  \n           53077940005           0      0       0  \n           53077940006           0      0       0  \n           53077940007           0      0       0  \n           53077940008           0      0       0  \n\n[251544 rows x 18 columns]",
      "text/html": "<div>\n<style scoped>\n    .dataframe tbody tr th:only-of-type {\n        vertical-align: middle;\n    }\n\n    .dataframe tbody tr th {\n        vertical-align: top;\n    }\n\n    .dataframe thead th {\n        text-align: right;\n    }\n</style>\n<table border=\"1\" class=\"dataframe\">\n  <thead>\n    <tr style=\"text-align: right;\">\n      <th></th>\n      <th></th>\n      <th>county</th>\n      <th>zip_code</th>\n      <th>countyFIPS</th>\n      <th>n_ev</th>\n      <th>n_bev</th>\n      <th>n_phev</th>\n      <th>n_ev_new_sales</th>\n      <th>n_bev_new_sales</th>\n      <th>n_phev_new_sales</th>\n      <th>n_ev_used_sales</th>\n      <th>n_bev_used_sales</th>\n      <th>n_phev_used_sales</th>\n      <th>n_ev_renewals</th>\n      <th>n_bev_renewals</th>\n      <th>n_phev_renewals</th>\n      <th>m_ev</th>\n      <th>m_bev</th>\n      <th>m_phev</th>\n    </tr>\n    <tr>\n      <th>time</th>\n      <th>census_tract_2020</th>\n      <th></th>\n      <th></th>\n      <th></th>\n      <th></th>\n      <th></th>\n      <th></th>\n      <th></th>\n      <th></th>\n      <th></th>\n      <th></th>\n      <th></th>\n      <th></th>\n      <th></th>\n      <th></th>\n      <th></th>\n      <th></th>\n      <th></th>\n      <th></th>\n    </tr>\n  </thead>\n  <tbody>\n    <tr>\n      <th rowspan=\"5\" valign=\"top\">2011-01-31</th>\n      <th>53001950100</th>\n      <td>Adams</td>\n      <td>99169</td>\n      <td>53001</td>\n      <td>0</td>\n      <td>0</td>\n      <td>0</td>\n      <td>0</td>\n      <td>0</td>\n      <td>0</td>\n      <td>0</td>\n      <td>0</td>\n      <td>0</td>\n      <td>0</td>\n      <td>0</td>\n      <td>0</td>\n      <td>0</td>\n      <td>0</td>\n      <td>0</td>\n    </tr>\n    <tr>\n      <th>53001950200</th>\n      <td>Adams</td>\n      <td>99371</td>\n      <td>53001</td>\n      <td>0</td>\n      <td>0</td>\n      <td>0</td>\n      <td>0</td>\n      <td>0</td>\n      <td>0</td>\n      <td>0</td>\n      <td>0</td>\n      <td>0</td>\n      <td>0</td>\n      <td>0</td>\n      <td>0</td>\n      <td>0</td>\n      <td>0</td>\n      <td>0</td>\n    </tr>\n    <tr>\n      <th>53001950301</th>\n      <td>Adams</td>\n      <td>NaN</td>\n      <td>53001</td>\n      <td>0</td>\n      <td>0</td>\n      <td>0</td>\n      <td>0</td>\n      <td>0</td>\n      <td>0</td>\n      <td>0</td>\n      <td>0</td>\n      <td>0</td>\n      <td>0</td>\n      <td>0</td>\n      <td>0</td>\n      <td>0</td>\n      <td>0</td>\n      <td>0</td>\n    </tr>\n    <tr>\n      <th>53001950302</th>\n      <td>Adams</td>\n      <td>NaN</td>\n      <td>53001</td>\n      <td>0</td>\n      <td>0</td>\n      <td>0</td>\n      <td>0</td>\n      <td>0</td>\n      <td>0</td>\n      <td>0</td>\n      <td>0</td>\n      <td>0</td>\n      <td>0</td>\n      <td>0</td>\n      <td>0</td>\n      <td>0</td>\n      <td>0</td>\n      <td>0</td>\n    </tr>\n    <tr>\n      <th>53001950303</th>\n      <td>Adams</td>\n      <td>NaN</td>\n      <td>53001</td>\n      <td>0</td>\n      <td>0</td>\n      <td>0</td>\n      <td>0</td>\n      <td>0</td>\n      <td>0</td>\n      <td>0</td>\n      <td>0</td>\n      <td>0</td>\n      <td>0</td>\n      <td>0</td>\n      <td>0</td>\n      <td>0</td>\n      <td>0</td>\n      <td>0</td>\n    </tr>\n    <tr>\n      <th>...</th>\n      <th>...</th>\n      <td>...</td>\n      <td>...</td>\n      <td>...</td>\n      <td>...</td>\n      <td>...</td>\n      <td>...</td>\n      <td>...</td>\n      <td>...</td>\n      <td>...</td>\n      <td>...</td>\n      <td>...</td>\n      <td>...</td>\n      <td>...</td>\n      <td>...</td>\n      <td>...</td>\n      <td>...</td>\n      <td>...</td>\n      <td>...</td>\n    </tr>\n    <tr>\n      <th rowspan=\"5\" valign=\"top\">2022-09-30</th>\n      <th>53077940003</th>\n      <td>Yakima</td>\n      <td>98903</td>\n      <td>53077</td>\n      <td>0</td>\n      <td>0</td>\n      <td>0</td>\n      <td>0</td>\n      <td>0</td>\n      <td>0</td>\n      <td>0</td>\n      <td>0</td>\n      <td>0</td>\n      <td>0</td>\n      <td>0</td>\n      <td>0</td>\n      <td>0</td>\n      <td>0</td>\n      <td>0</td>\n    </tr>\n    <tr>\n      <th>53077940005</th>\n      <td>Yakima</td>\n      <td>98948</td>\n      <td>53077</td>\n      <td>0</td>\n      <td>0</td>\n      <td>0</td>\n      <td>0</td>\n      <td>0</td>\n      <td>0</td>\n      <td>0</td>\n      <td>0</td>\n      <td>0</td>\n      <td>0</td>\n      <td>0</td>\n      <td>0</td>\n      <td>0</td>\n      <td>0</td>\n      <td>0</td>\n    </tr>\n    <tr>\n      <th>53077940006</th>\n      <td>Yakima</td>\n      <td>98948</td>\n      <td>53077</td>\n      <td>0</td>\n      <td>0</td>\n      <td>0</td>\n      <td>0</td>\n      <td>0</td>\n      <td>0</td>\n      <td>0</td>\n      <td>0</td>\n      <td>0</td>\n      <td>0</td>\n      <td>0</td>\n      <td>0</td>\n      <td>0</td>\n      <td>0</td>\n      <td>0</td>\n    </tr>\n    <tr>\n      <th>53077940007</th>\n      <td>Yakima</td>\n      <td>NaN</td>\n      <td>53077</td>\n      <td>0</td>\n      <td>0</td>\n      <td>0</td>\n      <td>0</td>\n      <td>0</td>\n      <td>0</td>\n      <td>0</td>\n      <td>0</td>\n      <td>0</td>\n      <td>0</td>\n      <td>0</td>\n      <td>0</td>\n      <td>0</td>\n      <td>0</td>\n      <td>0</td>\n    </tr>\n    <tr>\n      <th>53077940008</th>\n      <td>Yakima</td>\n      <td>NaN</td>\n      <td>53077</td>\n      <td>0</td>\n      <td>0</td>\n      <td>0</td>\n      <td>0</td>\n      <td>0</td>\n      <td>0</td>\n      <td>0</td>\n      <td>0</td>\n      <td>0</td>\n      <td>0</td>\n      <td>0</td>\n      <td>0</td>\n      <td>0</td>\n      <td>0</td>\n      <td>0</td>\n    </tr>\n  </tbody>\n</table>\n<p>251544 rows × 18 columns</p>\n</div>"
     },
     "execution_count": 16,
     "metadata": {},
     "output_type": "execute_result"
    }
   ],
   "source": [
    "# create final dataframe and add county and ZIP code column to it\n",
    "# times_data = [u.get_last_day_of_month(dt.datetime(year=y, month=m, day=20)) for y in range(2017,2023) for m in range(1,13)][:-3]\n",
    "final_df = u.create_empty_df(times, census_tracts_2020, \"census_tract_2020\")\n",
    "final_df[columns] = 0\n",
    "final_df"
   ],
   "metadata": {
    "collapsed": false
   }
  },
  {
   "cell_type": "code",
   "execution_count": 17,
   "outputs": [],
   "source": [
    "final_df_empty = final_df.copy()"
   ],
   "metadata": {
    "collapsed": false
   }
  },
  {
   "cell_type": "code",
   "execution_count": null,
   "outputs": [],
   "source": [
    "final_df = final_df_empty.copy()"
   ],
   "metadata": {
    "collapsed": false
   }
  },
  {
   "cell_type": "code",
   "execution_count": 12,
   "outputs": [
    {
     "data": {
      "text/plain": "(251544, 18)"
     },
     "execution_count": 12,
     "metadata": {},
     "output_type": "execute_result"
    }
   ],
   "source": [
    "final_df[\"zip_code\"].isna().sum()\n",
    "final_df.shape"
   ],
   "metadata": {
    "collapsed": false
   }
  },
  {
   "cell_type": "code",
   "execution_count": 23,
   "id": "7cbd7b70",
   "metadata": {},
   "outputs": [
    {
     "name": "stdout",
     "output_type": "stream",
     "text": [
      "2017-01-31 2017-02-28 2017-03-31 2017-04-30 2017-05-31 2017-06-30 2017-07-31 2017-08-31 2017-09-30 2017-10-31 2017-11-30 2017-12-31 2018-01-31 2018-02-28 2018-03-31 2018-04-30 2018-05-31 2018-06-30 2018-07-31 2018-08-31 2018-09-30 2018-10-31 2018-11-30 2018-12-31 2019-01-31 2019-02-28 2019-03-31 2019-04-30 2019-05-31 2019-06-30 2019-07-31 2019-08-31 2019-09-30 2019-10-31 2019-11-30 2019-12-31 2020-01-31 2020-02-29 2020-03-31 2020-04-30 2020-05-31 2020-06-30 2020-07-31 2020-08-31 2020-09-30 2020-10-31 2020-11-30 2020-12-31 2021-01-31 2021-02-28 2021-03-31 2021-04-30 2021-05-31 2021-06-30 2021-07-31 2021-08-31 2021-09-30 2021-10-31 2021-11-30 2021-12-31 2022-01-31 2022-02-28 2022-03-31 2022-04-30 2022-05-31 2022-06-30 2022-07-31 2022-08-31 2022-09-30 done\n"
     ]
    }
   ],
   "source": [
    "# Method: Count \"Original Registration\"s and \"Registration Renewal\"s within the past year for each date\n",
    "final_df[columns] = 0\n",
    "# dff = df.loc[df[\"trans_type\"].isin([\"Original Registration\", \"Registration Renewal\"])]\n",
    "dff = df\n",
    "# for time in times:\n",
    "for time in times[12*6:]:\n",
    "    print(time, \"\", end=\"\")\n",
    "    \n",
    "    # dfff = dff.loc[(dff[\"trans_date\"] > time-pd.Timedelta(days=365)) & (dff[\"trans_date\"] < time)]\n",
    "    dfff = dff.loc[(dff[\"trans_date\"] > dt.datetime(time.year-1, time.month, time.day-1).date()) & (dff[\"trans_date\"] < time)]\n",
    "\n",
    "    #EV counts\n",
    "    n_ev = dfff.groupby(\"census_tract_2020\").size()\n",
    "    n_bev = dfff.loc[dff[\"ev_type\"] == \"Battery Electric Vehicle (BEV)\"].groupby(\"census_tract_2020\").size()\n",
    "    n_phev = dfff.loc[dff[\"ev_type\"] == \"Plug-in Hybrid Electric Vehicle (PHEV)\"].groupby(\"census_tract_2020\").size()\n",
    "\n",
    "    #vehicle count (0.0015s*12*10000=3min)\n",
    "    # n_veh = dfff.groupby(\"census_tract\")[\"vehicle_record_count\"].sum()\n",
    "\n",
    "    n_ev_new_sales = dfff.loc[(dfff[\"trans_date\"] >= dt.datetime(time.year, time.month, 1).date()) & (dfff[\"trans_type\"] == \"Original Registration\")].groupby(\"census_tract_2020\").size()\n",
    "    n_ev_used_sales = dfff.loc[(dfff[\"trans_date\"] >= dt.datetime(time.year, time.month, 1).date()) & (dfff[\"trans_type\"] == \"Registration at Time of Transfer\")].groupby(\"census_tract_2020\").size()\n",
    "    n_ev_renewals = dfff.loc[(dfff[\"trans_date\"] >= dt.datetime(time.year, time.month, 1).date()) & (dfff[\"trans_type\"] == \"Registration Renewal\")].groupby(\"census_tract_2020\").size()\n",
    "\n",
    "    n_bev_new_sales = dfff.loc[(dfff[\"trans_date\"] >= dt.datetime(time.year, time.month, 1).date()) & (dfff[\"trans_type\"] == \"Original Registration\") & (dff[\"ev_type\"] == \"Battery Electric Vehicle (BEV)\")].groupby(\"census_tract_2020\").size()\n",
    "    n_bev_used_sales = dfff.loc[(dfff[\"trans_date\"] >= dt.datetime(time.year, time.month, 1).date()) & (dfff[\"trans_type\"] == \"Registration at Time of Transfer\") & (dff[\"ev_type\"] == \"Battery Electric Vehicle (BEV)\")].groupby(\"census_tract_2020\").size()\n",
    "    n_bev_renewals = dfff.loc[(dfff[\"trans_date\"] >= dt.datetime(time.year, time.month, 1).date()) & (dfff[\"trans_type\"] == \"Registration Renewal\") & (dff[\"ev_type\"] == \"Battery Electric Vehicle (BEV)\")].groupby(\"census_tract_2020\").size()\n",
    "\n",
    "    n_phev_new_sales = dfff.loc[(dfff[\"trans_date\"] >= dt.datetime(time.year, time.month, 1).date()) & (dfff[\"trans_type\"] == \"Original Registration\") & (dff[\"ev_type\"] == \"Plug-in Hybrid Electric Vehicle (PHEV)\")].groupby(\"census_tract_2020\").size()\n",
    "    n_phev_used_sales = dfff.loc[(dfff[\"trans_date\"] >= dt.datetime(time.year, time.month, 1).date()) & (dfff[\"trans_type\"] == \"Registration at Time of Transfer\") & (dff[\"ev_type\"] == \"Plug-in Hybrid Electric Vehicle (PHEV)\")].groupby(\"census_tract_2020\").size()\n",
    "    n_phev_renewals = dfff.loc[(dfff[\"trans_date\"] >= dt.datetime(time.year, time.month, 1).date()) & (dfff[\"trans_type\"] == \"Registration Renewal\") & (dff[\"ev_type\"] == \"Plug-in Hybrid Electric Vehicle (PHEV)\")].groupby(\"census_tract_2020\").size()\n",
    "\n",
    "\n",
    "    #product variety (no. of different EV models)\n",
    "    m_ev = len(dfff[\"make_model\"].unique())\n",
    "    m_bev = len(dfff.loc[dff[\"ev_type\"] == \"Battery Electric Vehicle (BEV)\", \"make_model\"].unique())\n",
    "    m_phev = len(dfff.loc[dff[\"ev_type\"] == \"Plug-in Hybrid Electric Vehicle (PHEV)\", \"make_model\"].unique())\n",
    "    \n",
    "    # for zip_code in zip_codes:\n",
    "    #     if zip_code in n_ev.index:\n",
    "    #         final_df.loc[time, zip_code][\"n_ev\"] = n_ev[zip_code]\n",
    "    #     if zip_code in n_bev.index:\n",
    "    #         final_df.loc[time, zip_code][\"n_bev\"] = n_bev[zip_code]\n",
    "    #     if zip_code in n_phev.index:\n",
    "    #         final_df.loc[time, zip_code][\"n_phev\"] = n_phev[zip_code]\n",
    "    #     final_df.loc[time, zip_code][\"m_ev\"] = m_ev\n",
    "    #     final_df.loc[time, zip_code][\"m_bev\"] = m_bev\n",
    "    #     final_df.loc[time, zip_code][\"m_phev\"] = m_phev\n",
    "\n",
    "    \"\"\"\n",
    "    for census_tract in census_tracts_2020:\n",
    "        if census_tract in n_ev.index:\n",
    "            final_df.loc[time, census_tract][\"n_ev\"] = n_ev[census_tract]\n",
    "        if census_tract in n_bev.index:\n",
    "            final_df.loc[time, census_tract][\"n_bev\"] = n_bev[census_tract]\n",
    "        if census_tract in n_phev.index:\n",
    "            final_df.loc[time, census_tract][\"n_phev\"] = n_phev[census_tract]\n",
    "        final_df.loc[time, census_tract][\"m_ev\"] = m_ev\n",
    "        final_df.loc[time, census_tract][\"m_bev\"] = m_bev\n",
    "        final_df.loc[time, census_tract][\"m_phev\"] = m_phev\n",
    "    #\"\"\"\n",
    "\n",
    "    # \"\"\"\n",
    "    # if len(n_veh) > 0:\n",
    "        # n_veh = n_veh.loc[pd.Index(census_tracts_2020)]\n",
    "        # print(n_veh)\n",
    "        # start = timeit.default_timer()\n",
    "    n_ev = n_ev.filter(items=census_tracts_2020, axis=0)\n",
    "    n_bev = n_bev.filter(items=census_tracts_2020, axis=0)\n",
    "    n_phev = n_phev.filter(items=census_tracts_2020, axis=0)\n",
    "    n_ev_new_sales = n_ev_new_sales.filter(items=census_tracts_2020, axis=0)\n",
    "    n_bev_new_sales = n_bev_new_sales.filter(items=census_tracts_2020, axis=0)\n",
    "    n_phev_new_sales = n_phev_new_sales.filter(items=census_tracts_2020, axis=0)\n",
    "    n_ev_used_sales = n_ev_used_sales.filter(items=census_tracts_2020, axis=0)\n",
    "    n_bev_used_sales = n_bev_used_sales.filter(items=census_tracts_2020, axis=0)\n",
    "    n_phev_used_sales = n_phev_used_sales.filter(items=census_tracts_2020, axis=0)\n",
    "    n_ev_renewals = n_ev_renewals.filter(items=census_tracts_2020, axis=0)\n",
    "    n_bev_renewals = n_bev_renewals.filter(items=census_tracts_2020, axis=0)\n",
    "    n_phev_renewals = n_phev_renewals.filter(items=census_tracts_2020, axis=0)\n",
    "\n",
    "    final_df.loc[(time, slice(None)), \"n_ev\"] = final_df[\"n_ev\"].add(n_ev, fill_value=0)\n",
    "    final_df.loc[(time, slice(None)), \"n_bev\"] = final_df[\"n_bev\"].add(n_bev, fill_value=0)\n",
    "    final_df.loc[(time, slice(None)), \"n_phev\"] = final_df[\"n_phev\"].add(n_phev, fill_value=0)\n",
    "    final_df.loc[(time, slice(None)), \"n_ev_new_sales\"] = final_df[\"n_ev_new_sales\"].add(n_ev, fill_value=0)\n",
    "    final_df.loc[(time, slice(None)), \"n_bev_new_sales\"] = final_df[\"n_bev_new_sales\"].add(n_bev, fill_value=0)\n",
    "    final_df.loc[(time, slice(None)), \"n_phev_new_sales\"] = final_df[\"n_phev_new_sales\"].add(n_phev, fill_value=0)\n",
    "    final_df.loc[(time, slice(None)), \"n_ev_used_sales\"] = final_df[\"n_ev_used_sales\"].add(n_ev, fill_value=0)\n",
    "    final_df.loc[(time, slice(None)), \"n_bev_used_sales\"] = final_df[\"n_bev_used_sales\"].add(n_bev, fill_value=0)\n",
    "    final_df.loc[(time, slice(None)), \"n_phev_used_sales\"] = final_df[\"n_phev_used_sales\"].add(n_phev, fill_value=0)\n",
    "    final_df.loc[(time, slice(None)), \"n_ev_renewals\"] = final_df[\"n_ev_renewals\"].add(n_ev, fill_value=0)\n",
    "    final_df.loc[(time, slice(None)), \"n_bev_renewals\"] = final_df[\"n_bev_renewals\"].add(n_bev, fill_value=0)\n",
    "    final_df.loc[(time, slice(None)), \"n_phev_renewals\"] = final_df[\"n_phev_renewals\"].add(n_phev, fill_value=0)\n",
    "\n",
    "    final_df.loc[(time, slice(None)), \"m_ev\"] = m_ev\n",
    "    final_df.loc[(time, slice(None)), \"m_bev\"] = m_bev\n",
    "    final_df.loc[(time, slice(None)), \"m_phev\"] = m_phev\n",
    "    #\"\"\"\n",
    "\n",
    "final_df[columns] = final_df[columns].astype(int)\n",
    "final_df[\"zip_code\"] = final_df[\"zip_code\"].convert_dtypes()\n",
    "final_df[columns] = final_df[columns].replace({0: None})\n",
    "\n",
    "print(\"done\")"
   ]
  },
  {
   "cell_type": "code",
   "execution_count": 24,
   "id": "99978782",
   "metadata": {},
   "outputs": [
    {
     "data": {
      "text/plain": "                              county  zip_code countyFIPS  n_ev n_bev n_phev  \\\ntime       census_tract_2020                                                   \n2011-01-31 53001950100         Adams     99169      53001  None  None   None   \n           53001950200         Adams     99371      53001  None  None   None   \n           53001950301         Adams      <NA>      53001  None  None   None   \n           53001950302         Adams      <NA>      53001  None  None   None   \n           53001950303         Adams      <NA>      53001  None  None   None   \n...                              ...       ...        ...   ...   ...    ...   \n2022-09-30 53077940003        Yakima     98903      53077     6     2      4   \n           53077940005        Yakima     98948      53077     2     2   None   \n           53077940006        Yakima     98948      53077     2     2   None   \n           53077940007        Yakima      <NA>      53077     1     1   None   \n           53077940008        Yakima      <NA>      53077     1     1   None   \n\n                             n_ev_new_sales n_bev_new_sales n_phev_new_sales  \\\ntime       census_tract_2020                                                   \n2011-01-31 53001950100                 None            None             None   \n           53001950200                 None            None             None   \n           53001950301                 None            None             None   \n           53001950302                 None            None             None   \n           53001950303                 None            None             None   \n...                                     ...             ...              ...   \n2022-09-30 53077940003                    6               2                4   \n           53077940005                    2               2             None   \n           53077940006                    2               2             None   \n           53077940007                    1               1             None   \n           53077940008                    1               1             None   \n\n                             n_ev_used_sales n_bev_used_sales  \\\ntime       census_tract_2020                                    \n2011-01-31 53001950100                  None             None   \n           53001950200                  None             None   \n           53001950301                  None             None   \n           53001950302                  None             None   \n           53001950303                  None             None   \n...                                      ...              ...   \n2022-09-30 53077940003                     6                2   \n           53077940005                     2                2   \n           53077940006                     2                2   \n           53077940007                     1                1   \n           53077940008                     1                1   \n\n                             n_phev_used_sales n_ev_renewals n_bev_renewals  \\\ntime       census_tract_2020                                                  \n2011-01-31 53001950100                    None          None           None   \n           53001950200                    None          None           None   \n           53001950301                    None          None           None   \n           53001950302                    None          None           None   \n           53001950303                    None          None           None   \n...                                        ...           ...            ...   \n2022-09-30 53077940003                       4             6              2   \n           53077940005                    None             2              2   \n           53077940006                    None             2              2   \n           53077940007                    None             1              1   \n           53077940008                    None             1              1   \n\n                             n_phev_renewals  m_ev m_bev m_phev  \ntime       census_tract_2020                                     \n2011-01-31 53001950100                  None  None  None   None  \n           53001950200                  None  None  None   None  \n           53001950301                  None  None  None   None  \n           53001950302                  None  None  None   None  \n           53001950303                  None  None  None   None  \n...                                      ...   ...   ...    ...  \n2022-09-30 53077940003                     4   121    60     64  \n           53077940005                  None   121    60     64  \n           53077940006                  None   121    60     64  \n           53077940007                  None   121    60     64  \n           53077940008                  None   121    60     64  \n\n[251544 rows x 18 columns]",
      "text/html": "<div>\n<style scoped>\n    .dataframe tbody tr th:only-of-type {\n        vertical-align: middle;\n    }\n\n    .dataframe tbody tr th {\n        vertical-align: top;\n    }\n\n    .dataframe thead th {\n        text-align: right;\n    }\n</style>\n<table border=\"1\" class=\"dataframe\">\n  <thead>\n    <tr style=\"text-align: right;\">\n      <th></th>\n      <th></th>\n      <th>county</th>\n      <th>zip_code</th>\n      <th>countyFIPS</th>\n      <th>n_ev</th>\n      <th>n_bev</th>\n      <th>n_phev</th>\n      <th>n_ev_new_sales</th>\n      <th>n_bev_new_sales</th>\n      <th>n_phev_new_sales</th>\n      <th>n_ev_used_sales</th>\n      <th>n_bev_used_sales</th>\n      <th>n_phev_used_sales</th>\n      <th>n_ev_renewals</th>\n      <th>n_bev_renewals</th>\n      <th>n_phev_renewals</th>\n      <th>m_ev</th>\n      <th>m_bev</th>\n      <th>m_phev</th>\n    </tr>\n    <tr>\n      <th>time</th>\n      <th>census_tract_2020</th>\n      <th></th>\n      <th></th>\n      <th></th>\n      <th></th>\n      <th></th>\n      <th></th>\n      <th></th>\n      <th></th>\n      <th></th>\n      <th></th>\n      <th></th>\n      <th></th>\n      <th></th>\n      <th></th>\n      <th></th>\n      <th></th>\n      <th></th>\n      <th></th>\n    </tr>\n  </thead>\n  <tbody>\n    <tr>\n      <th rowspan=\"5\" valign=\"top\">2011-01-31</th>\n      <th>53001950100</th>\n      <td>Adams</td>\n      <td>99169</td>\n      <td>53001</td>\n      <td>None</td>\n      <td>None</td>\n      <td>None</td>\n      <td>None</td>\n      <td>None</td>\n      <td>None</td>\n      <td>None</td>\n      <td>None</td>\n      <td>None</td>\n      <td>None</td>\n      <td>None</td>\n      <td>None</td>\n      <td>None</td>\n      <td>None</td>\n      <td>None</td>\n    </tr>\n    <tr>\n      <th>53001950200</th>\n      <td>Adams</td>\n      <td>99371</td>\n      <td>53001</td>\n      <td>None</td>\n      <td>None</td>\n      <td>None</td>\n      <td>None</td>\n      <td>None</td>\n      <td>None</td>\n      <td>None</td>\n      <td>None</td>\n      <td>None</td>\n      <td>None</td>\n      <td>None</td>\n      <td>None</td>\n      <td>None</td>\n      <td>None</td>\n      <td>None</td>\n    </tr>\n    <tr>\n      <th>53001950301</th>\n      <td>Adams</td>\n      <td>&lt;NA&gt;</td>\n      <td>53001</td>\n      <td>None</td>\n      <td>None</td>\n      <td>None</td>\n      <td>None</td>\n      <td>None</td>\n      <td>None</td>\n      <td>None</td>\n      <td>None</td>\n      <td>None</td>\n      <td>None</td>\n      <td>None</td>\n      <td>None</td>\n      <td>None</td>\n      <td>None</td>\n      <td>None</td>\n    </tr>\n    <tr>\n      <th>53001950302</th>\n      <td>Adams</td>\n      <td>&lt;NA&gt;</td>\n      <td>53001</td>\n      <td>None</td>\n      <td>None</td>\n      <td>None</td>\n      <td>None</td>\n      <td>None</td>\n      <td>None</td>\n      <td>None</td>\n      <td>None</td>\n      <td>None</td>\n      <td>None</td>\n      <td>None</td>\n      <td>None</td>\n      <td>None</td>\n      <td>None</td>\n      <td>None</td>\n    </tr>\n    <tr>\n      <th>53001950303</th>\n      <td>Adams</td>\n      <td>&lt;NA&gt;</td>\n      <td>53001</td>\n      <td>None</td>\n      <td>None</td>\n      <td>None</td>\n      <td>None</td>\n      <td>None</td>\n      <td>None</td>\n      <td>None</td>\n      <td>None</td>\n      <td>None</td>\n      <td>None</td>\n      <td>None</td>\n      <td>None</td>\n      <td>None</td>\n      <td>None</td>\n      <td>None</td>\n    </tr>\n    <tr>\n      <th>...</th>\n      <th>...</th>\n      <td>...</td>\n      <td>...</td>\n      <td>...</td>\n      <td>...</td>\n      <td>...</td>\n      <td>...</td>\n      <td>...</td>\n      <td>...</td>\n      <td>...</td>\n      <td>...</td>\n      <td>...</td>\n      <td>...</td>\n      <td>...</td>\n      <td>...</td>\n      <td>...</td>\n      <td>...</td>\n      <td>...</td>\n      <td>...</td>\n    </tr>\n    <tr>\n      <th rowspan=\"5\" valign=\"top\">2022-09-30</th>\n      <th>53077940003</th>\n      <td>Yakima</td>\n      <td>98903</td>\n      <td>53077</td>\n      <td>6</td>\n      <td>2</td>\n      <td>4</td>\n      <td>6</td>\n      <td>2</td>\n      <td>4</td>\n      <td>6</td>\n      <td>2</td>\n      <td>4</td>\n      <td>6</td>\n      <td>2</td>\n      <td>4</td>\n      <td>121</td>\n      <td>60</td>\n      <td>64</td>\n    </tr>\n    <tr>\n      <th>53077940005</th>\n      <td>Yakima</td>\n      <td>98948</td>\n      <td>53077</td>\n      <td>2</td>\n      <td>2</td>\n      <td>None</td>\n      <td>2</td>\n      <td>2</td>\n      <td>None</td>\n      <td>2</td>\n      <td>2</td>\n      <td>None</td>\n      <td>2</td>\n      <td>2</td>\n      <td>None</td>\n      <td>121</td>\n      <td>60</td>\n      <td>64</td>\n    </tr>\n    <tr>\n      <th>53077940006</th>\n      <td>Yakima</td>\n      <td>98948</td>\n      <td>53077</td>\n      <td>2</td>\n      <td>2</td>\n      <td>None</td>\n      <td>2</td>\n      <td>2</td>\n      <td>None</td>\n      <td>2</td>\n      <td>2</td>\n      <td>None</td>\n      <td>2</td>\n      <td>2</td>\n      <td>None</td>\n      <td>121</td>\n      <td>60</td>\n      <td>64</td>\n    </tr>\n    <tr>\n      <th>53077940007</th>\n      <td>Yakima</td>\n      <td>&lt;NA&gt;</td>\n      <td>53077</td>\n      <td>1</td>\n      <td>1</td>\n      <td>None</td>\n      <td>1</td>\n      <td>1</td>\n      <td>None</td>\n      <td>1</td>\n      <td>1</td>\n      <td>None</td>\n      <td>1</td>\n      <td>1</td>\n      <td>None</td>\n      <td>121</td>\n      <td>60</td>\n      <td>64</td>\n    </tr>\n    <tr>\n      <th>53077940008</th>\n      <td>Yakima</td>\n      <td>&lt;NA&gt;</td>\n      <td>53077</td>\n      <td>1</td>\n      <td>1</td>\n      <td>None</td>\n      <td>1</td>\n      <td>1</td>\n      <td>None</td>\n      <td>1</td>\n      <td>1</td>\n      <td>None</td>\n      <td>1</td>\n      <td>1</td>\n      <td>None</td>\n      <td>121</td>\n      <td>60</td>\n      <td>64</td>\n    </tr>\n  </tbody>\n</table>\n<p>251544 rows × 18 columns</p>\n</div>"
     },
     "execution_count": 24,
     "metadata": {},
     "output_type": "execute_result"
    }
   ],
   "source": [
    "final_df"
   ]
  },
  {
   "cell_type": "code",
   "execution_count": 25,
   "id": "31fb62aa",
   "metadata": {},
   "outputs": [],
   "source": [
    "# save resulting dataframe to file\n",
    "# final_df.to_csv(\"data/vehicles/ev_counts.csv\")\n",
    "final_df.to_csv(\"data/vehicles/ev_counts_.csv\")"
   ]
  },
  {
   "cell_type": "code",
   "execution_count": null,
   "outputs": [],
   "source": [],
   "metadata": {
    "collapsed": false
   }
  },
  {
   "cell_type": "code",
   "execution_count": 27,
   "outputs": [
    {
     "data": {
      "text/plain": "                              n_ev  n_bev  n_phev  n_ev_new_sales  \\\ntime       census_tract_2010                                        \n2011-01-31 53001950100           0      0       0               0   \n           53001950200           0      0       0               0   \n           53001950300           0      0       0               0   \n           53001950400           0      0       0               0   \n           53001950500           0      0       0               0   \n...                            ...    ...     ...             ...   \n2022-09-30 53077940002           6      4       2               6   \n           53077940003           6      2       4               6   \n           53077940004           2      2       0               2   \n           53077940005           2      2       0               2   \n           53077940006           2      2       0               2   \n\n                              n_bev_new_sales  n_phev_new_sales  \\\ntime       census_tract_2010                                      \n2011-01-31 53001950100                      0                 0   \n           53001950200                      0                 0   \n           53001950300                      0                 0   \n           53001950400                      0                 0   \n           53001950500                      0                 0   \n...                                       ...               ...   \n2022-09-30 53077940002                      4                 2   \n           53077940003                      2                 4   \n           53077940004                      2                 0   \n           53077940005                      2                 0   \n           53077940006                      2                 0   \n\n                              n_ev_used_sales  n_bev_used_sales  \\\ntime       census_tract_2010                                      \n2011-01-31 53001950100                      0                 0   \n           53001950200                      0                 0   \n           53001950300                      0                 0   \n           53001950400                      0                 0   \n           53001950500                      0                 0   \n...                                       ...               ...   \n2022-09-30 53077940002                      6                 4   \n           53077940003                      6                 2   \n           53077940004                      2                 2   \n           53077940005                      2                 2   \n           53077940006                      2                 2   \n\n                              n_phev_used_sales  n_ev_renewals  \\\ntime       census_tract_2010                                     \n2011-01-31 53001950100                        0              0   \n           53001950200                        0              0   \n           53001950300                        0              0   \n           53001950400                        0              0   \n           53001950500                        0              0   \n...                                         ...            ...   \n2022-09-30 53077940002                        2              6   \n           53077940003                        4              6   \n           53077940004                        0              2   \n           53077940005                        0              2   \n           53077940006                        0              2   \n\n                              n_bev_renewals  n_phev_renewals   m_ev  m_bev  \\\ntime       census_tract_2010                                                  \n2011-01-31 53001950100                     0                0    0.0    0.0   \n           53001950200                     0                0    0.0    0.0   \n           53001950300                     0                0    0.0    0.0   \n           53001950400                     0                0    0.0    0.0   \n           53001950500                     0                0    0.0    0.0   \n...                                      ...              ...    ...    ...   \n2022-09-30 53077940002                     4                2  121.0   60.0   \n           53077940003                     2                4  121.0   60.0   \n           53077940004                     2                0  121.0   60.0   \n           53077940005                     2                0  121.0   60.0   \n           53077940006                     2                0  121.0   60.0   \n\n                              m_phev  \ntime       census_tract_2010          \n2011-01-31 53001950100           0.0  \n           53001950200           0.0  \n           53001950300           0.0  \n           53001950400           0.0  \n           53001950500           0.0  \n...                              ...  \n2022-09-30 53077940002          64.0  \n           53077940003          64.0  \n           53077940004          64.0  \n           53077940005          64.0  \n           53077940006          64.0  \n\n[205437 rows x 15 columns]",
      "text/html": "<div>\n<style scoped>\n    .dataframe tbody tr th:only-of-type {\n        vertical-align: middle;\n    }\n\n    .dataframe tbody tr th {\n        vertical-align: top;\n    }\n\n    .dataframe thead th {\n        text-align: right;\n    }\n</style>\n<table border=\"1\" class=\"dataframe\">\n  <thead>\n    <tr style=\"text-align: right;\">\n      <th></th>\n      <th></th>\n      <th>n_ev</th>\n      <th>n_bev</th>\n      <th>n_phev</th>\n      <th>n_ev_new_sales</th>\n      <th>n_bev_new_sales</th>\n      <th>n_phev_new_sales</th>\n      <th>n_ev_used_sales</th>\n      <th>n_bev_used_sales</th>\n      <th>n_phev_used_sales</th>\n      <th>n_ev_renewals</th>\n      <th>n_bev_renewals</th>\n      <th>n_phev_renewals</th>\n      <th>m_ev</th>\n      <th>m_bev</th>\n      <th>m_phev</th>\n    </tr>\n    <tr>\n      <th>time</th>\n      <th>census_tract_2010</th>\n      <th></th>\n      <th></th>\n      <th></th>\n      <th></th>\n      <th></th>\n      <th></th>\n      <th></th>\n      <th></th>\n      <th></th>\n      <th></th>\n      <th></th>\n      <th></th>\n      <th></th>\n      <th></th>\n      <th></th>\n    </tr>\n  </thead>\n  <tbody>\n    <tr>\n      <th rowspan=\"5\" valign=\"top\">2011-01-31</th>\n      <th>53001950100</th>\n      <td>0</td>\n      <td>0</td>\n      <td>0</td>\n      <td>0</td>\n      <td>0</td>\n      <td>0</td>\n      <td>0</td>\n      <td>0</td>\n      <td>0</td>\n      <td>0</td>\n      <td>0</td>\n      <td>0</td>\n      <td>0.0</td>\n      <td>0.0</td>\n      <td>0.0</td>\n    </tr>\n    <tr>\n      <th>53001950200</th>\n      <td>0</td>\n      <td>0</td>\n      <td>0</td>\n      <td>0</td>\n      <td>0</td>\n      <td>0</td>\n      <td>0</td>\n      <td>0</td>\n      <td>0</td>\n      <td>0</td>\n      <td>0</td>\n      <td>0</td>\n      <td>0.0</td>\n      <td>0.0</td>\n      <td>0.0</td>\n    </tr>\n    <tr>\n      <th>53001950300</th>\n      <td>0</td>\n      <td>0</td>\n      <td>0</td>\n      <td>0</td>\n      <td>0</td>\n      <td>0</td>\n      <td>0</td>\n      <td>0</td>\n      <td>0</td>\n      <td>0</td>\n      <td>0</td>\n      <td>0</td>\n      <td>0.0</td>\n      <td>0.0</td>\n      <td>0.0</td>\n    </tr>\n    <tr>\n      <th>53001950400</th>\n      <td>0</td>\n      <td>0</td>\n      <td>0</td>\n      <td>0</td>\n      <td>0</td>\n      <td>0</td>\n      <td>0</td>\n      <td>0</td>\n      <td>0</td>\n      <td>0</td>\n      <td>0</td>\n      <td>0</td>\n      <td>0.0</td>\n      <td>0.0</td>\n      <td>0.0</td>\n    </tr>\n    <tr>\n      <th>53001950500</th>\n      <td>0</td>\n      <td>0</td>\n      <td>0</td>\n      <td>0</td>\n      <td>0</td>\n      <td>0</td>\n      <td>0</td>\n      <td>0</td>\n      <td>0</td>\n      <td>0</td>\n      <td>0</td>\n      <td>0</td>\n      <td>0.0</td>\n      <td>0.0</td>\n      <td>0.0</td>\n    </tr>\n    <tr>\n      <th>...</th>\n      <th>...</th>\n      <td>...</td>\n      <td>...</td>\n      <td>...</td>\n      <td>...</td>\n      <td>...</td>\n      <td>...</td>\n      <td>...</td>\n      <td>...</td>\n      <td>...</td>\n      <td>...</td>\n      <td>...</td>\n      <td>...</td>\n      <td>...</td>\n      <td>...</td>\n      <td>...</td>\n    </tr>\n    <tr>\n      <th rowspan=\"5\" valign=\"top\">2022-09-30</th>\n      <th>53077940002</th>\n      <td>6</td>\n      <td>4</td>\n      <td>2</td>\n      <td>6</td>\n      <td>4</td>\n      <td>2</td>\n      <td>6</td>\n      <td>4</td>\n      <td>2</td>\n      <td>6</td>\n      <td>4</td>\n      <td>2</td>\n      <td>121.0</td>\n      <td>60.0</td>\n      <td>64.0</td>\n    </tr>\n    <tr>\n      <th>53077940003</th>\n      <td>6</td>\n      <td>2</td>\n      <td>4</td>\n      <td>6</td>\n      <td>2</td>\n      <td>4</td>\n      <td>6</td>\n      <td>2</td>\n      <td>4</td>\n      <td>6</td>\n      <td>2</td>\n      <td>4</td>\n      <td>121.0</td>\n      <td>60.0</td>\n      <td>64.0</td>\n    </tr>\n    <tr>\n      <th>53077940004</th>\n      <td>2</td>\n      <td>2</td>\n      <td>0</td>\n      <td>2</td>\n      <td>2</td>\n      <td>0</td>\n      <td>2</td>\n      <td>2</td>\n      <td>0</td>\n      <td>2</td>\n      <td>2</td>\n      <td>0</td>\n      <td>121.0</td>\n      <td>60.0</td>\n      <td>64.0</td>\n    </tr>\n    <tr>\n      <th>53077940005</th>\n      <td>2</td>\n      <td>2</td>\n      <td>0</td>\n      <td>2</td>\n      <td>2</td>\n      <td>0</td>\n      <td>2</td>\n      <td>2</td>\n      <td>0</td>\n      <td>2</td>\n      <td>2</td>\n      <td>0</td>\n      <td>121.0</td>\n      <td>60.0</td>\n      <td>64.0</td>\n    </tr>\n    <tr>\n      <th>53077940006</th>\n      <td>2</td>\n      <td>2</td>\n      <td>0</td>\n      <td>2</td>\n      <td>2</td>\n      <td>0</td>\n      <td>2</td>\n      <td>2</td>\n      <td>0</td>\n      <td>2</td>\n      <td>2</td>\n      <td>0</td>\n      <td>121.0</td>\n      <td>60.0</td>\n      <td>64.0</td>\n    </tr>\n  </tbody>\n</table>\n<p>205437 rows × 15 columns</p>\n</div>"
     },
     "execution_count": 27,
     "metadata": {},
     "output_type": "execute_result"
    }
   ],
   "source": [
    "#express in terms of 2010 census tracts as the index\n",
    "final_df_2010tracts = final_df.reset_index()\n",
    "final_df_2010tracts[columns] = final_df_2010tracts[columns].fillna(0)\n",
    "final_df_2010tracts[\"census_tract_2010\"] = final_df_2010tracts[\"census_tract_2020\"].map(df_tract_20_10.to_dict())\n",
    "# final_df_2010tracts[[\"census_tract_2020\", \"zip_code\", \"county\"]] = final_df_2010tracts[[\"census_tract_2020\", \"zip_code\", \"county\"]].astype(str)\n",
    "\n",
    "final_df_2010tracts2 = final_df_2010tracts[[\"time\", \"census_tract_2010\", \"census_tract_2020\", \"zip_code\"] + columns[:-3]].groupby([\"time\", \"census_tract_2010\"]).sum() #for count variables (n_ev, n_bev, n_phev, ...)\n",
    "final_df_2010tracts3 = final_df_2010tracts[[\"time\", \"census_tract_2010\", \"census_tract_2020\", \"zip_code\"] + columns[-3:]].groupby([\"time\", \"census_tract_2010\"]).mean() #product variety (m_ev, m_bev, m_phev)\n",
    "final_df_2010tracts4 = final_df_2010tracts2.merge(final_df_2010tracts3, on=[\"time\", \"census_tract_2010\"])\n",
    "final_df_2010tracts4 = final_df_2010tracts4.drop([\"census_tract_2020_y\", \"zip_code_y\"], axis=1)\n",
    "final_df_2010tracts4 = final_df_2010tracts4.drop([\"census_tract_2020_x\", \"zip_code_x\"], axis=1)\n",
    "# final_df_2010tracts4 = final_df_2010tracts4.rename({\"census_tract_2020_x\": \"census_tract_2020\", \"zip_code_x\": \"zip_code\"}, axis=1)\n",
    "\n",
    "# final_df_2010tracts4.to_csv(\"data/vehicles/ev_counts_2010tracts.csv\")\n",
    "final_df_2010tracts4.to_csv(\"data/vehicles/ev_counts__2010tracts.csv\")\n",
    "# final_df_2010tracts4.to_csv(\"data/vehicles/ev_counts_2010tracts_to_2011.csv\")\n",
    "# final_df_2010tracts4.to_csv(\"data/vehicles/ev_counts_2010tracts_to_2011.csv\")\n",
    "final_df_2010tracts4"
   ],
   "metadata": {
    "collapsed": false
   }
  },
  {
   "cell_type": "code",
   "execution_count": 67,
   "outputs": [
    {
     "data": {
      "text/plain": "array([ 53001950100,  53001950200, 159005850906, ..., 106155880015,\n        53077940005,  53077940006], dtype=int64)"
     },
     "execution_count": 67,
     "metadata": {},
     "output_type": "execute_result"
    }
   ],
   "source": [
    "final_df_2010tracts4[\"census_tract_2020\"].unique()"
   ],
   "metadata": {
    "collapsed": false
   }
  },
  {
   "cell_type": "markdown",
   "id": "f1447401",
   "metadata": {},
   "source": [
    "This concludes the main functionality of this notebook."
   ]
  },
  {
   "cell_type": "code",
   "execution_count": 52,
   "outputs": [
    {
     "data": {
      "text/plain": "     vin_1_10     county       city state  zip_code  model_year    make  \\\n0  1N4BZ0CP9G  Snohomish  Arlington    WA     98223        2016  NISSAN   \n1  1N4AZ0CP5G       King    Seattle    WA     98118        2016  NISSAN   \n2  1N4BZ1CP7K   Thurston    Olympia    WA     98502        2019  NISSAN   \n3  5YJ3E1EBXK  Frederick  Frederick    MD     21704        2019   TESLA   \n4  5YJ3E1EAXL       King   Bellevue    WA     98008        2020   TESLA   \n\n     model                         ev_type  \\\n0     LEAF  Battery Electric Vehicle (BEV)   \n1     LEAF  Battery Electric Vehicle (BEV)   \n2     LEAF  Battery Electric Vehicle (BEV)   \n3  MODEL 3  Battery Electric Vehicle (BEV)   \n4  MODEL 3  Battery Electric Vehicle (BEV)   \n\n                                 cafv_type  electric_range  base_msrp  \\\n0  Clean Alternative Fuel Vehicle Eligible              84          0   \n1  Clean Alternative Fuel Vehicle Eligible              84          0   \n2  Clean Alternative Fuel Vehicle Eligible             150          0   \n3  Clean Alternative Fuel Vehicle Eligible             220          0   \n4  Clean Alternative Fuel Vehicle Eligible             266          0   \n\n   legislative_district  dol_vehicle_id               geocoded_column  \\\n0                  39.0       238236288                           NaN   \n1                  37.0       182735367                           NaN   \n2                  22.0       142814556   POINT (-102.71236 22.94812)   \n3                   NaN       114252337  POINT (-77.368491 39.354463)   \n4                  48.0         2075510                           NaN   \n\n                                electric_utility  _2020_census_tract  \n0                         PUGET SOUND ENERGY INC         53061052701  \n1  PUGET SOUND ENERGY INC||CITY OF TACOMA - (WA)         53033011102  \n2                                            NaN         53067012002  \n3                                            NaN         24021752205  \n4  PUGET SOUND ENERGY INC||CITY OF TACOMA - (WA)         53033023100  ",
      "text/html": "<div>\n<style scoped>\n    .dataframe tbody tr th:only-of-type {\n        vertical-align: middle;\n    }\n\n    .dataframe tbody tr th {\n        vertical-align: top;\n    }\n\n    .dataframe thead th {\n        text-align: right;\n    }\n</style>\n<table border=\"1\" class=\"dataframe\">\n  <thead>\n    <tr style=\"text-align: right;\">\n      <th></th>\n      <th>vin_1_10</th>\n      <th>county</th>\n      <th>city</th>\n      <th>state</th>\n      <th>zip_code</th>\n      <th>model_year</th>\n      <th>make</th>\n      <th>model</th>\n      <th>ev_type</th>\n      <th>cafv_type</th>\n      <th>electric_range</th>\n      <th>base_msrp</th>\n      <th>legislative_district</th>\n      <th>dol_vehicle_id</th>\n      <th>geocoded_column</th>\n      <th>electric_utility</th>\n      <th>_2020_census_tract</th>\n    </tr>\n  </thead>\n  <tbody>\n    <tr>\n      <th>0</th>\n      <td>1N4BZ0CP9G</td>\n      <td>Snohomish</td>\n      <td>Arlington</td>\n      <td>WA</td>\n      <td>98223</td>\n      <td>2016</td>\n      <td>NISSAN</td>\n      <td>LEAF</td>\n      <td>Battery Electric Vehicle (BEV)</td>\n      <td>Clean Alternative Fuel Vehicle Eligible</td>\n      <td>84</td>\n      <td>0</td>\n      <td>39.0</td>\n      <td>238236288</td>\n      <td>NaN</td>\n      <td>PUGET SOUND ENERGY INC</td>\n      <td>53061052701</td>\n    </tr>\n    <tr>\n      <th>1</th>\n      <td>1N4AZ0CP5G</td>\n      <td>King</td>\n      <td>Seattle</td>\n      <td>WA</td>\n      <td>98118</td>\n      <td>2016</td>\n      <td>NISSAN</td>\n      <td>LEAF</td>\n      <td>Battery Electric Vehicle (BEV)</td>\n      <td>Clean Alternative Fuel Vehicle Eligible</td>\n      <td>84</td>\n      <td>0</td>\n      <td>37.0</td>\n      <td>182735367</td>\n      <td>NaN</td>\n      <td>PUGET SOUND ENERGY INC||CITY OF TACOMA - (WA)</td>\n      <td>53033011102</td>\n    </tr>\n    <tr>\n      <th>2</th>\n      <td>1N4BZ1CP7K</td>\n      <td>Thurston</td>\n      <td>Olympia</td>\n      <td>WA</td>\n      <td>98502</td>\n      <td>2019</td>\n      <td>NISSAN</td>\n      <td>LEAF</td>\n      <td>Battery Electric Vehicle (BEV)</td>\n      <td>Clean Alternative Fuel Vehicle Eligible</td>\n      <td>150</td>\n      <td>0</td>\n      <td>22.0</td>\n      <td>142814556</td>\n      <td>POINT (-102.71236 22.94812)</td>\n      <td>NaN</td>\n      <td>53067012002</td>\n    </tr>\n    <tr>\n      <th>3</th>\n      <td>5YJ3E1EBXK</td>\n      <td>Frederick</td>\n      <td>Frederick</td>\n      <td>MD</td>\n      <td>21704</td>\n      <td>2019</td>\n      <td>TESLA</td>\n      <td>MODEL 3</td>\n      <td>Battery Electric Vehicle (BEV)</td>\n      <td>Clean Alternative Fuel Vehicle Eligible</td>\n      <td>220</td>\n      <td>0</td>\n      <td>NaN</td>\n      <td>114252337</td>\n      <td>POINT (-77.368491 39.354463)</td>\n      <td>NaN</td>\n      <td>24021752205</td>\n    </tr>\n    <tr>\n      <th>4</th>\n      <td>5YJ3E1EAXL</td>\n      <td>King</td>\n      <td>Bellevue</td>\n      <td>WA</td>\n      <td>98008</td>\n      <td>2020</td>\n      <td>TESLA</td>\n      <td>MODEL 3</td>\n      <td>Battery Electric Vehicle (BEV)</td>\n      <td>Clean Alternative Fuel Vehicle Eligible</td>\n      <td>266</td>\n      <td>0</td>\n      <td>48.0</td>\n      <td>2075510</td>\n      <td>NaN</td>\n      <td>PUGET SOUND ENERGY INC||CITY OF TACOMA - (WA)</td>\n      <td>53033023100</td>\n    </tr>\n  </tbody>\n</table>\n</div>"
     },
     "execution_count": 52,
     "metadata": {},
     "output_type": "execute_result"
    }
   ],
   "source": [
    "#EV Population Data\n",
    "df_pop = pd.read_csv(\"data/vehicles/Electric_Vehicle_Population_Data.csv\")\n",
    "df_pop.head()"
   ],
   "metadata": {
    "collapsed": false
   }
  },
  {
   "cell_type": "code",
   "execution_count": 53,
   "outputs": [
    {
     "name": "stdout",
     "output_type": "stream",
     "text": [
      "2031\n",
      "1766\n"
     ]
    }
   ],
   "source": [
    "print(len(df_pop[\"_2020_census_tract\"].unique()))\n",
    "print(len(df_pop[df_pop[\"state\"]==\"WA\"][\"_2020_census_tract\"].unique()))"
   ],
   "metadata": {
    "collapsed": false
   }
  },
  {
   "cell_type": "code",
   "execution_count": 66,
   "outputs": [],
   "source": [
    "df_pop_counts = pd.DataFrame(index=census_tracts, columns=[\"county\", \"zip\"]+columns)\n",
    "df_pop_counts.index.name = \"census_tract\"\n",
    "\n",
    "for census_tract in census_tracts:\n",
    "    n_ev = df_pop.groupby(\"_2020_census_tract\").size()\n",
    "    n_bev = df_pop.loc[df_pop[\"ev_type\"] == \"Battery Electric Vehicle (BEV)\"].groupby(\"_2020_census_tract\").size()\n",
    "    n_phev = df_pop.loc[df_pop[\"ev_type\"] == \"Plug-in Hybrid Electric Vehicle (PHEV)\"].groupby(\"_2020_census_tract\").size()\n",
    "\n",
    "    if census_tract in n_ev.index:\n",
    "        df_pop_counts.loc[census_tract, \"n_ev\"] = n_ev[census_tract]\n",
    "    if census_tract in n_bev.index:\n",
    "        df_pop_counts.loc[census_tract, \"n_bev\"] = n_bev[census_tract]\n",
    "    if census_tract in n_phev.index:\n",
    "        df_pop_counts.loc[census_tract, \"n_phev\"] = n_phev[census_tract]\n"
   ],
   "metadata": {
    "collapsed": false
   }
  },
  {
   "cell_type": "code",
   "execution_count": 69,
   "outputs": [],
   "source": [
    "df_pop_counts.to_csv(\"data/vehicles/ev_counts_from_pop.csv\")"
   ],
   "metadata": {
    "collapsed": false
   }
  },
  {
   "cell_type": "code",
   "execution_count": 57,
   "outputs": [
    {
     "data": {
      "text/plain": "_2020_census_tract\n1101001400     1\n2020000101     1\n2090000500     1\n2110000500     1\n4013318800     2\n              ..\n53077940007    1\n55031030101    1\n55089650300    1\n56021000702    1\n56033000100    1\nLength: 2031, dtype: int64"
     },
     "execution_count": 57,
     "metadata": {},
     "output_type": "execute_result"
    }
   ],
   "source": [
    "df_pop_counts = df_pop.groupby(\"_2020_census_tract\").size()\n",
    "df_pop_counts"
   ],
   "metadata": {
    "collapsed": false
   }
  },
  {
   "cell_type": "code",
   "execution_count": null,
   "outputs": [],
   "source": [],
   "metadata": {
    "collapsed": false
   }
  },
  {
   "cell_type": "code",
   "execution_count": null,
   "outputs": [],
   "source": [],
   "metadata": {
    "collapsed": false
   }
  },
  {
   "cell_type": "markdown",
   "id": "05c2ff84",
   "metadata": {},
   "source": [
    "From here, this notebook contains supplemental code to study the resulting EV counts\n",
    "+ e.g.: aggregate ZIP code-level counts by county and compare with records in `Electric_Vehicle_Population_Size_History_By_County.csv`"
   ]
  },
  {
   "cell_type": "code",
   "execution_count": 323,
   "id": "1e5f437a",
   "metadata": {},
   "outputs": [],
   "source": [
    "# calculate county-level counts\n",
    "multiindex_c = pd.MultiIndex.from_product([times, counties], names=[\"time\", \"county\"])\n",
    "final_df_c = pd.DataFrame(index=multiindex_c, columns=columns)\n",
    "\n",
    "for time in times:\n",
    "    a = final_df.loc[time].groupby(\"county\").sum()\n",
    "    for county in counties:\n",
    "        final_df_c.loc[time, county] = a.loc[county]\n",
    "final_df_c = final_df_c[[\"n_ev\", \"n_bev\", \"n_phev\"]]"
   ]
  },
  {
   "cell_type": "code",
   "execution_count": 324,
   "id": "8e3e7d11",
   "metadata": {
    "scrolled": true
   },
   "outputs": [
    {
     "data": {
      "text/html": [
       "<div>\n",
       "<style scoped>\n",
       "    .dataframe tbody tr th:only-of-type {\n",
       "        vertical-align: middle;\n",
       "    }\n",
       "\n",
       "    .dataframe tbody tr th {\n",
       "        vertical-align: top;\n",
       "    }\n",
       "\n",
       "    .dataframe thead th {\n",
       "        text-align: right;\n",
       "    }\n",
       "</style>\n",
       "<table border=\"1\" class=\"dataframe\">\n",
       "  <thead>\n",
       "    <tr style=\"text-align: right;\">\n",
       "      <th></th>\n",
       "      <th></th>\n",
       "      <th>n_ev</th>\n",
       "      <th>n_bev</th>\n",
       "      <th>n_phev</th>\n",
       "    </tr>\n",
       "    <tr>\n",
       "      <th>time</th>\n",
       "      <th>county</th>\n",
       "      <th></th>\n",
       "      <th></th>\n",
       "      <th></th>\n",
       "    </tr>\n",
       "  </thead>\n",
       "  <tbody>\n",
       "    <tr>\n",
       "      <th rowspan=\"5\" valign=\"top\">2017-01-31</th>\n",
       "      <th>King</th>\n",
       "      <td>12563</td>\n",
       "      <td>8531</td>\n",
       "      <td>4032</td>\n",
       "    </tr>\n",
       "    <tr>\n",
       "      <th>Snohomish</th>\n",
       "      <td>2248</td>\n",
       "      <td>1408</td>\n",
       "      <td>840</td>\n",
       "    </tr>\n",
       "    <tr>\n",
       "      <th>Kittitas</th>\n",
       "      <td>30</td>\n",
       "      <td>16</td>\n",
       "      <td>14</td>\n",
       "    </tr>\n",
       "    <tr>\n",
       "      <th>Kitsap</th>\n",
       "      <td>773</td>\n",
       "      <td>514</td>\n",
       "      <td>259</td>\n",
       "    </tr>\n",
       "    <tr>\n",
       "      <th>Whatcom</th>\n",
       "      <td>497</td>\n",
       "      <td>353</td>\n",
       "      <td>144</td>\n",
       "    </tr>\n",
       "    <tr>\n",
       "      <th>...</th>\n",
       "      <th>...</th>\n",
       "      <td>...</td>\n",
       "      <td>...</td>\n",
       "      <td>...</td>\n",
       "    </tr>\n",
       "    <tr>\n",
       "      <th rowspan=\"5\" valign=\"top\">2021-11-30</th>\n",
       "      <th>Benton</th>\n",
       "      <td>1061</td>\n",
       "      <td>650</td>\n",
       "      <td>411</td>\n",
       "    </tr>\n",
       "    <tr>\n",
       "      <th>Walla Walla</th>\n",
       "      <td>240</td>\n",
       "      <td>154</td>\n",
       "      <td>86</td>\n",
       "    </tr>\n",
       "    <tr>\n",
       "      <th>Columbia</th>\n",
       "      <td>10</td>\n",
       "      <td>8</td>\n",
       "      <td>2</td>\n",
       "    </tr>\n",
       "    <tr>\n",
       "      <th>Garfield</th>\n",
       "      <td>3</td>\n",
       "      <td>0</td>\n",
       "      <td>3</td>\n",
       "    </tr>\n",
       "    <tr>\n",
       "      <th>Asotin</th>\n",
       "      <td>41</td>\n",
       "      <td>22</td>\n",
       "      <td>19</td>\n",
       "    </tr>\n",
       "  </tbody>\n",
       "</table>\n",
       "<p>2301 rows × 3 columns</p>\n",
       "</div>"
      ],
      "text/plain": [
       "                         n_ev n_bev n_phev\n",
       "time       county                         \n",
       "2017-01-31 King         12563  8531   4032\n",
       "           Snohomish     2248  1408    840\n",
       "           Kittitas        30    16     14\n",
       "           Kitsap         773   514    259\n",
       "           Whatcom        497   353    144\n",
       "...                       ...   ...    ...\n",
       "2021-11-30 Benton        1061   650    411\n",
       "           Walla Walla    240   154     86\n",
       "           Columbia        10     8      2\n",
       "           Garfield         3     0      3\n",
       "           Asotin          41    22     19\n",
       "\n",
       "[2301 rows x 3 columns]"
      ]
     },
     "execution_count": 324,
     "metadata": {},
     "output_type": "execute_result"
    }
   ],
   "source": [
    "final_df_c"
   ]
  },
  {
   "cell_type": "code",
   "execution_count": 326,
   "id": "590fa63e",
   "metadata": {},
   "outputs": [],
   "source": [
    "# final_df_c.to_csv(\"data/vehicles/ev_counts_by_county_from_registrations_m1.csv\")\n",
    "final_df_c.to_csv(\"data/vehicles/ev_counts_by_county_from_registrations.csv\")"
   ]
  },
  {
   "cell_type": "code",
   "execution_count": 276,
   "id": "a9039636",
   "metadata": {},
   "outputs": [],
   "source": [
    "# compare with Electric_Vehicle_Population_Size_History_By_County\n",
    "df_by_county_raw = pd.read_csv(\"data/vehicles/Electric_Vehicle_Population_Size_History_By_County.csv\")\n",
    "df_by_county_raw_key = pd.read_csv(\"config/Electric_Vehicle_Population_Size_History_By_County_key.csv\")\n",
    "\n",
    "df_by_county_raw.columns = df_by_county_raw_key[\"name\"]\n",
    "\n",
    "df_by_county_raw = df_by_county_raw[df_by_county_raw[\"state\"] == \"WA\"]"
   ]
  },
  {
   "cell_type": "code",
   "execution_count": 277,
   "id": "70a7298b",
   "metadata": {},
   "outputs": [],
   "source": [
    "# convert date column to date format\n",
    "df_by_county_raw[\"time\"] = pd.to_datetime(df_by_county_raw[\"time\"])"
   ]
  },
  {
   "cell_type": "code",
   "execution_count": 278,
   "id": "6e675319",
   "metadata": {},
   "outputs": [],
   "source": [
    "df_by_county_raw = df_by_county_raw.dropna(subset=[\"county\"])"
   ]
  },
  {
   "cell_type": "code",
   "execution_count": 279,
   "id": "ecb6d179",
   "metadata": {},
   "outputs": [],
   "source": [
    "df_by_county_raw = df_by_county_raw.set_index([\"time\", \"county\"])"
   ]
  },
  {
   "cell_type": "code",
   "execution_count": 280,
   "id": "3df4d150",
   "metadata": {},
   "outputs": [
    {
     "data": {
      "text/html": [
       "<div>\n",
       "<style scoped>\n",
       "    .dataframe tbody tr th:only-of-type {\n",
       "        vertical-align: middle;\n",
       "    }\n",
       "\n",
       "    .dataframe tbody tr th {\n",
       "        vertical-align: top;\n",
       "    }\n",
       "\n",
       "    .dataframe thead th {\n",
       "        text-align: right;\n",
       "    }\n",
       "</style>\n",
       "<table border=\"1\" class=\"dataframe\">\n",
       "  <thead>\n",
       "    <tr style=\"text-align: right;\">\n",
       "      <th></th>\n",
       "      <th>name</th>\n",
       "      <th>state</th>\n",
       "      <th>primary_use</th>\n",
       "      <th>n_bev</th>\n",
       "      <th>n_phev</th>\n",
       "      <th>n_ev</th>\n",
       "      <th>n_icev</th>\n",
       "      <th>n_total</th>\n",
       "      <th>p_ev</th>\n",
       "    </tr>\n",
       "    <tr>\n",
       "      <th>time</th>\n",
       "      <th>county</th>\n",
       "      <th></th>\n",
       "      <th></th>\n",
       "      <th></th>\n",
       "      <th></th>\n",
       "      <th></th>\n",
       "      <th></th>\n",
       "      <th></th>\n",
       "      <th></th>\n",
       "    </tr>\n",
       "  </thead>\n",
       "  <tbody>\n",
       "    <tr>\n",
       "      <th rowspan=\"5\" valign=\"top\">2017-01-31</th>\n",
       "      <th>Adams</th>\n",
       "      <td>WA</td>\n",
       "      <td>Passenger</td>\n",
       "      <td>2</td>\n",
       "      <td>1</td>\n",
       "      <td>3</td>\n",
       "      <td>13240</td>\n",
       "      <td>13243</td>\n",
       "      <td>0.022653</td>\n",
       "    </tr>\n",
       "    <tr>\n",
       "      <th>Adams</th>\n",
       "      <td>WA</td>\n",
       "      <td>Truck</td>\n",
       "      <td>0</td>\n",
       "      <td>0</td>\n",
       "      <td>0</td>\n",
       "      <td>5556</td>\n",
       "      <td>5556</td>\n",
       "      <td>0.000000</td>\n",
       "    </tr>\n",
       "    <tr>\n",
       "      <th>Asotin</th>\n",
       "      <td>WA</td>\n",
       "      <td>Passenger</td>\n",
       "      <td>6</td>\n",
       "      <td>5</td>\n",
       "      <td>11</td>\n",
       "      <td>13825</td>\n",
       "      <td>13836</td>\n",
       "      <td>0.079503</td>\n",
       "    </tr>\n",
       "    <tr>\n",
       "      <th>Asotin</th>\n",
       "      <td>WA</td>\n",
       "      <td>Truck</td>\n",
       "      <td>0</td>\n",
       "      <td>0</td>\n",
       "      <td>0</td>\n",
       "      <td>7204</td>\n",
       "      <td>7204</td>\n",
       "      <td>0.000000</td>\n",
       "    </tr>\n",
       "    <tr>\n",
       "      <th>Benton</th>\n",
       "      <td>WA</td>\n",
       "      <td>Passenger</td>\n",
       "      <td>131</td>\n",
       "      <td>134</td>\n",
       "      <td>265</td>\n",
       "      <td>131266</td>\n",
       "      <td>131531</td>\n",
       "      <td>0.201473</td>\n",
       "    </tr>\n",
       "  </tbody>\n",
       "</table>\n",
       "</div>"
      ],
      "text/plain": [
       "name              state primary_use  n_bev  n_phev  n_ev  n_icev  n_total  \\\n",
       "time       county                                                           \n",
       "2017-01-31 Adams     WA   Passenger      2       1     3   13240    13243   \n",
       "           Adams     WA       Truck      0       0     0    5556     5556   \n",
       "           Asotin    WA   Passenger      6       5    11   13825    13836   \n",
       "           Asotin    WA       Truck      0       0     0    7204     7204   \n",
       "           Benton    WA   Passenger    131     134   265  131266   131531   \n",
       "\n",
       "name                   p_ev  \n",
       "time       county            \n",
       "2017-01-31 Adams   0.022653  \n",
       "           Adams   0.000000  \n",
       "           Asotin  0.079503  \n",
       "           Asotin  0.000000  \n",
       "           Benton  0.201473  "
      ]
     },
     "execution_count": 280,
     "metadata": {},
     "output_type": "execute_result"
    }
   ],
   "source": [
    "df_by_county_raw.head()"
   ]
  },
  {
   "cell_type": "code",
   "execution_count": 283,
   "id": "8cf767b7",
   "metadata": {},
   "outputs": [],
   "source": [
    "#adding up passenger cars and trucks\n",
    "df_by_county = pd.DataFrame(index=multiindex_c, columns=columns)\n",
    "\n",
    "for time in times:\n",
    "    a = df_by_county_raw.loc[time].groupby(\"county\").sum()\n",
    "    for county in counties:\n",
    "        df_by_county.loc[time, county] = a.loc[county]\n",
    "df_by_county = df_by_county[[\"n_ev\", \"n_bev\", \"n_phev\"]].astype(int)"
   ]
  },
  {
   "cell_type": "code",
   "execution_count": 284,
   "id": "f8adb5f7",
   "metadata": {},
   "outputs": [
    {
     "data": {
      "text/html": [
       "<div>\n",
       "<style scoped>\n",
       "    .dataframe tbody tr th:only-of-type {\n",
       "        vertical-align: middle;\n",
       "    }\n",
       "\n",
       "    .dataframe tbody tr th {\n",
       "        vertical-align: top;\n",
       "    }\n",
       "\n",
       "    .dataframe thead th {\n",
       "        text-align: right;\n",
       "    }\n",
       "</style>\n",
       "<table border=\"1\" class=\"dataframe\">\n",
       "  <thead>\n",
       "    <tr style=\"text-align: right;\">\n",
       "      <th></th>\n",
       "      <th></th>\n",
       "      <th>n_ev</th>\n",
       "      <th>n_bev</th>\n",
       "      <th>n_phev</th>\n",
       "    </tr>\n",
       "    <tr>\n",
       "      <th>time</th>\n",
       "      <th>county</th>\n",
       "      <th></th>\n",
       "      <th></th>\n",
       "      <th></th>\n",
       "    </tr>\n",
       "  </thead>\n",
       "  <tbody>\n",
       "    <tr>\n",
       "      <th rowspan=\"5\" valign=\"top\">2017-01-31</th>\n",
       "      <th>King</th>\n",
       "      <td>12850</td>\n",
       "      <td>8841</td>\n",
       "      <td>4009</td>\n",
       "    </tr>\n",
       "    <tr>\n",
       "      <th>Snohomish</th>\n",
       "      <td>2451</td>\n",
       "      <td>1558</td>\n",
       "      <td>893</td>\n",
       "    </tr>\n",
       "    <tr>\n",
       "      <th>Kittitas</th>\n",
       "      <td>35</td>\n",
       "      <td>16</td>\n",
       "      <td>19</td>\n",
       "    </tr>\n",
       "    <tr>\n",
       "      <th>Kitsap</th>\n",
       "      <td>842</td>\n",
       "      <td>563</td>\n",
       "      <td>279</td>\n",
       "    </tr>\n",
       "    <tr>\n",
       "      <th>Whatcom</th>\n",
       "      <td>551</td>\n",
       "      <td>392</td>\n",
       "      <td>159</td>\n",
       "    </tr>\n",
       "    <tr>\n",
       "      <th>...</th>\n",
       "      <th>...</th>\n",
       "      <td>...</td>\n",
       "      <td>...</td>\n",
       "      <td>...</td>\n",
       "    </tr>\n",
       "    <tr>\n",
       "      <th rowspan=\"5\" valign=\"top\">2021-11-30</th>\n",
       "      <th>Benton</th>\n",
       "      <td>1085</td>\n",
       "      <td>669</td>\n",
       "      <td>416</td>\n",
       "    </tr>\n",
       "    <tr>\n",
       "      <th>Walla Walla</th>\n",
       "      <td>229</td>\n",
       "      <td>145</td>\n",
       "      <td>84</td>\n",
       "    </tr>\n",
       "    <tr>\n",
       "      <th>Columbia</th>\n",
       "      <td>8</td>\n",
       "      <td>7</td>\n",
       "      <td>1</td>\n",
       "    </tr>\n",
       "    <tr>\n",
       "      <th>Garfield</th>\n",
       "      <td>4</td>\n",
       "      <td>1</td>\n",
       "      <td>3</td>\n",
       "    </tr>\n",
       "    <tr>\n",
       "      <th>Asotin</th>\n",
       "      <td>52</td>\n",
       "      <td>30</td>\n",
       "      <td>22</td>\n",
       "    </tr>\n",
       "  </tbody>\n",
       "</table>\n",
       "<p>2301 rows × 3 columns</p>\n",
       "</div>"
      ],
      "text/plain": [
       "                         n_ev  n_bev  n_phev\n",
       "time       county                           \n",
       "2017-01-31 King         12850   8841    4009\n",
       "           Snohomish     2451   1558     893\n",
       "           Kittitas        35     16      19\n",
       "           Kitsap         842    563     279\n",
       "           Whatcom        551    392     159\n",
       "...                       ...    ...     ...\n",
       "2021-11-30 Benton        1085    669     416\n",
       "           Walla Walla    229    145      84\n",
       "           Columbia         8      7       1\n",
       "           Garfield         4      1       3\n",
       "           Asotin          52     30      22\n",
       "\n",
       "[2301 rows x 3 columns]"
      ]
     },
     "execution_count": 284,
     "metadata": {},
     "output_type": "execute_result"
    }
   ],
   "source": [
    "df_by_county"
   ]
  },
  {
   "cell_type": "code",
   "execution_count": 286,
   "id": "58e32ed3",
   "metadata": {},
   "outputs": [],
   "source": [
    "df_by_county.to_csv(\"data/vehicles/ev_counts_by_county.csv\")"
   ]
  },
  {
   "cell_type": "code",
   "execution_count": 327,
   "id": "9db50856",
   "metadata": {},
   "outputs": [
    {
     "data": {
      "text/html": [
       "<div>\n",
       "<style scoped>\n",
       "    .dataframe tbody tr th:only-of-type {\n",
       "        vertical-align: middle;\n",
       "    }\n",
       "\n",
       "    .dataframe tbody tr th {\n",
       "        vertical-align: top;\n",
       "    }\n",
       "\n",
       "    .dataframe thead th {\n",
       "        text-align: right;\n",
       "    }\n",
       "</style>\n",
       "<table border=\"1\" class=\"dataframe\">\n",
       "  <thead>\n",
       "    <tr style=\"text-align: right;\">\n",
       "      <th></th>\n",
       "      <th></th>\n",
       "      <th>n_ev</th>\n",
       "      <th>n_bev</th>\n",
       "      <th>n_phev</th>\n",
       "    </tr>\n",
       "    <tr>\n",
       "      <th>time</th>\n",
       "      <th>county</th>\n",
       "      <th></th>\n",
       "      <th></th>\n",
       "      <th></th>\n",
       "    </tr>\n",
       "  </thead>\n",
       "  <tbody>\n",
       "    <tr>\n",
       "      <th rowspan=\"5\" valign=\"top\">2017-01-31</th>\n",
       "      <th>King</th>\n",
       "      <td>0.977665</td>\n",
       "      <td>0.964936</td>\n",
       "      <td>1.005737</td>\n",
       "    </tr>\n",
       "    <tr>\n",
       "      <th>Snohomish</th>\n",
       "      <td>0.917177</td>\n",
       "      <td>0.903723</td>\n",
       "      <td>0.940649</td>\n",
       "    </tr>\n",
       "    <tr>\n",
       "      <th>Kittitas</th>\n",
       "      <td>0.857143</td>\n",
       "      <td>1.0</td>\n",
       "      <td>0.736842</td>\n",
       "    </tr>\n",
       "    <tr>\n",
       "      <th>Kitsap</th>\n",
       "      <td>0.918052</td>\n",
       "      <td>0.912966</td>\n",
       "      <td>0.928315</td>\n",
       "    </tr>\n",
       "    <tr>\n",
       "      <th>Whatcom</th>\n",
       "      <td>0.901996</td>\n",
       "      <td>0.90051</td>\n",
       "      <td>0.90566</td>\n",
       "    </tr>\n",
       "    <tr>\n",
       "      <th>...</th>\n",
       "      <th>...</th>\n",
       "      <td>...</td>\n",
       "      <td>...</td>\n",
       "      <td>...</td>\n",
       "    </tr>\n",
       "    <tr>\n",
       "      <th rowspan=\"5\" valign=\"top\">2021-11-30</th>\n",
       "      <th>Benton</th>\n",
       "      <td>0.97788</td>\n",
       "      <td>0.971599</td>\n",
       "      <td>0.987981</td>\n",
       "    </tr>\n",
       "    <tr>\n",
       "      <th>Walla Walla</th>\n",
       "      <td>1.048035</td>\n",
       "      <td>1.062069</td>\n",
       "      <td>1.02381</td>\n",
       "    </tr>\n",
       "    <tr>\n",
       "      <th>Columbia</th>\n",
       "      <td>1.25</td>\n",
       "      <td>1.142857</td>\n",
       "      <td>2.0</td>\n",
       "    </tr>\n",
       "    <tr>\n",
       "      <th>Garfield</th>\n",
       "      <td>0.75</td>\n",
       "      <td>0.0</td>\n",
       "      <td>1.0</td>\n",
       "    </tr>\n",
       "    <tr>\n",
       "      <th>Asotin</th>\n",
       "      <td>0.788462</td>\n",
       "      <td>0.733333</td>\n",
       "      <td>0.863636</td>\n",
       "    </tr>\n",
       "  </tbody>\n",
       "</table>\n",
       "<p>2301 rows × 3 columns</p>\n",
       "</div>"
      ],
      "text/plain": [
       "                            n_ev     n_bev    n_phev\n",
       "time       county                                   \n",
       "2017-01-31 King         0.977665  0.964936  1.005737\n",
       "           Snohomish    0.917177  0.903723  0.940649\n",
       "           Kittitas     0.857143       1.0  0.736842\n",
       "           Kitsap       0.918052  0.912966  0.928315\n",
       "           Whatcom      0.901996   0.90051   0.90566\n",
       "...                          ...       ...       ...\n",
       "2021-11-30 Benton        0.97788  0.971599  0.987981\n",
       "           Walla Walla  1.048035  1.062069   1.02381\n",
       "           Columbia         1.25  1.142857       2.0\n",
       "           Garfield         0.75       0.0       1.0\n",
       "           Asotin       0.788462  0.733333  0.863636\n",
       "\n",
       "[2301 rows x 3 columns]"
      ]
     },
     "execution_count": 327,
     "metadata": {},
     "output_type": "execute_result"
    }
   ],
   "source": [
    "df_by_county_ratio = final_df_c.divide(df_by_county.replace({0: np.nan }))\n",
    "df_by_county_ratio"
   ]
  },
  {
   "cell_type": "code",
   "execution_count": 328,
   "id": "62c14f2b",
   "metadata": {},
   "outputs": [],
   "source": [
    "# df_by_county_ratio.to_csv(\"data/vehicles/ev_counts_by_county_ratio_m1.csv\")\n",
    "df_by_county_ratio.to_csv(\"data/vehicles/ev_counts_by_county_ratio.csv\")"
   ]
  },
  {
   "cell_type": "code",
   "execution_count": 329,
   "id": "eb8c6154",
   "metadata": {},
   "outputs": [],
   "source": [
    "final_df_WA = final_df_c.groupby(\"time\").sum()\n",
    "df_WA       = df_by_county.groupby(\"time\").sum()\n",
    "df_WA_ratio = final_df_WA.divide(df_WA)"
   ]
  },
  {
   "cell_type": "code",
   "execution_count": 330,
   "id": "afe27d0a",
   "metadata": {},
   "outputs": [],
   "source": [
    "# df_WA_ratio.to_csv(\"data/vehicles/ev_counts_WA_ratio_m1.csv\")\n",
    "df_WA_ratio.to_csv(\"data/vehicles/ev_counts_WA_ratio.csv\")"
   ]
  },
  {
   "cell_type": "code",
   "execution_count": 1,
   "id": "7e58a2a5",
   "metadata": {},
   "outputs": [
    {
     "ename": "NameError",
     "evalue": "name 'df' is not defined",
     "output_type": "error",
     "traceback": [
      "\u001B[1;31m---------------------------------------------------------------------------\u001B[0m",
      "\u001B[1;31mNameError\u001B[0m                                 Traceback (most recent call last)",
      "\u001B[1;32m~\\AppData\\Local\\Temp/ipykernel_17916/3443303831.py\u001B[0m in \u001B[0;36m<module>\u001B[1;34m\u001B[0m\n\u001B[0;32m      1\u001B[0m \u001B[1;31m# Alternative Method: Count \"Original Registration\"s for each month since Jan 2017\u001B[0m\u001B[1;33m\u001B[0m\u001B[1;33m\u001B[0m\u001B[1;33m\u001B[0m\u001B[0m\n\u001B[0;32m      2\u001B[0m \u001B[1;31m# Problem: Significant overcounting (that also increases over time) of registered EVs since EVs can also leave the WA system (by being sold to out-of-state of scraped)\u001B[0m\u001B[1;33m\u001B[0m\u001B[1;33m\u001B[0m\u001B[1;33m\u001B[0m\u001B[0m\n\u001B[1;32m----> 3\u001B[1;33m \u001B[0mdff\u001B[0m \u001B[1;33m=\u001B[0m \u001B[0mdf\u001B[0m\u001B[1;33m[\u001B[0m\u001B[0mdf\u001B[0m\u001B[1;33m[\u001B[0m\u001B[1;34m\"trans_type\"\u001B[0m\u001B[1;33m]\u001B[0m \u001B[1;33m==\u001B[0m \u001B[1;34m\"Original Registration\"\u001B[0m\u001B[1;33m]\u001B[0m\u001B[1;33m\u001B[0m\u001B[1;33m\u001B[0m\u001B[0m\n\u001B[0m\u001B[0;32m      4\u001B[0m \u001B[1;32mfor\u001B[0m \u001B[0mtime\u001B[0m \u001B[1;32min\u001B[0m \u001B[0mtimes\u001B[0m\u001B[1;33m:\u001B[0m\u001B[1;33m\u001B[0m\u001B[1;33m\u001B[0m\u001B[0m\n\u001B[0;32m      5\u001B[0m     \u001B[0mprint\u001B[0m\u001B[1;33m(\u001B[0m\u001B[0mtime\u001B[0m\u001B[1;33m)\u001B[0m\u001B[1;33m\u001B[0m\u001B[1;33m\u001B[0m\u001B[0m\n",
      "\u001B[1;31mNameError\u001B[0m: name 'df' is not defined"
     ]
    }
   ],
   "source": [
    "# Alternative Method: Count \"Original Registration\"s for each month since Jan 2017\n",
    "# Problem: Significant overcounting (that also increases over time) of registered EVs since EVs can also leave the WA system (by being sold to out-of-state of scraped)\n",
    "dff = df[df[\"trans_type\"] == \"Original Registration\"]\n",
    "for time in times:\n",
    "    print(time)\n",
    "    \n",
    "    dfff = dff[dff[\"trans_date\"] < time]\n",
    "    \n",
    "    n_ev = dfff.groupby(\"zip\").size()\n",
    "    n_bev = dfff.loc[dff[\"ev_type\"] == \"Battery Electric Vehicle (BEV)\"].groupby(\"zip\").size()\n",
    "    n_phev = dfff.loc[dff[\"ev_type\"] == \"Plug-in Hybrid Electric Vehicle (PHEV)\"].groupby(\"zip\").size()\n",
    "\n",
    "#     m_ev = len(df[\"make_model\"].unique())\n",
    "    \n",
    "    for zip_code in zip_codes:\n",
    "        if zip_code in n_ev.index:\n",
    "            final_df.loc[time, zip_code][\"n_ev\"] = n_ev[zip_code]\n",
    "        if zip_code in n_bev.index:\n",
    "            final_df.loc[time, zip_code][\"n_bev\"] = n_bev[zip_code]\n",
    "        if zip_code in n_phev.index:\n",
    "            final_df.loc[time, zip_code][\"n_phev\"] = n_phev[zip_code]"
   ]
  },
  {
   "cell_type": "code",
   "execution_count": null,
   "id": "a38c523a",
   "metadata": {},
   "outputs": [],
   "source": []
  }
 ],
 "metadata": {
  "kernelspec": {
   "display_name": "Python 3 (ipykernel)",
   "language": "python",
   "name": "python3"
  },
  "language_info": {
   "codemirror_mode": {
    "name": "ipython",
    "version": 3
   },
   "file_extension": ".py",
   "mimetype": "text/x-python",
   "name": "python",
   "nbconvert_exporter": "python",
   "pygments_lexer": "ipython3",
   "version": "3.8.8"
  }
 },
 "nbformat": 4,
 "nbformat_minor": 5
}
