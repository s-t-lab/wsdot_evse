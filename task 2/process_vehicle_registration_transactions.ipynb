{
 "cells": [
  {
   "cell_type": "markdown",
   "id": "bb5e1e40",
   "metadata": {},
   "source": [
    "# process_vehicle_registration_transactions.ipynb\n",
    "**This notebook extracts vehicle registration counts by census tract and by month from the vehicle registration transactions data file (scraped by the `scrape_veh_registration_data.ipynb` file) and stores the resulting vehicle counts in `data/vehicles/vehicle_counts.csv`.**\n",
    "TODO: update text below\n",
    "+ For each month and for each census tract, counts the number of \"Original Registration\" and \"Registration Renewal\" entries within the past year (365 days).\n",
    "+ Likewise, for each month and for each ZIP code, counts the number of unique EV models on the market in WA until that date (month). This is taken as an estimate for the EV model variety at each point in time.\n",
    "+ Stores resulting dataframe (panel data by month (January 2017 to December 2021) and by ZIP code (all ZIP codes in WA)) in `data/vehicles/ev_counts.csv`."
   ]
  },
  {
   "cell_type": "code",
   "execution_count": 1,
   "id": "bec2b2ae",
   "metadata": {},
   "outputs": [
    {
     "name": "stderr",
     "output_type": "stream",
     "text": [
      "C:\\Users\\steff\\anaconda3\\lib\\site-packages\\fuzzywuzzy\\fuzz.py:11: UserWarning: Using slow pure-python SequenceMatcher. Install python-Levenshtein to remove this warning\n",
      "  warnings.warn('Using slow pure-python SequenceMatcher. Install python-Levenshtein to remove this warning')\n"
     ]
    }
   ],
   "source": [
    "import pandas as pd\n",
    "import numpy as np\n",
    "import datetime as dt\n",
    "import addfips\n",
    "af = addfips.AddFIPS()\n",
    "from uszipcode import SearchEngine\n",
    "search = SearchEngine()\n",
    "\n",
    "import timeit\n",
    "\n",
    "import utils as u\n",
    "from config.GLOBAL import *"
   ]
  },
  {
   "cell_type": "code",
   "execution_count": 2,
   "outputs": [
    {
     "data": {
      "text/plain": "                     StateFIPS CountyFIPS_3 StateName CountyFIPS  \\\nStateAbbr CountyName                                               \nAL        Autauga           01          001   Alabama      01001   \n          Baldwin           01          003   Alabama      01003   \n          Barbour           01          005   Alabama      01005   \n          Bibb              01          007   Alabama      01007   \n          Blount            01          009   Alabama      01009   \n...                        ...          ...       ...        ...   \nWY        Sweetwater        56          037   Wyoming      56037   \n          Teton             56          039   Wyoming      56039   \n          Uinta             56          041   Wyoming      56041   \n          Washakie          56          043   Wyoming      56043   \n          Weston            56          045   Wyoming      56045   \n\n                         STATE_COUNTY  \nStateAbbr CountyName                   \nAL        Autauga        AL | AUTAUGA  \n          Baldwin        AL | BALDWIN  \n          Barbour        AL | BARBOUR  \n          Bibb              AL | BIBB  \n          Blount          AL | BLOUNT  \n...                               ...  \nWY        Sweetwater  WY | SWEETWATER  \n          Teton            WY | TETON  \n          Uinta            WY | UINTA  \n          Washakie      WY | WASHAKIE  \n          Weston          WY | WESTON  \n\n[3143 rows x 5 columns]",
      "text/html": "<div>\n<style scoped>\n    .dataframe tbody tr th:only-of-type {\n        vertical-align: middle;\n    }\n\n    .dataframe tbody tr th {\n        vertical-align: top;\n    }\n\n    .dataframe thead th {\n        text-align: right;\n    }\n</style>\n<table border=\"1\" class=\"dataframe\">\n  <thead>\n    <tr style=\"text-align: right;\">\n      <th></th>\n      <th></th>\n      <th>StateFIPS</th>\n      <th>CountyFIPS_3</th>\n      <th>StateName</th>\n      <th>CountyFIPS</th>\n      <th>STATE_COUNTY</th>\n    </tr>\n    <tr>\n      <th>StateAbbr</th>\n      <th>CountyName</th>\n      <th></th>\n      <th></th>\n      <th></th>\n      <th></th>\n      <th></th>\n    </tr>\n  </thead>\n  <tbody>\n    <tr>\n      <th rowspan=\"5\" valign=\"top\">AL</th>\n      <th>Autauga</th>\n      <td>01</td>\n      <td>001</td>\n      <td>Alabama</td>\n      <td>01001</td>\n      <td>AL | AUTAUGA</td>\n    </tr>\n    <tr>\n      <th>Baldwin</th>\n      <td>01</td>\n      <td>003</td>\n      <td>Alabama</td>\n      <td>01003</td>\n      <td>AL | BALDWIN</td>\n    </tr>\n    <tr>\n      <th>Barbour</th>\n      <td>01</td>\n      <td>005</td>\n      <td>Alabama</td>\n      <td>01005</td>\n      <td>AL | BARBOUR</td>\n    </tr>\n    <tr>\n      <th>Bibb</th>\n      <td>01</td>\n      <td>007</td>\n      <td>Alabama</td>\n      <td>01007</td>\n      <td>AL | BIBB</td>\n    </tr>\n    <tr>\n      <th>Blount</th>\n      <td>01</td>\n      <td>009</td>\n      <td>Alabama</td>\n      <td>01009</td>\n      <td>AL | BLOUNT</td>\n    </tr>\n    <tr>\n      <th>...</th>\n      <th>...</th>\n      <td>...</td>\n      <td>...</td>\n      <td>...</td>\n      <td>...</td>\n      <td>...</td>\n    </tr>\n    <tr>\n      <th rowspan=\"5\" valign=\"top\">WY</th>\n      <th>Sweetwater</th>\n      <td>56</td>\n      <td>037</td>\n      <td>Wyoming</td>\n      <td>56037</td>\n      <td>WY | SWEETWATER</td>\n    </tr>\n    <tr>\n      <th>Teton</th>\n      <td>56</td>\n      <td>039</td>\n      <td>Wyoming</td>\n      <td>56039</td>\n      <td>WY | TETON</td>\n    </tr>\n    <tr>\n      <th>Uinta</th>\n      <td>56</td>\n      <td>041</td>\n      <td>Wyoming</td>\n      <td>56041</td>\n      <td>WY | UINTA</td>\n    </tr>\n    <tr>\n      <th>Washakie</th>\n      <td>56</td>\n      <td>043</td>\n      <td>Wyoming</td>\n      <td>56043</td>\n      <td>WY | WASHAKIE</td>\n    </tr>\n    <tr>\n      <th>Weston</th>\n      <td>56</td>\n      <td>045</td>\n      <td>Wyoming</td>\n      <td>56045</td>\n      <td>WY | WESTON</td>\n    </tr>\n  </tbody>\n</table>\n<p>3143 rows × 5 columns</p>\n</div>"
     },
     "execution_count": 2,
     "metadata": {},
     "output_type": "execute_result"
    }
   ],
   "source": [
    "df_fips = pd.read_csv(\"config/fips2county_tab.tsv\", sep='\\t', header='infer', dtype=str, encoding='latin-1', index_col=[\"StateAbbr\", \"CountyName\"])\n",
    "# df_fips = pd.read_csv(\"config/fips2county_tab.tsv\", sep='\\t', header='infer', dtype=str, encoding='latin-1')\n",
    "df_fips"
   ],
   "metadata": {
    "collapsed": false
   }
  },
  {
   "cell_type": "code",
   "execution_count": 3,
   "outputs": [
    {
     "ename": "KeyError",
     "evalue": "'StateAbbr'",
     "output_type": "error",
     "traceback": [
      "\u001B[1;31m---------------------------------------------------------------------------\u001B[0m",
      "\u001B[1;31mKeyError\u001B[0m                                  Traceback (most recent call last)",
      "\u001B[1;32m~\\anaconda3\\lib\\site-packages\\pandas\\core\\indexes\\base.py\u001B[0m in \u001B[0;36mget_loc\u001B[1;34m(self, key, method, tolerance)\u001B[0m\n\u001B[0;32m   3360\u001B[0m             \u001B[1;32mtry\u001B[0m\u001B[1;33m:\u001B[0m\u001B[1;33m\u001B[0m\u001B[1;33m\u001B[0m\u001B[0m\n\u001B[1;32m-> 3361\u001B[1;33m                 \u001B[1;32mreturn\u001B[0m \u001B[0mself\u001B[0m\u001B[1;33m.\u001B[0m\u001B[0m_engine\u001B[0m\u001B[1;33m.\u001B[0m\u001B[0mget_loc\u001B[0m\u001B[1;33m(\u001B[0m\u001B[0mcasted_key\u001B[0m\u001B[1;33m)\u001B[0m\u001B[1;33m\u001B[0m\u001B[1;33m\u001B[0m\u001B[0m\n\u001B[0m\u001B[0;32m   3362\u001B[0m             \u001B[1;32mexcept\u001B[0m \u001B[0mKeyError\u001B[0m \u001B[1;32mas\u001B[0m \u001B[0merr\u001B[0m\u001B[1;33m:\u001B[0m\u001B[1;33m\u001B[0m\u001B[1;33m\u001B[0m\u001B[0m\n",
      "\u001B[1;32m~\\anaconda3\\lib\\site-packages\\pandas\\_libs\\index.pyx\u001B[0m in \u001B[0;36mpandas._libs.index.IndexEngine.get_loc\u001B[1;34m()\u001B[0m\n",
      "\u001B[1;32m~\\anaconda3\\lib\\site-packages\\pandas\\_libs\\index.pyx\u001B[0m in \u001B[0;36mpandas._libs.index.IndexEngine.get_loc\u001B[1;34m()\u001B[0m\n",
      "\u001B[1;32mpandas\\_libs\\hashtable_class_helper.pxi\u001B[0m in \u001B[0;36mpandas._libs.hashtable.PyObjectHashTable.get_item\u001B[1;34m()\u001B[0m\n",
      "\u001B[1;32mpandas\\_libs\\hashtable_class_helper.pxi\u001B[0m in \u001B[0;36mpandas._libs.hashtable.PyObjectHashTable.get_item\u001B[1;34m()\u001B[0m\n",
      "\u001B[1;31mKeyError\u001B[0m: 'StateAbbr'",
      "\nThe above exception was the direct cause of the following exception:\n",
      "\u001B[1;31mKeyError\u001B[0m                                  Traceback (most recent call last)",
      "\u001B[1;32m~\\AppData\\Local\\Temp/ipykernel_9184/3770461649.py\u001B[0m in \u001B[0;36m<module>\u001B[1;34m\u001B[0m\n\u001B[0;32m      1\u001B[0m \u001B[1;31m#not needed\u001B[0m\u001B[1;33m\u001B[0m\u001B[1;33m\u001B[0m\u001B[1;33m\u001B[0m\u001B[0m\n\u001B[0;32m      2\u001B[0m \u001B[0mstate_Abbr_to_FIPS\u001B[0m \u001B[1;33m=\u001B[0m \u001B[0mdict\u001B[0m\u001B[1;33m(\u001B[0m\u001B[1;33m)\u001B[0m\u001B[1;33m\u001B[0m\u001B[1;33m\u001B[0m\u001B[0m\n\u001B[1;32m----> 3\u001B[1;33m \u001B[1;32mfor\u001B[0m \u001B[0mStateAbbr\u001B[0m \u001B[1;32min\u001B[0m \u001B[0mdf_fips\u001B[0m\u001B[1;33m[\u001B[0m\u001B[1;34m\"StateAbbr\"\u001B[0m\u001B[1;33m]\u001B[0m\u001B[1;33m.\u001B[0m\u001B[0munique\u001B[0m\u001B[1;33m(\u001B[0m\u001B[1;33m)\u001B[0m\u001B[1;33m:\u001B[0m\u001B[1;33m\u001B[0m\u001B[1;33m\u001B[0m\u001B[0m\n\u001B[0m\u001B[0;32m      4\u001B[0m     \u001B[0mstate_Abbr_to_FIPS\u001B[0m\u001B[1;33m[\u001B[0m\u001B[0mStateAbbr\u001B[0m\u001B[1;33m]\u001B[0m \u001B[1;33m=\u001B[0m \u001B[0mdf_fips\u001B[0m\u001B[1;33m.\u001B[0m\u001B[0mloc\u001B[0m\u001B[1;33m[\u001B[0m\u001B[0mdf_fips\u001B[0m\u001B[1;33m[\u001B[0m\u001B[1;34m\"StateAbbr\"\u001B[0m\u001B[1;33m]\u001B[0m \u001B[1;33m==\u001B[0m \u001B[0mStateAbbr\u001B[0m\u001B[1;33m,\u001B[0m \u001B[1;34m\"StateFIPS\"\u001B[0m\u001B[1;33m]\u001B[0m\u001B[1;33m.\u001B[0m\u001B[0mvalue_counts\u001B[0m\u001B[1;33m(\u001B[0m\u001B[1;33m)\u001B[0m\u001B[1;33m.\u001B[0m\u001B[0mindex\u001B[0m\u001B[1;33m[\u001B[0m\u001B[1;36m0\u001B[0m\u001B[1;33m]\u001B[0m\u001B[1;33m\u001B[0m\u001B[1;33m\u001B[0m\u001B[0m\n\u001B[0;32m      5\u001B[0m \u001B[0mstate_Abbr_to_FIPS\u001B[0m\u001B[1;33m\u001B[0m\u001B[1;33m\u001B[0m\u001B[0m\n",
      "\u001B[1;32m~\\anaconda3\\lib\\site-packages\\pandas\\core\\frame.py\u001B[0m in \u001B[0;36m__getitem__\u001B[1;34m(self, key)\u001B[0m\n\u001B[0;32m   3456\u001B[0m             \u001B[1;32mif\u001B[0m \u001B[0mself\u001B[0m\u001B[1;33m.\u001B[0m\u001B[0mcolumns\u001B[0m\u001B[1;33m.\u001B[0m\u001B[0mnlevels\u001B[0m \u001B[1;33m>\u001B[0m \u001B[1;36m1\u001B[0m\u001B[1;33m:\u001B[0m\u001B[1;33m\u001B[0m\u001B[1;33m\u001B[0m\u001B[0m\n\u001B[0;32m   3457\u001B[0m                 \u001B[1;32mreturn\u001B[0m \u001B[0mself\u001B[0m\u001B[1;33m.\u001B[0m\u001B[0m_getitem_multilevel\u001B[0m\u001B[1;33m(\u001B[0m\u001B[0mkey\u001B[0m\u001B[1;33m)\u001B[0m\u001B[1;33m\u001B[0m\u001B[1;33m\u001B[0m\u001B[0m\n\u001B[1;32m-> 3458\u001B[1;33m             \u001B[0mindexer\u001B[0m \u001B[1;33m=\u001B[0m \u001B[0mself\u001B[0m\u001B[1;33m.\u001B[0m\u001B[0mcolumns\u001B[0m\u001B[1;33m.\u001B[0m\u001B[0mget_loc\u001B[0m\u001B[1;33m(\u001B[0m\u001B[0mkey\u001B[0m\u001B[1;33m)\u001B[0m\u001B[1;33m\u001B[0m\u001B[1;33m\u001B[0m\u001B[0m\n\u001B[0m\u001B[0;32m   3459\u001B[0m             \u001B[1;32mif\u001B[0m \u001B[0mis_integer\u001B[0m\u001B[1;33m(\u001B[0m\u001B[0mindexer\u001B[0m\u001B[1;33m)\u001B[0m\u001B[1;33m:\u001B[0m\u001B[1;33m\u001B[0m\u001B[1;33m\u001B[0m\u001B[0m\n\u001B[0;32m   3460\u001B[0m                 \u001B[0mindexer\u001B[0m \u001B[1;33m=\u001B[0m \u001B[1;33m[\u001B[0m\u001B[0mindexer\u001B[0m\u001B[1;33m]\u001B[0m\u001B[1;33m\u001B[0m\u001B[1;33m\u001B[0m\u001B[0m\n",
      "\u001B[1;32m~\\anaconda3\\lib\\site-packages\\pandas\\core\\indexes\\base.py\u001B[0m in \u001B[0;36mget_loc\u001B[1;34m(self, key, method, tolerance)\u001B[0m\n\u001B[0;32m   3361\u001B[0m                 \u001B[1;32mreturn\u001B[0m \u001B[0mself\u001B[0m\u001B[1;33m.\u001B[0m\u001B[0m_engine\u001B[0m\u001B[1;33m.\u001B[0m\u001B[0mget_loc\u001B[0m\u001B[1;33m(\u001B[0m\u001B[0mcasted_key\u001B[0m\u001B[1;33m)\u001B[0m\u001B[1;33m\u001B[0m\u001B[1;33m\u001B[0m\u001B[0m\n\u001B[0;32m   3362\u001B[0m             \u001B[1;32mexcept\u001B[0m \u001B[0mKeyError\u001B[0m \u001B[1;32mas\u001B[0m \u001B[0merr\u001B[0m\u001B[1;33m:\u001B[0m\u001B[1;33m\u001B[0m\u001B[1;33m\u001B[0m\u001B[0m\n\u001B[1;32m-> 3363\u001B[1;33m                 \u001B[1;32mraise\u001B[0m \u001B[0mKeyError\u001B[0m\u001B[1;33m(\u001B[0m\u001B[0mkey\u001B[0m\u001B[1;33m)\u001B[0m \u001B[1;32mfrom\u001B[0m \u001B[0merr\u001B[0m\u001B[1;33m\u001B[0m\u001B[1;33m\u001B[0m\u001B[0m\n\u001B[0m\u001B[0;32m   3364\u001B[0m \u001B[1;33m\u001B[0m\u001B[0m\n\u001B[0;32m   3365\u001B[0m         \u001B[1;32mif\u001B[0m \u001B[0mis_scalar\u001B[0m\u001B[1;33m(\u001B[0m\u001B[0mkey\u001B[0m\u001B[1;33m)\u001B[0m \u001B[1;32mand\u001B[0m \u001B[0misna\u001B[0m\u001B[1;33m(\u001B[0m\u001B[0mkey\u001B[0m\u001B[1;33m)\u001B[0m \u001B[1;32mand\u001B[0m \u001B[1;32mnot\u001B[0m \u001B[0mself\u001B[0m\u001B[1;33m.\u001B[0m\u001B[0mhasnans\u001B[0m\u001B[1;33m:\u001B[0m\u001B[1;33m\u001B[0m\u001B[1;33m\u001B[0m\u001B[0m\n",
      "\u001B[1;31mKeyError\u001B[0m: 'StateAbbr'"
     ]
    }
   ],
   "source": [
    "#not needed\n",
    "state_Abbr_to_FIPS = dict()\n",
    "for StateAbbr in df_fips[\"StateAbbr\"].unique():\n",
    "    state_Abbr_to_FIPS[StateAbbr] = df_fips.loc[df_fips[\"StateAbbr\"] == StateAbbr, \"StateFIPS\"].value_counts().index[0]\n",
    "state_Abbr_to_FIPS"
   ],
   "metadata": {
    "collapsed": false
   }
  },
  {
   "cell_type": "code",
   "execution_count": 3,
   "outputs": [],
   "source": [
    "def get_countyFIPS(row):\n",
    "    try:\n",
    "        countyFIPS = df_fips.loc[(row[\"state\"], row[\"county\"]), \"CountyFIPS\"]\n",
    "    except KeyError:\n",
    "        try:\n",
    "            countyFIPS = df_fips.loc[(row[\"state\"], search.by_zipcode(row[\"zip_code\"]).county.replace(\" County\", \"\")), \"CountyFIPS\"]\n",
    "        except:\n",
    "            countyFIPS = None\n",
    "    return countyFIPS\n",
    "\n",
    "def get_census_tract(row):\n",
    "    if type(row[\"_2020_census_tract\"]) is str and row[\"county_FIPS_3\"] is not None:\n",
    "        if len(row[\"_2020_census_tract\"])!=6:\n",
    "            print(row[\"_2020_census_tract\"])\n",
    "            a\n",
    "        census_tract = \"{0:s}{1:s}\".format(row[\"county_FIPS_3\"].split(\".\")[0], row[\"_2020_census_tract\"])\n",
    "        try:\n",
    "            census_tract = int(census_tract)\n",
    "        except ValueError:\n",
    "            census_tract = 0\n",
    "    else:\n",
    "        census_tract = 0\n",
    "    return census_tract"
   ],
   "metadata": {
    "collapsed": false
   }
  },
  {
   "cell_type": "code",
   "execution_count": 41,
   "outputs": [],
   "source": [
    "# multiindex = pd.MultiIndex.from_product([times, zip_codes], names=[\"time\", \"zip\"])\n",
    "multiindex = pd.MultiIndex.from_product([times, census_tracts_2010], names=[\"time\", \"census_tract\"])\n",
    "columns = [\"n_veh\"]\n",
    "columns = [\"n_veh\", \"n_veh_new_sales\", \"n_veh_used_sales\", \"n_veh_renewals\"]"
   ],
   "metadata": {
    "collapsed": false
   }
  },
  {
   "cell_type": "code",
   "execution_count": null,
   "outputs": [],
   "source": [
    "# create final dataframe and add county and ZIP code column to it\n",
    "final_df = pd.DataFrame(index=multiindex, columns=[\"county\", \"zip_code\"] + columns)\n",
    "# for zip_code in zip_codes:\n",
    "#     final_df.loc[(slice(None), zip_code), \"county\"] = search.by_zipcode(zip_code).county.replace(\" County\", \"\")\n",
    "for census_tract in census_tracts:\n",
    "    if census_tract in tract_to_zip.index:\n",
    "        zip_code = tract_to_zip.loc[census_tract, \"zip_code\"]\n",
    "        final_df.loc[(slice(None), census_tract), \"zip_code\"] = zip_code\n",
    "        final_df.loc[(slice(None), census_tract), \"county\"] = search.by_zipcode(zip_code).county.replace(\" County\", \"\")\n",
    "final_df"
   ],
   "metadata": {
    "collapsed": false
   }
  },
  {
   "cell_type": "code",
   "execution_count": 10,
   "outputs": [
    {
     "name": "stdout",
     "output_type": "stream",
     "text": [
      "1890.0\n"
     ]
    }
   ],
   "source": [
    "chunksize = 1e4\n",
    "n_rows = 18.9e6\n",
    "n_chunks = n_rows/chunksize\n",
    "print(n_chunks)"
   ],
   "metadata": {
    "collapsed": false
   }
  },
  {
   "cell_type": "code",
   "execution_count": 11,
   "outputs": [],
   "source": [
    "#run for 2021 only for now\n",
    "times = [u.get_last_day_of_month(dt.datetime(year=y, month=m, day=20)) for y in range(2021,2022) for m in range(1,13)]"
   ],
   "metadata": {
    "collapsed": false
   }
  },
  {
   "cell_type": "code",
   "execution_count": null,
   "id": "fcbfc7d4",
   "metadata": {},
   "outputs": [
    {
     "name": "stdout",
     "output_type": "stream",
     "text": [
      "0.0 2.3s, 0.0005 3.0s, 0.0011 2.9s, 0.0016 2.8s, 0.0021 3.0s, 0.0026 3.6s, 0.0032 2.7s, 0.0037 1.9s, 0.0042 5.3s, 0.0048 4.4s, 0.0053 3.2s, 0.0058 2.9s, 0.0063 3.2s, 0.0069 5.2s, 0.0074 3.0s, 0.0079 2.1s, 0.0085 2.2s, 0.009 2.6s, 0.0095 2.7s, 0.0101 2.6s, 0.0106 2.7s, 0.0111 2.8s, 0.0116 3.0s, 0.0122 2.2s, 0.0127 2.3s, 0.0132 2.3s, 0.0138 3.2s, 0.0143 2.7s, 0.0148 2.6s, 0.0153 2.7s, 0.0159 2.6s, 0.0164 2.4s, 0.0169 2.2s, 0.0175 2.1s, 0.018 2.8s, 0.0185 2.6s, 0.019 2.9s, 0.0196 2.6s, 0.0201 3.2s, 0.0206 2.6s, 0.0212 2.0s, 0.0217 2.0s, 0.0222 2.2s, 0.0228 2.8s, 0.0233 2.5s, 0.0238 2.6s, 0.0243 2.6s, 0.0249 3.2s, 0.0254 2.7s, 0.0259 2.0s, 0.0265 2.0s, 0.027 2.4s, 0.0275 2.8s, 0.028 2.7s, 0.0286 2.5s, 0.0291 2.7s, 0.0296 2.6s, 0.0302 2.4s, 0.0307 2.0s, 0.0312 1.9s, 0.0317 2.5s, 0.0323 2.7s, 0.0328 2.8s, 0.0333 2.7s, 0.0339 2.7s, 0.0344 3.1s, 0.0349 5.5s, 0.0354 5.0s, 0.036 2.8s, 0.0365 4.9s, 0.037 3.7s, 0.0376 2.7s, 0.0381 2.7s, 0.0386 2.2s, 0.0392 2.0s, 0.0397 2.3s, 0.0402 2.7s, 0.0407 2.6s, 0.0413 2.6s, 0.0418 2.7s, 0.0423 2.6s, 0.0429 2.6s, 0.0434 2.0s, 0.0439 2.0s, 0.0444 2.6s, 0.045 2.6s, 0.0455 2.6s, 0.046 2.7s, 0.0466 2.8s, 0.0471 2.7s, 0.0476 2.2s, 0.0481 2.0s, 0.0487 2.2s, 0.0492 2.7s, 0.0497 2.7s, 0.0503 2.7s, 0.0508 2.7s, 0.0513 2.6s, 0.0519 2.6s, 0.0524 2.1s, 0.0529 2.0s, 0.0534 2.4s, 0.054 2.8s, 0.0545 2.6s, 0.055 2.6s, 0.0556 2.7s, 0.0561 2.7s, 0.0566 2.6s, 0.0571 2.3s, 0.0577 2.2s, 0.0582 2.9s, 0.0587 2.7s, 0.0593 2.7s, 0.0598 2.8s, 0.0603 2.9s, 0.0608 2.6s, 0.0614 2.0s, 0.0619 2.0s, 0.0624 2.7s, 0.063 2.9s, 0.0635 2.7s, 0.064 2.7s, 0.0646 2.9s, 0.0651 2.8s, 0.0656 2.5s, 0.0661 2.1s, 0.0667 2.0s, 0.0672 3.0s, 0.0677 3.0s, 0.0683 2.7s, 0.0688 2.8s, 0.0693 2.7s, 0.0698 2.7s, 0.0704 2.2s, 0.0709 2.0s, 0.0714 2.3s, 0.072 2.9s, 0.0725 2.8s, 0.073 2.7s, 0.0735 2.8s, 0.0741 2.8s, 0.0746 2.6s, 0.0751 2.4s, 0.0757 2.1s, 0.0762 2.7s, 0.0767 2.8s, 0.0772 2.7s, 0.0778 2.7s, 0.0783 2.7s, 0.0788 2.8s, 0.0794 2.2s, 0.0799 2.0s, 0.0804 2.3s, 0.081 2.7s, 0.0815 2.7s, 0.082 3.1s, 0.0825 3.1s, 0.0831 2.7s, 0.0836 2.7s, 0.0841 2.1s, 0.0847 2.0s, 0.0852 2.6s, 0.0857 2.7s, 0.0862 2.5s, 0.0868 2.7s, 0.0873 2.7s, 0.0878 2.6s, 0.0884 2.3s, 0.0889 2.1s, 0.0894 2.1s, 0.0899 2.7s, 0.0905 2.8s, 0.091 2.8s, 0.0915 2.8s, 0.0921 2.8s, 0.0926 2.7s, 0.0931 2.2s, 0.0937 2.0s, 0.0942 2.6s, 0.0947 2.7s, 0.0952 2.9s, 0.0958 2.8s, 0.0963 2.8s, 0.0968 2.6s, 0.0974 2.6s, 0.0979 2.1s, 0.0984 2.1s, 0.0989 2.8s, 0.0995 5.9s, 0.1 2.8s, 0.1005 2.8s, 0.1011 2.8s, 0.1016 2.6s, 0.1021 2.1s, 0.1026 2.0s, 0.1032 2.5s, 0.1037 2.8s, 0.1042 2.7s, 0.1048 2.7s, 0.1053 2.8s, 0.1058 2.7s, 0.1063 2.5s, 0.1069 2.0s, 0.1074 2.3s, 0.1079 2.9s, 0.1085 2.7s, 0.109 2.7s, 0.1095 2.7s, 0.1101 2.8s, 0.1106 6.4s, 0.1111 2.8s, 0.1116 2.7s, 0.1122 3.5s, 0.1127 5.2s, 0.1132 3.7s, 0.1138 4.4s, 0.1143 2.9s, 0.1148 2.8s, 0.1153 2.6s, 0.1159 4.5s, 0.1164 4.7s, 0.1169 3.6s, 0.1175 4.4s, 0.118 3.4s, 0.1185 3.1s, 0.119 2.6s, 0.1196 2.1s, 0.1201 2.6s, 0.1206 2.9s, 0.1212 3.1s, 0.1217 2.9s, 0.1222 3.0s, 0.1228 2.8s, 0.1233 2.6s, 0.1238 2.1s, 0.1243 2.7s, 0.1249 5.3s, 0.1254 4.5s, 0.1259 3.2s, 0.1265 3.0s, 0.127 3.1s, 0.1275 2.8s, 0.128 2.1s, 0.1286 2.3s, 0.1291 2.8s, 0.1296 2.9s, 0.1302 3.1s, 0.1307 3.0s, 0.1312 2.7s, 0.1317 2.6s, 0.1323 2.3s, 0.1328 2.1s, 0.1333 2.4s, 0.1339 2.8s, 0.1344 3.0s, 0.1349 3.0s, 0.1354 2.9s, 0.136 3.4s, 0.1365 3.3s, 0.137 2.3s, 0.1376 3.2s, 0.1381 3.1s, 0.1386 2.8s, 0.1392 2.9s, 0.1397 2.7s, 0.1402 2.8s, 0.1407 2.4s, 0.1413 1.9s, 0.1418 2.0s, 0.1423 2.7s, 0.1429 2.8s, 0.1434 2.8s, 0.1439 3.0s, 0.1444 3.0s, 0.145 2.9s, 0.1455 2.3s, 0.146 2.0s, 0.1466 2.6s, 0.1471 2.9s, 0.1476 2.8s, 0.1481 2.8s, 0.1487 3.0s, 0.1492 3.3s, 0.1497 2.6s, 0.1503 2.3s, 0.1508 2.4s, 0.1513 3.0s, 0.1519 2.8s, 0.1524 2.7s, 0.1529 2.6s, 0.1534 2.7s, 0.154 3.1s, 0.1545 2.1s, 0.155 2.1s, 0.1556 2.4s, 0.1561 2.7s, 0.1566 2.7s, 0.1571 2.7s, 0.1577 2.9s, 0.1582 2.8s, 0.1587 2.6s, 0.1593 2.0s, 0.1598 2.3s, 0.1603 2.7s, 0.1608 2.9s, 0.1614 6.3s, 0.1619 9.9s, 0.1624 7.0s, 0.163 6.6s, 0.1635 4.7s, 0.164 5.0s, 0.1646 5.7s, 0.1651 7.9s, 0.1656 6.8s, 0.1661 6.6s, 0.1667 4.7s, 0.1672 2.2s, 0.1677 5.5s, 0.1683 3.9s, 0.1688 6.7s, 0.1693 6.1s, 0.1698 3.8s, 0.1704 5.8s, 0.1709 5.0s, 0.1714 4.8s, 0.172 3.9s, 0.1725 3.3s, 0.173 2.9s, 0.1735 2.9s, 0.1741 2.8s, 0.1746 2.1s, 0.1751 1.9s, 0.1757 2.7s, 0.1762 2.9s, 0.1767 5.2s, 0.1772 3.4s, 0.1778 4.0s, 0.1783 4.3s, 0.1788 2.7s, 0.1794 2.6s, 0.1799 3.1s, 0.1804 5.8s, 0.181 8.6s, 0.1815 3.4s, 0.182 2.4s, 0.1825 2.3s, 0.1831 2.0s, 0.1836 1.8s, 0.1841 1.9s, 0.1847 4.9s, 0.1852 5.2s, 0.1857 3.7s, 0.1862 4.5s, 0.1868 5.2s, 0.1873 5.5s, 0.1878 3.5s, 0.1884 2.6s, 0.1889 2.4s, 0.1894 2.2s, 0.1899 3.2s, 0.1905 3.2s, 0.191 3.0s, 0.1915 2.2s, 0.1921 5.0s, 0.1926 4.3s, 0.1931 4.3s, 0.1937 3.1s, 0.1942 3.5s, 0.1947 3.2s, 0.1952 2.4s, 0.1958 3.3s, 0.1963 4.9s, 0.1968 4.8s, 0.1974 2.6s, 0.1979 2.2s, 0.1984 3.1s, 0.1989 6.5s, 0.1995 2.8s, 0.2 1.7s, 0.2005 1.8s, 0.2011 2.5s, 0.2016 3.2s, 0.2021 2.4s, 0.2026 2.4s, 0.2032 2.4s, 0.2037 2.3s, 0.2042 2.2s, 0.2048 1.7s, 0.2053 1.8s, 0.2058 2.1s, 0.2063 2.4s, 0.2069 2.3s, 0.2074 2.3s, 0.2079 2.5s, 0.2085 2.6s, 0.209 2.5s, 0.2095 1.7s, 0.2101 1.8s, 0.2106 2.0s, 0.2111 2.4s, 0.2116 2.8s, 0.2122 2.8s, 0.2127 2.4s, 0.2132 2.4s, 0.2138 2.3s, 0.2143 1.9s, 0.2148 1.8s, 0.2153 2.2s, 0.2159 2.6s, 0.2164 2.2s, 0.2169 2.6s, 0.2175 2.5s, 0.218 2.4s, 0.2185 2.0s, 0.219 1.8s, 0.2196 1.8s, 0.2201 2.2s, 0.2206 2.3s, 0.2212 2.4s, 0.2217 2.3s, 0.2222 2.4s, 0.2228 2.5s, 0.2233 3.7s, 0.2238 2.4s, 0.2243 3.2s, 0.2249 3.6s, 0.2254 2.7s, 0.2259 2.2s, 0.2265 2.8s, 0.227 2.6s, 0.2275 2.0s, 0.228 1.8s, 0.2286 1.9s, 0.2291 2.6s, 0.2296 2.6s, 0.2302 2.6s, 0.2307 2.3s, 0.2312 2.4s, 0.2317 2.4s, 0.2323 2.0s, 0.2328 2.1s, 0.2333 1.9s, 0.2339 2.8s, 0.2344 2.4s, 0.2349 2.2s, 0.2354 2.7s, 0.236 3.0s, 0.2365 2.9s, 0.237 2.0s, 0.2376 2.1s, 0.2381 2.3s, 0.2386 3.2s, 0.2392 2.6s, 0.2397 2.3s, 0.2402 2.5s, 0.2407 2.4s, 0.2413 2.0s, 0.2418 1.9s, 0.2423 1.9s, 0.2429 2.3s, 0.2434 2.5s, 0.2439 2.6s, 0.2444 2.7s, 0.245 3.0s, 0.2455 2.7s, 0.246 2.2s, 0.2466 2.0s, 0.2471 1.9s, 0.2476 2.5s, 0.2481 2.4s, 0.2487 2.3s, 0.2492 2.5s, 0.2497 2.6s, 0.2503 2.5s, 0.2508 1.9s, 0.2513 1.8s, 0.2519 2.0s, 0.2524 2.6s, 0.2529 3.0s, 0.2534 2.7s, 0.254 3.5s, 0.2545 2.9s, 0.255 2.3s, 0.2556 2.0s, 0.2561 2.0s, 0.2566 2.4s, 0.2571 2.7s, 0.2577 2.7s, 0.2582 2.5s, 0.2587 2.7s, 0.2593 2.7s, 0.2598 2.1s, 0.2603 2.2s, 0.2608 2.2s, 0.2614 2.8s, 0.2619 2.5s, 0.2624 2.4s, 0.263 2.8s, 0.2635 2.6s, 0.264 2.1s, 0.2646 2.1s, 0.2651 2.2s, 0.2656 2.7s, 0.2661 2.6s, 0.2667 2.3s, 0.2672 2.7s, 0.2677 2.6s, 0.2683 2.2s, 0.2688 2.0s, 0.2693 2.0s, 0.2698 2.6s, 0.2704 2.7s, 0.2709 2.5s, 0.2714 2.7s, 0.272 2.7s, 0.2725 2.3s, 0.273 2.0s, 0.2735 2.0s, 0.2741 2.4s, 0.2746 2.7s, 0.2751 2.6s, 0.2757 2.5s, 0.2762 2.6s, 0.2767 2.9s, 0.2772 2.1s, 0.2778 2.2s, 0.2783 2.3s, 0.2788 2.6s, 0.2794 2.5s, 0.2799 2.6s, 0.2804 2.7s, 0.281 2.7s, 0.2815 2.1s, 0.282 2.1s, 0.2825 2.1s, 0.2831 2.7s, 0.2836 2.5s, 0.2841 2.4s, 0.2847 2.8s, 0.2852 2.4s, 0.2857 2.1s, 0.2862 2.0s, 0.2868 2.0s, 0.2873 2.6s, 0.2878 3.5s, 0.2884 2.9s, 0.2889 2.8s, 0.2894 2.6s, 0.2899 2.4s, 0.2905 2.1s, 0.291 2.0s, 0.2915 2.5s, 0.2921 2.7s, 0.2926 2.5s, 0.2931 2.9s, 0.2937 2.7s, 0.2942 2.6s, 0.2947 2.2s, 0.2952 2.1s, 0.2958 2.4s, 0.2963 2.7s, 0.2968 2.6s, 0.2974 2.4s, 0.2979 2.6s, 0.2984 2.6s, 0.2989 2.1s, 0.2995 2.1s, 0.3 2.4s, 0.3005 2.9s, 0.3011 2.7s, 0.3016 2.4s, 0.3021 2.8s, 0.3026 2.6s, 0.3032 2.2s, 0.3037 2.0s, 0.3042 2.2s, 0.3048 2.6s, 0.3053 2.6s, 0.3058 3.5s, 0.3063 2.8s, 0.3069 3.0s, 0.3074 2.4s, 0.3079 2.1s, 0.3085 2.1s, 0.309 2.8s, 0.3095 2.6s, 0.3101 2.5s, 0.3106 2.9s, 0.3111 2.7s, 0.3116 2.4s, 0.3122 2.0s, 0.3127 2.1s, 0.3132 2.4s, 0.3138 2.7s, 0.3143 2.7s, 0.3148 2.8s, 0.3153 2.6s, 0.3159 2.8s, 0.3164 2.2s, 0.3169 2.2s, 0.3175 2.6s, 0.318 2.8s, 0.3185 2.6s, 0.319 2.9s, 0.3196 2.9s, 0.3201 2.5s, 0.3206 2.2s, 0.3212 2.0s, 0.3217 2.4s, 0.3222 2.8s, 0.3228 2.8s, 0.3233 2.8s, 0.3238 4.4s, 0.3243 2.2s, 0.3249 2.2s, 0.3254 2.6s, 0.3259 3.0s, 0.3265 2.8s, 0.327 2.5s, 0.3275 2.7s, 0.328 2.8s, 0.3286 2.4s, 0.3291 2.1s, 0.3296 2.4s, 0.3302 2.9s, 0.3307 2.6s, 0.3312 2.5s, 0.3317 2.7s, 0.3323 2.7s, 0.3328 2.3s, 0.3333 2.1s, 0.3339 2.2s, 0.3344 2.5s, 0.3349 2.6s, 0.3354 2.6s, 0.336 2.8s, 0.3365 2.5s, 0.337 2.5s, 0.3376 2.3s, 0.3381 2.0s, 0.3386 2.2s, 0.3392 2.7s, 0.3397 2.7s, 0.3402 3.3s, 0.3407 3.5s, 0.3413 2.5s, 0.3418 2.3s, 0.3423 2.0s, 0.3429 2.0s, 0.3434 2.4s, 0.3439 2.7s, 0.3444 2.4s, 0.345 2.6s, 0.3455 2.6s, 0.346 2.5s, 0.3466 2.2s, 0.3471 2.1s, 0.3476 2.5s, 0.3481 2.6s, 0.3487 2.5s, 0.3492 2.5s, 0.3497 2.8s, 0.3503 2.3s, 0.3508 2.2s, 0.3513 2.1s, 0.3519 2.3s, 0.3524 2.6s, 0.3529 2.3s, 0.3534 2.4s, 0.354 2.7s, 0.3545 2.4s, 0.355 2.1s, 0.3556 2.0s, 0.3561 2.0s, 0.3566 2.7s, 0.3571 2.6s, 0.3577 2.4s, 0.3582 2.8s, 0.3587 2.4s, 0.3593 2.3s, 0.3598 2.0s, 0.3603 2.1s, 0.3608 2.5s, 0.3614 2.7s, 0.3619 2.3s, 0.3624 2.6s, 0.363 2.7s, 0.3635 2.3s, 0.364 2.1s, 0.3646 2.0s, 0.3651 2.3s, 0.3656 2.7s, 0.3661 2.3s, 0.3667 2.4s, 0.3672 2.6s, 0.3677 2.4s, 0.3683 2.2s, 0.3688 2.1s, 0.3693 2.2s, 0.3698 2.7s, 0.3704 2.8s, 0.3709 2.2s, 0.3714 2.7s, 0.372 2.4s, 0.3725 2.2s, 0.373 2.0s, 0.3735 2.0s, 0.3741 2.4s, 0.3746 2.6s, 0.3751 2.3s, 0.3757 2.5s, 0.3762 2.7s, 0.3767 2.3s, 0.3772 2.1s, 0.3778 2.0s, 0.3783 2.2s, 0.3788 2.6s, 0.3794 2.3s, 0.3799 2.4s, 0.3804 2.8s, 0.381 2.4s, 0.3815 2.1s, 0.382 2.0s, 0.3825 2.0s, 0.3831 2.6s, 0.3836 2.4s, 0.3841 2.5s, 0.3847 2.8s, 0.3852 2.5s, 0.3857 2.3s, 0.3862 2.0s, 0.3868 2.0s, 0.3873 2.5s, 0.3878 2.7s, 0.3884 2.4s, 0.3889 2.5s, 0.3894 2.6s, 0.3899 2.3s, 0.3905 2.1s, 0.391 2.1s, 0.3915 2.4s, 0.3921 2.6s, 0.3926 2.5s, 0.3931 2.5s, 0.3937 2.5s, 0.3942 2.3s, 0.3947 2.1s, 0.3952 2.1s, 0.3958 2.2s, 0.3963 2.7s, 0.3968 2.2s, 0.3974 2.3s, 0.3979 2.8s, 0.3984 2.4s, 0.3989 2.2s, 0.3995 2.0s, 0.4 2.0s, 0.4005 2.8s, 0.4011 2.6s, 0.4016 2.3s, 0.4021 2.6s, 0.4026 2.8s, 0.4032 2.3s, 0.4037 2.0s, 0.4042 2.0s, 0.4048 2.5s, 0.4053 2.7s, 0.4058 2.4s, 0.4063 2.5s, 0.4069 2.5s, 0.4074 2.4s, 0.4079 2.0s, 0.4085 2.1s, 0.409 2.1s, 0.4095 2.8s, 0.4101 2.4s, 0.4106 2.4s, 0.4111 2.7s, 0.4116 2.4s, 0.4122 2.1s, 0.4127 2.0s, 0.4132 2.0s, 0.4138 2.6s, 0.4143 2.5s, 0.4148 2.5s, 0.4153 2.7s, 0.4159 2.6s, 0.4164 2.2s, 0.4169 2.1s, 0.4175 2.2s, 0.418 2.7s, 0.4185 2.5s, 0.419 2.3s, 0.4196 2.7s, 0.4201 2.5s, 0.4206 2.3s, 0.4212 2.0s, 0.4217 2.0s, 0.4222 2.4s, 0.4228 2.7s, 0.4233 2.4s, 0.4238 2.5s, 0.4243 2.6s, 0.4249 2.3s, 0.4254 2.1s, 0.4259 2.0s, 0.4265 2.2s, 0.427 2.7s, 0.4275 2.7s, 0.428 2.4s, 0.4286 2.9s, 0.4291 2.3s, 0.4296 2.2s, 0.4302 2.0s, 0.4307 2.0s, 0.4312 2.7s, 0.4317 2.4s, 0.4323 2.4s, 0.4328 2.7s, 0.4333 2.4s, 0.4339 2.3s, 0.4344 2.0s, 0.4349 2.0s, 0.4354 2.4s, 0.436 2.6s, 0.4365 2.3s, 0.437 2.5s, 0.4376 2.6s, 0.4381 2.4s, 0.4386 2.1s, 0.4392 2.0s, 0.4397 2.2s, 0.4402 2.7s, 0.4407 2.4s, 0.4413 2.3s, 0.4418 2.7s, 0.4423 2.5s, 0.4429 2.1s, 0.4434 2.0s, 0.4439 2.1s, 0.4444 2.6s, 0.445 2.4s, 0.4455 2.4s, 0.446 2.6s, 0.4466 2.6s, 0.4471 2.3s, 0.4476 2.0s, 0.4481 2.0s, 0.4487 2.5s, 0.4492 2.7s, 0.4497 2.3s, 0.4503 2.5s, 0.4508 2.5s, 0.4513 2.4s, 0.4519 2.1s, 0.4524 2.0s, 0.4529 2.5s, 0.4534 3.1s, 0.454 "
     ]
    }
   ],
   "source": [
    "#find no. of vehicles in each census tract for each time step\n",
    "final_df[\"n_veh\"] = 0\n",
    "with pd.read_csv(\"data/vehicles/Vehicle_Registration_Transactions_by_Department_of_Licensing.csv\", chunksize=chunksize, dtype={\"_2020_census_tract\": str}, usecols=[\"start_of_month\", \"state\", \"county\", \"zip_code\", \"transaction_type\", \"_2020_census_tract\", \"vehicle_record_count\"]) as reader:\n",
    "    #TODO: only read necessary columns + clean up code + print runtime for different steps and optimize the worst one(s)\n",
    "    for i,chunk in enumerate(reader):\n",
    "        start = timeit.default_timer()\n",
    "\n",
    "        #print progress\n",
    "        if np.round(i/n_chunks, 3) % 0.01 == 0 or True:\n",
    "            print(np.round(i/n_chunks, 4), \"\", end=\"\")\n",
    "\n",
    "        # convert transaction date column to date format\n",
    "        chunk[\"start_of_month\"] = pd.to_datetime(chunk[\"start_of_month\"]).dt.date #fast\n",
    "\n",
    "        #only run for 2021 for now\n",
    "        # chunk = chunk[(chunk[\"start_of_month\"] >= pd.to_datetime(\"2020-01-01\").date()) and (chunk[\"start_of_month\"] <= pd.to_datetime(\"2021-12-31\").date())]\n",
    "        # chunk = chunk[chunk[\"start_of_month\"] <= pd.to_datetime(\"2021-12-31\").date()]\n",
    "\n",
    "        #add complete census_tract column\n",
    "        chunk[\"county_FIPS_3\"] = chunk.apply(get_countyFIPS, axis=1) #1.5-2s\n",
    "        chunk[\"census_tract\"] = chunk.apply(get_census_tract, axis=1) #fast (0.5s)\n",
    "\n",
    "        for time in times: #TODO: find out how fast this is when n_veh actually contains values\n",
    "            #filter data to relevant time span and registration types (0.0055s*12*10000=11min)\n",
    "            chunk_time = chunk.loc[(chunk[\"start_of_month\"] > dt.datetime(time.year-1, time.month, time.day-1).date()) & (chunk[\"start_of_month\"] < time)]\n",
    "            chunk_time = chunk_time.loc[chunk_time[\"transaction_type\"].isin([\"Original Registration\", \"Registration Renewal\"])]\n",
    "\n",
    "            #vehicle count (0.0015s*12*10000=3min)\n",
    "            n_veh = chunk_time.groupby(\"census_tract\")[\"vehicle_record_count\"].sum()\n",
    "\n",
    "            \"\"\"\n",
    "            start_assign = timeit.default_timer()\n",
    "            if len(n_veh) > 0:\n",
    "                print(final_df[\"n_veh\"].sum())\n",
    "                for census_tract in census_tracts:\n",
    "                    if census_tract in n_veh.index:\n",
    "                        # start = timeit.default_timer()\n",
    "                        final_df.loc[(time, census_tract),\"n_veh\"] += n_veh[census_tract]\n",
    "                        # stop = timeit.default_timer()\n",
    "                        # print(\"{0:.4f}assign_inner\".format(stop-start), \"\", end=\"\")\n",
    "                print(final_df[\"n_veh\"].sum())\n",
    "            stop_assign = timeit.default_timer()\n",
    "            print(\"{0:.4f}assign\".format(stop_assign-start_assign), \"\", end=\"\")\n",
    "            #\"\"\"\n",
    "\n",
    "            #\"\"\"\n",
    "            if len(n_veh) > 0:\n",
    "                n_veh = n_veh.filter(items=census_tracts, axis=0)\n",
    "                final_df.loc[(time, slice(None)), \"n_veh\"] = final_df[\"n_veh\"].add(n_veh, fill_value=0)\n",
    "            #\"\"\"\n",
    "\n",
    "        stop = timeit.default_timer()\n",
    "        print(\"{0:.1f}s,\".format(stop-start), \"\", end=\"\")\n",
    "\n",
    "        # if i > 2:\n",
    "        #     break\n",
    "        # continue\n",
    "\n",
    "print(\"done\")"
   ]
  },
  {
   "cell_type": "code",
   "execution_count": null,
   "outputs": [],
   "source": [
    "#output of the fast method is floats (in the n_veh column), thus can convert to int\n",
    "res = final_df[\"n_veh\"].astype(int)"
   ],
   "metadata": {
    "collapsed": false
   }
  },
  {
   "cell_type": "code",
   "execution_count": 124,
   "outputs": [
    {
     "name": "stdout",
     "output_type": "stream",
     "text": [
      "                 start_of_month     county state  zip_code  \\\n",
      "190000  2021-12-01T00:00:00.000       King    WA     98101   \n",
      "190001  2021-12-01T00:00:00.000     Pierce    WA     98375   \n",
      "190002  2021-12-01T00:00:00.000       King    WA     98027   \n",
      "190003  2021-12-01T00:00:00.000       King    WA     98122   \n",
      "190004  2021-12-01T00:00:00.000    Spokane    WA     99206   \n",
      "...                         ...        ...   ...       ...   \n",
      "199995  2020-01-01T00:00:00.000     Pierce    WA     98374   \n",
      "199996  2020-01-01T00:00:00.000    Spokane    WA     99001   \n",
      "199997  2020-01-01T00:00:00.000  Snohomish    WA     98037   \n",
      "199998  2020-01-01T00:00:00.000      Clark    WA     98660   \n",
      "199999  2020-01-01T00:00:00.000       King    WA     98146   \n",
      "\n",
      "                        transaction_type _2020_census_tract  \\\n",
      "190000              Registration Renewal             007302   \n",
      "190001              Registration Renewal             073126   \n",
      "190002              Registration Renewal             031912   \n",
      "190003              Registration Renewal             007600   \n",
      "190004  Registration at Time of Transfer             011900   \n",
      "...                                  ...                ...   \n",
      "199995              Registration Renewal             071211   \n",
      "199996              Registration Renewal             010401   \n",
      "199997              Registration Renewal             051701   \n",
      "199998              Registration Renewal             041005   \n",
      "199999              Registration Renewal             026801   \n",
      "\n",
      "        vehicle_record_count  \n",
      "190000                     1  \n",
      "190001                     1  \n",
      "190002                     1  \n",
      "190003                     1  \n",
      "190004                     1  \n",
      "...                      ...  \n",
      "199995                     1  \n",
      "199996                     1  \n",
      "199997                     1  \n",
      "199998                     1  \n",
      "199999                     1  \n",
      "\n",
      "[10000 rows x 7 columns]\n"
     ]
    }
   ],
   "source": [
    "print(chunk)"
   ],
   "metadata": {
    "collapsed": false
   }
  },
  {
   "cell_type": "code",
   "execution_count": 21,
   "outputs": [
    {
     "data": {
      "text/plain": "21291"
     },
     "execution_count": 21,
     "metadata": {},
     "output_type": "execute_result"
    }
   ],
   "source": [
    "(final_df[\"n_veh\"]>0).sum()\n",
    "# final_df.shape"
   ],
   "metadata": {
    "collapsed": false
   }
  },
  {
   "cell_type": "code",
   "execution_count": 20,
   "outputs": [
    {
     "data": {
      "text/plain": "              time  census_tract_2020  county  zip_code  n_veh\n0       2015-01-31        53001950100   Adams   99169.0    0.0\n1       2015-01-31        53001950200   Adams   99371.0    0.0\n2       2015-01-31        53001950301     NaN       NaN    0.0\n3       2015-01-31        53001950302     NaN       NaN    0.0\n4       2015-01-31        53001950303     NaN       NaN    0.0\n...            ...                ...     ...       ...    ...\n165907  2022-09-30        53077940003  Yakima   98903.0    0.0\n165908  2022-09-30        53077940005  Yakima   98948.0    0.0\n165909  2022-09-30        53077940006  Yakima   98948.0    0.0\n165910  2022-09-30        53077940007     NaN       NaN    0.0\n165911  2022-09-30        53077940008     NaN       NaN    0.0\n\n[165912 rows x 5 columns]",
      "text/html": "<div>\n<style scoped>\n    .dataframe tbody tr th:only-of-type {\n        vertical-align: middle;\n    }\n\n    .dataframe tbody tr th {\n        vertical-align: top;\n    }\n\n    .dataframe thead th {\n        text-align: right;\n    }\n</style>\n<table border=\"1\" class=\"dataframe\">\n  <thead>\n    <tr style=\"text-align: right;\">\n      <th></th>\n      <th>time</th>\n      <th>census_tract_2020</th>\n      <th>county</th>\n      <th>zip_code</th>\n      <th>n_veh</th>\n    </tr>\n  </thead>\n  <tbody>\n    <tr>\n      <th>0</th>\n      <td>2015-01-31</td>\n      <td>53001950100</td>\n      <td>Adams</td>\n      <td>99169.0</td>\n      <td>0.0</td>\n    </tr>\n    <tr>\n      <th>1</th>\n      <td>2015-01-31</td>\n      <td>53001950200</td>\n      <td>Adams</td>\n      <td>99371.0</td>\n      <td>0.0</td>\n    </tr>\n    <tr>\n      <th>2</th>\n      <td>2015-01-31</td>\n      <td>53001950301</td>\n      <td>NaN</td>\n      <td>NaN</td>\n      <td>0.0</td>\n    </tr>\n    <tr>\n      <th>3</th>\n      <td>2015-01-31</td>\n      <td>53001950302</td>\n      <td>NaN</td>\n      <td>NaN</td>\n      <td>0.0</td>\n    </tr>\n    <tr>\n      <th>4</th>\n      <td>2015-01-31</td>\n      <td>53001950303</td>\n      <td>NaN</td>\n      <td>NaN</td>\n      <td>0.0</td>\n    </tr>\n    <tr>\n      <th>...</th>\n      <td>...</td>\n      <td>...</td>\n      <td>...</td>\n      <td>...</td>\n      <td>...</td>\n    </tr>\n    <tr>\n      <th>165907</th>\n      <td>2022-09-30</td>\n      <td>53077940003</td>\n      <td>Yakima</td>\n      <td>98903.0</td>\n      <td>0.0</td>\n    </tr>\n    <tr>\n      <th>165908</th>\n      <td>2022-09-30</td>\n      <td>53077940005</td>\n      <td>Yakima</td>\n      <td>98948.0</td>\n      <td>0.0</td>\n    </tr>\n    <tr>\n      <th>165909</th>\n      <td>2022-09-30</td>\n      <td>53077940006</td>\n      <td>Yakima</td>\n      <td>98948.0</td>\n      <td>0.0</td>\n    </tr>\n    <tr>\n      <th>165910</th>\n      <td>2022-09-30</td>\n      <td>53077940007</td>\n      <td>NaN</td>\n      <td>NaN</td>\n      <td>0.0</td>\n    </tr>\n    <tr>\n      <th>165911</th>\n      <td>2022-09-30</td>\n      <td>53077940008</td>\n      <td>NaN</td>\n      <td>NaN</td>\n      <td>0.0</td>\n    </tr>\n  </tbody>\n</table>\n<p>165912 rows × 5 columns</p>\n</div>"
     },
     "execution_count": 20,
     "metadata": {},
     "output_type": "execute_result"
    }
   ],
   "source": [
    "final_df"
   ],
   "metadata": {
    "collapsed": false
   }
  },
  {
   "cell_type": "code",
   "execution_count": 51,
   "outputs": [
    {
     "data": {
      "text/plain": "'veh_counts_file4_'"
     },
     "execution_count": 51,
     "metadata": {},
     "output_type": "execute_result"
    }
   ],
   "source": [
    "name = \"veh_counts2021\"\n",
    "number = 4\n",
    "name = \"veh_counts_file%d\"%number\n",
    "name = \"veh_counts_file%d_\"%number\n",
    "name"
   ],
   "metadata": {
    "collapsed": false
   }
  },
  {
   "cell_type": "code",
   "execution_count": 52,
   "outputs": [
    {
     "data": {
      "text/plain": "                               n_veh  n_veh_new_sales  n_veh_used_sales  \\\ntime       census_tract_2020                                              \n2015-01-31 53001950100           0.0              0.0               0.0   \n           53001950200           0.0              0.0               0.0   \n           53001950301           0.0              0.0               0.0   \n           53001950302           0.0              0.0               0.0   \n           53001950303           0.0              0.0               0.0   \n...                              ...              ...               ...   \n2022-09-30 53077940003        2230.0              9.0              24.0   \n           53077940005        4126.0              6.0              77.0   \n           53077940006        4079.0             10.0              81.0   \n           53077940007        3566.0              8.0              34.0   \n           53077940008        1886.0              4.0              32.0   \n\n                              n_veh_renewals  \ntime       census_tract_2020                  \n2015-01-31 53001950100                   0.0  \n           53001950200                   0.0  \n           53001950301                   0.0  \n           53001950302                   0.0  \n           53001950303                   0.0  \n...                                      ...  \n2022-09-30 53077940003                 139.0  \n           53077940005                 272.0  \n           53077940006                 276.0  \n           53077940007                 229.0  \n           53077940008                 137.0  \n\n[165912 rows x 4 columns]",
      "text/html": "<div>\n<style scoped>\n    .dataframe tbody tr th:only-of-type {\n        vertical-align: middle;\n    }\n\n    .dataframe tbody tr th {\n        vertical-align: top;\n    }\n\n    .dataframe thead th {\n        text-align: right;\n    }\n</style>\n<table border=\"1\" class=\"dataframe\">\n  <thead>\n    <tr style=\"text-align: right;\">\n      <th></th>\n      <th></th>\n      <th>n_veh</th>\n      <th>n_veh_new_sales</th>\n      <th>n_veh_used_sales</th>\n      <th>n_veh_renewals</th>\n    </tr>\n    <tr>\n      <th>time</th>\n      <th>census_tract_2020</th>\n      <th></th>\n      <th></th>\n      <th></th>\n      <th></th>\n    </tr>\n  </thead>\n  <tbody>\n    <tr>\n      <th rowspan=\"5\" valign=\"top\">2015-01-31</th>\n      <th>53001950100</th>\n      <td>0.0</td>\n      <td>0.0</td>\n      <td>0.0</td>\n      <td>0.0</td>\n    </tr>\n    <tr>\n      <th>53001950200</th>\n      <td>0.0</td>\n      <td>0.0</td>\n      <td>0.0</td>\n      <td>0.0</td>\n    </tr>\n    <tr>\n      <th>53001950301</th>\n      <td>0.0</td>\n      <td>0.0</td>\n      <td>0.0</td>\n      <td>0.0</td>\n    </tr>\n    <tr>\n      <th>53001950302</th>\n      <td>0.0</td>\n      <td>0.0</td>\n      <td>0.0</td>\n      <td>0.0</td>\n    </tr>\n    <tr>\n      <th>53001950303</th>\n      <td>0.0</td>\n      <td>0.0</td>\n      <td>0.0</td>\n      <td>0.0</td>\n    </tr>\n    <tr>\n      <th>...</th>\n      <th>...</th>\n      <td>...</td>\n      <td>...</td>\n      <td>...</td>\n      <td>...</td>\n    </tr>\n    <tr>\n      <th rowspan=\"5\" valign=\"top\">2022-09-30</th>\n      <th>53077940003</th>\n      <td>2230.0</td>\n      <td>9.0</td>\n      <td>24.0</td>\n      <td>139.0</td>\n    </tr>\n    <tr>\n      <th>53077940005</th>\n      <td>4126.0</td>\n      <td>6.0</td>\n      <td>77.0</td>\n      <td>272.0</td>\n    </tr>\n    <tr>\n      <th>53077940006</th>\n      <td>4079.0</td>\n      <td>10.0</td>\n      <td>81.0</td>\n      <td>276.0</td>\n    </tr>\n    <tr>\n      <th>53077940007</th>\n      <td>3566.0</td>\n      <td>8.0</td>\n      <td>34.0</td>\n      <td>229.0</td>\n    </tr>\n    <tr>\n      <th>53077940008</th>\n      <td>1886.0</td>\n      <td>4.0</td>\n      <td>32.0</td>\n      <td>137.0</td>\n    </tr>\n  </tbody>\n</table>\n<p>165912 rows × 4 columns</p>\n</div>"
     },
     "execution_count": 52,
     "metadata": {},
     "output_type": "execute_result"
    }
   ],
   "source": [
    "final_df2 = pd.read_csv(\"data/vehicles/%s.csv\"%name, usecols=[\"time\", \"census_tract\"] + columns)\n",
    "# final_df2 = pd.read_csv(\"data/vehicles/%s_2010tracts.csv\"%name, usecols=[\"time\", \"census_tract_2010\", \"n_veh\"])\n",
    "final_df2[\"time\"] = pd.to_datetime(final_df2[\"time\"])\n",
    "final_df2 = final_df2.rename({\"census_tract\": \"census_tract_2020\"}, axis=1)\n",
    "final_df2 = final_df2.set_index([\"time\", \"census_tract_2020\"])\n",
    "# final_df2.index = final_df2.index.set_names(\"census_tract_2020\", level=1)\n",
    "final_df2"
   ],
   "metadata": {
    "collapsed": false
   }
  },
  {
   "cell_type": "code",
   "execution_count": 53,
   "outputs": [
    {
     "data": {
      "text/plain": "                               n_veh  n_veh_new_sales  n_veh_used_sales  \\\ntime       census_tract_2010                                              \n2015-01-31 53001950100           0.0              0.0               0.0   \n           53001950200           0.0              0.0               0.0   \n           53001950300           0.0              0.0               0.0   \n           53001950400           0.0              0.0               0.0   \n           53001950500           0.0              0.0               0.0   \n...                              ...              ...               ...   \n2022-09-30 53077940002        4101.0             18.0              59.0   \n           53077940003        2230.0              9.0              24.0   \n           53077940004        5452.0             12.0              66.0   \n           53077940005        4126.0              6.0              77.0   \n           53077940006        4079.0             10.0              81.0   \n\n                              n_veh_renewals  \ntime       census_tract_2010                  \n2015-01-31 53001950100                   0.0  \n           53001950200                   0.0  \n           53001950300                   0.0  \n           53001950400                   0.0  \n           53001950500                   0.0  \n...                                      ...  \n2022-09-30 53077940002                 247.0  \n           53077940003                 139.0  \n           53077940004                 366.0  \n           53077940005                 272.0  \n           53077940006                 276.0  \n\n[135501 rows x 4 columns]",
      "text/html": "<div>\n<style scoped>\n    .dataframe tbody tr th:only-of-type {\n        vertical-align: middle;\n    }\n\n    .dataframe tbody tr th {\n        vertical-align: top;\n    }\n\n    .dataframe thead th {\n        text-align: right;\n    }\n</style>\n<table border=\"1\" class=\"dataframe\">\n  <thead>\n    <tr style=\"text-align: right;\">\n      <th></th>\n      <th></th>\n      <th>n_veh</th>\n      <th>n_veh_new_sales</th>\n      <th>n_veh_used_sales</th>\n      <th>n_veh_renewals</th>\n    </tr>\n    <tr>\n      <th>time</th>\n      <th>census_tract_2010</th>\n      <th></th>\n      <th></th>\n      <th></th>\n      <th></th>\n    </tr>\n  </thead>\n  <tbody>\n    <tr>\n      <th rowspan=\"5\" valign=\"top\">2015-01-31</th>\n      <th>53001950100</th>\n      <td>0.0</td>\n      <td>0.0</td>\n      <td>0.0</td>\n      <td>0.0</td>\n    </tr>\n    <tr>\n      <th>53001950200</th>\n      <td>0.0</td>\n      <td>0.0</td>\n      <td>0.0</td>\n      <td>0.0</td>\n    </tr>\n    <tr>\n      <th>53001950300</th>\n      <td>0.0</td>\n      <td>0.0</td>\n      <td>0.0</td>\n      <td>0.0</td>\n    </tr>\n    <tr>\n      <th>53001950400</th>\n      <td>0.0</td>\n      <td>0.0</td>\n      <td>0.0</td>\n      <td>0.0</td>\n    </tr>\n    <tr>\n      <th>53001950500</th>\n      <td>0.0</td>\n      <td>0.0</td>\n      <td>0.0</td>\n      <td>0.0</td>\n    </tr>\n    <tr>\n      <th>...</th>\n      <th>...</th>\n      <td>...</td>\n      <td>...</td>\n      <td>...</td>\n      <td>...</td>\n    </tr>\n    <tr>\n      <th rowspan=\"5\" valign=\"top\">2022-09-30</th>\n      <th>53077940002</th>\n      <td>4101.0</td>\n      <td>18.0</td>\n      <td>59.0</td>\n      <td>247.0</td>\n    </tr>\n    <tr>\n      <th>53077940003</th>\n      <td>2230.0</td>\n      <td>9.0</td>\n      <td>24.0</td>\n      <td>139.0</td>\n    </tr>\n    <tr>\n      <th>53077940004</th>\n      <td>5452.0</td>\n      <td>12.0</td>\n      <td>66.0</td>\n      <td>366.0</td>\n    </tr>\n    <tr>\n      <th>53077940005</th>\n      <td>4126.0</td>\n      <td>6.0</td>\n      <td>77.0</td>\n      <td>272.0</td>\n    </tr>\n    <tr>\n      <th>53077940006</th>\n      <td>4079.0</td>\n      <td>10.0</td>\n      <td>81.0</td>\n      <td>276.0</td>\n    </tr>\n  </tbody>\n</table>\n<p>135501 rows × 4 columns</p>\n</div>"
     },
     "execution_count": 53,
     "metadata": {},
     "output_type": "execute_result"
    }
   ],
   "source": [
    "#express in terms of 2010 census tracts as the index\n",
    "final_df_2010tracts = final_df2.reset_index()\n",
    "final_df_2010tracts[\"census_tract_2010\"] = final_df_2010tracts[\"census_tract_2020\"].map(df_tract_20_10.to_dict())\n",
    "\n",
    "final_df_2010tracts2 = final_df_2010tracts[[\"time\", \"census_tract_2010\", \"census_tract_2020\"] + columns].groupby([\"time\", \"census_tract_2010\"]).sum()\n",
    "final_df_2010tracts2 = final_df_2010tracts2.drop(\"census_tract_2020\", axis=1)\n",
    "\n",
    "final_df_2010tracts2.to_csv(\"data/vehicles/%s_2010tracts.csv\"%name)\n",
    "final_df_2010tracts2"
   ],
   "metadata": {
    "collapsed": false
   }
  },
  {
   "cell_type": "code",
   "execution_count": 99,
   "outputs": [
    {
     "data": {
      "text/plain": "                              county zip_code countyFIPS  n_veh  \\\ntime       census_tract_2010                                      \n2017-01-31 53001950100         Adams    99169      53001      0   \n           53001950200         Adams    99371      53001      0   \n           53001950300         Adams    99344      53001      0   \n           53001950400         Adams    99344      53001      0   \n           53001950500         Adams    99344      53001      0   \n...                              ...      ...        ...    ...   \n2022-09-30 53077940002        Yakima    98948      53077      0   \n           53077940003        Yakima    98903      53077      0   \n           53077940004        Yakima    98951      53077      0   \n           53077940005        Yakima    98948      53077      0   \n           53077940006        Yakima    98948      53077      0   \n\n                              n_veh_new_sales  n_veh_used_sales  \\\ntime       census_tract_2010                                      \n2017-01-31 53001950100                      0                 0   \n           53001950200                      0                 0   \n           53001950300                      0                 0   \n           53001950400                      0                 0   \n           53001950500                      0                 0   \n...                                       ...               ...   \n2022-09-30 53077940002                      0                 0   \n           53077940003                      0                 0   \n           53077940004                      0                 0   \n           53077940005                      0                 0   \n           53077940006                      0                 0   \n\n                              n_veh_renewals  \ntime       census_tract_2010                  \n2017-01-31 53001950100                     0  \n           53001950200                     0  \n           53001950300                     0  \n           53001950400                     0  \n           53001950500                     0  \n...                                      ...  \n2022-09-30 53077940002                     0  \n           53077940003                     0  \n           53077940004                     0  \n           53077940005                     0  \n           53077940006                     0  \n\n[100602 rows x 7 columns]",
      "text/html": "<div>\n<style scoped>\n    .dataframe tbody tr th:only-of-type {\n        vertical-align: middle;\n    }\n\n    .dataframe tbody tr th {\n        vertical-align: top;\n    }\n\n    .dataframe thead th {\n        text-align: right;\n    }\n</style>\n<table border=\"1\" class=\"dataframe\">\n  <thead>\n    <tr style=\"text-align: right;\">\n      <th></th>\n      <th></th>\n      <th>county</th>\n      <th>zip_code</th>\n      <th>countyFIPS</th>\n      <th>n_veh</th>\n      <th>n_veh_new_sales</th>\n      <th>n_veh_used_sales</th>\n      <th>n_veh_renewals</th>\n    </tr>\n    <tr>\n      <th>time</th>\n      <th>census_tract_2010</th>\n      <th></th>\n      <th></th>\n      <th></th>\n      <th></th>\n      <th></th>\n      <th></th>\n      <th></th>\n    </tr>\n  </thead>\n  <tbody>\n    <tr>\n      <th rowspan=\"5\" valign=\"top\">2017-01-31</th>\n      <th>53001950100</th>\n      <td>Adams</td>\n      <td>99169</td>\n      <td>53001</td>\n      <td>0</td>\n      <td>0</td>\n      <td>0</td>\n      <td>0</td>\n    </tr>\n    <tr>\n      <th>53001950200</th>\n      <td>Adams</td>\n      <td>99371</td>\n      <td>53001</td>\n      <td>0</td>\n      <td>0</td>\n      <td>0</td>\n      <td>0</td>\n    </tr>\n    <tr>\n      <th>53001950300</th>\n      <td>Adams</td>\n      <td>99344</td>\n      <td>53001</td>\n      <td>0</td>\n      <td>0</td>\n      <td>0</td>\n      <td>0</td>\n    </tr>\n    <tr>\n      <th>53001950400</th>\n      <td>Adams</td>\n      <td>99344</td>\n      <td>53001</td>\n      <td>0</td>\n      <td>0</td>\n      <td>0</td>\n      <td>0</td>\n    </tr>\n    <tr>\n      <th>53001950500</th>\n      <td>Adams</td>\n      <td>99344</td>\n      <td>53001</td>\n      <td>0</td>\n      <td>0</td>\n      <td>0</td>\n      <td>0</td>\n    </tr>\n    <tr>\n      <th>...</th>\n      <th>...</th>\n      <td>...</td>\n      <td>...</td>\n      <td>...</td>\n      <td>...</td>\n      <td>...</td>\n      <td>...</td>\n      <td>...</td>\n    </tr>\n    <tr>\n      <th rowspan=\"5\" valign=\"top\">2022-09-30</th>\n      <th>53077940002</th>\n      <td>Yakima</td>\n      <td>98948</td>\n      <td>53077</td>\n      <td>0</td>\n      <td>0</td>\n      <td>0</td>\n      <td>0</td>\n    </tr>\n    <tr>\n      <th>53077940003</th>\n      <td>Yakima</td>\n      <td>98903</td>\n      <td>53077</td>\n      <td>0</td>\n      <td>0</td>\n      <td>0</td>\n      <td>0</td>\n    </tr>\n    <tr>\n      <th>53077940004</th>\n      <td>Yakima</td>\n      <td>98951</td>\n      <td>53077</td>\n      <td>0</td>\n      <td>0</td>\n      <td>0</td>\n      <td>0</td>\n    </tr>\n    <tr>\n      <th>53077940005</th>\n      <td>Yakima</td>\n      <td>98948</td>\n      <td>53077</td>\n      <td>0</td>\n      <td>0</td>\n      <td>0</td>\n      <td>0</td>\n    </tr>\n    <tr>\n      <th>53077940006</th>\n      <td>Yakima</td>\n      <td>98948</td>\n      <td>53077</td>\n      <td>0</td>\n      <td>0</td>\n      <td>0</td>\n      <td>0</td>\n    </tr>\n  </tbody>\n</table>\n<p>100602 rows × 7 columns</p>\n</div>"
     },
     "execution_count": 99,
     "metadata": {},
     "output_type": "execute_result"
    }
   ],
   "source": [
    "#create empty dataframe that's supposed to hold the data summed from all 4 files\n",
    "# times_data = [u.get_last_day_of_month(dt.datetime(year=y, month=m, day=20)) for y in range(2017,2023) for m in range(1,13)][:-3]\n",
    "df_veh_all_files = u.create_empty_df(times_data, census_tracts_2010)\n",
    "df_veh_all_files[columns] = 0\n",
    "df_veh_all_files"
   ],
   "metadata": {
    "collapsed": false
   }
  },
  {
   "cell_type": "code",
   "execution_count": 100,
   "outputs": [],
   "source": [
    "df_veh_all_files_empty = df_veh_all_files.copy()"
   ],
   "metadata": {
    "collapsed": false
   }
  },
  {
   "cell_type": "code",
   "execution_count": 101,
   "outputs": [],
   "source": [
    "df_veh_all_files = df_veh_all_files_empty.copy()"
   ],
   "metadata": {
    "collapsed": false
   }
  },
  {
   "cell_type": "code",
   "execution_count": 102,
   "outputs": [
    {
     "data": {
      "text/plain": "                              county zip_code countyFIPS  n_veh  \\\ntime       census_tract_2010                                      \n2017-01-31 53001950100         Adams    99169      53001      0   \n           53001950200         Adams    99371      53001      0   \n           53001950300         Adams    99344      53001      0   \n           53001950400         Adams    99344      53001      0   \n           53001950500         Adams    99344      53001      0   \n...                              ...      ...        ...    ...   \n2022-09-30 53077940002        Yakima    98948      53077      0   \n           53077940003        Yakima    98903      53077      0   \n           53077940004        Yakima    98951      53077      0   \n           53077940005        Yakima    98948      53077      0   \n           53077940006        Yakima    98948      53077      0   \n\n                              n_veh_new_sales  n_veh_used_sales  \\\ntime       census_tract_2010                                      \n2017-01-31 53001950100                      0                 0   \n           53001950200                      0                 0   \n           53001950300                      0                 0   \n           53001950400                      0                 0   \n           53001950500                      0                 0   \n...                                       ...               ...   \n2022-09-30 53077940002                      0                 0   \n           53077940003                      0                 0   \n           53077940004                      0                 0   \n           53077940005                      0                 0   \n           53077940006                      0                 0   \n\n                              n_veh_renewals  \ntime       census_tract_2010                  \n2017-01-31 53001950100                     0  \n           53001950200                     0  \n           53001950300                     0  \n           53001950400                     0  \n           53001950500                     0  \n...                                      ...  \n2022-09-30 53077940002                     0  \n           53077940003                     0  \n           53077940004                     0  \n           53077940005                     0  \n           53077940006                     0  \n\n[100602 rows x 7 columns]",
      "text/html": "<div>\n<style scoped>\n    .dataframe tbody tr th:only-of-type {\n        vertical-align: middle;\n    }\n\n    .dataframe tbody tr th {\n        vertical-align: top;\n    }\n\n    .dataframe thead th {\n        text-align: right;\n    }\n</style>\n<table border=\"1\" class=\"dataframe\">\n  <thead>\n    <tr style=\"text-align: right;\">\n      <th></th>\n      <th></th>\n      <th>county</th>\n      <th>zip_code</th>\n      <th>countyFIPS</th>\n      <th>n_veh</th>\n      <th>n_veh_new_sales</th>\n      <th>n_veh_used_sales</th>\n      <th>n_veh_renewals</th>\n    </tr>\n    <tr>\n      <th>time</th>\n      <th>census_tract_2010</th>\n      <th></th>\n      <th></th>\n      <th></th>\n      <th></th>\n      <th></th>\n      <th></th>\n      <th></th>\n    </tr>\n  </thead>\n  <tbody>\n    <tr>\n      <th rowspan=\"5\" valign=\"top\">2017-01-31</th>\n      <th>53001950100</th>\n      <td>Adams</td>\n      <td>99169</td>\n      <td>53001</td>\n      <td>0</td>\n      <td>0</td>\n      <td>0</td>\n      <td>0</td>\n    </tr>\n    <tr>\n      <th>53001950200</th>\n      <td>Adams</td>\n      <td>99371</td>\n      <td>53001</td>\n      <td>0</td>\n      <td>0</td>\n      <td>0</td>\n      <td>0</td>\n    </tr>\n    <tr>\n      <th>53001950300</th>\n      <td>Adams</td>\n      <td>99344</td>\n      <td>53001</td>\n      <td>0</td>\n      <td>0</td>\n      <td>0</td>\n      <td>0</td>\n    </tr>\n    <tr>\n      <th>53001950400</th>\n      <td>Adams</td>\n      <td>99344</td>\n      <td>53001</td>\n      <td>0</td>\n      <td>0</td>\n      <td>0</td>\n      <td>0</td>\n    </tr>\n    <tr>\n      <th>53001950500</th>\n      <td>Adams</td>\n      <td>99344</td>\n      <td>53001</td>\n      <td>0</td>\n      <td>0</td>\n      <td>0</td>\n      <td>0</td>\n    </tr>\n    <tr>\n      <th>...</th>\n      <th>...</th>\n      <td>...</td>\n      <td>...</td>\n      <td>...</td>\n      <td>...</td>\n      <td>...</td>\n      <td>...</td>\n      <td>...</td>\n    </tr>\n    <tr>\n      <th rowspan=\"5\" valign=\"top\">2022-09-30</th>\n      <th>53077940002</th>\n      <td>Yakima</td>\n      <td>98948</td>\n      <td>53077</td>\n      <td>0</td>\n      <td>0</td>\n      <td>0</td>\n      <td>0</td>\n    </tr>\n    <tr>\n      <th>53077940003</th>\n      <td>Yakima</td>\n      <td>98903</td>\n      <td>53077</td>\n      <td>0</td>\n      <td>0</td>\n      <td>0</td>\n      <td>0</td>\n    </tr>\n    <tr>\n      <th>53077940004</th>\n      <td>Yakima</td>\n      <td>98951</td>\n      <td>53077</td>\n      <td>0</td>\n      <td>0</td>\n      <td>0</td>\n      <td>0</td>\n    </tr>\n    <tr>\n      <th>53077940005</th>\n      <td>Yakima</td>\n      <td>98948</td>\n      <td>53077</td>\n      <td>0</td>\n      <td>0</td>\n      <td>0</td>\n      <td>0</td>\n    </tr>\n    <tr>\n      <th>53077940006</th>\n      <td>Yakima</td>\n      <td>98948</td>\n      <td>53077</td>\n      <td>0</td>\n      <td>0</td>\n      <td>0</td>\n      <td>0</td>\n    </tr>\n  </tbody>\n</table>\n<p>100602 rows × 7 columns</p>\n</div>"
     },
     "execution_count": 102,
     "metadata": {},
     "output_type": "execute_result"
    }
   ],
   "source": [
    "df_veh_all_files"
   ],
   "metadata": {
    "collapsed": false
   }
  },
  {
   "cell_type": "code",
   "execution_count": 103,
   "outputs": [
    {
     "name": "stdout",
     "output_type": "stream",
     "text": [
      "Adding data/vehicles/veh_counts_file1__2010tracts.csv...\n",
      "Adding data/vehicles/veh_counts_file2__2010tracts.csv...\n",
      "Adding data/vehicles/veh_counts_file3__2010tracts.csv...\n",
      "Adding data/vehicles/veh_counts_file4__2010tracts.csv...\n"
     ]
    }
   ],
   "source": [
    "#sum up vehicle counts derived from file 1, 2, and 3\n",
    "filenames = []\n",
    "filenames += [\"data/vehicles/veh_counts_file1__2010tracts.csv\"] #01/2017-02/2018\n",
    "filenames += [\"data/vehicles/veh_counts_file2__2010tracts.csv\"] #02/2018-01/2019\n",
    "filenames += [\"data/vehicles/veh_counts_file3__2010tracts.csv\"] #01/2019-12/2019\n",
    "filenames += [\"data/vehicles/veh_counts_file4__2010tracts.csv\"] #01/2020-present\n",
    "\n",
    "for filename in filenames:\n",
    "    print(\"Adding %s...\"%filename)\n",
    "\n",
    "    df_veh = pd.read_csv(filename)\n",
    "    df_veh[\"time\"] = pd.to_datetime(df_veh[\"time\"]).dt.date\n",
    "    df_veh = df_veh.set_index([\"time\", \"census_tract_2010\"])\n",
    "\n",
    "    df_veh_all_files[columns] += df_veh[columns]"
   ],
   "metadata": {
    "collapsed": false
   }
  },
  {
   "cell_type": "code",
   "execution_count": 104,
   "outputs": [
    {
     "data": {
      "text/plain": "                              county zip_code countyFIPS   n_veh  \\\ntime       census_tract_2010                                       \n2017-01-31 53001950100         Adams    99169      53001   147.0   \n           53001950200         Adams    99371      53001   122.0   \n           53001950300         Adams    99344      53001   388.0   \n           53001950400         Adams    99344      53001   145.0   \n           53001950500         Adams    99344      53001   262.0   \n...                              ...      ...        ...     ...   \n2022-09-30 53077940002        Yakima    98948      53077  4101.0   \n           53077940003        Yakima    98903      53077  2230.0   \n           53077940004        Yakima    98951      53077  5452.0   \n           53077940005        Yakima    98948      53077  4126.0   \n           53077940006        Yakima    98948      53077  4079.0   \n\n                              n_veh_new_sales  n_veh_used_sales  \\\ntime       census_tract_2010                                      \n2017-01-31 53001950100                   14.0              14.0   \n           53001950200                   15.0               9.0   \n           53001950300                   24.0              48.0   \n           53001950400                   13.0              17.0   \n           53001950500                   24.0              37.0   \n...                                       ...               ...   \n2022-09-30 53077940002                   18.0              59.0   \n           53077940003                    9.0              24.0   \n           53077940004                   12.0              66.0   \n           53077940005                    6.0              77.0   \n           53077940006                   10.0              81.0   \n\n                              n_veh_renewals  \ntime       census_tract_2010                  \n2017-01-31 53001950100                 119.0  \n           53001950200                  98.0  \n           53001950300                 316.0  \n           53001950400                 115.0  \n           53001950500                 201.0  \n...                                      ...  \n2022-09-30 53077940002                 247.0  \n           53077940003                 139.0  \n           53077940004                 366.0  \n           53077940005                 272.0  \n           53077940006                 276.0  \n\n[100602 rows x 7 columns]",
      "text/html": "<div>\n<style scoped>\n    .dataframe tbody tr th:only-of-type {\n        vertical-align: middle;\n    }\n\n    .dataframe tbody tr th {\n        vertical-align: top;\n    }\n\n    .dataframe thead th {\n        text-align: right;\n    }\n</style>\n<table border=\"1\" class=\"dataframe\">\n  <thead>\n    <tr style=\"text-align: right;\">\n      <th></th>\n      <th></th>\n      <th>county</th>\n      <th>zip_code</th>\n      <th>countyFIPS</th>\n      <th>n_veh</th>\n      <th>n_veh_new_sales</th>\n      <th>n_veh_used_sales</th>\n      <th>n_veh_renewals</th>\n    </tr>\n    <tr>\n      <th>time</th>\n      <th>census_tract_2010</th>\n      <th></th>\n      <th></th>\n      <th></th>\n      <th></th>\n      <th></th>\n      <th></th>\n      <th></th>\n    </tr>\n  </thead>\n  <tbody>\n    <tr>\n      <th rowspan=\"5\" valign=\"top\">2017-01-31</th>\n      <th>53001950100</th>\n      <td>Adams</td>\n      <td>99169</td>\n      <td>53001</td>\n      <td>147.0</td>\n      <td>14.0</td>\n      <td>14.0</td>\n      <td>119.0</td>\n    </tr>\n    <tr>\n      <th>53001950200</th>\n      <td>Adams</td>\n      <td>99371</td>\n      <td>53001</td>\n      <td>122.0</td>\n      <td>15.0</td>\n      <td>9.0</td>\n      <td>98.0</td>\n    </tr>\n    <tr>\n      <th>53001950300</th>\n      <td>Adams</td>\n      <td>99344</td>\n      <td>53001</td>\n      <td>388.0</td>\n      <td>24.0</td>\n      <td>48.0</td>\n      <td>316.0</td>\n    </tr>\n    <tr>\n      <th>53001950400</th>\n      <td>Adams</td>\n      <td>99344</td>\n      <td>53001</td>\n      <td>145.0</td>\n      <td>13.0</td>\n      <td>17.0</td>\n      <td>115.0</td>\n    </tr>\n    <tr>\n      <th>53001950500</th>\n      <td>Adams</td>\n      <td>99344</td>\n      <td>53001</td>\n      <td>262.0</td>\n      <td>24.0</td>\n      <td>37.0</td>\n      <td>201.0</td>\n    </tr>\n    <tr>\n      <th>...</th>\n      <th>...</th>\n      <td>...</td>\n      <td>...</td>\n      <td>...</td>\n      <td>...</td>\n      <td>...</td>\n      <td>...</td>\n      <td>...</td>\n    </tr>\n    <tr>\n      <th rowspan=\"5\" valign=\"top\">2022-09-30</th>\n      <th>53077940002</th>\n      <td>Yakima</td>\n      <td>98948</td>\n      <td>53077</td>\n      <td>4101.0</td>\n      <td>18.0</td>\n      <td>59.0</td>\n      <td>247.0</td>\n    </tr>\n    <tr>\n      <th>53077940003</th>\n      <td>Yakima</td>\n      <td>98903</td>\n      <td>53077</td>\n      <td>2230.0</td>\n      <td>9.0</td>\n      <td>24.0</td>\n      <td>139.0</td>\n    </tr>\n    <tr>\n      <th>53077940004</th>\n      <td>Yakima</td>\n      <td>98951</td>\n      <td>53077</td>\n      <td>5452.0</td>\n      <td>12.0</td>\n      <td>66.0</td>\n      <td>366.0</td>\n    </tr>\n    <tr>\n      <th>53077940005</th>\n      <td>Yakima</td>\n      <td>98948</td>\n      <td>53077</td>\n      <td>4126.0</td>\n      <td>6.0</td>\n      <td>77.0</td>\n      <td>272.0</td>\n    </tr>\n    <tr>\n      <th>53077940006</th>\n      <td>Yakima</td>\n      <td>98948</td>\n      <td>53077</td>\n      <td>4079.0</td>\n      <td>10.0</td>\n      <td>81.0</td>\n      <td>276.0</td>\n    </tr>\n  </tbody>\n</table>\n<p>100602 rows × 7 columns</p>\n</div>"
     },
     "execution_count": 104,
     "metadata": {},
     "output_type": "execute_result"
    }
   ],
   "source": [
    "df_veh_all_files"
   ],
   "metadata": {
    "collapsed": false
   }
  },
  {
   "cell_type": "code",
   "execution_count": 106,
   "outputs": [],
   "source": [
    "df_veh_all_files.to_csv(\"data/vehicles/veh_counts__2010tracts.csv\")"
   ],
   "metadata": {
    "collapsed": false
   }
  },
  {
   "cell_type": "code",
   "execution_count": null,
   "outputs": [],
   "source": [],
   "metadata": {
    "collapsed": false
   }
  },
  {
   "cell_type": "code",
   "execution_count": 119,
   "outputs": [
    {
     "name": "stdout",
     "output_type": "stream",
     "text": [
      "2015-01-31\n",
      "<class 'datetime.date'>\n",
      "                              n_veh\n",
      "time       census_tract_2010       \n",
      "2015-01-31 5.300195e+10         0.0\n",
      "           5.300195e+10         0.0\n",
      "           5.300195e+10         0.0\n",
      "           5.300195e+10         0.0\n",
      "           5.300195e+10         0.0\n",
      "...                             ...\n",
      "2022-09-30 5.307794e+10         0.0\n",
      "           5.307794e+10         0.0\n",
      "           5.307794e+10         0.0\n",
      "           5.307794e+10         0.0\n",
      "           5.307794e+10         0.0\n",
      "\n",
      "[135501 rows x 1 columns]\n",
      "2021-01-31 j\n",
      "n_veh    0.0\n",
      "Name: (2015-01-31 00:00:00, 53001950100.0), dtype: float64\n",
      "time        census_tract_2010\n",
      "2015-01-31  5.300195e+10         0.0\n",
      "            5.300195e+10         0.0\n",
      "            5.300195e+10         0.0\n",
      "            5.300195e+10         0.0\n",
      "            5.300195e+10         0.0\n",
      "                                ... \n",
      "            5.307794e+10         0.0\n",
      "            5.307794e+10         0.0\n",
      "            5.307794e+10         0.0\n",
      "            5.307794e+10         0.0\n",
      "            5.307794e+10         0.0\n",
      "Name: n_veh, Length: 1457, dtype: float64\n",
      "time        census_tract_2010\n",
      "2021-01-31  5.300195e+10         2066.0\n",
      "            5.300195e+10         1439.0\n",
      "            5.300195e+10         6123.0\n",
      "            5.300195e+10         2039.0\n",
      "            5.300195e+10         4125.0\n",
      "                                  ...  \n",
      "            5.307794e+10         3477.0\n",
      "            5.307794e+10         2243.0\n",
      "            5.307794e+10         4379.0\n",
      "            5.307794e+10         3240.0\n",
      "            5.307794e+10         3350.0\n",
      "Name: n_veh, Length: 1457, dtype: float64\n",
      "time        census_tract_2010\n",
      "2015-01-31  5.300195e+10         0.0\n",
      "            5.300195e+10         0.0\n",
      "            5.300195e+10         0.0\n",
      "            5.300195e+10         0.0\n",
      "            5.300195e+10         0.0\n",
      "                                ... \n",
      "            5.307794e+10         0.0\n",
      "            5.307794e+10         0.0\n",
      "            5.307794e+10         0.0\n",
      "            5.307794e+10         0.0\n",
      "            5.307794e+10         0.0\n",
      "Name: n_veh, Length: 1457, dtype: float64\n",
      "n_veh    71107212.0\n",
      "dtype: float64\n"
     ]
    },
    {
     "ename": "KeyError",
     "evalue": "datetime.date(2015, 1, 31)",
     "output_type": "error",
     "traceback": [
      "\u001B[1;31m---------------------------------------------------------------------------\u001B[0m",
      "\u001B[1;31mKeyError\u001B[0m                                  Traceback (most recent call last)",
      "\u001B[1;32m~\\AppData\\Local\\Temp/ipykernel_9944/2414913885.py\u001B[0m in \u001B[0;36m<module>\u001B[1;34m\u001B[0m\n\u001B[0;32m     33\u001B[0m         \u001B[1;32mfor\u001B[0m \u001B[0mcensus_tract\u001B[0m \u001B[1;32min\u001B[0m \u001B[0mcensus_tracts_2010\u001B[0m\u001B[1;33m:\u001B[0m\u001B[1;33m\u001B[0m\u001B[1;33m\u001B[0m\u001B[0m\n\u001B[0;32m     34\u001B[0m             \u001B[1;31m# final_df_all.loc[(str(time), census_tract), \"n_veh\"] = final_df2.loc[(str(time_in_2021), census_tract), \"n_veh\"]\u001B[0m\u001B[1;33m\u001B[0m\u001B[1;33m\u001B[0m\u001B[1;33m\u001B[0m\u001B[0m\n\u001B[1;32m---> 35\u001B[1;33m             \u001B[0mfinal_df\u001B[0m\u001B[1;33m.\u001B[0m\u001B[0mloc\u001B[0m\u001B[1;33m[\u001B[0m\u001B[0mtime\u001B[0m\u001B[1;33m,\u001B[0m \u001B[0mcensus_tract\u001B[0m\u001B[1;33m]\u001B[0m\u001B[1;33m[\u001B[0m\u001B[1;34m\"n_veh\"\u001B[0m\u001B[1;33m]\u001B[0m \u001B[1;33m=\u001B[0m \u001B[0mfinal_df2\u001B[0m\u001B[1;33m.\u001B[0m\u001B[0mloc\u001B[0m\u001B[1;33m[\u001B[0m\u001B[0mstr\u001B[0m\u001B[1;33m(\u001B[0m\u001B[0mtime_in_2021\u001B[0m\u001B[1;33m)\u001B[0m\u001B[1;33m,\u001B[0m \u001B[0mcensus_tract\u001B[0m\u001B[1;33m]\u001B[0m\u001B[1;33m[\u001B[0m\u001B[1;34m\"n_veh\"\u001B[0m\u001B[1;33m]\u001B[0m\u001B[1;33m\u001B[0m\u001B[1;33m\u001B[0m\u001B[0m\n\u001B[0m\u001B[0;32m     36\u001B[0m         \u001B[0mprint\u001B[0m\u001B[1;33m(\u001B[0m\u001B[0mfinal_df_all\u001B[0m\u001B[1;33m.\u001B[0m\u001B[0msum\u001B[0m\u001B[1;33m(\u001B[0m\u001B[1;33m)\u001B[0m\u001B[1;33m)\u001B[0m\u001B[1;33m\u001B[0m\u001B[1;33m\u001B[0m\u001B[0m\n\u001B[0;32m     37\u001B[0m         \u001B[0mprint\u001B[0m\u001B[1;33m(\u001B[0m\u001B[0mfinal_df_all\u001B[0m\u001B[1;33m.\u001B[0m\u001B[0mloc\u001B[0m\u001B[1;33m[\u001B[0m\u001B[1;33m(\u001B[0m\u001B[0mstr\u001B[0m\u001B[1;33m(\u001B[0m\u001B[0mtime\u001B[0m\u001B[1;33m)\u001B[0m\u001B[1;33m,\u001B[0m \u001B[0mslice\u001B[0m\u001B[1;33m(\u001B[0m\u001B[1;32mNone\u001B[0m\u001B[1;33m)\u001B[0m\u001B[1;33m)\u001B[0m\u001B[1;33m,\u001B[0m \u001B[1;34m\"n_veh\"\u001B[0m\u001B[1;33m]\u001B[0m\u001B[1;33m)\u001B[0m\u001B[1;33m\u001B[0m\u001B[1;33m\u001B[0m\u001B[0m\n",
      "\u001B[1;32m~\\anaconda3\\lib\\site-packages\\pandas\\core\\indexing.py\u001B[0m in \u001B[0;36m__getitem__\u001B[1;34m(self, key)\u001B[0m\n\u001B[0;32m    923\u001B[0m                 \u001B[1;32mwith\u001B[0m \u001B[0msuppress\u001B[0m\u001B[1;33m(\u001B[0m\u001B[0mKeyError\u001B[0m\u001B[1;33m,\u001B[0m \u001B[0mIndexError\u001B[0m\u001B[1;33m)\u001B[0m\u001B[1;33m:\u001B[0m\u001B[1;33m\u001B[0m\u001B[1;33m\u001B[0m\u001B[0m\n\u001B[0;32m    924\u001B[0m                     \u001B[1;32mreturn\u001B[0m \u001B[0mself\u001B[0m\u001B[1;33m.\u001B[0m\u001B[0mobj\u001B[0m\u001B[1;33m.\u001B[0m\u001B[0m_get_value\u001B[0m\u001B[1;33m(\u001B[0m\u001B[1;33m*\u001B[0m\u001B[0mkey\u001B[0m\u001B[1;33m,\u001B[0m \u001B[0mtakeable\u001B[0m\u001B[1;33m=\u001B[0m\u001B[0mself\u001B[0m\u001B[1;33m.\u001B[0m\u001B[0m_takeable\u001B[0m\u001B[1;33m)\u001B[0m\u001B[1;33m\u001B[0m\u001B[1;33m\u001B[0m\u001B[0m\n\u001B[1;32m--> 925\u001B[1;33m             \u001B[1;32mreturn\u001B[0m \u001B[0mself\u001B[0m\u001B[1;33m.\u001B[0m\u001B[0m_getitem_tuple\u001B[0m\u001B[1;33m(\u001B[0m\u001B[0mkey\u001B[0m\u001B[1;33m)\u001B[0m\u001B[1;33m\u001B[0m\u001B[1;33m\u001B[0m\u001B[0m\n\u001B[0m\u001B[0;32m    926\u001B[0m         \u001B[1;32melse\u001B[0m\u001B[1;33m:\u001B[0m\u001B[1;33m\u001B[0m\u001B[1;33m\u001B[0m\u001B[0m\n\u001B[0;32m    927\u001B[0m             \u001B[1;31m# we by definition only have the 0th axis\u001B[0m\u001B[1;33m\u001B[0m\u001B[1;33m\u001B[0m\u001B[1;33m\u001B[0m\u001B[0m\n",
      "\u001B[1;32m~\\anaconda3\\lib\\site-packages\\pandas\\core\\indexing.py\u001B[0m in \u001B[0;36m_getitem_tuple\u001B[1;34m(self, tup)\u001B[0m\n\u001B[0;32m   1098\u001B[0m     \u001B[1;32mdef\u001B[0m \u001B[0m_getitem_tuple\u001B[0m\u001B[1;33m(\u001B[0m\u001B[0mself\u001B[0m\u001B[1;33m,\u001B[0m \u001B[0mtup\u001B[0m\u001B[1;33m:\u001B[0m \u001B[0mtuple\u001B[0m\u001B[1;33m)\u001B[0m\u001B[1;33m:\u001B[0m\u001B[1;33m\u001B[0m\u001B[1;33m\u001B[0m\u001B[0m\n\u001B[0;32m   1099\u001B[0m         \u001B[1;32mwith\u001B[0m \u001B[0msuppress\u001B[0m\u001B[1;33m(\u001B[0m\u001B[0mIndexingError\u001B[0m\u001B[1;33m)\u001B[0m\u001B[1;33m:\u001B[0m\u001B[1;33m\u001B[0m\u001B[1;33m\u001B[0m\u001B[0m\n\u001B[1;32m-> 1100\u001B[1;33m             \u001B[1;32mreturn\u001B[0m \u001B[0mself\u001B[0m\u001B[1;33m.\u001B[0m\u001B[0m_getitem_lowerdim\u001B[0m\u001B[1;33m(\u001B[0m\u001B[0mtup\u001B[0m\u001B[1;33m)\u001B[0m\u001B[1;33m\u001B[0m\u001B[1;33m\u001B[0m\u001B[0m\n\u001B[0m\u001B[0;32m   1101\u001B[0m \u001B[1;33m\u001B[0m\u001B[0m\n\u001B[0;32m   1102\u001B[0m         \u001B[1;31m# no multi-index, so validate all of the indexers\u001B[0m\u001B[1;33m\u001B[0m\u001B[1;33m\u001B[0m\u001B[1;33m\u001B[0m\u001B[0m\n",
      "\u001B[1;32m~\\anaconda3\\lib\\site-packages\\pandas\\core\\indexing.py\u001B[0m in \u001B[0;36m_getitem_lowerdim\u001B[1;34m(self, tup)\u001B[0m\n\u001B[0;32m    836\u001B[0m                 \u001B[1;31m# We don't need to check for tuples here because those are\u001B[0m\u001B[1;33m\u001B[0m\u001B[1;33m\u001B[0m\u001B[1;33m\u001B[0m\u001B[0m\n\u001B[0;32m    837\u001B[0m                 \u001B[1;31m#  caught by the _is_nested_tuple_indexer check above.\u001B[0m\u001B[1;33m\u001B[0m\u001B[1;33m\u001B[0m\u001B[1;33m\u001B[0m\u001B[0m\n\u001B[1;32m--> 838\u001B[1;33m                 \u001B[0msection\u001B[0m \u001B[1;33m=\u001B[0m \u001B[0mself\u001B[0m\u001B[1;33m.\u001B[0m\u001B[0m_getitem_axis\u001B[0m\u001B[1;33m(\u001B[0m\u001B[0mkey\u001B[0m\u001B[1;33m,\u001B[0m \u001B[0maxis\u001B[0m\u001B[1;33m=\u001B[0m\u001B[0mi\u001B[0m\u001B[1;33m)\u001B[0m\u001B[1;33m\u001B[0m\u001B[1;33m\u001B[0m\u001B[0m\n\u001B[0m\u001B[0;32m    839\u001B[0m \u001B[1;33m\u001B[0m\u001B[0m\n\u001B[0;32m    840\u001B[0m                 \u001B[1;31m# We should never have a scalar section here, because\u001B[0m\u001B[1;33m\u001B[0m\u001B[1;33m\u001B[0m\u001B[1;33m\u001B[0m\u001B[0m\n",
      "\u001B[1;32m~\\anaconda3\\lib\\site-packages\\pandas\\core\\indexing.py\u001B[0m in \u001B[0;36m_getitem_axis\u001B[1;34m(self, key, axis)\u001B[0m\n\u001B[0;32m   1162\u001B[0m         \u001B[1;31m# fall thru to straight lookup\u001B[0m\u001B[1;33m\u001B[0m\u001B[1;33m\u001B[0m\u001B[1;33m\u001B[0m\u001B[0m\n\u001B[0;32m   1163\u001B[0m         \u001B[0mself\u001B[0m\u001B[1;33m.\u001B[0m\u001B[0m_validate_key\u001B[0m\u001B[1;33m(\u001B[0m\u001B[0mkey\u001B[0m\u001B[1;33m,\u001B[0m \u001B[0maxis\u001B[0m\u001B[1;33m)\u001B[0m\u001B[1;33m\u001B[0m\u001B[1;33m\u001B[0m\u001B[0m\n\u001B[1;32m-> 1164\u001B[1;33m         \u001B[1;32mreturn\u001B[0m \u001B[0mself\u001B[0m\u001B[1;33m.\u001B[0m\u001B[0m_get_label\u001B[0m\u001B[1;33m(\u001B[0m\u001B[0mkey\u001B[0m\u001B[1;33m,\u001B[0m \u001B[0maxis\u001B[0m\u001B[1;33m=\u001B[0m\u001B[0maxis\u001B[0m\u001B[1;33m)\u001B[0m\u001B[1;33m\u001B[0m\u001B[1;33m\u001B[0m\u001B[0m\n\u001B[0m\u001B[0;32m   1165\u001B[0m \u001B[1;33m\u001B[0m\u001B[0m\n\u001B[0;32m   1166\u001B[0m     \u001B[1;32mdef\u001B[0m \u001B[0m_get_slice_axis\u001B[0m\u001B[1;33m(\u001B[0m\u001B[0mself\u001B[0m\u001B[1;33m,\u001B[0m \u001B[0mslice_obj\u001B[0m\u001B[1;33m:\u001B[0m \u001B[0mslice\u001B[0m\u001B[1;33m,\u001B[0m \u001B[0maxis\u001B[0m\u001B[1;33m:\u001B[0m \u001B[0mint\u001B[0m\u001B[1;33m)\u001B[0m\u001B[1;33m:\u001B[0m\u001B[1;33m\u001B[0m\u001B[1;33m\u001B[0m\u001B[0m\n",
      "\u001B[1;32m~\\anaconda3\\lib\\site-packages\\pandas\\core\\indexing.py\u001B[0m in \u001B[0;36m_get_label\u001B[1;34m(self, label, axis)\u001B[0m\n\u001B[0;32m   1111\u001B[0m     \u001B[1;32mdef\u001B[0m \u001B[0m_get_label\u001B[0m\u001B[1;33m(\u001B[0m\u001B[0mself\u001B[0m\u001B[1;33m,\u001B[0m \u001B[0mlabel\u001B[0m\u001B[1;33m,\u001B[0m \u001B[0maxis\u001B[0m\u001B[1;33m:\u001B[0m \u001B[0mint\u001B[0m\u001B[1;33m)\u001B[0m\u001B[1;33m:\u001B[0m\u001B[1;33m\u001B[0m\u001B[1;33m\u001B[0m\u001B[0m\n\u001B[0;32m   1112\u001B[0m         \u001B[1;31m# GH#5667 this will fail if the label is not present in the axis.\u001B[0m\u001B[1;33m\u001B[0m\u001B[1;33m\u001B[0m\u001B[1;33m\u001B[0m\u001B[0m\n\u001B[1;32m-> 1113\u001B[1;33m         \u001B[1;32mreturn\u001B[0m \u001B[0mself\u001B[0m\u001B[1;33m.\u001B[0m\u001B[0mobj\u001B[0m\u001B[1;33m.\u001B[0m\u001B[0mxs\u001B[0m\u001B[1;33m(\u001B[0m\u001B[0mlabel\u001B[0m\u001B[1;33m,\u001B[0m \u001B[0maxis\u001B[0m\u001B[1;33m=\u001B[0m\u001B[0maxis\u001B[0m\u001B[1;33m)\u001B[0m\u001B[1;33m\u001B[0m\u001B[1;33m\u001B[0m\u001B[0m\n\u001B[0m\u001B[0;32m   1114\u001B[0m \u001B[1;33m\u001B[0m\u001B[0m\n\u001B[0;32m   1115\u001B[0m     \u001B[1;32mdef\u001B[0m \u001B[0m_handle_lowerdim_multi_index_axis0\u001B[0m\u001B[1;33m(\u001B[0m\u001B[0mself\u001B[0m\u001B[1;33m,\u001B[0m \u001B[0mtup\u001B[0m\u001B[1;33m:\u001B[0m \u001B[0mtuple\u001B[0m\u001B[1;33m)\u001B[0m\u001B[1;33m:\u001B[0m\u001B[1;33m\u001B[0m\u001B[1;33m\u001B[0m\u001B[0m\n",
      "\u001B[1;32m~\\anaconda3\\lib\\site-packages\\pandas\\core\\generic.py\u001B[0m in \u001B[0;36mxs\u001B[1;34m(self, key, axis, level, drop_level)\u001B[0m\n\u001B[0;32m   3774\u001B[0m                 \u001B[1;32mraise\u001B[0m \u001B[0mTypeError\u001B[0m\u001B[1;33m(\u001B[0m\u001B[1;34mf\"Expected label or tuple of labels, got {key}\"\u001B[0m\u001B[1;33m)\u001B[0m \u001B[1;32mfrom\u001B[0m \u001B[0me\u001B[0m\u001B[1;33m\u001B[0m\u001B[1;33m\u001B[0m\u001B[0m\n\u001B[0;32m   3775\u001B[0m         \u001B[1;32melse\u001B[0m\u001B[1;33m:\u001B[0m\u001B[1;33m\u001B[0m\u001B[1;33m\u001B[0m\u001B[0m\n\u001B[1;32m-> 3776\u001B[1;33m             \u001B[0mloc\u001B[0m \u001B[1;33m=\u001B[0m \u001B[0mindex\u001B[0m\u001B[1;33m.\u001B[0m\u001B[0mget_loc\u001B[0m\u001B[1;33m(\u001B[0m\u001B[0mkey\u001B[0m\u001B[1;33m)\u001B[0m\u001B[1;33m\u001B[0m\u001B[1;33m\u001B[0m\u001B[0m\n\u001B[0m\u001B[0;32m   3777\u001B[0m \u001B[1;33m\u001B[0m\u001B[0m\n\u001B[0;32m   3778\u001B[0m             \u001B[1;32mif\u001B[0m \u001B[0misinstance\u001B[0m\u001B[1;33m(\u001B[0m\u001B[0mloc\u001B[0m\u001B[1;33m,\u001B[0m \u001B[0mnp\u001B[0m\u001B[1;33m.\u001B[0m\u001B[0mndarray\u001B[0m\u001B[1;33m)\u001B[0m\u001B[1;33m:\u001B[0m\u001B[1;33m\u001B[0m\u001B[1;33m\u001B[0m\u001B[0m\n",
      "\u001B[1;32m~\\anaconda3\\lib\\site-packages\\pandas\\core\\indexes\\range.py\u001B[0m in \u001B[0;36mget_loc\u001B[1;34m(self, key, method, tolerance)\u001B[0m\n\u001B[0;32m    386\u001B[0m                 \u001B[1;32mexcept\u001B[0m \u001B[0mValueError\u001B[0m \u001B[1;32mas\u001B[0m \u001B[0merr\u001B[0m\u001B[1;33m:\u001B[0m\u001B[1;33m\u001B[0m\u001B[1;33m\u001B[0m\u001B[0m\n\u001B[0;32m    387\u001B[0m                     \u001B[1;32mraise\u001B[0m \u001B[0mKeyError\u001B[0m\u001B[1;33m(\u001B[0m\u001B[0mkey\u001B[0m\u001B[1;33m)\u001B[0m \u001B[1;32mfrom\u001B[0m \u001B[0merr\u001B[0m\u001B[1;33m\u001B[0m\u001B[1;33m\u001B[0m\u001B[0m\n\u001B[1;32m--> 388\u001B[1;33m             \u001B[1;32mraise\u001B[0m \u001B[0mKeyError\u001B[0m\u001B[1;33m(\u001B[0m\u001B[0mkey\u001B[0m\u001B[1;33m)\u001B[0m\u001B[1;33m\u001B[0m\u001B[1;33m\u001B[0m\u001B[0m\n\u001B[0m\u001B[0;32m    389\u001B[0m         \u001B[1;32mreturn\u001B[0m \u001B[0msuper\u001B[0m\u001B[1;33m(\u001B[0m\u001B[1;33m)\u001B[0m\u001B[1;33m.\u001B[0m\u001B[0mget_loc\u001B[0m\u001B[1;33m(\u001B[0m\u001B[0mkey\u001B[0m\u001B[1;33m,\u001B[0m \u001B[0mmethod\u001B[0m\u001B[1;33m=\u001B[0m\u001B[0mmethod\u001B[0m\u001B[1;33m,\u001B[0m \u001B[0mtolerance\u001B[0m\u001B[1;33m=\u001B[0m\u001B[0mtolerance\u001B[0m\u001B[1;33m)\u001B[0m\u001B[1;33m\u001B[0m\u001B[1;33m\u001B[0m\u001B[0m\n\u001B[0;32m    390\u001B[0m \u001B[1;33m\u001B[0m\u001B[0m\n",
      "\u001B[1;31mKeyError\u001B[0m: datetime.date(2015, 1, 31)"
     ]
    }
   ],
   "source": [
    "#use 2021 vehicle counts for all other years too\n",
    "times_in_2021 = [time for time in times if time.year == 2021]\n",
    "# print(times_in_2021)\n",
    "final_df_all = final_df2.copy()\n",
    "# print(final_df_all.index[0][0].dtype)\n",
    "# for year in [2015, 2016, 2017, 2018, 2019, 2022]:\n",
    "for time in times:\n",
    "    if time.year != 2021:\n",
    "        # times_in_year = [t for t in times if t.year == year]\n",
    "        print(time)\n",
    "        print(type(time))\n",
    "        # print(times_in_year)\n",
    "        print(final_df_all)\n",
    "        # print(final_df_all.loc[(times_in_year, slice(None)), \"n_veh\"])\n",
    "        # print(final_df_all.xs(times_in_year, level=\"time\"))\n",
    "        # final_df_all.loc[(times_in_year, slice(None)), \"n_veh\"] = final_df2.loc[(times_in_2021, slice(None)), \"n_veh\"]\n",
    "        time_in_2021 = [t for t in times if time.month == t.month and t.year==2021][0]\n",
    "        print(time_in_2021,\"j\")\n",
    "        print(final_df_all.loc[str(time), 53001950100])\n",
    "        # p\n",
    "        # idx = pd.IndexSlice\n",
    "        # print(final_df_all.loc[idx[time, :], \"n_veh\"])\n",
    "        print(final_df_all.loc[(str(time), slice(None)), \"n_veh\"])\n",
    "        print(final_df2.loc[(str(time_in_2021), slice(None)), \"n_veh\"])\n",
    "        # k\n",
    "        # final_df_all.loc[(str(time), slice(None)), \"n_veh\"] = final_df2.loc[(str(time_in_2021), slice(None)), \"n_veh\"]\n",
    "        print(final_df_all.loc[(str(time), slice(None)), \"n_veh\"])\n",
    "\n",
    "        # n_veh = n_veh.filter(items=census_tracts, axis=0)\n",
    "        print(final_df_all.sum())\n",
    "        # final_df_all.loc[(str(time), slice(None)), \"n_veh\"] = final_df_all.loc[(str(time), slice(None)), \"n_veh\"].add(final_df2.loc[(str(time_in_2021), slice(None)), \"n_veh\"], fill_value=0)\n",
    "\n",
    "        for census_tract in census_tracts_2010:\n",
    "            # final_df_all.loc[(str(time), census_tract), \"n_veh\"] = final_df2.loc[(str(time_in_2021), census_tract), \"n_veh\"]\n",
    "            final_df.loc[time, census_tract][\"n_veh\"] = final_df2.loc[str(time_in_2021), census_tract][\"n_veh\"]\n",
    "        print(final_df_all.sum())\n",
    "        print(final_df_all.loc[(str(time), slice(None)), \"n_veh\"])\n",
    "        l\n",
    "final_df_all"
   ],
   "metadata": {
    "collapsed": false
   }
  },
  {
   "cell_type": "code",
   "execution_count": 85,
   "outputs": [
    {
     "data": {
      "text/plain": "n_veh    0.0\nName: (2015-01-31 00:00:00, 53001950100), dtype: float64"
     },
     "execution_count": 85,
     "metadata": {},
     "output_type": "execute_result"
    }
   ],
   "source": [
    "final_df_all.loc[(\"2015-01-31\", 53001950100)]\n",
    "# final_df_all.index[0][0].dtype"
   ],
   "metadata": {
    "collapsed": false
   }
  },
  {
   "cell_type": "code",
   "execution_count": null,
   "outputs": [],
   "source": [
    "#express in terms of 2010 census tracts as the index (WRONG METHOD, DO NOT USE)\n",
    "final_df = pd.read_csv(\"data/vehicles/%s.csv\"%name)\n",
    "final_df = final_df.rename(columns={\"census_tract\": \"census_tract_2020\"})\n",
    "final_df_2010tracts = final_df.copy()\n",
    "final_df_2010tracts[\"census_tract_2010\"] = final_df_2010tracts[\"census_tract_2020\"].map(df_tract_20_10.to_dict())\n",
    "final_df_2010tracts = final_df_2010tracts.set_index([\"time\", \"census_tract_2010\"])\n",
    "final_df_2010tracts.to_csv(\"data/vehicles/%s_2010tracts.csv\"%name)\n",
    "final_df_2010tracts"
   ],
   "metadata": {
    "collapsed": false
   }
  },
  {
   "cell_type": "code",
   "execution_count": 8,
   "outputs": [],
   "source": [
    "# save resulting dataframe to file\n",
    "final_df.to_csv(\"data/vehicles/veh_counts.csv\")\n",
    "# final_df.to_csv(\"data/vehicles/veh_counts_slow.csv\")\n",
    "# final_df.to_csv(\"data/vehicles/veh_counts_fast.csv\")"
   ],
   "metadata": {
    "collapsed": false
   }
  },
  {
   "cell_type": "code",
   "execution_count": null,
   "outputs": [],
   "source": [],
   "metadata": {
    "collapsed": false
   }
  },
  {
   "cell_type": "code",
   "execution_count": 111,
   "outputs": [],
   "source": [
    "slow = pd.read_csv(\"data/vehicles/veh_counts_slow.csv\", index_col=(\"time\", \"census_tract\"))\n",
    "fast = pd.read_csv(\"data/vehicles/veh_counts_fast.csv\", index_col=(\"time\", \"census_tract\"))"
   ],
   "metadata": {
    "collapsed": false
   }
  },
  {
   "cell_type": "code",
   "execution_count": 113,
   "outputs": [
    {
     "data": {
      "text/plain": "count    8228.0\nmean        1.0\nstd         0.0\nmin         1.0\n25%         1.0\n50%         1.0\n75%         1.0\nmax         1.0\nName: n_veh, dtype: float64"
     },
     "execution_count": 113,
     "metadata": {},
     "output_type": "execute_result"
    }
   ],
   "source": [
    "ratio = slow[\"n_veh\"]/fast[\"n_veh\"]\n",
    "ratio.describe()"
   ],
   "metadata": {
    "collapsed": false
   }
  },
  {
   "cell_type": "code",
   "execution_count": 115,
   "outputs": [
    {
     "data": {
      "text/plain": "county      False\nzip_code    False\nn_veh        True\ndtype: bool"
     },
     "execution_count": 115,
     "metadata": {},
     "output_type": "execute_result"
    }
   ],
   "source": [
    "(slow == fast).all()"
   ],
   "metadata": {
    "collapsed": false
   }
  },
  {
   "cell_type": "code",
   "execution_count": 120,
   "outputs": [
    {
     "data": {
      "text/plain": "True"
     },
     "execution_count": 120,
     "metadata": {},
     "output_type": "execute_result"
    }
   ],
   "source": [
    "(~slow[\"county\"].isna() == ~fast[\"county\"].isna()).all()"
   ],
   "metadata": {
    "collapsed": false
   }
  },
  {
   "cell_type": "code",
   "execution_count": 116,
   "outputs": [
    {
     "data": {
      "text/plain": "((165912, 3), (165912, 3))"
     },
     "execution_count": 116,
     "metadata": {},
     "output_type": "execute_result"
    }
   ],
   "source": [
    "slow.shape,fast.shape"
   ],
   "metadata": {
    "collapsed": false
   }
  },
  {
   "cell_type": "code",
   "execution_count": null,
   "outputs": [],
   "source": [],
   "metadata": {
    "collapsed": false
   }
  },
  {
   "cell_type": "markdown",
   "id": "f1447401",
   "metadata": {},
   "source": [
    "This concludes the main functionality of this notebook."
   ]
  }
 ],
 "metadata": {
  "kernelspec": {
   "display_name": "Python 3 (ipykernel)",
   "language": "python",
   "name": "python3"
  },
  "language_info": {
   "codemirror_mode": {
    "name": "ipython",
    "version": 3
   },
   "file_extension": ".py",
   "mimetype": "text/x-python",
   "name": "python",
   "nbconvert_exporter": "python",
   "pygments_lexer": "ipython3",
   "version": "3.8.8"
  }
 },
 "nbformat": 4,
 "nbformat_minor": 5
}
