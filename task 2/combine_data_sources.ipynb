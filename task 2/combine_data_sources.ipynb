{
 "cells": [
  {
   "cell_type": "markdown",
   "id": "b4ce5bbf",
   "metadata": {},
   "source": [
    "# combine_data_sources.ipynb\n",
    "**Combines the different data sources to create one dataframe containing all data (EV registrations, EV product variety, gas prices, EV charging locations, ...) by month and ZIP code and saves the resulting dataframe in `data/df.csv`.**"
   ]
  },
  {
   "cell_type": "code",
   "execution_count": 2,
   "id": "bec2b2ae",
   "metadata": {},
   "outputs": [],
   "source": [
    "import pandas as pd\n",
    "import numpy as np\n",
    "import datetime as dt\n",
    "from uszipcode import SearchEngine\n",
    "search = SearchEngine()\n",
    "\n",
    "import utils as u\n",
    "from config.counties_zips import zip_codes"
   ]
  },
  {
   "cell_type": "code",
   "execution_count": 3,
   "id": "799c7101",
   "metadata": {},
   "outputs": [],
   "source": [
    "times = [u.get_last_day_of_month(dt.datetime(year=y, month=m, day=20)) for y in range(2017,2022) for m in range(1,13)]\n",
    "# times = [u.get_last_day_of_month(dt.datetime(year=y, month=m, day=20)) for y in range(2017,2018) for m in range(1,3)]\n",
    "# zip_codes = df[\"zip\"].unique()"
   ]
  },
  {
   "cell_type": "code",
   "execution_count": 4,
   "id": "b2e7609b",
   "metadata": {},
   "outputs": [],
   "source": [
    "multiindex = pd.MultiIndex.from_product([times, zip_codes], names=[\"time\", \"zip\"])"
   ]
  },
  {
   "cell_type": "code",
   "execution_count": 5,
   "id": "bf31aead",
   "metadata": {},
   "outputs": [
    {
     "data": {
      "text/html": [
       "<div>\n",
       "<style scoped>\n",
       "    .dataframe tbody tr th:only-of-type {\n",
       "        vertical-align: middle;\n",
       "    }\n",
       "\n",
       "    .dataframe tbody tr th {\n",
       "        vertical-align: top;\n",
       "    }\n",
       "\n",
       "    .dataframe thead th {\n",
       "        text-align: right;\n",
       "    }\n",
       "</style>\n",
       "<table border=\"1\" class=\"dataframe\">\n",
       "  <thead>\n",
       "    <tr style=\"text-align: right;\">\n",
       "      <th></th>\n",
       "      <th></th>\n",
       "      <th>county</th>\n",
       "    </tr>\n",
       "    <tr>\n",
       "      <th>time</th>\n",
       "      <th>zip</th>\n",
       "      <th></th>\n",
       "    </tr>\n",
       "  </thead>\n",
       "  <tbody>\n",
       "    <tr>\n",
       "      <th rowspan=\"5\" valign=\"top\">2017-01-31</th>\n",
       "      <th>98001</th>\n",
       "      <td>King</td>\n",
       "    </tr>\n",
       "    <tr>\n",
       "      <th>98002</th>\n",
       "      <td>King</td>\n",
       "    </tr>\n",
       "    <tr>\n",
       "      <th>98003</th>\n",
       "      <td>King</td>\n",
       "    </tr>\n",
       "    <tr>\n",
       "      <th>98004</th>\n",
       "      <td>King</td>\n",
       "    </tr>\n",
       "    <tr>\n",
       "      <th>98005</th>\n",
       "      <td>King</td>\n",
       "    </tr>\n",
       "    <tr>\n",
       "      <th>...</th>\n",
       "      <th>...</th>\n",
       "      <td>...</td>\n",
       "    </tr>\n",
       "    <tr>\n",
       "      <th rowspan=\"5\" valign=\"top\">2021-12-31</th>\n",
       "      <th>99363</th>\n",
       "      <td>Walla Walla</td>\n",
       "    </tr>\n",
       "    <tr>\n",
       "      <th>99371</th>\n",
       "      <td>Adams</td>\n",
       "    </tr>\n",
       "    <tr>\n",
       "      <th>99401</th>\n",
       "      <td>Asotin</td>\n",
       "    </tr>\n",
       "    <tr>\n",
       "      <th>99402</th>\n",
       "      <td>Asotin</td>\n",
       "    </tr>\n",
       "    <tr>\n",
       "      <th>99403</th>\n",
       "      <td>Asotin</td>\n",
       "    </tr>\n",
       "  </tbody>\n",
       "</table>\n",
       "<p>35880 rows × 1 columns</p>\n",
       "</div>"
      ],
      "text/plain": [
       "                       county\n",
       "time       zip               \n",
       "2017-01-31 98001         King\n",
       "           98002         King\n",
       "           98003         King\n",
       "           98004         King\n",
       "           98005         King\n",
       "...                       ...\n",
       "2021-12-31 99363  Walla Walla\n",
       "           99371        Adams\n",
       "           99401       Asotin\n",
       "           99402       Asotin\n",
       "           99403       Asotin\n",
       "\n",
       "[35880 rows x 1 columns]"
      ]
     },
     "execution_count": 5,
     "metadata": {},
     "output_type": "execute_result"
    }
   ],
   "source": [
    "# create final dataframe and add county column to it\n",
    "df = pd.DataFrame(index=multiindex, columns=[\"county\"])\n",
    "for zip_code in zip_codes:\n",
    "    df.loc[(slice(None), zip_code), \"county\"] = search.by_zipcode(zip_code).county.replace(\" County\", \"\")\n",
    "df"
   ]
  },
  {
   "cell_type": "code",
   "execution_count": 8,
   "id": "446b14e1",
   "metadata": {},
   "outputs": [],
   "source": [
    "# df.to_csv(\"data/index.csv\")"
   ]
  },
  {
   "cell_type": "code",
   "execution_count": 9,
   "id": "fcbfc7d4",
   "metadata": {},
   "outputs": [
    {
     "data": {
      "text/html": [
       "<div>\n",
       "<style scoped>\n",
       "    .dataframe tbody tr th:only-of-type {\n",
       "        vertical-align: middle;\n",
       "    }\n",
       "\n",
       "    .dataframe tbody tr th {\n",
       "        vertical-align: top;\n",
       "    }\n",
       "\n",
       "    .dataframe thead th {\n",
       "        text-align: right;\n",
       "    }\n",
       "</style>\n",
       "<table border=\"1\" class=\"dataframe\">\n",
       "  <thead>\n",
       "    <tr style=\"text-align: right;\">\n",
       "      <th></th>\n",
       "      <th></th>\n",
       "      <th>county</th>\n",
       "      <th>gas_price</th>\n",
       "    </tr>\n",
       "    <tr>\n",
       "      <th>time</th>\n",
       "      <th>zip</th>\n",
       "      <th></th>\n",
       "      <th></th>\n",
       "    </tr>\n",
       "  </thead>\n",
       "  <tbody>\n",
       "    <tr>\n",
       "      <th rowspan=\"5\" valign=\"top\">2017-01-31</th>\n",
       "      <th>98001</th>\n",
       "      <td>King</td>\n",
       "      <td>2.743</td>\n",
       "    </tr>\n",
       "    <tr>\n",
       "      <th>98002</th>\n",
       "      <td>King</td>\n",
       "      <td>2.743</td>\n",
       "    </tr>\n",
       "    <tr>\n",
       "      <th>98003</th>\n",
       "      <td>King</td>\n",
       "      <td>2.743</td>\n",
       "    </tr>\n",
       "    <tr>\n",
       "      <th>98004</th>\n",
       "      <td>King</td>\n",
       "      <td>2.743</td>\n",
       "    </tr>\n",
       "    <tr>\n",
       "      <th>98005</th>\n",
       "      <td>King</td>\n",
       "      <td>2.743</td>\n",
       "    </tr>\n",
       "  </tbody>\n",
       "</table>\n",
       "</div>"
      ],
      "text/plain": [
       "                 county  gas_price\n",
       "time       zip                    \n",
       "2017-01-31 98001   King      2.743\n",
       "           98002   King      2.743\n",
       "           98003   King      2.743\n",
       "           98004   King      2.743\n",
       "           98005   King      2.743"
      ]
     },
     "execution_count": 9,
     "metadata": {},
     "output_type": "execute_result"
    }
   ],
   "source": [
    "# gas_price\n",
    "df_gas = pd.read_csv(\"data/gas/Weekly_Retail_Gasoline_and_Diesel_Prices.csv\", header=6)#, parse_dates=[\"Month\"])\n",
    "df_gas = df_gas.rename(columns={\"Month\" : \"time\"})\n",
    "\n",
    "df_gas[\"time\"] = pd.to_datetime(df_gas[\"time\"])\n",
    "df_gas[\"time\"] = df_gas[\"time\"].apply(u.get_last_day_of_month)\n",
    "df_gas = df_gas.set_index(\"time\")\n",
    "\n",
    "for time in times:\n",
    "    gas_price = df_gas.loc[time, \"Washington All Grades All Formulations Retail Gasoline Prices $/gal\"]#.values[0]\n",
    "    df.loc[(time, slice(None)), \"gas_price\"] = gas_price\n",
    "df.head()"
   ]
  },
  {
   "cell_type": "code",
   "execution_count": 10,
   "id": "712ca20c",
   "metadata": {},
   "outputs": [
    {
     "data": {
      "text/plain": [
       "(35880, 2)"
      ]
     },
     "execution_count": 10,
     "metadata": {},
     "output_type": "execute_result"
    }
   ],
   "source": [
    "df.shape"
   ]
  },
  {
   "cell_type": "code",
   "execution_count": 11,
   "id": "8de1fb80",
   "metadata": {},
   "outputs": [
    {
     "name": "stdout",
     "output_type": "stream",
     "text": [
      "done\n"
     ]
    }
   ],
   "source": [
    "# n_ev (number of registered EVs), m_ev (number of different EV make/models [\"product variety\"])\n",
    "df_ev = pd.read_csv(\"data/vehicles/ev_counts.csv\")\n",
    "df_ev[\"time\"] = pd.to_datetime(df_ev[\"time\"]).dt.date\n",
    "df_ev = df_ev.set_index([\"time\", \"zip\"])\n",
    "\n",
    "##### df = df.merge(df_ev, on=[\"time\", \"zip\"], how=\"inner\", suffixes=(None,\"_y\"))\n",
    "df = df.join(df_ev, on=[\"time\", \"zip\"], how=\"inner\", rsuffix=\"_y\")\n",
    "df = df.drop(columns=\"county_y\") #the county column appears twice, so removing the duplicate he\n",
    "\n",
    "# alternative way (instead of using join):\n",
    "# for time in times:\n",
    "#     print(time)\n",
    "#     for zip_code in zip_codes:\n",
    "#         ev_counts = df_ev.loc[(time, zip_code), cols]\n",
    "#         for col in cols:\n",
    "#             if not np.isnan(ev_counts[col]):\n",
    "#                 df.loc[(time, zip_code), col] = ev_counts[col]\n",
    "\n",
    "print(\"done\")"
   ]
  },
  {
   "cell_type": "code",
   "execution_count": 12,
   "id": "af5a8026",
   "metadata": {},
   "outputs": [
    {
     "data": {
      "text/html": [
       "<div>\n",
       "<style scoped>\n",
       "    .dataframe tbody tr th:only-of-type {\n",
       "        vertical-align: middle;\n",
       "    }\n",
       "\n",
       "    .dataframe tbody tr th {\n",
       "        vertical-align: top;\n",
       "    }\n",
       "\n",
       "    .dataframe thead th {\n",
       "        text-align: right;\n",
       "    }\n",
       "</style>\n",
       "<table border=\"1\" class=\"dataframe\">\n",
       "  <thead>\n",
       "    <tr style=\"text-align: right;\">\n",
       "      <th></th>\n",
       "      <th></th>\n",
       "      <th>county</th>\n",
       "      <th>gas_price</th>\n",
       "      <th>n_ev</th>\n",
       "      <th>n_bev</th>\n",
       "      <th>n_phev</th>\n",
       "      <th>m_ev</th>\n",
       "      <th>m_bev</th>\n",
       "      <th>m_phev</th>\n",
       "    </tr>\n",
       "    <tr>\n",
       "      <th>time</th>\n",
       "      <th>zip</th>\n",
       "      <th></th>\n",
       "      <th></th>\n",
       "      <th></th>\n",
       "      <th></th>\n",
       "      <th></th>\n",
       "      <th></th>\n",
       "      <th></th>\n",
       "      <th></th>\n",
       "    </tr>\n",
       "  </thead>\n",
       "  <tbody>\n",
       "    <tr>\n",
       "      <th rowspan=\"5\" valign=\"top\">2017-01-31</th>\n",
       "      <th>98001</th>\n",
       "      <td>King</td>\n",
       "      <td>2.743</td>\n",
       "      <td>73.0</td>\n",
       "      <td>34.0</td>\n",
       "      <td>39.0</td>\n",
       "      <td>43</td>\n",
       "      <td>24</td>\n",
       "      <td>20</td>\n",
       "    </tr>\n",
       "    <tr>\n",
       "      <th>98002</th>\n",
       "      <td>King</td>\n",
       "      <td>2.743</td>\n",
       "      <td>32.0</td>\n",
       "      <td>17.0</td>\n",
       "      <td>15.0</td>\n",
       "      <td>43</td>\n",
       "      <td>24</td>\n",
       "      <td>20</td>\n",
       "    </tr>\n",
       "    <tr>\n",
       "      <th>98003</th>\n",
       "      <td>King</td>\n",
       "      <td>2.743</td>\n",
       "      <td>54.0</td>\n",
       "      <td>22.0</td>\n",
       "      <td>32.0</td>\n",
       "      <td>43</td>\n",
       "      <td>24</td>\n",
       "      <td>20</td>\n",
       "    </tr>\n",
       "    <tr>\n",
       "      <th>98004</th>\n",
       "      <td>King</td>\n",
       "      <td>2.743</td>\n",
       "      <td>397.0</td>\n",
       "      <td>306.0</td>\n",
       "      <td>91.0</td>\n",
       "      <td>43</td>\n",
       "      <td>24</td>\n",
       "      <td>20</td>\n",
       "    </tr>\n",
       "    <tr>\n",
       "      <th>98005</th>\n",
       "      <td>King</td>\n",
       "      <td>2.743</td>\n",
       "      <td>194.0</td>\n",
       "      <td>138.0</td>\n",
       "      <td>56.0</td>\n",
       "      <td>43</td>\n",
       "      <td>24</td>\n",
       "      <td>20</td>\n",
       "    </tr>\n",
       "  </tbody>\n",
       "</table>\n",
       "</div>"
      ],
      "text/plain": [
       "                 county  gas_price   n_ev  n_bev  n_phev  m_ev  m_bev  m_phev\n",
       "time       zip                                                               \n",
       "2017-01-31 98001   King      2.743   73.0   34.0    39.0    43     24      20\n",
       "           98002   King      2.743   32.0   17.0    15.0    43     24      20\n",
       "           98003   King      2.743   54.0   22.0    32.0    43     24      20\n",
       "           98004   King      2.743  397.0  306.0    91.0    43     24      20\n",
       "           98005   King      2.743  194.0  138.0    56.0    43     24      20"
      ]
     },
     "execution_count": 12,
     "metadata": {},
     "output_type": "execute_result"
    }
   ],
   "source": [
    "df.head()"
   ]
  },
  {
   "cell_type": "code",
   "execution_count": 13,
   "id": "b24a70c0",
   "metadata": {},
   "outputs": [
    {
     "data": {
      "text/plain": [
       "(35880, 8)"
      ]
     },
     "execution_count": 13,
     "metadata": {},
     "output_type": "execute_result"
    }
   ],
   "source": [
    "df.shape"
   ]
  },
  {
   "cell_type": "code",
   "execution_count": 19,
   "id": "614e023f",
   "metadata": {},
   "outputs": [
    {
     "name": "stdout",
     "output_type": "stream",
     "text": [
      "2017-01-31 2017-02-28 2017-03-31 2017-04-30 2017-05-31 2017-06-30 2017-07-31 2017-08-31 2017-09-30 2017-10-31 2017-11-30 2017-12-31 2018-01-31 2018-02-28 2018-03-31 2018-04-30 2018-05-31 2018-06-30 2018-07-31 2018-08-31 2018-09-30 2018-10-31 2018-11-30 2018-12-31 2019-01-31 2019-02-28 2019-03-31 2019-04-30 2019-05-31 2019-06-30 2019-07-31 2019-08-31 2019-09-30 2019-10-31 2019-11-30 2019-12-31 2020-01-31 2020-02-29 2020-03-31 2020-04-30 2020-05-31 2020-06-30 2020-07-31 2020-08-31 2020-09-30 2020-10-31 2020-11-30 2020-12-31 2021-01-31 2021-02-28 2021-03-31 2021-04-30 2021-05-31 2021-06-30 2021-07-31 2021-08-31 2021-09-30 2021-10-31 2021-11-30 2021-12-31 done\n"
     ]
    }
   ],
   "source": [
    "#evse\n",
    "#number of installed L2 and DCFC station locations by zip code and month\n",
    "df_evse = pd.read_csv(\"data/evse/EV_charging_stations_WA.csv\")\n",
    "df_evse_key = pd.read_csv(\"config/EV_charging_stations_key.csv\")\n",
    "df_evse.columns = df_evse_key[\"name\"]\n",
    "\n",
    "df_evse[\"open_date\"] = pd.to_datetime(df_evse[\"open_date\"]).dt.date\n",
    "\n",
    "df_evse[\"l2_count\"] = df_evse[\"l2_count\"].fillna(0).astype(int)\n",
    "df_evse[\"dcfc_count\"] = df_evse[\"dcfc_count\"].fillna(0).astype(int)\n",
    "\n",
    "# df_evse[\"has_l2_or_dcfc\"] = df_evse[\"l2_count\"] > 0 #boolean if location has at least one L2 charger\n",
    "df_evse[\"has_l2_or_dcfc\"] = (df_evse[\"l2_count\"] > 0) | (df_evse[\"dcfc_count\"] > 0) #boolean if location has at least one L2 or DCFC charger\n",
    "\n",
    "df[\"n_evse\"] = 0\n",
    "for time in times:\n",
    "    print(time, \"\", end=\"\")\n",
    "    for zip_code in zip_codes:\n",
    "        dff = df_evse[(df_evse[\"open_date\"] < time) & (df_evse[\"zip\"] == zip_code)] #create helper dataframe containing all stations built in this zip code until this time\n",
    "        n_evse = sum(dff[\"has_l2_or_dcfc\"]) #counts number of locations with at least one charging station in that ZIP code and for that month\n",
    "        df.loc[(time, zip_code), \"n_evse\"] = n_evse\n",
    "print(\"done\")"
   ]
  },
  {
   "cell_type": "code",
   "execution_count": 20,
   "id": "9dab3628",
   "metadata": {},
   "outputs": [
    {
     "data": {
      "text/html": [
       "<div>\n",
       "<style scoped>\n",
       "    .dataframe tbody tr th:only-of-type {\n",
       "        vertical-align: middle;\n",
       "    }\n",
       "\n",
       "    .dataframe tbody tr th {\n",
       "        vertical-align: top;\n",
       "    }\n",
       "\n",
       "    .dataframe thead th {\n",
       "        text-align: right;\n",
       "    }\n",
       "</style>\n",
       "<table border=\"1\" class=\"dataframe\">\n",
       "  <thead>\n",
       "    <tr style=\"text-align: right;\">\n",
       "      <th></th>\n",
       "      <th></th>\n",
       "      <th>county</th>\n",
       "      <th>gas_price</th>\n",
       "      <th>n_ev</th>\n",
       "      <th>n_bev</th>\n",
       "      <th>n_phev</th>\n",
       "      <th>m_ev</th>\n",
       "      <th>m_bev</th>\n",
       "      <th>m_phev</th>\n",
       "      <th>n_evse</th>\n",
       "    </tr>\n",
       "    <tr>\n",
       "      <th>time</th>\n",
       "      <th>zip</th>\n",
       "      <th></th>\n",
       "      <th></th>\n",
       "      <th></th>\n",
       "      <th></th>\n",
       "      <th></th>\n",
       "      <th></th>\n",
       "      <th></th>\n",
       "      <th></th>\n",
       "      <th></th>\n",
       "    </tr>\n",
       "  </thead>\n",
       "  <tbody>\n",
       "    <tr>\n",
       "      <th rowspan=\"5\" valign=\"top\">2017-01-31</th>\n",
       "      <th>98001</th>\n",
       "      <td>King</td>\n",
       "      <td>2.743</td>\n",
       "      <td>73.0</td>\n",
       "      <td>34.0</td>\n",
       "      <td>39.0</td>\n",
       "      <td>43</td>\n",
       "      <td>24</td>\n",
       "      <td>20</td>\n",
       "      <td>0</td>\n",
       "    </tr>\n",
       "    <tr>\n",
       "      <th>98002</th>\n",
       "      <td>King</td>\n",
       "      <td>2.743</td>\n",
       "      <td>32.0</td>\n",
       "      <td>17.0</td>\n",
       "      <td>15.0</td>\n",
       "      <td>43</td>\n",
       "      <td>24</td>\n",
       "      <td>20</td>\n",
       "      <td>2</td>\n",
       "    </tr>\n",
       "    <tr>\n",
       "      <th>98003</th>\n",
       "      <td>King</td>\n",
       "      <td>2.743</td>\n",
       "      <td>54.0</td>\n",
       "      <td>22.0</td>\n",
       "      <td>32.0</td>\n",
       "      <td>43</td>\n",
       "      <td>24</td>\n",
       "      <td>20</td>\n",
       "      <td>1</td>\n",
       "    </tr>\n",
       "    <tr>\n",
       "      <th>98004</th>\n",
       "      <td>King</td>\n",
       "      <td>2.743</td>\n",
       "      <td>397.0</td>\n",
       "      <td>306.0</td>\n",
       "      <td>91.0</td>\n",
       "      <td>43</td>\n",
       "      <td>24</td>\n",
       "      <td>20</td>\n",
       "      <td>16</td>\n",
       "    </tr>\n",
       "    <tr>\n",
       "      <th>98005</th>\n",
       "      <td>King</td>\n",
       "      <td>2.743</td>\n",
       "      <td>194.0</td>\n",
       "      <td>138.0</td>\n",
       "      <td>56.0</td>\n",
       "      <td>43</td>\n",
       "      <td>24</td>\n",
       "      <td>20</td>\n",
       "      <td>1</td>\n",
       "    </tr>\n",
       "  </tbody>\n",
       "</table>\n",
       "</div>"
      ],
      "text/plain": [
       "                 county  gas_price   n_ev  n_bev  n_phev  m_ev  m_bev  m_phev  \\\n",
       "time       zip                                                                  \n",
       "2017-01-31 98001   King      2.743   73.0   34.0    39.0    43     24      20   \n",
       "           98002   King      2.743   32.0   17.0    15.0    43     24      20   \n",
       "           98003   King      2.743   54.0   22.0    32.0    43     24      20   \n",
       "           98004   King      2.743  397.0  306.0    91.0    43     24      20   \n",
       "           98005   King      2.743  194.0  138.0    56.0    43     24      20   \n",
       "\n",
       "                  n_evse  \n",
       "time       zip            \n",
       "2017-01-31 98001       0  \n",
       "           98002       2  \n",
       "           98003       1  \n",
       "           98004      16  \n",
       "           98005       1  "
      ]
     },
     "execution_count": 20,
     "metadata": {},
     "output_type": "execute_result"
    }
   ],
   "source": [
    "df.head()"
   ]
  },
  {
   "cell_type": "code",
   "execution_count": 21,
   "id": "e8a54f50",
   "metadata": {},
   "outputs": [
    {
     "data": {
      "text/plain": [
       "(35880, 9)"
      ]
     },
     "execution_count": 21,
     "metadata": {},
     "output_type": "execute_result"
    }
   ],
   "source": [
    "df.shape"
   ]
  },
  {
   "cell_type": "code",
   "execution_count": null,
   "id": "5afbb25d",
   "metadata": {},
   "outputs": [],
   "source": [
    "#save resulting dataframe as csv file\n",
    "df.to_csv(\"data/df.csv\")"
   ]
  },
  {
   "cell_type": "code",
   "execution_count": null,
   "id": "49ea0194",
   "metadata": {},
   "outputs": [],
   "source": []
  }
 ],
 "metadata": {
  "kernelspec": {
   "display_name": "Python 3 (ipykernel)",
   "language": "python",
   "name": "python3"
  },
  "language_info": {
   "codemirror_mode": {
    "name": "ipython",
    "version": 3
   },
   "file_extension": ".py",
   "mimetype": "text/x-python",
   "name": "python",
   "nbconvert_exporter": "python",
   "pygments_lexer": "ipython3",
   "version": "3.8.8"
  }
 },
 "nbformat": 4,
 "nbformat_minor": 5
}
