{
 "cells": [
  {
   "cell_type": "markdown",
   "id": "b4ce5bbf",
   "metadata": {},
   "source": [
    "# combine_data_sources.ipynb\n",
    "**Combines the different data sources to create one dataframe containing all data (EV registrations, EV product variety, gas prices, EV charging locations, ...) by month and ZIP code and saves the resulting dataframe in `data/df.csv`.**"
   ]
  },
  {
   "cell_type": "code",
   "execution_count": 1,
   "id": "bec2b2ae",
   "metadata": {},
   "outputs": [
    {
     "name": "stderr",
     "output_type": "stream",
     "text": [
      "C:\\Users\\steff\\anaconda3\\lib\\site-packages\\fuzzywuzzy\\fuzz.py:11: UserWarning: Using slow pure-python SequenceMatcher. Install python-Levenshtein to remove this warning\n",
      "  warnings.warn('Using slow pure-python SequenceMatcher. Install python-Levenshtein to remove this warning')\n"
     ]
    }
   ],
   "source": [
    "import pandas as pd\n",
    "import numpy as np\n",
    "import datetime as dt\n",
    "from uszipcode import SearchEngine\n",
    "search = SearchEngine()\n",
    "\n",
    "import utils as u\n",
    "from config.counties_zips import zip_codes"
   ]
  },
  {
   "cell_type": "code",
   "execution_count": 2,
   "id": "799c7101",
   "metadata": {},
   "outputs": [
    {
     "name": "stdout",
     "output_type": "stream",
     "text": [
      "598\n"
     ]
    }
   ],
   "source": [
    "# times = [(y, m) for y in range(2017,2022) for m in range(1,13)]\n",
    "# times = [(y, m) for y in range(2017,2018) for m in range(1,3)]\n",
    "times = [u.get_last_day_of_month(dt.datetime(year=y, month=m, day=20)) for y in range(2017,2022) for m in range(1,13)]\n",
    "# times = [u.get_last_day_of_month(dt.datetime(year=y, month=m, day=20)) for y in range(2017,2018) for m in range(1,3)]\n",
    "# zip_codes = df[\"zip\"].unique()\n",
    "# print(zip_codes, len(zip_codes))\n",
    "print(len(zip_codes))"
   ]
  },
  {
   "cell_type": "code",
   "execution_count": 3,
   "id": "43e33532",
   "metadata": {},
   "outputs": [
    {
     "data": {
      "text/html": [
       "<div>\n",
       "<style scoped>\n",
       "    .dataframe tbody tr th:only-of-type {\n",
       "        vertical-align: middle;\n",
       "    }\n",
       "\n",
       "    .dataframe tbody tr th {\n",
       "        vertical-align: top;\n",
       "    }\n",
       "\n",
       "    .dataframe thead th {\n",
       "        text-align: right;\n",
       "    }\n",
       "</style>\n",
       "<table border=\"1\" class=\"dataframe\">\n",
       "  <thead>\n",
       "    <tr style=\"text-align: right;\">\n",
       "      <th></th>\n",
       "      <th>time</th>\n",
       "      <th>zip</th>\n",
       "      <th>county</th>\n",
       "    </tr>\n",
       "  </thead>\n",
       "  <tbody>\n",
       "    <tr>\n",
       "      <th>0</th>\n",
       "      <td>2017-01-31</td>\n",
       "      <td>98001</td>\n",
       "      <td>King County</td>\n",
       "    </tr>\n",
       "    <tr>\n",
       "      <th>1</th>\n",
       "      <td>2017-01-31</td>\n",
       "      <td>98002</td>\n",
       "      <td>King County</td>\n",
       "    </tr>\n",
       "    <tr>\n",
       "      <th>2</th>\n",
       "      <td>2017-01-31</td>\n",
       "      <td>98003</td>\n",
       "      <td>King County</td>\n",
       "    </tr>\n",
       "    <tr>\n",
       "      <th>3</th>\n",
       "      <td>2017-01-31</td>\n",
       "      <td>98004</td>\n",
       "      <td>King County</td>\n",
       "    </tr>\n",
       "    <tr>\n",
       "      <th>4</th>\n",
       "      <td>2017-01-31</td>\n",
       "      <td>98005</td>\n",
       "      <td>King County</td>\n",
       "    </tr>\n",
       "  </tbody>\n",
       "</table>\n",
       "</div>"
      ],
      "text/plain": [
       "        time    zip       county\n",
       "0 2017-01-31  98001  King County\n",
       "1 2017-01-31  98002  King County\n",
       "2 2017-01-31  98003  King County\n",
       "3 2017-01-31  98004  King County\n",
       "4 2017-01-31  98005  King County"
      ]
     },
     "execution_count": 3,
     "metadata": {},
     "output_type": "execute_result"
    }
   ],
   "source": [
    "times_full = [time for time in times for _ in zip_codes]\n",
    "zip_codes_full = [*zip_codes]*len(times)\n",
    "\n",
    "df = pd.DataFrame()\n",
    "df[\"time\"] = times_full\n",
    "df[\"zip\"]  = zip_codes_full\n",
    "df[\"county\"] = \"\"\n",
    "for zip_code in zip_codes:\n",
    "    df.loc[df[\"zip\"] == zip_code, \"county\"] = search.by_zipcode(zip_code).county\n",
    "df.head()"
   ]
  },
  {
   "cell_type": "code",
   "execution_count": 7,
   "id": "446b14e1",
   "metadata": {},
   "outputs": [],
   "source": [
    "df.to_csv(\"data/index.csv\")"
   ]
  },
  {
   "cell_type": "code",
   "execution_count": 4,
   "id": "fcbfc7d4",
   "metadata": {},
   "outputs": [],
   "source": [
    "# gas_price\n",
    "df_gas = pd.read_csv(\"data/gas/Weekly_Retail_Gasoline_and_Diesel_Prices.csv\", header=6, parse_dates=[\"Month\"])\n",
    "df_gas = df_gas.rename(columns={\"Month\" : \"time\"})\n",
    "\n",
    "df_gas[\"time\"] = df_gas[\"time\"].apply(u.get_last_day_of_month)\n",
    "\n",
    "for time in times:\n",
    "    gas_price = df_gas.loc[df_gas[\"time\"] == time, \"Washington All Grades All Formulations Retail Gasoline Prices $/gal\"].values[0]\n",
    "    df.loc[df[\"time\"] == time, \"gas_price\"] = gas_price\n",
    "\n",
    "# print(df.tail())"
   ]
  },
  {
   "cell_type": "code",
   "execution_count": 9,
   "id": "ad0e52fe",
   "metadata": {},
   "outputs": [],
   "source": [
    "def get_date_from_tuple(t):\n",
    "    \"\"\"\n",
    "    Extract the last day of the month (as a datetime.datetime object) from a given string such as \"(2017, 1)\" or \"(2021, 10)\".\n",
    "    \"\"\"\n",
    "    y = int(t[1:5])\n",
    "    m = int(t[7:8]) if len(t)==9 else int(t[7:9])\n",
    "    last_day_of_month = u.get_last_day_of_month(dt.datetime(year=y, month=m, day=20))\n",
    "    return last_day_of_month"
   ]
  },
  {
   "cell_type": "code",
   "execution_count": 16,
   "id": "712ca20c",
   "metadata": {},
   "outputs": [
    {
     "data": {
      "text/plain": [
       "(35880, 4)"
      ]
     },
     "execution_count": 16,
     "metadata": {},
     "output_type": "execute_result"
    }
   ],
   "source": [
    "df.shape"
   ]
  },
  {
   "cell_type": "code",
   "execution_count": 5,
   "id": "8de1fb80",
   "metadata": {},
   "outputs": [
    {
     "name": "stdout",
     "output_type": "stream",
     "text": [
      "2017-01-31 00:00:00\n",
      "2017-02-28 00:00:00\n",
      "2017-03-31 00:00:00\n",
      "2017-04-30 00:00:00\n",
      "2017-05-31 00:00:00\n",
      "2017-06-30 00:00:00\n",
      "2017-07-31 00:00:00\n",
      "2017-08-31 00:00:00\n",
      "2017-09-30 00:00:00\n",
      "2017-10-31 00:00:00\n",
      "2017-11-30 00:00:00\n",
      "2017-12-31 00:00:00\n",
      "2018-01-31 00:00:00\n",
      "2018-02-28 00:00:00\n",
      "2018-03-31 00:00:00\n",
      "2018-04-30 00:00:00\n",
      "2018-05-31 00:00:00\n",
      "2018-06-30 00:00:00\n",
      "2018-07-31 00:00:00\n",
      "2018-08-31 00:00:00\n",
      "2018-09-30 00:00:00\n",
      "2018-10-31 00:00:00\n",
      "2018-11-30 00:00:00\n",
      "2018-12-31 00:00:00\n",
      "2019-01-31 00:00:00\n",
      "2019-02-28 00:00:00\n",
      "2019-03-31 00:00:00\n",
      "2019-04-30 00:00:00\n",
      "2019-05-31 00:00:00\n",
      "2019-06-30 00:00:00\n",
      "2019-07-31 00:00:00\n",
      "2019-08-31 00:00:00\n",
      "2019-09-30 00:00:00\n",
      "2019-10-31 00:00:00\n",
      "2019-11-30 00:00:00\n",
      "2019-12-31 00:00:00\n",
      "2020-01-31 00:00:00\n",
      "2020-02-29 00:00:00\n",
      "2020-03-31 00:00:00\n",
      "2020-04-30 00:00:00\n",
      "2020-05-31 00:00:00\n",
      "2020-06-30 00:00:00\n",
      "2020-07-31 00:00:00\n",
      "2020-08-31 00:00:00\n",
      "2020-09-30 00:00:00\n",
      "2020-10-31 00:00:00\n",
      "2020-11-30 00:00:00\n",
      "2020-12-31 00:00:00\n",
      "2021-01-31 00:00:00\n",
      "2021-02-28 00:00:00\n",
      "2021-03-31 00:00:00\n",
      "2021-04-30 00:00:00\n",
      "2021-05-31 00:00:00\n",
      "2021-06-30 00:00:00\n",
      "2021-07-31 00:00:00\n",
      "2021-08-31 00:00:00\n",
      "2021-09-30 00:00:00\n",
      "2021-10-31 00:00:00\n",
      "2021-11-30 00:00:00\n",
      "2021-12-31 00:00:00\n"
     ]
    }
   ],
   "source": [
    "# n_ev, m_ev\n",
    "df_ev = pd.read_csv(\"data/vehicles/ev.csv\")\n",
    "df_ev[\"time\"] = df_ev[\"time\"].apply(u.get_date_from_tuple)\n",
    "cols = [\"n_ev\", \"n_bev\", \"n_phev\", \"m_ev\", \"m_bev\", \"m_phev\"]\n",
    "df[cols] = 0\n",
    "\n",
    "# print(df.head())\n",
    "\n",
    "for time in times:\n",
    "    print(time)\n",
    "    for zip_code in zip_codes:\n",
    "        ev_counts = df_ev.loc[(df_ev[\"time\"] == time) & (df_ev[\"zip\"] == zip_code), cols]\n",
    "        for col in cols:\n",
    "#             print(df.loc[(df[\"time\"] == time) & (df[\"zip\"] == zip_code), col])\n",
    "#             print(ev_counts[col])\n",
    "#             print(ev_counts[col].values[0])\n",
    "            if not ev_counts[col].empty:\n",
    "                df.loc[(df[\"time\"] == time) & (df[\"zip\"] == zip_code), col] = ev_counts[col].values[0]\n",
    "#             print(df.loc[(df[\"time\"] == time) & (df[\"zip\"] == zip_code), col])\n",
    "#             print(ev_counts[col])\n",
    "#         print(ev_counts)\n",
    "#         print(df.loc[(df[\"time\"] == time) & (df[\"zip\"] == zip_code), cols])\n",
    "#         df.loc[(df[\"time\"] == time) & (df[\"zip\"] == zip_code), cols] = ev_counts\n",
    "print(\"done\")"
   ]
  },
  {
   "cell_type": "code",
   "execution_count": 6,
   "id": "af5a8026",
   "metadata": {},
   "outputs": [
    {
     "data": {
      "text/html": [
       "<div>\n",
       "<style scoped>\n",
       "    .dataframe tbody tr th:only-of-type {\n",
       "        vertical-align: middle;\n",
       "    }\n",
       "\n",
       "    .dataframe tbody tr th {\n",
       "        vertical-align: top;\n",
       "    }\n",
       "\n",
       "    .dataframe thead th {\n",
       "        text-align: right;\n",
       "    }\n",
       "</style>\n",
       "<table border=\"1\" class=\"dataframe\">\n",
       "  <thead>\n",
       "    <tr style=\"text-align: right;\">\n",
       "      <th></th>\n",
       "      <th>time</th>\n",
       "      <th>zip</th>\n",
       "      <th>county</th>\n",
       "      <th>gas_price</th>\n",
       "      <th>n_ev</th>\n",
       "      <th>n_bev</th>\n",
       "      <th>n_phev</th>\n",
       "      <th>m_ev</th>\n",
       "      <th>m_bev</th>\n",
       "      <th>m_phev</th>\n",
       "    </tr>\n",
       "  </thead>\n",
       "  <tbody>\n",
       "    <tr>\n",
       "      <th>0</th>\n",
       "      <td>2017-01-31</td>\n",
       "      <td>98001</td>\n",
       "      <td>King County</td>\n",
       "      <td>2.743</td>\n",
       "      <td>98.0</td>\n",
       "      <td>57.0</td>\n",
       "      <td>41.0</td>\n",
       "      <td>117.0</td>\n",
       "      <td>28.0</td>\n",
       "      <td>23.0</td>\n",
       "    </tr>\n",
       "    <tr>\n",
       "      <th>1</th>\n",
       "      <td>2017-01-31</td>\n",
       "      <td>98002</td>\n",
       "      <td>King County</td>\n",
       "      <td>2.743</td>\n",
       "      <td>39.0</td>\n",
       "      <td>18.0</td>\n",
       "      <td>21.0</td>\n",
       "      <td>117.0</td>\n",
       "      <td>28.0</td>\n",
       "      <td>23.0</td>\n",
       "    </tr>\n",
       "    <tr>\n",
       "      <th>2</th>\n",
       "      <td>2017-01-31</td>\n",
       "      <td>98003</td>\n",
       "      <td>King County</td>\n",
       "      <td>2.743</td>\n",
       "      <td>79.0</td>\n",
       "      <td>40.0</td>\n",
       "      <td>39.0</td>\n",
       "      <td>117.0</td>\n",
       "      <td>28.0</td>\n",
       "      <td>23.0</td>\n",
       "    </tr>\n",
       "    <tr>\n",
       "      <th>3</th>\n",
       "      <td>2017-01-31</td>\n",
       "      <td>98004</td>\n",
       "      <td>King County</td>\n",
       "      <td>2.743</td>\n",
       "      <td>551.0</td>\n",
       "      <td>414.0</td>\n",
       "      <td>137.0</td>\n",
       "      <td>117.0</td>\n",
       "      <td>28.0</td>\n",
       "      <td>23.0</td>\n",
       "    </tr>\n",
       "    <tr>\n",
       "      <th>4</th>\n",
       "      <td>2017-01-31</td>\n",
       "      <td>98005</td>\n",
       "      <td>King County</td>\n",
       "      <td>2.743</td>\n",
       "      <td>299.0</td>\n",
       "      <td>219.0</td>\n",
       "      <td>80.0</td>\n",
       "      <td>117.0</td>\n",
       "      <td>28.0</td>\n",
       "      <td>23.0</td>\n",
       "    </tr>\n",
       "  </tbody>\n",
       "</table>\n",
       "</div>"
      ],
      "text/plain": [
       "        time    zip       county  gas_price   n_ev  n_bev  n_phev   m_ev  \\\n",
       "0 2017-01-31  98001  King County      2.743   98.0   57.0    41.0  117.0   \n",
       "1 2017-01-31  98002  King County      2.743   39.0   18.0    21.0  117.0   \n",
       "2 2017-01-31  98003  King County      2.743   79.0   40.0    39.0  117.0   \n",
       "3 2017-01-31  98004  King County      2.743  551.0  414.0   137.0  117.0   \n",
       "4 2017-01-31  98005  King County      2.743  299.0  219.0    80.0  117.0   \n",
       "\n",
       "   m_bev  m_phev  \n",
       "0   28.0    23.0  \n",
       "1   28.0    23.0  \n",
       "2   28.0    23.0  \n",
       "3   28.0    23.0  \n",
       "4   28.0    23.0  "
      ]
     },
     "execution_count": 6,
     "metadata": {},
     "output_type": "execute_result"
    }
   ],
   "source": [
    "df.head()"
   ]
  },
  {
   "cell_type": "code",
   "execution_count": 7,
   "id": "b24a70c0",
   "metadata": {},
   "outputs": [
    {
     "data": {
      "text/plain": [
       "(35880, 10)"
      ]
     },
     "execution_count": 7,
     "metadata": {},
     "output_type": "execute_result"
    }
   ],
   "source": [
    "df.shape"
   ]
  },
  {
   "cell_type": "code",
   "execution_count": 176,
   "id": "d7ddc34e",
   "metadata": {},
   "outputs": [],
   "source": [
    "df.to_csv(\"data/df2.csv\")"
   ]
  },
  {
   "cell_type": "code",
   "execution_count": 13,
   "id": "614e023f",
   "metadata": {},
   "outputs": [
    {
     "name": "stdout",
     "output_type": "stream",
     "text": [
      "2017-01-31 00:00:00\n",
      "2017-02-28 00:00:00\n",
      "2017-03-31 00:00:00\n",
      "2017-04-30 00:00:00\n",
      "2017-05-31 00:00:00\n",
      "2017-06-30 00:00:00\n",
      "2017-07-31 00:00:00\n",
      "2017-08-31 00:00:00\n",
      "2017-09-30 00:00:00\n",
      "2017-10-31 00:00:00\n",
      "2017-11-30 00:00:00\n",
      "2017-12-31 00:00:00\n",
      "2018-01-31 00:00:00\n",
      "2018-02-28 00:00:00\n",
      "2018-03-31 00:00:00\n",
      "2018-04-30 00:00:00\n",
      "2018-05-31 00:00:00\n",
      "2018-06-30 00:00:00\n",
      "2018-07-31 00:00:00\n",
      "2018-08-31 00:00:00\n",
      "2018-09-30 00:00:00\n",
      "2018-10-31 00:00:00\n",
      "2018-11-30 00:00:00\n",
      "2018-12-31 00:00:00\n",
      "2019-01-31 00:00:00\n",
      "2019-02-28 00:00:00\n",
      "2019-03-31 00:00:00\n",
      "2019-04-30 00:00:00\n",
      "2019-05-31 00:00:00\n",
      "2019-06-30 00:00:00\n",
      "2019-07-31 00:00:00\n",
      "2019-08-31 00:00:00\n",
      "2019-09-30 00:00:00\n",
      "2019-10-31 00:00:00\n",
      "2019-11-30 00:00:00\n",
      "2019-12-31 00:00:00\n",
      "2020-01-31 00:00:00\n",
      "2020-02-29 00:00:00\n",
      "2020-03-31 00:00:00\n",
      "2020-04-30 00:00:00\n",
      "2020-05-31 00:00:00\n",
      "2020-06-30 00:00:00\n",
      "2020-07-31 00:00:00\n",
      "2020-08-31 00:00:00\n",
      "2020-09-30 00:00:00\n",
      "2020-10-31 00:00:00\n",
      "2020-11-30 00:00:00\n",
      "2020-12-31 00:00:00\n",
      "2021-01-31 00:00:00\n",
      "2021-02-28 00:00:00\n",
      "2021-03-31 00:00:00\n",
      "2021-04-30 00:00:00\n",
      "2021-05-31 00:00:00\n",
      "2021-06-30 00:00:00\n",
      "2021-07-31 00:00:00\n",
      "2021-08-31 00:00:00\n",
      "2021-09-30 00:00:00\n",
      "2021-10-31 00:00:00\n",
      "2021-11-30 00:00:00\n",
      "2021-12-31 00:00:00\n"
     ]
    }
   ],
   "source": [
    "#evse\n",
    "#number of installed L2 stations + DCFC stations by zip code and month\n",
    "df_evse = pd.read_csv(\"data/evse/EV_charging_stations_WA.csv\")\n",
    "df_evse_key = pd.read_csv(\"config/EV_charging_stations_key.csv\")\n",
    "df_evse.columns = df_evse_key[\"name\"]\n",
    "\n",
    "df_evse[\"open_date\"] = pd.to_datetime(df_evse[\"open_date\"])\n",
    "\n",
    "df_evse[\"l2_count\"] = df_evse[\"l2_count\"].fillna(0).astype(int)\n",
    "df_evse[\"dcfc_count\"] = df_evse[\"dcfc_count\"].fillna(0).astype(int)\n",
    "\n",
    "# df_evse[\"has_l2_or_dcfc\"] = df_evse[\"l2_count\"] > 0 #boolean if location has at least one L2 charger\n",
    "df_evse[\"has_l2_or_dcfc\"] = (df_evse[\"l2_count\"] > 0) | (df_evse[\"dcfc_count\"] > 0) #boolean if location has at least one L2 or DCFC charger\n",
    "\n",
    "df[\"n_evse\"] = 0\n",
    "for t in times:\n",
    "    print(t)\n",
    "    for zip_code in zip_codes:\n",
    "        dff = df_evse[(df_evse[\"open_date\"] < t) & (df_evse[\"zip\"] == zip_code)]\n",
    "#         n_evse = dff[\"has_l2_or_dcfc\"].value_counts()\n",
    "        n_evse = sum(dff[\"has_l2_or_dcfc\"]) #counts number of locations with at least one charging station in that ZIP code and for that month\n",
    "        df.loc[(df[\"time\"] == t) & (df[\"zip\"] == zip_code), \"n_evse\"] = n_evse\n",
    "    \n",
    "#     df = zip_code_level_registrations.size()\n",
    "#     m_ev = len(df[\"make_model\"].unique())\n",
    "#     for zip, count in zip_code_level_EV_counts.iteritems():\n",
    "#         final_df.loc[(final_df[\"time\"] == t) & (final_df[\"zip\"] == zip), \"n_ev\"] = count\n",
    "#         final_df.loc[(final_df[\"time\"] == t) & (final_df[\"zip\"] == zip), \"m_ev\"] = m_ev\n",
    "    \n"
   ]
  },
  {
   "cell_type": "code",
   "execution_count": 14,
   "id": "9dab3628",
   "metadata": {},
   "outputs": [
    {
     "data": {
      "text/html": [
       "<div>\n",
       "<style scoped>\n",
       "    .dataframe tbody tr th:only-of-type {\n",
       "        vertical-align: middle;\n",
       "    }\n",
       "\n",
       "    .dataframe tbody tr th {\n",
       "        vertical-align: top;\n",
       "    }\n",
       "\n",
       "    .dataframe thead th {\n",
       "        text-align: right;\n",
       "    }\n",
       "</style>\n",
       "<table border=\"1\" class=\"dataframe\">\n",
       "  <thead>\n",
       "    <tr style=\"text-align: right;\">\n",
       "      <th></th>\n",
       "      <th>time</th>\n",
       "      <th>zip</th>\n",
       "      <th>county</th>\n",
       "      <th>gas_price</th>\n",
       "      <th>n_ev</th>\n",
       "      <th>n_bev</th>\n",
       "      <th>n_phev</th>\n",
       "      <th>m_ev</th>\n",
       "      <th>m_bev</th>\n",
       "      <th>m_phev</th>\n",
       "      <th>n_evse</th>\n",
       "    </tr>\n",
       "  </thead>\n",
       "  <tbody>\n",
       "    <tr>\n",
       "      <th>0</th>\n",
       "      <td>2017-01-31</td>\n",
       "      <td>98001</td>\n",
       "      <td>King County</td>\n",
       "      <td>2.743</td>\n",
       "      <td>98.0</td>\n",
       "      <td>57.0</td>\n",
       "      <td>41.0</td>\n",
       "      <td>117.0</td>\n",
       "      <td>28.0</td>\n",
       "      <td>23.0</td>\n",
       "      <td>0</td>\n",
       "    </tr>\n",
       "    <tr>\n",
       "      <th>1</th>\n",
       "      <td>2017-01-31</td>\n",
       "      <td>98002</td>\n",
       "      <td>King County</td>\n",
       "      <td>2.743</td>\n",
       "      <td>39.0</td>\n",
       "      <td>18.0</td>\n",
       "      <td>21.0</td>\n",
       "      <td>117.0</td>\n",
       "      <td>28.0</td>\n",
       "      <td>23.0</td>\n",
       "      <td>2</td>\n",
       "    </tr>\n",
       "    <tr>\n",
       "      <th>2</th>\n",
       "      <td>2017-01-31</td>\n",
       "      <td>98003</td>\n",
       "      <td>King County</td>\n",
       "      <td>2.743</td>\n",
       "      <td>79.0</td>\n",
       "      <td>40.0</td>\n",
       "      <td>39.0</td>\n",
       "      <td>117.0</td>\n",
       "      <td>28.0</td>\n",
       "      <td>23.0</td>\n",
       "      <td>1</td>\n",
       "    </tr>\n",
       "    <tr>\n",
       "      <th>3</th>\n",
       "      <td>2017-01-31</td>\n",
       "      <td>98004</td>\n",
       "      <td>King County</td>\n",
       "      <td>2.743</td>\n",
       "      <td>551.0</td>\n",
       "      <td>414.0</td>\n",
       "      <td>137.0</td>\n",
       "      <td>117.0</td>\n",
       "      <td>28.0</td>\n",
       "      <td>23.0</td>\n",
       "      <td>16</td>\n",
       "    </tr>\n",
       "    <tr>\n",
       "      <th>4</th>\n",
       "      <td>2017-01-31</td>\n",
       "      <td>98005</td>\n",
       "      <td>King County</td>\n",
       "      <td>2.743</td>\n",
       "      <td>299.0</td>\n",
       "      <td>219.0</td>\n",
       "      <td>80.0</td>\n",
       "      <td>117.0</td>\n",
       "      <td>28.0</td>\n",
       "      <td>23.0</td>\n",
       "      <td>1</td>\n",
       "    </tr>\n",
       "  </tbody>\n",
       "</table>\n",
       "</div>"
      ],
      "text/plain": [
       "        time    zip       county  gas_price   n_ev  n_bev  n_phev   m_ev  \\\n",
       "0 2017-01-31  98001  King County      2.743   98.0   57.0    41.0  117.0   \n",
       "1 2017-01-31  98002  King County      2.743   39.0   18.0    21.0  117.0   \n",
       "2 2017-01-31  98003  King County      2.743   79.0   40.0    39.0  117.0   \n",
       "3 2017-01-31  98004  King County      2.743  551.0  414.0   137.0  117.0   \n",
       "4 2017-01-31  98005  King County      2.743  299.0  219.0    80.0  117.0   \n",
       "\n",
       "   m_bev  m_phev  n_evse  \n",
       "0   28.0    23.0       0  \n",
       "1   28.0    23.0       2  \n",
       "2   28.0    23.0       1  \n",
       "3   28.0    23.0      16  \n",
       "4   28.0    23.0       1  "
      ]
     },
     "execution_count": 14,
     "metadata": {},
     "output_type": "execute_result"
    }
   ],
   "source": [
    "df.head()"
   ]
  },
  {
   "cell_type": "code",
   "execution_count": 15,
   "id": "e8a54f50",
   "metadata": {},
   "outputs": [
    {
     "data": {
      "text/plain": [
       "(35880, 11)"
      ]
     },
     "execution_count": 15,
     "metadata": {},
     "output_type": "execute_result"
    }
   ],
   "source": [
    "df.shape"
   ]
  },
  {
   "cell_type": "code",
   "execution_count": 16,
   "id": "5afbb25d",
   "metadata": {},
   "outputs": [],
   "source": [
    "#save resulting dataframe as csv file\n",
    "df.to_csv(\"data/df.csv\")"
   ]
  },
  {
   "cell_type": "code",
   "execution_count": null,
   "id": "e4256344",
   "metadata": {},
   "outputs": [],
   "source": []
  },
  {
   "cell_type": "code",
   "execution_count": 228,
   "id": "c5925b87",
   "metadata": {},
   "outputs": [
    {
     "data": {
      "text/plain": [
       "'King County'"
      ]
     },
     "execution_count": 228,
     "metadata": {},
     "output_type": "execute_result"
    }
   ],
   "source": [
    "from uszipcode import SearchEngine, SimpleZipcode, ComprehensiveZipcode\n",
    "search = SearchEngine()\n",
    "zipcode = search.by_zipcode(98119)\n",
    "# zipcode.zipcode # access attributes\n",
    "# zipcode.major_city\n",
    "zipcode.county"
   ]
  },
  {
   "cell_type": "code",
   "execution_count": null,
   "id": "e8398eb8",
   "metadata": {},
   "outputs": [],
   "source": []
  }
 ],
 "metadata": {
  "kernelspec": {
   "display_name": "Python 3 (ipykernel)",
   "language": "python",
   "name": "python3"
  },
  "language_info": {
   "codemirror_mode": {
    "name": "ipython",
    "version": 3
   },
   "file_extension": ".py",
   "mimetype": "text/x-python",
   "name": "python",
   "nbconvert_exporter": "python",
   "pygments_lexer": "ipython3",
   "version": "3.8.8"
  }
 },
 "nbformat": 4,
 "nbformat_minor": 5
}
