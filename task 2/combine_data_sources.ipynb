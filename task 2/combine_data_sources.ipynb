{
 "cells": [
  {
   "cell_type": "markdown",
   "id": "b4ce5bbf",
   "metadata": {},
   "source": [
    "# combine_data_sources.ipynb\n",
    "**Combines the different data sources to create one dataframe containing all data (EV registrations, EV product variety, gas prices, EV charging locations, ...) by month and ZIP code and saves the resulting dataframe in `data/df.csv`.**"
   ]
  },
  {
   "cell_type": "code",
   "execution_count": 1,
   "id": "bec2b2ae",
   "metadata": {},
   "outputs": [
    {
     "name": "stderr",
     "output_type": "stream",
     "text": [
      "C:\\Users\\steff\\anaconda3\\lib\\site-packages\\fuzzywuzzy\\fuzz.py:11: UserWarning: Using slow pure-python SequenceMatcher. Install python-Levenshtein to remove this warning\n",
      "  warnings.warn('Using slow pure-python SequenceMatcher. Install python-Levenshtein to remove this warning')\n"
     ]
    }
   ],
   "source": [
    "import pandas as pd\n",
    "import numpy as np\n",
    "import datetime as dt\n",
    "from uszipcode import SearchEngine\n",
    "search = SearchEngine()\n",
    "\n",
    "import utils as u\n",
    "from config.GLOBAL import *"
   ]
  },
  {
   "cell_type": "code",
   "execution_count": 5,
   "id": "799c7101",
   "metadata": {},
   "outputs": [],
   "source": [
    "times = [u.get_last_day_of_month(dt.datetime(year=y, month=m, day=20)) for y in range(2017,2023) for m in range(1,13)][:-3]\n",
    "times = [u.get_last_day_of_month(dt.datetime(year=y, month=m, day=20)) for y in range(2018,2023) for m in range(1,13)][:-3]\n",
    "# times"
   ]
  },
  {
   "cell_type": "code",
   "execution_count": 17,
   "outputs": [
    {
     "data": {
      "text/plain": "                              county zip_code countyFIPS\ntime       census_tract_2010                            \n2018-01-31 53001950100         Adams    99169      53001\n           53001950200         Adams    99371      53001\n           53001950300         Adams    99344      53001\n           53001950400         Adams    99344      53001\n           53001950500         Adams    99344      53001\n...                              ...      ...        ...\n2022-09-30 53077940002        Yakima    98948      53077\n           53077940003        Yakima    98903      53077\n           53077940004        Yakima    98951      53077\n           53077940005        Yakima    98948      53077\n           53077940006        Yakima    98948      53077\n\n[83106 rows x 3 columns]",
      "text/html": "<div>\n<style scoped>\n    .dataframe tbody tr th:only-of-type {\n        vertical-align: middle;\n    }\n\n    .dataframe tbody tr th {\n        vertical-align: top;\n    }\n\n    .dataframe thead th {\n        text-align: right;\n    }\n</style>\n<table border=\"1\" class=\"dataframe\">\n  <thead>\n    <tr style=\"text-align: right;\">\n      <th></th>\n      <th></th>\n      <th>county</th>\n      <th>zip_code</th>\n      <th>countyFIPS</th>\n    </tr>\n    <tr>\n      <th>time</th>\n      <th>census_tract_2010</th>\n      <th></th>\n      <th></th>\n      <th></th>\n    </tr>\n  </thead>\n  <tbody>\n    <tr>\n      <th rowspan=\"5\" valign=\"top\">2018-01-31</th>\n      <th>53001950100</th>\n      <td>Adams</td>\n      <td>99169</td>\n      <td>53001</td>\n    </tr>\n    <tr>\n      <th>53001950200</th>\n      <td>Adams</td>\n      <td>99371</td>\n      <td>53001</td>\n    </tr>\n    <tr>\n      <th>53001950300</th>\n      <td>Adams</td>\n      <td>99344</td>\n      <td>53001</td>\n    </tr>\n    <tr>\n      <th>53001950400</th>\n      <td>Adams</td>\n      <td>99344</td>\n      <td>53001</td>\n    </tr>\n    <tr>\n      <th>53001950500</th>\n      <td>Adams</td>\n      <td>99344</td>\n      <td>53001</td>\n    </tr>\n    <tr>\n      <th>...</th>\n      <th>...</th>\n      <td>...</td>\n      <td>...</td>\n      <td>...</td>\n    </tr>\n    <tr>\n      <th rowspan=\"5\" valign=\"top\">2022-09-30</th>\n      <th>53077940002</th>\n      <td>Yakima</td>\n      <td>98948</td>\n      <td>53077</td>\n    </tr>\n    <tr>\n      <th>53077940003</th>\n      <td>Yakima</td>\n      <td>98903</td>\n      <td>53077</td>\n    </tr>\n    <tr>\n      <th>53077940004</th>\n      <td>Yakima</td>\n      <td>98951</td>\n      <td>53077</td>\n    </tr>\n    <tr>\n      <th>53077940005</th>\n      <td>Yakima</td>\n      <td>98948</td>\n      <td>53077</td>\n    </tr>\n    <tr>\n      <th>53077940006</th>\n      <td>Yakima</td>\n      <td>98948</td>\n      <td>53077</td>\n    </tr>\n  </tbody>\n</table>\n<p>83106 rows × 3 columns</p>\n</div>"
     },
     "execution_count": 17,
     "metadata": {},
     "output_type": "execute_result"
    }
   ],
   "source": [
    "df_empty = u.create_empty_df(times, census_tracts_2010, \"census_tract_2010\")\n",
    "df_empty"
   ],
   "metadata": {
    "collapsed": false
   }
  },
  {
   "cell_type": "code",
   "execution_count": 18,
   "outputs": [],
   "source": [
    "df = df_empty.copy()"
   ],
   "metadata": {
    "collapsed": false
   }
  },
  {
   "cell_type": "code",
   "execution_count": 28,
   "id": "446b14e1",
   "metadata": {},
   "outputs": [],
   "source": [
    "df.to_csv(\"data/index_test_slow.csv\")"
   ]
  },
  {
   "cell_type": "code",
   "execution_count": 6,
   "id": "712ca20c",
   "metadata": {},
   "outputs": [
    {
     "data": {
      "text/plain": "(135594, 2)"
     },
     "execution_count": 6,
     "metadata": {},
     "output_type": "execute_result"
    }
   ],
   "source": [
    "df.shape"
   ]
  },
  {
   "cell_type": "code",
   "execution_count": 19,
   "id": "8de1fb80",
   "metadata": {},
   "outputs": [
    {
     "name": "stdout",
     "output_type": "stream",
     "text": [
      "done\n"
     ]
    }
   ],
   "source": [
    "# n_ev (number of registered EVs), m_ev (number of different EV make/models [\"product variety\"])\n",
    "# df_ev = pd.read_csv(\"data/vehicles/ev_counts.csv\")\n",
    "# df_ev = pd.read_csv(\"data/vehicles/ev_counts_2010tracts.csv\")\n",
    "# df_ev = pd.read_csv(\"data/vehicles/ev_counts_2010tracts_to_2011.csv\")\n",
    "df_ev = pd.read_csv(\"data/vehicles/ev_counts__2010tracts.csv\")\n",
    "df_ev = df_ev.convert_dtypes()\n",
    "df_ev[\"time\"] = pd.to_datetime(df_ev[\"time\"]).dt.date\n",
    "\n",
    "df_ev = df_ev.set_index([\"time\", \"census_tract_2010\"])\n",
    "df_ev.index.dtypes[1] = \"int64\"\n",
    "\n",
    "# print(df)\n",
    "# print(df_ev)\n",
    "# h\n",
    "\n",
    "##### df = df.merge(df_ev, on=[\"time\", \"zip\"], how=\"inner\", suffixes=(None,\"_y\"))\n",
    "df = df.join(df_ev, on=[\"time\", \"census_tract_2010\"], how=\"inner\", rsuffix=\"_y\")\n",
    "# df = df.drop(columns=\"zip_code_y\") #the county column appears twice, so removing the duplicate he\n",
    "# df = df.drop(columns=\"county_y\") #the county column appears twice, so removing the duplicate he\n",
    "\n",
    "# alternative way (instead of using join):\n",
    "# for time in times:\n",
    "#     print(time)\n",
    "#     for zip_code in zip_codes:\n",
    "#         ev_counts = df_ev.loc[(time, zip_code), cols]\n",
    "#         for col in cols:\n",
    "#             if not np.isnan(ev_counts[col]):\n",
    "#                 df.loc[(time, zip_code), col] = ev_counts[col]\n",
    "\n",
    "print(\"done\")"
   ]
  },
  {
   "cell_type": "code",
   "execution_count": 20,
   "outputs": [
    {
     "data": {
      "text/plain": "                              county zip_code countyFIPS  n_ev  n_bev  n_phev  \\\ntime       census_tract_2010                                                    \n2018-01-31 53001950100         Adams    99169      53001     8      4       4   \n           53001950200         Adams    99371      53001     0      0       0   \n           53001950300         Adams    99344      53001     6      0       6   \n           53001950400         Adams    99344      53001     0      0       0   \n           53001950500         Adams    99344      53001     3      3       0   \n...                              ...      ...        ...   ...    ...     ...   \n2022-09-30 53077940002        Yakima    98948      53077     6      4       2   \n           53077940003        Yakima    98903      53077     6      2       4   \n           53077940004        Yakima    98951      53077     2      2       0   \n           53077940005        Yakima    98948      53077     2      2       0   \n           53077940006        Yakima    98948      53077     2      2       0   \n\n                              n_ev_new_sales  n_bev_new_sales  \\\ntime       census_tract_2010                                    \n2018-01-31 53001950100                     8                4   \n           53001950200                     0                0   \n           53001950300                     6                0   \n           53001950400                     0                0   \n           53001950500                     3                3   \n...                                      ...              ...   \n2022-09-30 53077940002                     6                4   \n           53077940003                     6                2   \n           53077940004                     2                2   \n           53077940005                     2                2   \n           53077940006                     2                2   \n\n                              n_phev_new_sales  n_ev_used_sales  \\\ntime       census_tract_2010                                      \n2018-01-31 53001950100                       4                8   \n           53001950200                       0                0   \n           53001950300                       6                6   \n           53001950400                       0                0   \n           53001950500                       0                3   \n...                                        ...              ...   \n2022-09-30 53077940002                       2                6   \n           53077940003                       4                6   \n           53077940004                       0                2   \n           53077940005                       0                2   \n           53077940006                       0                2   \n\n                              n_bev_used_sales  n_phev_used_sales  \\\ntime       census_tract_2010                                        \n2018-01-31 53001950100                       4                  4   \n           53001950200                       0                  0   \n           53001950300                       0                  6   \n           53001950400                       0                  0   \n           53001950500                       3                  0   \n...                                        ...                ...   \n2022-09-30 53077940002                       4                  2   \n           53077940003                       2                  4   \n           53077940004                       2                  0   \n           53077940005                       2                  0   \n           53077940006                       2                  0   \n\n                              n_ev_renewals  n_bev_renewals  n_phev_renewals  \\\ntime       census_tract_2010                                                   \n2018-01-31 53001950100                    8               4                4   \n           53001950200                    0               0                0   \n           53001950300                    6               0                6   \n           53001950400                    0               0                0   \n           53001950500                    3               3                0   \n...                                     ...             ...              ...   \n2022-09-30 53077940002                    6               4                2   \n           53077940003                    6               2                4   \n           53077940004                    2               2                0   \n           53077940005                    2               2                0   \n           53077940006                    2               2                0   \n\n                              m_ev  m_bev  m_phev  \ntime       census_tract_2010                       \n2018-01-31 53001950100          64     29      37  \n           53001950200          64     29      37  \n           53001950300          64     29      37  \n           53001950400          64     29      37  \n           53001950500          64     29      37  \n...                            ...    ...     ...  \n2022-09-30 53077940002         121     60      64  \n           53077940003         121     60      64  \n           53077940004         121     60      64  \n           53077940005         121     60      64  \n           53077940006         121     60      64  \n\n[83049 rows x 18 columns]",
      "text/html": "<div>\n<style scoped>\n    .dataframe tbody tr th:only-of-type {\n        vertical-align: middle;\n    }\n\n    .dataframe tbody tr th {\n        vertical-align: top;\n    }\n\n    .dataframe thead th {\n        text-align: right;\n    }\n</style>\n<table border=\"1\" class=\"dataframe\">\n  <thead>\n    <tr style=\"text-align: right;\">\n      <th></th>\n      <th></th>\n      <th>county</th>\n      <th>zip_code</th>\n      <th>countyFIPS</th>\n      <th>n_ev</th>\n      <th>n_bev</th>\n      <th>n_phev</th>\n      <th>n_ev_new_sales</th>\n      <th>n_bev_new_sales</th>\n      <th>n_phev_new_sales</th>\n      <th>n_ev_used_sales</th>\n      <th>n_bev_used_sales</th>\n      <th>n_phev_used_sales</th>\n      <th>n_ev_renewals</th>\n      <th>n_bev_renewals</th>\n      <th>n_phev_renewals</th>\n      <th>m_ev</th>\n      <th>m_bev</th>\n      <th>m_phev</th>\n    </tr>\n    <tr>\n      <th>time</th>\n      <th>census_tract_2010</th>\n      <th></th>\n      <th></th>\n      <th></th>\n      <th></th>\n      <th></th>\n      <th></th>\n      <th></th>\n      <th></th>\n      <th></th>\n      <th></th>\n      <th></th>\n      <th></th>\n      <th></th>\n      <th></th>\n      <th></th>\n      <th></th>\n      <th></th>\n      <th></th>\n    </tr>\n  </thead>\n  <tbody>\n    <tr>\n      <th rowspan=\"5\" valign=\"top\">2018-01-31</th>\n      <th>53001950100</th>\n      <td>Adams</td>\n      <td>99169</td>\n      <td>53001</td>\n      <td>8</td>\n      <td>4</td>\n      <td>4</td>\n      <td>8</td>\n      <td>4</td>\n      <td>4</td>\n      <td>8</td>\n      <td>4</td>\n      <td>4</td>\n      <td>8</td>\n      <td>4</td>\n      <td>4</td>\n      <td>64</td>\n      <td>29</td>\n      <td>37</td>\n    </tr>\n    <tr>\n      <th>53001950200</th>\n      <td>Adams</td>\n      <td>99371</td>\n      <td>53001</td>\n      <td>0</td>\n      <td>0</td>\n      <td>0</td>\n      <td>0</td>\n      <td>0</td>\n      <td>0</td>\n      <td>0</td>\n      <td>0</td>\n      <td>0</td>\n      <td>0</td>\n      <td>0</td>\n      <td>0</td>\n      <td>64</td>\n      <td>29</td>\n      <td>37</td>\n    </tr>\n    <tr>\n      <th>53001950300</th>\n      <td>Adams</td>\n      <td>99344</td>\n      <td>53001</td>\n      <td>6</td>\n      <td>0</td>\n      <td>6</td>\n      <td>6</td>\n      <td>0</td>\n      <td>6</td>\n      <td>6</td>\n      <td>0</td>\n      <td>6</td>\n      <td>6</td>\n      <td>0</td>\n      <td>6</td>\n      <td>64</td>\n      <td>29</td>\n      <td>37</td>\n    </tr>\n    <tr>\n      <th>53001950400</th>\n      <td>Adams</td>\n      <td>99344</td>\n      <td>53001</td>\n      <td>0</td>\n      <td>0</td>\n      <td>0</td>\n      <td>0</td>\n      <td>0</td>\n      <td>0</td>\n      <td>0</td>\n      <td>0</td>\n      <td>0</td>\n      <td>0</td>\n      <td>0</td>\n      <td>0</td>\n      <td>64</td>\n      <td>29</td>\n      <td>37</td>\n    </tr>\n    <tr>\n      <th>53001950500</th>\n      <td>Adams</td>\n      <td>99344</td>\n      <td>53001</td>\n      <td>3</td>\n      <td>3</td>\n      <td>0</td>\n      <td>3</td>\n      <td>3</td>\n      <td>0</td>\n      <td>3</td>\n      <td>3</td>\n      <td>0</td>\n      <td>3</td>\n      <td>3</td>\n      <td>0</td>\n      <td>64</td>\n      <td>29</td>\n      <td>37</td>\n    </tr>\n    <tr>\n      <th>...</th>\n      <th>...</th>\n      <td>...</td>\n      <td>...</td>\n      <td>...</td>\n      <td>...</td>\n      <td>...</td>\n      <td>...</td>\n      <td>...</td>\n      <td>...</td>\n      <td>...</td>\n      <td>...</td>\n      <td>...</td>\n      <td>...</td>\n      <td>...</td>\n      <td>...</td>\n      <td>...</td>\n      <td>...</td>\n      <td>...</td>\n      <td>...</td>\n    </tr>\n    <tr>\n      <th rowspan=\"5\" valign=\"top\">2022-09-30</th>\n      <th>53077940002</th>\n      <td>Yakima</td>\n      <td>98948</td>\n      <td>53077</td>\n      <td>6</td>\n      <td>4</td>\n      <td>2</td>\n      <td>6</td>\n      <td>4</td>\n      <td>2</td>\n      <td>6</td>\n      <td>4</td>\n      <td>2</td>\n      <td>6</td>\n      <td>4</td>\n      <td>2</td>\n      <td>121</td>\n      <td>60</td>\n      <td>64</td>\n    </tr>\n    <tr>\n      <th>53077940003</th>\n      <td>Yakima</td>\n      <td>98903</td>\n      <td>53077</td>\n      <td>6</td>\n      <td>2</td>\n      <td>4</td>\n      <td>6</td>\n      <td>2</td>\n      <td>4</td>\n      <td>6</td>\n      <td>2</td>\n      <td>4</td>\n      <td>6</td>\n      <td>2</td>\n      <td>4</td>\n      <td>121</td>\n      <td>60</td>\n      <td>64</td>\n    </tr>\n    <tr>\n      <th>53077940004</th>\n      <td>Yakima</td>\n      <td>98951</td>\n      <td>53077</td>\n      <td>2</td>\n      <td>2</td>\n      <td>0</td>\n      <td>2</td>\n      <td>2</td>\n      <td>0</td>\n      <td>2</td>\n      <td>2</td>\n      <td>0</td>\n      <td>2</td>\n      <td>2</td>\n      <td>0</td>\n      <td>121</td>\n      <td>60</td>\n      <td>64</td>\n    </tr>\n    <tr>\n      <th>53077940005</th>\n      <td>Yakima</td>\n      <td>98948</td>\n      <td>53077</td>\n      <td>2</td>\n      <td>2</td>\n      <td>0</td>\n      <td>2</td>\n      <td>2</td>\n      <td>0</td>\n      <td>2</td>\n      <td>2</td>\n      <td>0</td>\n      <td>2</td>\n      <td>2</td>\n      <td>0</td>\n      <td>121</td>\n      <td>60</td>\n      <td>64</td>\n    </tr>\n    <tr>\n      <th>53077940006</th>\n      <td>Yakima</td>\n      <td>98948</td>\n      <td>53077</td>\n      <td>2</td>\n      <td>2</td>\n      <td>0</td>\n      <td>2</td>\n      <td>2</td>\n      <td>0</td>\n      <td>2</td>\n      <td>2</td>\n      <td>0</td>\n      <td>2</td>\n      <td>2</td>\n      <td>0</td>\n      <td>121</td>\n      <td>60</td>\n      <td>64</td>\n    </tr>\n  </tbody>\n</table>\n<p>83049 rows × 18 columns</p>\n</div>"
     },
     "execution_count": 20,
     "metadata": {},
     "output_type": "execute_result"
    }
   ],
   "source": [
    "df"
   ],
   "metadata": {
    "collapsed": false
   }
  },
  {
   "cell_type": "code",
   "execution_count": 21,
   "outputs": [
    {
     "name": "stdout",
     "output_type": "stream",
     "text": [
      "done\n"
     ]
    }
   ],
   "source": [
    "#n_veh (number of registered light-duty vehicles)\n",
    "# df_veh = pd.read_csv(\"data/vehicles/ev_counts.csv\")\n",
    "# df_veh = pd.read_csv(\"data/vehicles/veh_counts2021_2010tracts.csv\")\n",
    "# df_veh = pd.read_csv(\"data/vehicles/veh_counts2021_2010tracts_all_years.csv\")\n",
    "# df_veh = pd.read_csv(\"data/vehicles/veh_counts2021_2010tracts_all_years_to_2011.csv\")\n",
    "df_veh = pd.read_csv(\"data/vehicles/veh_counts__2010tracts.csv\")\n",
    "df_veh = df_veh.convert_dtypes()\n",
    "df_veh[\"time\"] = pd.to_datetime(df_veh[\"time\"]).dt.date\n",
    "\n",
    "df_veh = df_veh.set_index([\"time\", \"census_tract_2010\"])\n",
    "df_veh.index.dtypes[1] = \"int64\"\n",
    "\n",
    "##### df = df.merge(df_veh, on=[\"time\", \"zip\"], how=\"inner\", suffixes=(None,\"_y\"))\n",
    "df = df.join(df_veh, on=[\"time\", \"census_tract_2010\"], how=\"inner\", rsuffix=\"_y\")\n",
    "# df = df.drop(columns=\"zip_code_y\") #the county column appears twice, so removing the duplicate he\n",
    "# df = df.drop(columns=\"county_y\") #the county column appears twice, so removing the duplicate he\n",
    "\n",
    "# alternative way (instead of using join):\n",
    "# for time in times:\n",
    "#     print(time)\n",
    "#     for zip_code in zip_codes:\n",
    "#         ev_counts = df_veh.loc[(time, zip_code), cols]\n",
    "#         for col in cols:\n",
    "#             if not np.isnan(ev_counts[col]):\n",
    "#                 df.loc[(time, zip_code), col] = ev_counts[col]\n",
    "\n",
    "print(\"done\")"
   ],
   "metadata": {
    "collapsed": false
   }
  },
  {
   "cell_type": "code",
   "execution_count": 22,
   "outputs": [
    {
     "data": {
      "text/plain": "                              county zip_code countyFIPS  n_ev  n_bev  n_phev  \\\ntime       census_tract_2010                                                    \n2018-01-31 53001950100         Adams    99169      53001     8      4       4   \n           53001950200         Adams    99371      53001     0      0       0   \n           53001950300         Adams    99344      53001     6      0       6   \n           53001950400         Adams    99344      53001     0      0       0   \n           53001950500         Adams    99344      53001     3      3       0   \n...                              ...      ...        ...   ...    ...     ...   \n2022-09-30 53077940002        Yakima    98948      53077     6      4       2   \n           53077940003        Yakima    98903      53077     6      2       4   \n           53077940004        Yakima    98951      53077     2      2       0   \n           53077940005        Yakima    98948      53077     2      2       0   \n           53077940006        Yakima    98948      53077     2      2       0   \n\n                              n_ev_new_sales  n_bev_new_sales  \\\ntime       census_tract_2010                                    \n2018-01-31 53001950100                     8                4   \n           53001950200                     0                0   \n           53001950300                     6                0   \n           53001950400                     0                0   \n           53001950500                     3                3   \n...                                      ...              ...   \n2022-09-30 53077940002                     6                4   \n           53077940003                     6                2   \n           53077940004                     2                2   \n           53077940005                     2                2   \n           53077940006                     2                2   \n\n                              n_phev_new_sales  n_ev_used_sales  ...  m_ev  \\\ntime       census_tract_2010                                     ...         \n2018-01-31 53001950100                       4                8  ...    64   \n           53001950200                       0                0  ...    64   \n           53001950300                       6                6  ...    64   \n           53001950400                       0                0  ...    64   \n           53001950500                       0                3  ...    64   \n...                                        ...              ...  ...   ...   \n2022-09-30 53077940002                       2                6  ...   121   \n           53077940003                       4                6  ...   121   \n           53077940004                       0                2  ...   121   \n           53077940005                       0                2  ...   121   \n           53077940006                       0                2  ...   121   \n\n                              m_bev  m_phev  county_y  zip_code_y  \\\ntime       census_tract_2010                                        \n2018-01-31 53001950100           29      37     Adams       99169   \n           53001950200           29      37     Adams       99371   \n           53001950300           29      37     Adams       99344   \n           53001950400           29      37     Adams       99344   \n           53001950500           29      37     Adams       99344   \n...                             ...     ...       ...         ...   \n2022-09-30 53077940002           60      64    Yakima       98948   \n           53077940003           60      64    Yakima       98903   \n           53077940004           60      64    Yakima       98951   \n           53077940005           60      64    Yakima       98948   \n           53077940006           60      64    Yakima       98948   \n\n                              countyFIPS_y  n_veh  n_veh_new_sales  \\\ntime       census_tract_2010                                         \n2018-01-31 53001950100               53001   2233               12   \n           53001950200               53001   1452                4   \n           53001950300               53001   6699               29   \n           53001950400               53001   2337               11   \n           53001950500               53001   4372               20   \n...                                    ...    ...              ...   \n2022-09-30 53077940002               53077   4101               18   \n           53077940003               53077   2230                9   \n           53077940004               53077   5452               12   \n           53077940005               53077   4126                6   \n           53077940006               53077   4079               10   \n\n                             n_veh_used_sales  n_veh_renewals  \ntime       census_tract_2010                                   \n2018-01-31 53001950100                     19             126  \n           53001950200                     10              85  \n           53001950300                     80             359  \n           53001950400                     22             128  \n           53001950500                     41             257  \n...                                       ...             ...  \n2022-09-30 53077940002                     59             247  \n           53077940003                     24             139  \n           53077940004                     66             366  \n           53077940005                     77             272  \n           53077940006                     81             276  \n\n[83049 rows x 25 columns]",
      "text/html": "<div>\n<style scoped>\n    .dataframe tbody tr th:only-of-type {\n        vertical-align: middle;\n    }\n\n    .dataframe tbody tr th {\n        vertical-align: top;\n    }\n\n    .dataframe thead th {\n        text-align: right;\n    }\n</style>\n<table border=\"1\" class=\"dataframe\">\n  <thead>\n    <tr style=\"text-align: right;\">\n      <th></th>\n      <th></th>\n      <th>county</th>\n      <th>zip_code</th>\n      <th>countyFIPS</th>\n      <th>n_ev</th>\n      <th>n_bev</th>\n      <th>n_phev</th>\n      <th>n_ev_new_sales</th>\n      <th>n_bev_new_sales</th>\n      <th>n_phev_new_sales</th>\n      <th>n_ev_used_sales</th>\n      <th>...</th>\n      <th>m_ev</th>\n      <th>m_bev</th>\n      <th>m_phev</th>\n      <th>county_y</th>\n      <th>zip_code_y</th>\n      <th>countyFIPS_y</th>\n      <th>n_veh</th>\n      <th>n_veh_new_sales</th>\n      <th>n_veh_used_sales</th>\n      <th>n_veh_renewals</th>\n    </tr>\n    <tr>\n      <th>time</th>\n      <th>census_tract_2010</th>\n      <th></th>\n      <th></th>\n      <th></th>\n      <th></th>\n      <th></th>\n      <th></th>\n      <th></th>\n      <th></th>\n      <th></th>\n      <th></th>\n      <th></th>\n      <th></th>\n      <th></th>\n      <th></th>\n      <th></th>\n      <th></th>\n      <th></th>\n      <th></th>\n      <th></th>\n      <th></th>\n      <th></th>\n    </tr>\n  </thead>\n  <tbody>\n    <tr>\n      <th rowspan=\"5\" valign=\"top\">2018-01-31</th>\n      <th>53001950100</th>\n      <td>Adams</td>\n      <td>99169</td>\n      <td>53001</td>\n      <td>8</td>\n      <td>4</td>\n      <td>4</td>\n      <td>8</td>\n      <td>4</td>\n      <td>4</td>\n      <td>8</td>\n      <td>...</td>\n      <td>64</td>\n      <td>29</td>\n      <td>37</td>\n      <td>Adams</td>\n      <td>99169</td>\n      <td>53001</td>\n      <td>2233</td>\n      <td>12</td>\n      <td>19</td>\n      <td>126</td>\n    </tr>\n    <tr>\n      <th>53001950200</th>\n      <td>Adams</td>\n      <td>99371</td>\n      <td>53001</td>\n      <td>0</td>\n      <td>0</td>\n      <td>0</td>\n      <td>0</td>\n      <td>0</td>\n      <td>0</td>\n      <td>0</td>\n      <td>...</td>\n      <td>64</td>\n      <td>29</td>\n      <td>37</td>\n      <td>Adams</td>\n      <td>99371</td>\n      <td>53001</td>\n      <td>1452</td>\n      <td>4</td>\n      <td>10</td>\n      <td>85</td>\n    </tr>\n    <tr>\n      <th>53001950300</th>\n      <td>Adams</td>\n      <td>99344</td>\n      <td>53001</td>\n      <td>6</td>\n      <td>0</td>\n      <td>6</td>\n      <td>6</td>\n      <td>0</td>\n      <td>6</td>\n      <td>6</td>\n      <td>...</td>\n      <td>64</td>\n      <td>29</td>\n      <td>37</td>\n      <td>Adams</td>\n      <td>99344</td>\n      <td>53001</td>\n      <td>6699</td>\n      <td>29</td>\n      <td>80</td>\n      <td>359</td>\n    </tr>\n    <tr>\n      <th>53001950400</th>\n      <td>Adams</td>\n      <td>99344</td>\n      <td>53001</td>\n      <td>0</td>\n      <td>0</td>\n      <td>0</td>\n      <td>0</td>\n      <td>0</td>\n      <td>0</td>\n      <td>0</td>\n      <td>...</td>\n      <td>64</td>\n      <td>29</td>\n      <td>37</td>\n      <td>Adams</td>\n      <td>99344</td>\n      <td>53001</td>\n      <td>2337</td>\n      <td>11</td>\n      <td>22</td>\n      <td>128</td>\n    </tr>\n    <tr>\n      <th>53001950500</th>\n      <td>Adams</td>\n      <td>99344</td>\n      <td>53001</td>\n      <td>3</td>\n      <td>3</td>\n      <td>0</td>\n      <td>3</td>\n      <td>3</td>\n      <td>0</td>\n      <td>3</td>\n      <td>...</td>\n      <td>64</td>\n      <td>29</td>\n      <td>37</td>\n      <td>Adams</td>\n      <td>99344</td>\n      <td>53001</td>\n      <td>4372</td>\n      <td>20</td>\n      <td>41</td>\n      <td>257</td>\n    </tr>\n    <tr>\n      <th>...</th>\n      <th>...</th>\n      <td>...</td>\n      <td>...</td>\n      <td>...</td>\n      <td>...</td>\n      <td>...</td>\n      <td>...</td>\n      <td>...</td>\n      <td>...</td>\n      <td>...</td>\n      <td>...</td>\n      <td>...</td>\n      <td>...</td>\n      <td>...</td>\n      <td>...</td>\n      <td>...</td>\n      <td>...</td>\n      <td>...</td>\n      <td>...</td>\n      <td>...</td>\n      <td>...</td>\n      <td>...</td>\n    </tr>\n    <tr>\n      <th rowspan=\"5\" valign=\"top\">2022-09-30</th>\n      <th>53077940002</th>\n      <td>Yakima</td>\n      <td>98948</td>\n      <td>53077</td>\n      <td>6</td>\n      <td>4</td>\n      <td>2</td>\n      <td>6</td>\n      <td>4</td>\n      <td>2</td>\n      <td>6</td>\n      <td>...</td>\n      <td>121</td>\n      <td>60</td>\n      <td>64</td>\n      <td>Yakima</td>\n      <td>98948</td>\n      <td>53077</td>\n      <td>4101</td>\n      <td>18</td>\n      <td>59</td>\n      <td>247</td>\n    </tr>\n    <tr>\n      <th>53077940003</th>\n      <td>Yakima</td>\n      <td>98903</td>\n      <td>53077</td>\n      <td>6</td>\n      <td>2</td>\n      <td>4</td>\n      <td>6</td>\n      <td>2</td>\n      <td>4</td>\n      <td>6</td>\n      <td>...</td>\n      <td>121</td>\n      <td>60</td>\n      <td>64</td>\n      <td>Yakima</td>\n      <td>98903</td>\n      <td>53077</td>\n      <td>2230</td>\n      <td>9</td>\n      <td>24</td>\n      <td>139</td>\n    </tr>\n    <tr>\n      <th>53077940004</th>\n      <td>Yakima</td>\n      <td>98951</td>\n      <td>53077</td>\n      <td>2</td>\n      <td>2</td>\n      <td>0</td>\n      <td>2</td>\n      <td>2</td>\n      <td>0</td>\n      <td>2</td>\n      <td>...</td>\n      <td>121</td>\n      <td>60</td>\n      <td>64</td>\n      <td>Yakima</td>\n      <td>98951</td>\n      <td>53077</td>\n      <td>5452</td>\n      <td>12</td>\n      <td>66</td>\n      <td>366</td>\n    </tr>\n    <tr>\n      <th>53077940005</th>\n      <td>Yakima</td>\n      <td>98948</td>\n      <td>53077</td>\n      <td>2</td>\n      <td>2</td>\n      <td>0</td>\n      <td>2</td>\n      <td>2</td>\n      <td>0</td>\n      <td>2</td>\n      <td>...</td>\n      <td>121</td>\n      <td>60</td>\n      <td>64</td>\n      <td>Yakima</td>\n      <td>98948</td>\n      <td>53077</td>\n      <td>4126</td>\n      <td>6</td>\n      <td>77</td>\n      <td>272</td>\n    </tr>\n    <tr>\n      <th>53077940006</th>\n      <td>Yakima</td>\n      <td>98948</td>\n      <td>53077</td>\n      <td>2</td>\n      <td>2</td>\n      <td>0</td>\n      <td>2</td>\n      <td>2</td>\n      <td>0</td>\n      <td>2</td>\n      <td>...</td>\n      <td>121</td>\n      <td>60</td>\n      <td>64</td>\n      <td>Yakima</td>\n      <td>98948</td>\n      <td>53077</td>\n      <td>4079</td>\n      <td>10</td>\n      <td>81</td>\n      <td>276</td>\n    </tr>\n  </tbody>\n</table>\n<p>83049 rows × 25 columns</p>\n</div>"
     },
     "execution_count": 22,
     "metadata": {},
     "output_type": "execute_result"
    }
   ],
   "source": [
    "df"
   ],
   "metadata": {
    "collapsed": false
   }
  },
  {
   "cell_type": "code",
   "execution_count": 23,
   "outputs": [
    {
     "data": {
      "text/plain": "                              county zip_code countyFIPS  n_ev  n_bev  n_phev  \\\ntime       census_tract_2010                                                    \n2018-01-31 53001950100         Adams    99169      53001     8      4       4   \n           53001950200         Adams    99371      53001     0      0       0   \n           53001950300         Adams    99344      53001     6      0       6   \n           53001950400         Adams    99344      53001     0      0       0   \n           53001950500         Adams    99344      53001     3      3       0   \n...                              ...      ...        ...   ...    ...     ...   \n2022-09-30 53077940002        Yakima    98948      53077     6      4       2   \n           53077940003        Yakima    98903      53077     6      2       4   \n           53077940004        Yakima    98951      53077     2      2       0   \n           53077940005        Yakima    98948      53077     2      2       0   \n           53077940006        Yakima    98948      53077     2      2       0   \n\n                              n_ev_new_sales  n_bev_new_sales  \\\ntime       census_tract_2010                                    \n2018-01-31 53001950100                     8                4   \n           53001950200                     0                0   \n           53001950300                     6                0   \n           53001950400                     0                0   \n           53001950500                     3                3   \n...                                      ...              ...   \n2022-09-30 53077940002                     6                4   \n           53077940003                     6                2   \n           53077940004                     2                2   \n           53077940005                     2                2   \n           53077940006                     2                2   \n\n                              n_phev_new_sales  n_ev_used_sales  ...  m_bev  \\\ntime       census_tract_2010                                     ...          \n2018-01-31 53001950100                       4                8  ...     29   \n           53001950200                       0                0  ...     29   \n           53001950300                       6                6  ...     29   \n           53001950400                       0                0  ...     29   \n           53001950500                       0                3  ...     29   \n...                                        ...              ...  ...    ...   \n2022-09-30 53077940002                       2                6  ...     60   \n           53077940003                       4                6  ...     60   \n           53077940004                       0                2  ...     60   \n           53077940005                       0                2  ...     60   \n           53077940006                       0                2  ...     60   \n\n                              m_phev  county_y  zip_code_y  countyFIPS_y  \\\ntime       census_tract_2010                                               \n2018-01-31 53001950100            37     Adams       99169         53001   \n           53001950200            37     Adams       99371         53001   \n           53001950300            37     Adams       99344         53001   \n           53001950400            37     Adams       99344         53001   \n           53001950500            37     Adams       99344         53001   \n...                              ...       ...         ...           ...   \n2022-09-30 53077940002            64    Yakima       98948         53077   \n           53077940003            64    Yakima       98903         53077   \n           53077940004            64    Yakima       98951         53077   \n           53077940005            64    Yakima       98948         53077   \n           53077940006            64    Yakima       98948         53077   \n\n                              n_veh  n_veh_new_sales  n_veh_used_sales  \\\ntime       census_tract_2010                                             \n2018-01-31 53001950100         2233               12                19   \n           53001950200         1452                4                10   \n           53001950300         6699               29                80   \n           53001950400         2337               11                22   \n           53001950500         4372               20                41   \n...                             ...              ...               ...   \n2022-09-30 53077940002         4101               18                59   \n           53077940003         2230                9                24   \n           53077940004         5452               12                66   \n           53077940005         4126                6                77   \n           53077940006         4079               10                81   \n\n                             n_veh_renewals  gas_price  \ntime       census_tract_2010                            \n2018-01-31 53001950100                  126      2.966  \n           53001950200                   85      2.966  \n           53001950300                  359      2.966  \n           53001950400                  128      2.966  \n           53001950500                  257      2.966  \n...                                     ...        ...  \n2022-09-30 53077940002                  247      4.644  \n           53077940003                  139      4.644  \n           53077940004                  366      4.644  \n           53077940005                  272      4.644  \n           53077940006                  276      4.644  \n\n[83049 rows x 26 columns]",
      "text/html": "<div>\n<style scoped>\n    .dataframe tbody tr th:only-of-type {\n        vertical-align: middle;\n    }\n\n    .dataframe tbody tr th {\n        vertical-align: top;\n    }\n\n    .dataframe thead th {\n        text-align: right;\n    }\n</style>\n<table border=\"1\" class=\"dataframe\">\n  <thead>\n    <tr style=\"text-align: right;\">\n      <th></th>\n      <th></th>\n      <th>county</th>\n      <th>zip_code</th>\n      <th>countyFIPS</th>\n      <th>n_ev</th>\n      <th>n_bev</th>\n      <th>n_phev</th>\n      <th>n_ev_new_sales</th>\n      <th>n_bev_new_sales</th>\n      <th>n_phev_new_sales</th>\n      <th>n_ev_used_sales</th>\n      <th>...</th>\n      <th>m_bev</th>\n      <th>m_phev</th>\n      <th>county_y</th>\n      <th>zip_code_y</th>\n      <th>countyFIPS_y</th>\n      <th>n_veh</th>\n      <th>n_veh_new_sales</th>\n      <th>n_veh_used_sales</th>\n      <th>n_veh_renewals</th>\n      <th>gas_price</th>\n    </tr>\n    <tr>\n      <th>time</th>\n      <th>census_tract_2010</th>\n      <th></th>\n      <th></th>\n      <th></th>\n      <th></th>\n      <th></th>\n      <th></th>\n      <th></th>\n      <th></th>\n      <th></th>\n      <th></th>\n      <th></th>\n      <th></th>\n      <th></th>\n      <th></th>\n      <th></th>\n      <th></th>\n      <th></th>\n      <th></th>\n      <th></th>\n      <th></th>\n      <th></th>\n    </tr>\n  </thead>\n  <tbody>\n    <tr>\n      <th rowspan=\"5\" valign=\"top\">2018-01-31</th>\n      <th>53001950100</th>\n      <td>Adams</td>\n      <td>99169</td>\n      <td>53001</td>\n      <td>8</td>\n      <td>4</td>\n      <td>4</td>\n      <td>8</td>\n      <td>4</td>\n      <td>4</td>\n      <td>8</td>\n      <td>...</td>\n      <td>29</td>\n      <td>37</td>\n      <td>Adams</td>\n      <td>99169</td>\n      <td>53001</td>\n      <td>2233</td>\n      <td>12</td>\n      <td>19</td>\n      <td>126</td>\n      <td>2.966</td>\n    </tr>\n    <tr>\n      <th>53001950200</th>\n      <td>Adams</td>\n      <td>99371</td>\n      <td>53001</td>\n      <td>0</td>\n      <td>0</td>\n      <td>0</td>\n      <td>0</td>\n      <td>0</td>\n      <td>0</td>\n      <td>0</td>\n      <td>...</td>\n      <td>29</td>\n      <td>37</td>\n      <td>Adams</td>\n      <td>99371</td>\n      <td>53001</td>\n      <td>1452</td>\n      <td>4</td>\n      <td>10</td>\n      <td>85</td>\n      <td>2.966</td>\n    </tr>\n    <tr>\n      <th>53001950300</th>\n      <td>Adams</td>\n      <td>99344</td>\n      <td>53001</td>\n      <td>6</td>\n      <td>0</td>\n      <td>6</td>\n      <td>6</td>\n      <td>0</td>\n      <td>6</td>\n      <td>6</td>\n      <td>...</td>\n      <td>29</td>\n      <td>37</td>\n      <td>Adams</td>\n      <td>99344</td>\n      <td>53001</td>\n      <td>6699</td>\n      <td>29</td>\n      <td>80</td>\n      <td>359</td>\n      <td>2.966</td>\n    </tr>\n    <tr>\n      <th>53001950400</th>\n      <td>Adams</td>\n      <td>99344</td>\n      <td>53001</td>\n      <td>0</td>\n      <td>0</td>\n      <td>0</td>\n      <td>0</td>\n      <td>0</td>\n      <td>0</td>\n      <td>0</td>\n      <td>...</td>\n      <td>29</td>\n      <td>37</td>\n      <td>Adams</td>\n      <td>99344</td>\n      <td>53001</td>\n      <td>2337</td>\n      <td>11</td>\n      <td>22</td>\n      <td>128</td>\n      <td>2.966</td>\n    </tr>\n    <tr>\n      <th>53001950500</th>\n      <td>Adams</td>\n      <td>99344</td>\n      <td>53001</td>\n      <td>3</td>\n      <td>3</td>\n      <td>0</td>\n      <td>3</td>\n      <td>3</td>\n      <td>0</td>\n      <td>3</td>\n      <td>...</td>\n      <td>29</td>\n      <td>37</td>\n      <td>Adams</td>\n      <td>99344</td>\n      <td>53001</td>\n      <td>4372</td>\n      <td>20</td>\n      <td>41</td>\n      <td>257</td>\n      <td>2.966</td>\n    </tr>\n    <tr>\n      <th>...</th>\n      <th>...</th>\n      <td>...</td>\n      <td>...</td>\n      <td>...</td>\n      <td>...</td>\n      <td>...</td>\n      <td>...</td>\n      <td>...</td>\n      <td>...</td>\n      <td>...</td>\n      <td>...</td>\n      <td>...</td>\n      <td>...</td>\n      <td>...</td>\n      <td>...</td>\n      <td>...</td>\n      <td>...</td>\n      <td>...</td>\n      <td>...</td>\n      <td>...</td>\n      <td>...</td>\n      <td>...</td>\n    </tr>\n    <tr>\n      <th rowspan=\"5\" valign=\"top\">2022-09-30</th>\n      <th>53077940002</th>\n      <td>Yakima</td>\n      <td>98948</td>\n      <td>53077</td>\n      <td>6</td>\n      <td>4</td>\n      <td>2</td>\n      <td>6</td>\n      <td>4</td>\n      <td>2</td>\n      <td>6</td>\n      <td>...</td>\n      <td>60</td>\n      <td>64</td>\n      <td>Yakima</td>\n      <td>98948</td>\n      <td>53077</td>\n      <td>4101</td>\n      <td>18</td>\n      <td>59</td>\n      <td>247</td>\n      <td>4.644</td>\n    </tr>\n    <tr>\n      <th>53077940003</th>\n      <td>Yakima</td>\n      <td>98903</td>\n      <td>53077</td>\n      <td>6</td>\n      <td>2</td>\n      <td>4</td>\n      <td>6</td>\n      <td>2</td>\n      <td>4</td>\n      <td>6</td>\n      <td>...</td>\n      <td>60</td>\n      <td>64</td>\n      <td>Yakima</td>\n      <td>98903</td>\n      <td>53077</td>\n      <td>2230</td>\n      <td>9</td>\n      <td>24</td>\n      <td>139</td>\n      <td>4.644</td>\n    </tr>\n    <tr>\n      <th>53077940004</th>\n      <td>Yakima</td>\n      <td>98951</td>\n      <td>53077</td>\n      <td>2</td>\n      <td>2</td>\n      <td>0</td>\n      <td>2</td>\n      <td>2</td>\n      <td>0</td>\n      <td>2</td>\n      <td>...</td>\n      <td>60</td>\n      <td>64</td>\n      <td>Yakima</td>\n      <td>98951</td>\n      <td>53077</td>\n      <td>5452</td>\n      <td>12</td>\n      <td>66</td>\n      <td>366</td>\n      <td>4.644</td>\n    </tr>\n    <tr>\n      <th>53077940005</th>\n      <td>Yakima</td>\n      <td>98948</td>\n      <td>53077</td>\n      <td>2</td>\n      <td>2</td>\n      <td>0</td>\n      <td>2</td>\n      <td>2</td>\n      <td>0</td>\n      <td>2</td>\n      <td>...</td>\n      <td>60</td>\n      <td>64</td>\n      <td>Yakima</td>\n      <td>98948</td>\n      <td>53077</td>\n      <td>4126</td>\n      <td>6</td>\n      <td>77</td>\n      <td>272</td>\n      <td>4.644</td>\n    </tr>\n    <tr>\n      <th>53077940006</th>\n      <td>Yakima</td>\n      <td>98948</td>\n      <td>53077</td>\n      <td>2</td>\n      <td>2</td>\n      <td>0</td>\n      <td>2</td>\n      <td>2</td>\n      <td>0</td>\n      <td>2</td>\n      <td>...</td>\n      <td>60</td>\n      <td>64</td>\n      <td>Yakima</td>\n      <td>98948</td>\n      <td>53077</td>\n      <td>4079</td>\n      <td>10</td>\n      <td>81</td>\n      <td>276</td>\n      <td>4.644</td>\n    </tr>\n  </tbody>\n</table>\n<p>83049 rows × 26 columns</p>\n</div>"
     },
     "execution_count": 23,
     "metadata": {},
     "output_type": "execute_result"
    }
   ],
   "source": [
    "# gas_price\n",
    "# df_gas = pd.read_csv(\"data/gas/Weekly_Retail_Gasoline_and_Diesel_Prices.csv\", header=6)#, parse_dates=[\"Month\"])\n",
    "df_gas = pd.read_excel(\"data/gas/PET_PRI_GND_DCUS_SWA_M.xls\", sheet_name=\"Data 1\", header=2)#, parse_dates=[\"Month\"])\n",
    "df_gas = df_gas.rename(columns={\"Date\" : \"time\"})\n",
    "\n",
    "df_gas[\"time\"] = pd.to_datetime(df_gas[\"time\"])\n",
    "df_gas[\"time\"] = df_gas[\"time\"].apply(u.get_last_day_of_month)\n",
    "df_gas = df_gas.set_index(\"time\")\n",
    "\n",
    "for time in times:\n",
    "    # gas_price = df_gas.loc[time, \"Washington All Grades All Formulations Retail Gasoline Prices $/gal\"]#.values[0]\n",
    "    gas_price = df_gas.loc[time, \"Washington All Grades All Formulations Retail Gasoline Prices (Dollars per Gallon)\"]#.values[0]\n",
    "    df.loc[(time, slice(None)), \"gas_price\"] = gas_price\n",
    "df"
   ],
   "metadata": {
    "collapsed": false
   }
  },
  {
   "cell_type": "code",
   "execution_count": 32,
   "id": "af5a8026",
   "metadata": {},
   "outputs": [
    {
     "data": {
      "text/plain": "                              county zip_code  n_ev  n_bev  n_phev  m_ev  \\\ntime       census_tract_2010                                               \n2011-01-31 53001950100         Adams    99169     0      0       0     7   \n           53001950200         Adams    99371     0      0       0     7   \n           53001950300         Adams    99344     0      0       0     7   \n           53001950400         Adams    99344     0      0       0     7   \n           53001950500         Adams    99344     0      0       0     7   \n...                              ...      ...   ...    ...     ...   ...   \n2022-09-30 53077940002        Yakima    98948     6      4       2   121   \n           53077940003        Yakima    98903     4      1       3   121   \n           53077940004        Yakima    98951     2      2       0   121   \n           53077940005        Yakima    98948     1      1       0   121   \n           53077940006        Yakima    98948     2      2       0   121   \n\n                              m_bev  m_phev  n_veh  gas_price  \ntime       census_tract_2010                                   \n2011-01-31 53001950100            6       1   2066      3.293  \n           53001950200            6       1   1439      3.293  \n           53001950300            6       1   6123      3.293  \n           53001950400            6       1   2039      3.293  \n           53001950500            6       1   4125      3.293  \n...                             ...     ...    ...        ...  \n2022-09-30 53077940002           60      64   3548      4.644  \n           53077940003           60      64   2279      4.644  \n           53077940004           60      64   4483      4.644  \n           53077940005           60      64   3230      4.644  \n           53077940006           60      64   3431      4.644  \n\n[205437 rows x 10 columns]",
      "text/html": "<div>\n<style scoped>\n    .dataframe tbody tr th:only-of-type {\n        vertical-align: middle;\n    }\n\n    .dataframe tbody tr th {\n        vertical-align: top;\n    }\n\n    .dataframe thead th {\n        text-align: right;\n    }\n</style>\n<table border=\"1\" class=\"dataframe\">\n  <thead>\n    <tr style=\"text-align: right;\">\n      <th></th>\n      <th></th>\n      <th>county</th>\n      <th>zip_code</th>\n      <th>n_ev</th>\n      <th>n_bev</th>\n      <th>n_phev</th>\n      <th>m_ev</th>\n      <th>m_bev</th>\n      <th>m_phev</th>\n      <th>n_veh</th>\n      <th>gas_price</th>\n    </tr>\n    <tr>\n      <th>time</th>\n      <th>census_tract_2010</th>\n      <th></th>\n      <th></th>\n      <th></th>\n      <th></th>\n      <th></th>\n      <th></th>\n      <th></th>\n      <th></th>\n      <th></th>\n      <th></th>\n    </tr>\n  </thead>\n  <tbody>\n    <tr>\n      <th rowspan=\"5\" valign=\"top\">2011-01-31</th>\n      <th>53001950100</th>\n      <td>Adams</td>\n      <td>99169</td>\n      <td>0</td>\n      <td>0</td>\n      <td>0</td>\n      <td>7</td>\n      <td>6</td>\n      <td>1</td>\n      <td>2066</td>\n      <td>3.293</td>\n    </tr>\n    <tr>\n      <th>53001950200</th>\n      <td>Adams</td>\n      <td>99371</td>\n      <td>0</td>\n      <td>0</td>\n      <td>0</td>\n      <td>7</td>\n      <td>6</td>\n      <td>1</td>\n      <td>1439</td>\n      <td>3.293</td>\n    </tr>\n    <tr>\n      <th>53001950300</th>\n      <td>Adams</td>\n      <td>99344</td>\n      <td>0</td>\n      <td>0</td>\n      <td>0</td>\n      <td>7</td>\n      <td>6</td>\n      <td>1</td>\n      <td>6123</td>\n      <td>3.293</td>\n    </tr>\n    <tr>\n      <th>53001950400</th>\n      <td>Adams</td>\n      <td>99344</td>\n      <td>0</td>\n      <td>0</td>\n      <td>0</td>\n      <td>7</td>\n      <td>6</td>\n      <td>1</td>\n      <td>2039</td>\n      <td>3.293</td>\n    </tr>\n    <tr>\n      <th>53001950500</th>\n      <td>Adams</td>\n      <td>99344</td>\n      <td>0</td>\n      <td>0</td>\n      <td>0</td>\n      <td>7</td>\n      <td>6</td>\n      <td>1</td>\n      <td>4125</td>\n      <td>3.293</td>\n    </tr>\n    <tr>\n      <th>...</th>\n      <th>...</th>\n      <td>...</td>\n      <td>...</td>\n      <td>...</td>\n      <td>...</td>\n      <td>...</td>\n      <td>...</td>\n      <td>...</td>\n      <td>...</td>\n      <td>...</td>\n      <td>...</td>\n    </tr>\n    <tr>\n      <th rowspan=\"5\" valign=\"top\">2022-09-30</th>\n      <th>53077940002</th>\n      <td>Yakima</td>\n      <td>98948</td>\n      <td>6</td>\n      <td>4</td>\n      <td>2</td>\n      <td>121</td>\n      <td>60</td>\n      <td>64</td>\n      <td>3548</td>\n      <td>4.644</td>\n    </tr>\n    <tr>\n      <th>53077940003</th>\n      <td>Yakima</td>\n      <td>98903</td>\n      <td>4</td>\n      <td>1</td>\n      <td>3</td>\n      <td>121</td>\n      <td>60</td>\n      <td>64</td>\n      <td>2279</td>\n      <td>4.644</td>\n    </tr>\n    <tr>\n      <th>53077940004</th>\n      <td>Yakima</td>\n      <td>98951</td>\n      <td>2</td>\n      <td>2</td>\n      <td>0</td>\n      <td>121</td>\n      <td>60</td>\n      <td>64</td>\n      <td>4483</td>\n      <td>4.644</td>\n    </tr>\n    <tr>\n      <th>53077940005</th>\n      <td>Yakima</td>\n      <td>98948</td>\n      <td>1</td>\n      <td>1</td>\n      <td>0</td>\n      <td>121</td>\n      <td>60</td>\n      <td>64</td>\n      <td>3230</td>\n      <td>4.644</td>\n    </tr>\n    <tr>\n      <th>53077940006</th>\n      <td>Yakima</td>\n      <td>98948</td>\n      <td>2</td>\n      <td>2</td>\n      <td>0</td>\n      <td>121</td>\n      <td>60</td>\n      <td>64</td>\n      <td>3431</td>\n      <td>4.644</td>\n    </tr>\n  </tbody>\n</table>\n<p>205437 rows × 10 columns</p>\n</div>"
     },
     "execution_count": 32,
     "metadata": {},
     "output_type": "execute_result"
    }
   ],
   "source": [
    "df"
   ]
  },
  {
   "cell_type": "code",
   "execution_count": 33,
   "id": "b24a70c0",
   "metadata": {},
   "outputs": [
    {
     "data": {
      "text/plain": "(205437, 10)"
     },
     "execution_count": 33,
     "metadata": {},
     "output_type": "execute_result"
    }
   ],
   "source": [
    "df.shape"
   ]
  },
  {
   "cell_type": "code",
   "execution_count": 24,
   "id": "614e023f",
   "metadata": {},
   "outputs": [
    {
     "name": "stdout",
     "output_type": "stream",
     "text": [
      "done\n"
     ]
    }
   ],
   "source": [
    "#evse\n",
    "#number of installed L2 and DCFC station locations by zip code and month\n",
    "# df_evse = pd.read_csv(\"data/evse/EV_charging_stations_WA.csv\")\n",
    "# df_evse = pd.read_csv(\"data/evse/evse.csv\")\n",
    "df_evse = pd.read_csv(\"data/evse/evse_2010tracts.csv\")\n",
    "# df_evse_key = pd.read_csv(\"config/EV_charging_stations_key.csv\")\n",
    "# df_evse = df_evse.drop(\"Unnamed: 0\", axis=1)\n",
    "# print(df_evse.columns)\n",
    "# df_evse.columns = df_evse_key[\"name\"].to_list() + [\"census_tract_2020\"]\n",
    "# df_evse.columns = df_evse_key[\"name\"].to_list() + [\"census_tract_2020\", \"census_tract_2010\"]\n",
    "# print(df_evse.columns)\n",
    "# k\n",
    "\n",
    "# print(df_evse[\"open_date\"].min())\n",
    "# df_evse = df_evse[df_evse[\"open_date\"] != \"0022-07-22\"]\n",
    "# df_evse[\"open_date\"] = pd.to_datetime(df_evse[\"open_date\"]).dt.date\n",
    "# # j\n",
    "# df_evse[\"l2_count\"] = df_evse[\"l2_count\"].fillna(0).astype(int)\n",
    "# df_evse[\"dcfc_count\"] = df_evse[\"dcfc_count\"].fillna(0).astype(int)\n",
    "\n",
    "# df_evse[\"has_l2_or_dcfc\"] = df_evse[\"l2_count\"] > 0 #boolean if location has at least one L2 charger\n",
    "# df_evse[\"has_l2_or_dcfc\"] = (df_evse[\"l2_count\"] > 0) | (df_evse[\"dcfc_count\"] > 0) #boolean if location has at least one L2 or DCFC charger\n",
    "\n",
    "df_evse = df_evse.convert_dtypes()\n",
    "df_evse[\"time\"] = pd.to_datetime(df_evse[\"time\"]).dt.date\n",
    "\n",
    "df_evse = df_evse.set_index([\"time\", \"census_tract_2010\"])\n",
    "df_evse.index.dtypes[1] = \"int64\"\n",
    "\n",
    "##### df = df.merge(df_evse, on=[\"time\", \"zip\"], how=\"inner\", suffixes=(None,\"_y\"))\n",
    "df = df.join(df_evse, on=[\"time\", \"census_tract_2010\"], how=\"inner\", rsuffix=\"_y\")\n",
    "# df = df.drop(columns=\"zip_code_y\") #the county column appears twice, so removing the duplicate he\n",
    "# df = df.drop(columns=\"county_y\") #the county column appears twice, so removing the duplicate he\n",
    "\n",
    "# print(df.head())\n",
    "\n",
    "\"\"\"\n",
    "df[\"n_evse\"] = 0\n",
    "for time in times:\n",
    "    print(time, \"\", end=\"\")\n",
    "    # for zip_code in zip_codes:\n",
    "    for census_tract in census_tracts_2010:\n",
    "        # dff = df_evse[(df_evse[\"open_date\"] < time) & (df_evse[\"zip\"] == zip_code)] #create helper dataframe containing all stations built in this zip code until this time\n",
    "        dff = df_evse[(df_evse[\"open_date\"] < time) & (df_evse[\"census_tract_2010\"] == census_tract)] #create helper dataframe containing all stations built in this census tract until this time\n",
    "        n_evse = sum(dff[\"has_l2_or_dcfc\"]) #counts number of locations with at least one charging station in that ZIP code and for that month\n",
    "        df.loc[(time, zip_code), \"n_evse\"] = n_evse\n",
    "#\"\"\"\n",
    "print(\"done\")"
   ]
  },
  {
   "cell_type": "code",
   "execution_count": 25,
   "id": "9dab3628",
   "metadata": {},
   "outputs": [
    {
     "data": {
      "text/plain": "                              county zip_code countyFIPS  n_ev  n_bev  n_phev  \\\ntime       census_tract_2010                                                    \n2018-01-31 53001950100         Adams    99169      53001     8      4       4   \n           53001950200         Adams    99371      53001     0      0       0   \n           53001950300         Adams    99344      53001     6      0       6   \n           53001950400         Adams    99344      53001     0      0       0   \n           53001950500         Adams    99344      53001     3      3       0   \n...                              ...      ...        ...   ...    ...     ...   \n2022-09-30 53077940002        Yakima    98948      53077     6      4       2   \n           53077940003        Yakima    98903      53077     6      2       4   \n           53077940004        Yakima    98951      53077     2      2       0   \n           53077940005        Yakima    98948      53077     2      2       0   \n           53077940006        Yakima    98948      53077     2      2       0   \n\n                              n_ev_new_sales  n_bev_new_sales  \\\ntime       census_tract_2010                                    \n2018-01-31 53001950100                     8                4   \n           53001950200                     0                0   \n           53001950300                     6                0   \n           53001950400                     0                0   \n           53001950500                     3                3   \n...                                      ...              ...   \n2022-09-30 53077940002                     6                4   \n           53077940003                     6                2   \n           53077940004                     2                2   \n           53077940005                     2                2   \n           53077940006                     2                2   \n\n                              n_phev_new_sales  n_ev_used_sales  ...  m_phev  \\\ntime       census_tract_2010                                     ...           \n2018-01-31 53001950100                       4                8  ...      37   \n           53001950200                       0                0  ...      37   \n           53001950300                       6                6  ...      37   \n           53001950400                       0                0  ...      37   \n           53001950500                       0                3  ...      37   \n...                                        ...              ...  ...     ...   \n2022-09-30 53077940002                       2                6  ...      64   \n           53077940003                       4                6  ...      64   \n           53077940004                       0                2  ...      64   \n           53077940005                       0                2  ...      64   \n           53077940006                       0                2  ...      64   \n\n                              county_y  zip_code_y  countyFIPS_y  n_veh  \\\ntime       census_tract_2010                                              \n2018-01-31 53001950100           Adams       99169         53001   2233   \n           53001950200           Adams       99371         53001   1452   \n           53001950300           Adams       99344         53001   6699   \n           53001950400           Adams       99344         53001   2337   \n           53001950500           Adams       99344         53001   4372   \n...                                ...         ...           ...    ...   \n2022-09-30 53077940002          Yakima       98948         53077   4101   \n           53077940003          Yakima       98903         53077   2230   \n           53077940004          Yakima       98951         53077   5452   \n           53077940005          Yakima       98948         53077   4126   \n           53077940006          Yakima       98948         53077   4079   \n\n                              n_veh_new_sales  n_veh_used_sales  \\\ntime       census_tract_2010                                      \n2018-01-31 53001950100                     12                19   \n           53001950200                      4                10   \n           53001950300                     29                80   \n           53001950400                     11                22   \n           53001950500                     20                41   \n...                                       ...               ...   \n2022-09-30 53077940002                     18                59   \n           53077940003                      9                24   \n           53077940004                     12                66   \n           53077940005                      6                77   \n           53077940006                     10                81   \n\n                              n_veh_renewals gas_price  n_evse  \ntime       census_tract_2010                                    \n2018-01-31 53001950100                   126     2.966       1  \n           53001950200                    85     2.966       0  \n           53001950300                   359     2.966       0  \n           53001950400                   128     2.966       0  \n           53001950500                   257     2.966       0  \n...                                      ...       ...     ...  \n2022-09-30 53077940002                   247     4.644       0  \n           53077940003                   139     4.644       0  \n           53077940004                   366     4.644       2  \n           53077940005                   272     4.644       0  \n           53077940006                   276     4.644       0  \n\n[83049 rows x 27 columns]",
      "text/html": "<div>\n<style scoped>\n    .dataframe tbody tr th:only-of-type {\n        vertical-align: middle;\n    }\n\n    .dataframe tbody tr th {\n        vertical-align: top;\n    }\n\n    .dataframe thead th {\n        text-align: right;\n    }\n</style>\n<table border=\"1\" class=\"dataframe\">\n  <thead>\n    <tr style=\"text-align: right;\">\n      <th></th>\n      <th></th>\n      <th>county</th>\n      <th>zip_code</th>\n      <th>countyFIPS</th>\n      <th>n_ev</th>\n      <th>n_bev</th>\n      <th>n_phev</th>\n      <th>n_ev_new_sales</th>\n      <th>n_bev_new_sales</th>\n      <th>n_phev_new_sales</th>\n      <th>n_ev_used_sales</th>\n      <th>...</th>\n      <th>m_phev</th>\n      <th>county_y</th>\n      <th>zip_code_y</th>\n      <th>countyFIPS_y</th>\n      <th>n_veh</th>\n      <th>n_veh_new_sales</th>\n      <th>n_veh_used_sales</th>\n      <th>n_veh_renewals</th>\n      <th>gas_price</th>\n      <th>n_evse</th>\n    </tr>\n    <tr>\n      <th>time</th>\n      <th>census_tract_2010</th>\n      <th></th>\n      <th></th>\n      <th></th>\n      <th></th>\n      <th></th>\n      <th></th>\n      <th></th>\n      <th></th>\n      <th></th>\n      <th></th>\n      <th></th>\n      <th></th>\n      <th></th>\n      <th></th>\n      <th></th>\n      <th></th>\n      <th></th>\n      <th></th>\n      <th></th>\n      <th></th>\n      <th></th>\n    </tr>\n  </thead>\n  <tbody>\n    <tr>\n      <th rowspan=\"5\" valign=\"top\">2018-01-31</th>\n      <th>53001950100</th>\n      <td>Adams</td>\n      <td>99169</td>\n      <td>53001</td>\n      <td>8</td>\n      <td>4</td>\n      <td>4</td>\n      <td>8</td>\n      <td>4</td>\n      <td>4</td>\n      <td>8</td>\n      <td>...</td>\n      <td>37</td>\n      <td>Adams</td>\n      <td>99169</td>\n      <td>53001</td>\n      <td>2233</td>\n      <td>12</td>\n      <td>19</td>\n      <td>126</td>\n      <td>2.966</td>\n      <td>1</td>\n    </tr>\n    <tr>\n      <th>53001950200</th>\n      <td>Adams</td>\n      <td>99371</td>\n      <td>53001</td>\n      <td>0</td>\n      <td>0</td>\n      <td>0</td>\n      <td>0</td>\n      <td>0</td>\n      <td>0</td>\n      <td>0</td>\n      <td>...</td>\n      <td>37</td>\n      <td>Adams</td>\n      <td>99371</td>\n      <td>53001</td>\n      <td>1452</td>\n      <td>4</td>\n      <td>10</td>\n      <td>85</td>\n      <td>2.966</td>\n      <td>0</td>\n    </tr>\n    <tr>\n      <th>53001950300</th>\n      <td>Adams</td>\n      <td>99344</td>\n      <td>53001</td>\n      <td>6</td>\n      <td>0</td>\n      <td>6</td>\n      <td>6</td>\n      <td>0</td>\n      <td>6</td>\n      <td>6</td>\n      <td>...</td>\n      <td>37</td>\n      <td>Adams</td>\n      <td>99344</td>\n      <td>53001</td>\n      <td>6699</td>\n      <td>29</td>\n      <td>80</td>\n      <td>359</td>\n      <td>2.966</td>\n      <td>0</td>\n    </tr>\n    <tr>\n      <th>53001950400</th>\n      <td>Adams</td>\n      <td>99344</td>\n      <td>53001</td>\n      <td>0</td>\n      <td>0</td>\n      <td>0</td>\n      <td>0</td>\n      <td>0</td>\n      <td>0</td>\n      <td>0</td>\n      <td>...</td>\n      <td>37</td>\n      <td>Adams</td>\n      <td>99344</td>\n      <td>53001</td>\n      <td>2337</td>\n      <td>11</td>\n      <td>22</td>\n      <td>128</td>\n      <td>2.966</td>\n      <td>0</td>\n    </tr>\n    <tr>\n      <th>53001950500</th>\n      <td>Adams</td>\n      <td>99344</td>\n      <td>53001</td>\n      <td>3</td>\n      <td>3</td>\n      <td>0</td>\n      <td>3</td>\n      <td>3</td>\n      <td>0</td>\n      <td>3</td>\n      <td>...</td>\n      <td>37</td>\n      <td>Adams</td>\n      <td>99344</td>\n      <td>53001</td>\n      <td>4372</td>\n      <td>20</td>\n      <td>41</td>\n      <td>257</td>\n      <td>2.966</td>\n      <td>0</td>\n    </tr>\n    <tr>\n      <th>...</th>\n      <th>...</th>\n      <td>...</td>\n      <td>...</td>\n      <td>...</td>\n      <td>...</td>\n      <td>...</td>\n      <td>...</td>\n      <td>...</td>\n      <td>...</td>\n      <td>...</td>\n      <td>...</td>\n      <td>...</td>\n      <td>...</td>\n      <td>...</td>\n      <td>...</td>\n      <td>...</td>\n      <td>...</td>\n      <td>...</td>\n      <td>...</td>\n      <td>...</td>\n      <td>...</td>\n      <td>...</td>\n    </tr>\n    <tr>\n      <th rowspan=\"5\" valign=\"top\">2022-09-30</th>\n      <th>53077940002</th>\n      <td>Yakima</td>\n      <td>98948</td>\n      <td>53077</td>\n      <td>6</td>\n      <td>4</td>\n      <td>2</td>\n      <td>6</td>\n      <td>4</td>\n      <td>2</td>\n      <td>6</td>\n      <td>...</td>\n      <td>64</td>\n      <td>Yakima</td>\n      <td>98948</td>\n      <td>53077</td>\n      <td>4101</td>\n      <td>18</td>\n      <td>59</td>\n      <td>247</td>\n      <td>4.644</td>\n      <td>0</td>\n    </tr>\n    <tr>\n      <th>53077940003</th>\n      <td>Yakima</td>\n      <td>98903</td>\n      <td>53077</td>\n      <td>6</td>\n      <td>2</td>\n      <td>4</td>\n      <td>6</td>\n      <td>2</td>\n      <td>4</td>\n      <td>6</td>\n      <td>...</td>\n      <td>64</td>\n      <td>Yakima</td>\n      <td>98903</td>\n      <td>53077</td>\n      <td>2230</td>\n      <td>9</td>\n      <td>24</td>\n      <td>139</td>\n      <td>4.644</td>\n      <td>0</td>\n    </tr>\n    <tr>\n      <th>53077940004</th>\n      <td>Yakima</td>\n      <td>98951</td>\n      <td>53077</td>\n      <td>2</td>\n      <td>2</td>\n      <td>0</td>\n      <td>2</td>\n      <td>2</td>\n      <td>0</td>\n      <td>2</td>\n      <td>...</td>\n      <td>64</td>\n      <td>Yakima</td>\n      <td>98951</td>\n      <td>53077</td>\n      <td>5452</td>\n      <td>12</td>\n      <td>66</td>\n      <td>366</td>\n      <td>4.644</td>\n      <td>2</td>\n    </tr>\n    <tr>\n      <th>53077940005</th>\n      <td>Yakima</td>\n      <td>98948</td>\n      <td>53077</td>\n      <td>2</td>\n      <td>2</td>\n      <td>0</td>\n      <td>2</td>\n      <td>2</td>\n      <td>0</td>\n      <td>2</td>\n      <td>...</td>\n      <td>64</td>\n      <td>Yakima</td>\n      <td>98948</td>\n      <td>53077</td>\n      <td>4126</td>\n      <td>6</td>\n      <td>77</td>\n      <td>272</td>\n      <td>4.644</td>\n      <td>0</td>\n    </tr>\n    <tr>\n      <th>53077940006</th>\n      <td>Yakima</td>\n      <td>98948</td>\n      <td>53077</td>\n      <td>2</td>\n      <td>2</td>\n      <td>0</td>\n      <td>2</td>\n      <td>2</td>\n      <td>0</td>\n      <td>2</td>\n      <td>...</td>\n      <td>64</td>\n      <td>Yakima</td>\n      <td>98948</td>\n      <td>53077</td>\n      <td>4079</td>\n      <td>10</td>\n      <td>81</td>\n      <td>276</td>\n      <td>4.644</td>\n      <td>0</td>\n    </tr>\n  </tbody>\n</table>\n<p>83049 rows × 27 columns</p>\n</div>"
     },
     "execution_count": 25,
     "metadata": {},
     "output_type": "execute_result"
    }
   ],
   "source": [
    "df"
   ]
  },
  {
   "cell_type": "code",
   "execution_count": 36,
   "id": "e8a54f50",
   "metadata": {},
   "outputs": [
    {
     "data": {
      "text/plain": "(205437, 11)"
     },
     "execution_count": 36,
     "metadata": {},
     "output_type": "execute_result"
    }
   ],
   "source": [
    "df.shape"
   ]
  },
  {
   "cell_type": "code",
   "execution_count": 26,
   "outputs": [],
   "source": [
    "df_no_census = df.copy()"
   ],
   "metadata": {
    "collapsed": false
   }
  },
  {
   "cell_type": "code",
   "execution_count": null,
   "outputs": [],
   "source": [
    "df = df_no_census.copy()"
   ],
   "metadata": {
    "collapsed": false
   }
  },
  {
   "cell_type": "code",
   "execution_count": 34,
   "outputs": [
    {
     "data": {
      "text/plain": "(1458, (93, 1457))"
     },
     "execution_count": 34,
     "metadata": {},
     "output_type": "execute_result"
    }
   ],
   "source": [
    "len(census_tracts_2010),df.index.levshape"
   ],
   "metadata": {
    "collapsed": false
   }
  },
  {
   "cell_type": "code",
   "execution_count": 13,
   "outputs": [],
   "source": [
    "df = empty_df.copy()\n",
    "df.to_csv(\"data/census/empty_df.csv\")"
   ],
   "metadata": {
    "collapsed": false
   }
  },
  {
   "cell_type": "code",
   "execution_count": 27,
   "outputs": [
    {
     "name": "stdout",
     "output_type": "stream",
     "text": [
      "done\n"
     ]
    }
   ],
   "source": [
    "#census data (if file all_acs_2011_to_2022.csv is constructed already)\n",
    "df_census = pd.read_csv(\"data/census/all_acs_2011_to_2022.csv\")\n",
    "\n",
    "# print(df_evse[\"open_date\"].min())\n",
    "# df_evse = df_evse[df_evse[\"open_date\"] != \"0022-07-22\"]\n",
    "# df_evse[\"open_date\"] = pd.to_datetime(df_evse[\"open_date\"]).dt.date\n",
    "# # j\n",
    "# df_evse[\"l2_count\"] = df_evse[\"l2_count\"].fillna(0).astype(int)\n",
    "# df_evse[\"dcfc_count\"] = df_evse[\"dcfc_count\"].fillna(0).astype(int)\n",
    "\n",
    "# df_evse[\"has_l2_or_dcfc\"] = df_evse[\"l2_count\"] > 0 #boolean if location has at least one L2 charger\n",
    "# df_evse[\"has_l2_or_dcfc\"] = (df_evse[\"l2_count\"] > 0) | (df_evse[\"dcfc_count\"] > 0) #boolean if location has at least one L2 or DCFC charger\n",
    "\n",
    "df_census = df_census.convert_dtypes()\n",
    "df_census[\"time\"] = pd.to_datetime(df_census[\"time\"]).dt.date\n",
    "\n",
    "df_census = df_census.set_index([\"time\", \"census_tract_2010\"])\n",
    "df_census.index.dtypes[1] = \"int64\"\n",
    "# print(df_census)\n",
    "# o\n",
    "\n",
    "##### df = df.merge(df_evse, on=[\"time\", \"zip\"], how=\"inner\", suffixes=(None,\"_y\"))\n",
    "df = df.join(df_census, on=[\"time\", \"census_tract_2010\"], how=\"inner\", rsuffix=\"_y\")\n",
    "df = df.drop(columns=\"zip_code_y\") #the county column appears twice, so removing the duplicate he\n",
    "df = df.drop(columns=\"county_y\") #the county column appears twice, so removing the duplicate he\n",
    "\n",
    "# print(df.head())\n",
    "\n",
    "\"\"\"\n",
    "df[\"n_evse\"] = 0\n",
    "for time in times:\n",
    "    print(time, \"\", end=\"\")\n",
    "    # for zip_code in zip_codes:\n",
    "    for census_tract in census_tracts_2010:\n",
    "        # dff = df_evse[(df_evse[\"open_date\"] < time) & (df_evse[\"zip\"] == zip_code)] #create helper dataframe containing all stations built in this zip code until this time\n",
    "        dff = df_evse[(df_evse[\"open_date\"] < time) & (df_evse[\"census_tract_2010\"] == census_tract)] #create helper dataframe containing all stations built in this census tract until this time\n",
    "        n_evse = sum(dff[\"has_l2_or_dcfc\"]) #counts number of locations with at least one charging station in that ZIP code and for that month\n",
    "        df.loc[(time, zip_code), \"n_evse\"] = n_evse\n",
    "#\"\"\"\n",
    "print(\"done\")"
   ],
   "metadata": {
    "collapsed": false
   }
  },
  {
   "cell_type": "code",
   "execution_count": 28,
   "outputs": [
    {
     "data": {
      "text/plain": "                              county zip_code countyFIPS  n_ev  n_bev  n_phev  \\\ntime       census_tract_2010                                                    \n2018-01-31 53001950100         Adams    99169      53001     8      4       4   \n           53001950200         Adams    99371      53001     0      0       0   \n           53001950300         Adams    99344      53001     6      0       6   \n           53001950400         Adams    99344      53001     0      0       0   \n           53001950500         Adams    99344      53001     3      3       0   \n...                              ...      ...        ...   ...    ...     ...   \n2022-09-30 53077940002        Yakima    98948      53077     6      4       2   \n           53077940003        Yakima    98903      53077     6      2       4   \n           53077940004        Yakima    98951      53077     2      2       0   \n           53077940005        Yakima    98948      53077     2      2       0   \n           53077940006        Yakima    98948      53077     2      2       0   \n\n                              n_ev_new_sales  n_bev_new_sales  \\\ntime       census_tract_2010                                    \n2018-01-31 53001950100                     8                4   \n           53001950200                     0                0   \n           53001950300                     6                0   \n           53001950400                     0                0   \n           53001950500                     3                3   \n...                                      ...              ...   \n2022-09-30 53077940002                     6                4   \n           53077940003                     6                2   \n           53077940004                     2                2   \n           53077940005                     2                2   \n           53077940006                     2                2   \n\n                              n_phev_new_sales  n_ev_used_sales  ...  n_evse  \\\ntime       census_tract_2010                                     ...           \n2018-01-31 53001950100                       4                8  ...       1   \n           53001950200                       0                0  ...       0   \n           53001950300                       6                6  ...       0   \n           53001950400                       0                0  ...       0   \n           53001950500                       0                3  ...       0   \n...                                        ...              ...  ...     ...   \n2022-09-30 53077940002                       2                6  ...       0   \n           53077940003                       4                6  ...       0   \n           53077940004                       0                2  ...       2   \n           53077940005                       0                2  ...       0   \n           53077940006                       0                2  ...       0   \n\n                              n_total_pop  n_white  n_bachelor  \\\ntime       census_tract_2010                                     \n2018-01-31 53001950100               2493     2226         286   \n           53001950200               1705     1555         162   \n           53001950300               6884     3913         252   \n           53001950400               3399     2347         173   \n           53001950500               4971     3440         119   \n...                                   ...      ...         ...   \n2022-09-30 53077940002               4731     2076         146   \n           53077940003               3542     1637         283   \n           53077940004               6124     3289         111   \n           53077940005               4727     2843         155   \n           53077940006               4614     2537          78   \n\n                              n_workers_16plus  n_drove_alone  median_hh_inc  \\\ntime       census_tract_2010                                                   \n2018-01-31 53001950100                    1119            854          47813   \n           53001950200                     666            443          49261   \n           53001950300                    2508           1820          44107   \n           53001950400                    1304            908          47036   \n           53001950500                    2073           1522          54223   \n...                                        ...            ...            ...   \n2022-09-30 53077940002                    1455           1266          51950   \n           53077940003                    1180            984          51151   \n           53077940004                    2395           1759          43721   \n           53077940005                    1782           1351          54397   \n           53077940006                    1953           1432          51116   \n\n                              n_units_tot  n_units_1detached  \\\ntime       census_tract_2010                                   \n2018-01-31 53001950100               1187                974   \n           53001950200                807                640   \n           53001950300               1949                811   \n           53001950400               1020                607   \n           53001950500               1564               1121   \n...                                   ...                ...   \n2022-09-30 53077940002               1323               1051   \n           53077940003               1112                772   \n           53077940004               1786               1186   \n           53077940005               1412               1037   \n           53077940006               1215                952   \n\n                              n_units_1attached  \ntime       census_tract_2010                     \n2018-01-31 53001950100                       11  \n           53001950200                        5  \n           53001950300                       12  \n           53001950400                       69  \n           53001950500                       26  \n...                                         ...  \n2022-09-30 53077940002                       38  \n           53077940003                        5  \n           53077940004                       44  \n           53077940005                       23  \n           53077940006                       14  \n\n[83049 rows x 34 columns]",
      "text/html": "<div>\n<style scoped>\n    .dataframe tbody tr th:only-of-type {\n        vertical-align: middle;\n    }\n\n    .dataframe tbody tr th {\n        vertical-align: top;\n    }\n\n    .dataframe thead th {\n        text-align: right;\n    }\n</style>\n<table border=\"1\" class=\"dataframe\">\n  <thead>\n    <tr style=\"text-align: right;\">\n      <th></th>\n      <th></th>\n      <th>county</th>\n      <th>zip_code</th>\n      <th>countyFIPS</th>\n      <th>n_ev</th>\n      <th>n_bev</th>\n      <th>n_phev</th>\n      <th>n_ev_new_sales</th>\n      <th>n_bev_new_sales</th>\n      <th>n_phev_new_sales</th>\n      <th>n_ev_used_sales</th>\n      <th>...</th>\n      <th>n_evse</th>\n      <th>n_total_pop</th>\n      <th>n_white</th>\n      <th>n_bachelor</th>\n      <th>n_workers_16plus</th>\n      <th>n_drove_alone</th>\n      <th>median_hh_inc</th>\n      <th>n_units_tot</th>\n      <th>n_units_1detached</th>\n      <th>n_units_1attached</th>\n    </tr>\n    <tr>\n      <th>time</th>\n      <th>census_tract_2010</th>\n      <th></th>\n      <th></th>\n      <th></th>\n      <th></th>\n      <th></th>\n      <th></th>\n      <th></th>\n      <th></th>\n      <th></th>\n      <th></th>\n      <th></th>\n      <th></th>\n      <th></th>\n      <th></th>\n      <th></th>\n      <th></th>\n      <th></th>\n      <th></th>\n      <th></th>\n      <th></th>\n      <th></th>\n    </tr>\n  </thead>\n  <tbody>\n    <tr>\n      <th rowspan=\"5\" valign=\"top\">2018-01-31</th>\n      <th>53001950100</th>\n      <td>Adams</td>\n      <td>99169</td>\n      <td>53001</td>\n      <td>8</td>\n      <td>4</td>\n      <td>4</td>\n      <td>8</td>\n      <td>4</td>\n      <td>4</td>\n      <td>8</td>\n      <td>...</td>\n      <td>1</td>\n      <td>2493</td>\n      <td>2226</td>\n      <td>286</td>\n      <td>1119</td>\n      <td>854</td>\n      <td>47813</td>\n      <td>1187</td>\n      <td>974</td>\n      <td>11</td>\n    </tr>\n    <tr>\n      <th>53001950200</th>\n      <td>Adams</td>\n      <td>99371</td>\n      <td>53001</td>\n      <td>0</td>\n      <td>0</td>\n      <td>0</td>\n      <td>0</td>\n      <td>0</td>\n      <td>0</td>\n      <td>0</td>\n      <td>...</td>\n      <td>0</td>\n      <td>1705</td>\n      <td>1555</td>\n      <td>162</td>\n      <td>666</td>\n      <td>443</td>\n      <td>49261</td>\n      <td>807</td>\n      <td>640</td>\n      <td>5</td>\n    </tr>\n    <tr>\n      <th>53001950300</th>\n      <td>Adams</td>\n      <td>99344</td>\n      <td>53001</td>\n      <td>6</td>\n      <td>0</td>\n      <td>6</td>\n      <td>6</td>\n      <td>0</td>\n      <td>6</td>\n      <td>6</td>\n      <td>...</td>\n      <td>0</td>\n      <td>6884</td>\n      <td>3913</td>\n      <td>252</td>\n      <td>2508</td>\n      <td>1820</td>\n      <td>44107</td>\n      <td>1949</td>\n      <td>811</td>\n      <td>12</td>\n    </tr>\n    <tr>\n      <th>53001950400</th>\n      <td>Adams</td>\n      <td>99344</td>\n      <td>53001</td>\n      <td>0</td>\n      <td>0</td>\n      <td>0</td>\n      <td>0</td>\n      <td>0</td>\n      <td>0</td>\n      <td>0</td>\n      <td>...</td>\n      <td>0</td>\n      <td>3399</td>\n      <td>2347</td>\n      <td>173</td>\n      <td>1304</td>\n      <td>908</td>\n      <td>47036</td>\n      <td>1020</td>\n      <td>607</td>\n      <td>69</td>\n    </tr>\n    <tr>\n      <th>53001950500</th>\n      <td>Adams</td>\n      <td>99344</td>\n      <td>53001</td>\n      <td>3</td>\n      <td>3</td>\n      <td>0</td>\n      <td>3</td>\n      <td>3</td>\n      <td>0</td>\n      <td>3</td>\n      <td>...</td>\n      <td>0</td>\n      <td>4971</td>\n      <td>3440</td>\n      <td>119</td>\n      <td>2073</td>\n      <td>1522</td>\n      <td>54223</td>\n      <td>1564</td>\n      <td>1121</td>\n      <td>26</td>\n    </tr>\n    <tr>\n      <th>...</th>\n      <th>...</th>\n      <td>...</td>\n      <td>...</td>\n      <td>...</td>\n      <td>...</td>\n      <td>...</td>\n      <td>...</td>\n      <td>...</td>\n      <td>...</td>\n      <td>...</td>\n      <td>...</td>\n      <td>...</td>\n      <td>...</td>\n      <td>...</td>\n      <td>...</td>\n      <td>...</td>\n      <td>...</td>\n      <td>...</td>\n      <td>...</td>\n      <td>...</td>\n      <td>...</td>\n      <td>...</td>\n    </tr>\n    <tr>\n      <th rowspan=\"5\" valign=\"top\">2022-09-30</th>\n      <th>53077940002</th>\n      <td>Yakima</td>\n      <td>98948</td>\n      <td>53077</td>\n      <td>6</td>\n      <td>4</td>\n      <td>2</td>\n      <td>6</td>\n      <td>4</td>\n      <td>2</td>\n      <td>6</td>\n      <td>...</td>\n      <td>0</td>\n      <td>4731</td>\n      <td>2076</td>\n      <td>146</td>\n      <td>1455</td>\n      <td>1266</td>\n      <td>51950</td>\n      <td>1323</td>\n      <td>1051</td>\n      <td>38</td>\n    </tr>\n    <tr>\n      <th>53077940003</th>\n      <td>Yakima</td>\n      <td>98903</td>\n      <td>53077</td>\n      <td>6</td>\n      <td>2</td>\n      <td>4</td>\n      <td>6</td>\n      <td>2</td>\n      <td>4</td>\n      <td>6</td>\n      <td>...</td>\n      <td>0</td>\n      <td>3542</td>\n      <td>1637</td>\n      <td>283</td>\n      <td>1180</td>\n      <td>984</td>\n      <td>51151</td>\n      <td>1112</td>\n      <td>772</td>\n      <td>5</td>\n    </tr>\n    <tr>\n      <th>53077940004</th>\n      <td>Yakima</td>\n      <td>98951</td>\n      <td>53077</td>\n      <td>2</td>\n      <td>2</td>\n      <td>0</td>\n      <td>2</td>\n      <td>2</td>\n      <td>0</td>\n      <td>2</td>\n      <td>...</td>\n      <td>2</td>\n      <td>6124</td>\n      <td>3289</td>\n      <td>111</td>\n      <td>2395</td>\n      <td>1759</td>\n      <td>43721</td>\n      <td>1786</td>\n      <td>1186</td>\n      <td>44</td>\n    </tr>\n    <tr>\n      <th>53077940005</th>\n      <td>Yakima</td>\n      <td>98948</td>\n      <td>53077</td>\n      <td>2</td>\n      <td>2</td>\n      <td>0</td>\n      <td>2</td>\n      <td>2</td>\n      <td>0</td>\n      <td>2</td>\n      <td>...</td>\n      <td>0</td>\n      <td>4727</td>\n      <td>2843</td>\n      <td>155</td>\n      <td>1782</td>\n      <td>1351</td>\n      <td>54397</td>\n      <td>1412</td>\n      <td>1037</td>\n      <td>23</td>\n    </tr>\n    <tr>\n      <th>53077940006</th>\n      <td>Yakima</td>\n      <td>98948</td>\n      <td>53077</td>\n      <td>2</td>\n      <td>2</td>\n      <td>0</td>\n      <td>2</td>\n      <td>2</td>\n      <td>0</td>\n      <td>2</td>\n      <td>...</td>\n      <td>0</td>\n      <td>4614</td>\n      <td>2537</td>\n      <td>78</td>\n      <td>1953</td>\n      <td>1432</td>\n      <td>51116</td>\n      <td>1215</td>\n      <td>952</td>\n      <td>14</td>\n    </tr>\n  </tbody>\n</table>\n<p>83049 rows × 34 columns</p>\n</div>"
     },
     "execution_count": 28,
     "metadata": {},
     "output_type": "execute_result"
    }
   ],
   "source": [
    "df"
   ],
   "metadata": {
    "collapsed": false
   }
  },
  {
   "cell_type": "code",
   "execution_count": 12,
   "outputs": [
    {
     "name": "stdout",
     "output_type": "stream",
     "text": [
      "2011\n",
      "2011-01-31\n",
      "                   county zip_code  year  n_total_pop  n_white  n_bachelor  \\\n",
      "census_tract_2010                                                            \n",
      "53001950100         Adams    99169  2011            0        0           0   \n",
      "53001950200         Adams    99371  2011            0        0           0   \n",
      "53001950300         Adams    99344  2011            0        0           0   \n",
      "53001950400         Adams    99344  2011            0        0           0   \n",
      "53001950500         Adams    99344  2011            0        0           0   \n",
      "...                   ...      ...   ...          ...      ...         ...   \n",
      "53077940002        Yakima    98948  2011            0        0           0   \n",
      "53077940003        Yakima    98903  2011            0        0           0   \n",
      "53077940004        Yakima    98951  2011            0        0           0   \n",
      "53077940005        Yakima    98948  2011            0        0           0   \n",
      "53077940006        Yakima    98948  2011            0        0           0   \n",
      "\n",
      "                   n_workers_16plus  n_drove_alone  median_hh_inc  \\\n",
      "census_tract_2010                                                   \n",
      "53001950100                       0              0              0   \n",
      "53001950200                       0              0              0   \n",
      "53001950300                       0              0              0   \n",
      "53001950400                       0              0              0   \n",
      "53001950500                       0              0              0   \n",
      "...                             ...            ...            ...   \n",
      "53077940002                       0              0              0   \n",
      "53077940003                       0              0              0   \n",
      "53077940004                       0              0              0   \n",
      "53077940005                       0              0              0   \n",
      "53077940006                       0              0              0   \n",
      "\n",
      "                   n_units_tot  n_units_1detached  n_units_1attached  \n",
      "census_tract_2010                                                     \n",
      "53001950100                  0                  0                  0  \n",
      "53001950200                  0                  0                  0  \n",
      "53001950300                  0                  0                  0  \n",
      "53001950400                  0                  0                  0  \n",
      "53001950500                  0                  0                  0  \n",
      "...                        ...                ...                ...  \n",
      "53077940002                  0                  0                  0  \n",
      "53077940003                  0                  0                  0  \n",
      "53077940004                  0                  0                  0  \n",
      "53077940005                  0                  0                  0  \n",
      "53077940006                  0                  0                  0  \n",
      "\n",
      "[1458 rows x 12 columns]\n",
      "                  county zip_code  year  n_total_pop  n_white  n_bachelor  \\\n",
      "census_tract_2010                                                           \n",
      "53001950100          NaN      NaN   NaN          NaN      NaN         NaN   \n",
      "53001950200          NaN      NaN   NaN          NaN      NaN         NaN   \n",
      "53001950300          NaN      NaN   NaN          NaN      NaN         NaN   \n",
      "53001950400          NaN      NaN   NaN          NaN      NaN         NaN   \n",
      "53001950500          NaN      NaN   NaN          NaN      NaN         NaN   \n",
      "...                  ...      ...   ...          ...      ...         ...   \n",
      "53077940002          NaN      NaN   NaN          NaN      NaN         NaN   \n",
      "53077940003          NaN      NaN   NaN          NaN      NaN         NaN   \n",
      "53077940004          NaN      NaN   NaN          NaN      NaN         NaN   \n",
      "53077940005          NaN      NaN   NaN          NaN      NaN         NaN   \n",
      "53077940006          NaN      NaN   NaN          NaN      NaN         NaN   \n",
      "\n",
      "                   n_workers_16plus  n_drove_alone  median_hh_inc  \\\n",
      "census_tract_2010                                                   \n",
      "53001950100                     NaN            NaN            NaN   \n",
      "53001950200                     NaN            NaN            NaN   \n",
      "53001950300                     NaN            NaN            NaN   \n",
      "53001950400                     NaN            NaN            NaN   \n",
      "53001950500                     NaN            NaN            NaN   \n",
      "...                             ...            ...            ...   \n",
      "53077940002                     NaN            NaN            NaN   \n",
      "53077940003                     NaN            NaN            NaN   \n",
      "53077940004                     NaN            NaN            NaN   \n",
      "53077940005                     NaN            NaN            NaN   \n",
      "53077940006                     NaN            NaN            NaN   \n",
      "\n",
      "                   n_units_tot  n_units_1detached  n_units_1attached  \n",
      "census_tract_2010                                                     \n",
      "53001950100                NaN                NaN                NaN  \n",
      "53001950200                NaN                NaN                NaN  \n",
      "53001950300                NaN                NaN                NaN  \n",
      "53001950400                NaN                NaN                NaN  \n",
      "53001950500                NaN                NaN                NaN  \n",
      "...                        ...                ...                ...  \n",
      "53077940002                NaN                NaN                NaN  \n",
      "53077940003                NaN                NaN                NaN  \n",
      "53077940004                NaN                NaN                NaN  \n",
      "53077940005                NaN                NaN                NaN  \n",
      "53077940006                NaN                NaN                NaN  \n",
      "\n",
      "[1458 rows x 12 columns]\n",
      "None\n"
     ]
    },
    {
     "ename": "NameError",
     "evalue": "name 'k' is not defined",
     "output_type": "error",
     "traceback": [
      "\u001B[1;31m---------------------------------------------------------------------------\u001B[0m",
      "\u001B[1;31mNameError\u001B[0m                                 Traceback (most recent call last)",
      "\u001B[1;32m~\\AppData\\Local\\Temp/ipykernel_2496/221480799.py\u001B[0m in \u001B[0;36m<module>\u001B[1;34m\u001B[0m\n\u001B[0;32m     46\u001B[0m             \u001B[0mprint\u001B[0m\u001B[1;33m(\u001B[0m\u001B[0mprint\u001B[0m\u001B[1;33m(\u001B[0m\u001B[0mdf\u001B[0m\u001B[1;33m.\u001B[0m\u001B[0mloc\u001B[0m\u001B[1;33m[\u001B[0m\u001B[1;33m(\u001B[0m\u001B[0mtime\u001B[0m\u001B[1;33m,\u001B[0m \u001B[0mslice\u001B[0m\u001B[1;33m(\u001B[0m\u001B[1;32mNone\u001B[0m\u001B[1;33m)\u001B[0m\u001B[1;33m)\u001B[0m\u001B[1;33m]\u001B[0m\u001B[1;33m)\u001B[0m\u001B[1;33m)\u001B[0m\u001B[1;33m\u001B[0m\u001B[1;33m\u001B[0m\u001B[0m\n\u001B[0;32m     47\u001B[0m             \u001B[1;31m# print(df.head())\u001B[0m\u001B[1;33m\u001B[0m\u001B[1;33m\u001B[0m\u001B[1;33m\u001B[0m\u001B[0m\n\u001B[1;32m---> 48\u001B[1;33m             \u001B[0mk\u001B[0m\u001B[1;33m\u001B[0m\u001B[1;33m\u001B[0m\u001B[0m\n\u001B[0m\u001B[0;32m     49\u001B[0m \u001B[1;33m\u001B[0m\u001B[0m\n\u001B[0;32m     50\u001B[0m             \u001B[1;31m# for census_tract in census_tracts_2010:\u001B[0m\u001B[1;33m\u001B[0m\u001B[1;33m\u001B[0m\u001B[1;33m\u001B[0m\u001B[0m\n",
      "\u001B[1;31mNameError\u001B[0m: name 'k' is not defined"
     ]
    }
   ],
   "source": [
    "#census data\n",
    "df = empty_df.copy()\n",
    "a = [time.year for time in times for census_tract in census_tracts_2010]\n",
    "# print(a)\n",
    "# df[\"year\"] = [time.year for time in times for census_tract in census_tracts_2010]\n",
    "\n",
    "#create year column\n",
    "df = df.reset_index()\n",
    "df[\"time\"] = pd.to_datetime(df[\"time\"])#.dt.date\n",
    "df[\"year\"] = df[\"time\"].dt.year\n",
    "df[\"time\"] = pd.to_datetime(df[\"time\"]).dt.date\n",
    "df = df.set_index([\"time\", \"census_tract_2010\"])\n",
    "# l\n",
    "vars = [\"n_total_pop\", \"n_white\", \"n_bachelor\", \"n_workers_16plus\", \"n_drove_alone\", \"median_hh_inc\", \"n_units_tot\", \"n_units_1detached\", \"n_units_1attached\"]\n",
    "df[vars] = 0\n",
    "# years = range(2015,2020)\n",
    "years = range(2011,2020)\n",
    "for year in years:\n",
    "    print(year)\n",
    "    df_census = pd.read_csv(\"data/census/all_acs_by_tract_%d.csv\"%year)\n",
    "\n",
    "    df_census = df_census.rename(columns={\"GEOID\": \"census_tract_2010\"})\n",
    "\n",
    "    df_census = df_census.set_index(\"census_tract_2010\")\n",
    "\n",
    "    # print(df_census.columns)\n",
    "    # print(vars)\n",
    "    # print(df[\"n_total_pop\"])\n",
    "    # print(df.head())\n",
    "    # df.loc[df[\"year\"] == year, vars] = df.loc[df[\"year\"] == year, vars].join(df_census, on=\"census_tract_2010\", how=\"inner\", rsuffix=\"_y\")\n",
    "    # print(df.head())\n",
    "\n",
    "    ##### df = df.merge(df_ev, on=[\"time\", \"zip\"], how=\"inner\", suffixes=(None,\"_y\"))\n",
    "    # df = df.join(df_ev, on=[\"time\", \"zip\"], how=\"inner\", rsuffix=\"_y\")\n",
    "    # df = df.join(df_ev, on=[\"time\", \"census_tract\"], how=\"inner\", rsuffix=\"_y\")\n",
    "    # df = df.drop(columns=\"county_y\") #the county column appears twice, so removing the duplicate he\n",
    "\n",
    "    # \"\"\"\n",
    "    # alternative way (instead of using join):\n",
    "    for time in times:\n",
    "        if time.year == year:\n",
    "            print(time)\n",
    "            # df.loc[df[\"year\"] == year, vars] = df.loc[df[\"year\"] == year, vars].join(df_census, on=\"census_tract_2010\", how=\"inner\", rsuffix=\"_y\")\n",
    "            print(df.loc[(time, slice(None))])\n",
    "            df.loc[(time, slice(None))] = df.loc[(time, slice(None))].join(df_census, on=\"census_tract_2010\", how=\"inner\", rsuffix=\"_y\")\n",
    "            print(print(df.loc[(time, slice(None))]))\n",
    "            # print(df.head())\n",
    "            k\n",
    "\n",
    "            # for census_tract in census_tracts_2010:\n",
    "                # print(census_tract)\n",
    "                # df.loc[(time, census_tract), vars] = df_census.loc[census_tract]\n",
    "                # ev_counts = df_ev.loc[(time, zip_code), cols]\n",
    "                # for col in cols:\n",
    "                #     if not np.isnan(ev_counts[col]):\n",
    "                #         df.loc[(time, zip_code), col] = ev_counts[col]\n",
    "    #\"\"\"\n",
    "\n",
    "print(\"done\")"
   ],
   "metadata": {
    "collapsed": false
   }
  },
  {
   "cell_type": "code",
   "execution_count": 29,
   "outputs": [
    {
     "data": {
      "text/plain": "                              county zip_code countyFIPS  n_ev  n_bev  n_phev  \\\ntime       census_tract_2010                                                    \n2018-01-31 53001950100         Adams    99169      53001     8      4       4   \n           53001950200         Adams    99371      53001     0      0       0   \n           53001950300         Adams    99344      53001     6      0       6   \n           53001950400         Adams    99344      53001     0      0       0   \n           53001950500         Adams    99344      53001     3      3       0   \n...                              ...      ...        ...   ...    ...     ...   \n2022-09-30 53077940002        Yakima    98948      53077     6      4       2   \n           53077940003        Yakima    98903      53077     6      2       4   \n           53077940004        Yakima    98951      53077     2      2       0   \n           53077940005        Yakima    98948      53077     2      2       0   \n           53077940006        Yakima    98948      53077     2      2       0   \n\n                              n_ev_new_sales  n_bev_new_sales  \\\ntime       census_tract_2010                                    \n2018-01-31 53001950100                     8                4   \n           53001950200                     0                0   \n           53001950300                     6                0   \n           53001950400                     0                0   \n           53001950500                     3                3   \n...                                      ...              ...   \n2022-09-30 53077940002                     6                4   \n           53077940003                     6                2   \n           53077940004                     2                2   \n           53077940005                     2                2   \n           53077940006                     2                2   \n\n                              n_phev_new_sales  n_ev_used_sales  ...  n_evse  \\\ntime       census_tract_2010                                     ...           \n2018-01-31 53001950100                       4                8  ...       1   \n           53001950200                       0                0  ...       0   \n           53001950300                       6                6  ...       0   \n           53001950400                       0                0  ...       0   \n           53001950500                       0                3  ...       0   \n...                                        ...              ...  ...     ...   \n2022-09-30 53077940002                       2                6  ...       0   \n           53077940003                       4                6  ...       0   \n           53077940004                       0                2  ...       2   \n           53077940005                       0                2  ...       0   \n           53077940006                       0                2  ...       0   \n\n                              n_total_pop  n_white  n_bachelor  \\\ntime       census_tract_2010                                     \n2018-01-31 53001950100               2493     2226         286   \n           53001950200               1705     1555         162   \n           53001950300               6884     3913         252   \n           53001950400               3399     2347         173   \n           53001950500               4971     3440         119   \n...                                   ...      ...         ...   \n2022-09-30 53077940002               4731     2076         146   \n           53077940003               3542     1637         283   \n           53077940004               6124     3289         111   \n           53077940005               4727     2843         155   \n           53077940006               4614     2537          78   \n\n                              n_workers_16plus  n_drove_alone  median_hh_inc  \\\ntime       census_tract_2010                                                   \n2018-01-31 53001950100                    1119            854          47813   \n           53001950200                     666            443          49261   \n           53001950300                    2508           1820          44107   \n           53001950400                    1304            908          47036   \n           53001950500                    2073           1522          54223   \n...                                        ...            ...            ...   \n2022-09-30 53077940002                    1455           1266          51950   \n           53077940003                    1180            984          51151   \n           53077940004                    2395           1759          43721   \n           53077940005                    1782           1351          54397   \n           53077940006                    1953           1432          51116   \n\n                              n_units_tot  n_units_1detached  \\\ntime       census_tract_2010                                   \n2018-01-31 53001950100               1187                974   \n           53001950200                807                640   \n           53001950300               1949                811   \n           53001950400               1020                607   \n           53001950500               1564               1121   \n...                                   ...                ...   \n2022-09-30 53077940002               1323               1051   \n           53077940003               1112                772   \n           53077940004               1786               1186   \n           53077940005               1412               1037   \n           53077940006               1215                952   \n\n                              n_units_1attached  \ntime       census_tract_2010                     \n2018-01-31 53001950100                       11  \n           53001950200                        5  \n           53001950300                       12  \n           53001950400                       69  \n           53001950500                       26  \n...                                         ...  \n2022-09-30 53077940002                       38  \n           53077940003                        5  \n           53077940004                       44  \n           53077940005                       23  \n           53077940006                       14  \n\n[83049 rows x 34 columns]",
      "text/html": "<div>\n<style scoped>\n    .dataframe tbody tr th:only-of-type {\n        vertical-align: middle;\n    }\n\n    .dataframe tbody tr th {\n        vertical-align: top;\n    }\n\n    .dataframe thead th {\n        text-align: right;\n    }\n</style>\n<table border=\"1\" class=\"dataframe\">\n  <thead>\n    <tr style=\"text-align: right;\">\n      <th></th>\n      <th></th>\n      <th>county</th>\n      <th>zip_code</th>\n      <th>countyFIPS</th>\n      <th>n_ev</th>\n      <th>n_bev</th>\n      <th>n_phev</th>\n      <th>n_ev_new_sales</th>\n      <th>n_bev_new_sales</th>\n      <th>n_phev_new_sales</th>\n      <th>n_ev_used_sales</th>\n      <th>...</th>\n      <th>n_evse</th>\n      <th>n_total_pop</th>\n      <th>n_white</th>\n      <th>n_bachelor</th>\n      <th>n_workers_16plus</th>\n      <th>n_drove_alone</th>\n      <th>median_hh_inc</th>\n      <th>n_units_tot</th>\n      <th>n_units_1detached</th>\n      <th>n_units_1attached</th>\n    </tr>\n    <tr>\n      <th>time</th>\n      <th>census_tract_2010</th>\n      <th></th>\n      <th></th>\n      <th></th>\n      <th></th>\n      <th></th>\n      <th></th>\n      <th></th>\n      <th></th>\n      <th></th>\n      <th></th>\n      <th></th>\n      <th></th>\n      <th></th>\n      <th></th>\n      <th></th>\n      <th></th>\n      <th></th>\n      <th></th>\n      <th></th>\n      <th></th>\n      <th></th>\n    </tr>\n  </thead>\n  <tbody>\n    <tr>\n      <th rowspan=\"5\" valign=\"top\">2018-01-31</th>\n      <th>53001950100</th>\n      <td>Adams</td>\n      <td>99169</td>\n      <td>53001</td>\n      <td>8</td>\n      <td>4</td>\n      <td>4</td>\n      <td>8</td>\n      <td>4</td>\n      <td>4</td>\n      <td>8</td>\n      <td>...</td>\n      <td>1</td>\n      <td>2493</td>\n      <td>2226</td>\n      <td>286</td>\n      <td>1119</td>\n      <td>854</td>\n      <td>47813</td>\n      <td>1187</td>\n      <td>974</td>\n      <td>11</td>\n    </tr>\n    <tr>\n      <th>53001950200</th>\n      <td>Adams</td>\n      <td>99371</td>\n      <td>53001</td>\n      <td>0</td>\n      <td>0</td>\n      <td>0</td>\n      <td>0</td>\n      <td>0</td>\n      <td>0</td>\n      <td>0</td>\n      <td>...</td>\n      <td>0</td>\n      <td>1705</td>\n      <td>1555</td>\n      <td>162</td>\n      <td>666</td>\n      <td>443</td>\n      <td>49261</td>\n      <td>807</td>\n      <td>640</td>\n      <td>5</td>\n    </tr>\n    <tr>\n      <th>53001950300</th>\n      <td>Adams</td>\n      <td>99344</td>\n      <td>53001</td>\n      <td>6</td>\n      <td>0</td>\n      <td>6</td>\n      <td>6</td>\n      <td>0</td>\n      <td>6</td>\n      <td>6</td>\n      <td>...</td>\n      <td>0</td>\n      <td>6884</td>\n      <td>3913</td>\n      <td>252</td>\n      <td>2508</td>\n      <td>1820</td>\n      <td>44107</td>\n      <td>1949</td>\n      <td>811</td>\n      <td>12</td>\n    </tr>\n    <tr>\n      <th>53001950400</th>\n      <td>Adams</td>\n      <td>99344</td>\n      <td>53001</td>\n      <td>0</td>\n      <td>0</td>\n      <td>0</td>\n      <td>0</td>\n      <td>0</td>\n      <td>0</td>\n      <td>0</td>\n      <td>...</td>\n      <td>0</td>\n      <td>3399</td>\n      <td>2347</td>\n      <td>173</td>\n      <td>1304</td>\n      <td>908</td>\n      <td>47036</td>\n      <td>1020</td>\n      <td>607</td>\n      <td>69</td>\n    </tr>\n    <tr>\n      <th>53001950500</th>\n      <td>Adams</td>\n      <td>99344</td>\n      <td>53001</td>\n      <td>3</td>\n      <td>3</td>\n      <td>0</td>\n      <td>3</td>\n      <td>3</td>\n      <td>0</td>\n      <td>3</td>\n      <td>...</td>\n      <td>0</td>\n      <td>4971</td>\n      <td>3440</td>\n      <td>119</td>\n      <td>2073</td>\n      <td>1522</td>\n      <td>54223</td>\n      <td>1564</td>\n      <td>1121</td>\n      <td>26</td>\n    </tr>\n    <tr>\n      <th>...</th>\n      <th>...</th>\n      <td>...</td>\n      <td>...</td>\n      <td>...</td>\n      <td>...</td>\n      <td>...</td>\n      <td>...</td>\n      <td>...</td>\n      <td>...</td>\n      <td>...</td>\n      <td>...</td>\n      <td>...</td>\n      <td>...</td>\n      <td>...</td>\n      <td>...</td>\n      <td>...</td>\n      <td>...</td>\n      <td>...</td>\n      <td>...</td>\n      <td>...</td>\n      <td>...</td>\n      <td>...</td>\n    </tr>\n    <tr>\n      <th rowspan=\"5\" valign=\"top\">2022-09-30</th>\n      <th>53077940002</th>\n      <td>Yakima</td>\n      <td>98948</td>\n      <td>53077</td>\n      <td>6</td>\n      <td>4</td>\n      <td>2</td>\n      <td>6</td>\n      <td>4</td>\n      <td>2</td>\n      <td>6</td>\n      <td>...</td>\n      <td>0</td>\n      <td>4731</td>\n      <td>2076</td>\n      <td>146</td>\n      <td>1455</td>\n      <td>1266</td>\n      <td>51950</td>\n      <td>1323</td>\n      <td>1051</td>\n      <td>38</td>\n    </tr>\n    <tr>\n      <th>53077940003</th>\n      <td>Yakima</td>\n      <td>98903</td>\n      <td>53077</td>\n      <td>6</td>\n      <td>2</td>\n      <td>4</td>\n      <td>6</td>\n      <td>2</td>\n      <td>4</td>\n      <td>6</td>\n      <td>...</td>\n      <td>0</td>\n      <td>3542</td>\n      <td>1637</td>\n      <td>283</td>\n      <td>1180</td>\n      <td>984</td>\n      <td>51151</td>\n      <td>1112</td>\n      <td>772</td>\n      <td>5</td>\n    </tr>\n    <tr>\n      <th>53077940004</th>\n      <td>Yakima</td>\n      <td>98951</td>\n      <td>53077</td>\n      <td>2</td>\n      <td>2</td>\n      <td>0</td>\n      <td>2</td>\n      <td>2</td>\n      <td>0</td>\n      <td>2</td>\n      <td>...</td>\n      <td>2</td>\n      <td>6124</td>\n      <td>3289</td>\n      <td>111</td>\n      <td>2395</td>\n      <td>1759</td>\n      <td>43721</td>\n      <td>1786</td>\n      <td>1186</td>\n      <td>44</td>\n    </tr>\n    <tr>\n      <th>53077940005</th>\n      <td>Yakima</td>\n      <td>98948</td>\n      <td>53077</td>\n      <td>2</td>\n      <td>2</td>\n      <td>0</td>\n      <td>2</td>\n      <td>2</td>\n      <td>0</td>\n      <td>2</td>\n      <td>...</td>\n      <td>0</td>\n      <td>4727</td>\n      <td>2843</td>\n      <td>155</td>\n      <td>1782</td>\n      <td>1351</td>\n      <td>54397</td>\n      <td>1412</td>\n      <td>1037</td>\n      <td>23</td>\n    </tr>\n    <tr>\n      <th>53077940006</th>\n      <td>Yakima</td>\n      <td>98948</td>\n      <td>53077</td>\n      <td>2</td>\n      <td>2</td>\n      <td>0</td>\n      <td>2</td>\n      <td>2</td>\n      <td>0</td>\n      <td>2</td>\n      <td>...</td>\n      <td>0</td>\n      <td>4614</td>\n      <td>2537</td>\n      <td>78</td>\n      <td>1953</td>\n      <td>1432</td>\n      <td>51116</td>\n      <td>1215</td>\n      <td>952</td>\n      <td>14</td>\n    </tr>\n  </tbody>\n</table>\n<p>83049 rows × 34 columns</p>\n</div>"
     },
     "execution_count": 29,
     "metadata": {},
     "output_type": "execute_result"
    }
   ],
   "source": [
    "df"
   ],
   "metadata": {
    "collapsed": false
   }
  },
  {
   "cell_type": "code",
   "execution_count": 30,
   "id": "5afbb25d",
   "metadata": {},
   "outputs": [],
   "source": [
    "#TODO: drop the one 2010 census tract that has not been mapped to\n",
    "# df.drop(...)\n",
    "#save resulting dataframe as csv file\n",
    "# df.to_csv(\"data/data.csv\")\n",
    "# df.to_csv(\"data/data_no_census.csv\")\n",
    "# df.to_csv(\"data/data_2011_to_2022.csv\")\n",
    "df.to_csv(\"data/data__2018_to_2022.csv\")"
   ]
  },
  {
   "cell_type": "code",
   "execution_count": null,
   "id": "49ea0194",
   "metadata": {},
   "outputs": [],
   "source": []
  },
  {
   "cell_type": "code",
   "execution_count": 49,
   "outputs": [
    {
     "data": {
      "text/plain": "              time  census_tract_2010  county  zip_code  n_ev  n_bev  n_phev  \\\n0       2011-01-31        53001950100   Adams   99169.0     0      0       0   \n1       2011-01-31        53001950200   Adams   99371.0     0      0       0   \n2       2011-01-31        53001950300   Adams   99344.0     0      0       0   \n3       2011-01-31        53001950400   Adams   99344.0     0      0       0   \n4       2011-01-31        53001950500   Adams   99344.0     0      0       0   \n...            ...                ...     ...       ...   ...    ...     ...   \n205432  2022-09-30        53077940002  Yakima   98948.0     6      4       2   \n205433  2022-09-30        53077940003  Yakima   98903.0     4      1       3   \n205434  2022-09-30        53077940004  Yakima   98951.0     2      2       0   \n205435  2022-09-30        53077940005  Yakima   98948.0     1      1       0   \n205436  2022-09-30        53077940006  Yakima   98948.0     2      2       0   \n\n        m_ev  m_bev  m_phev  ...  n_evse  n_total_pop  n_white  n_bachelor  \\\n0          7      6       1  ...       0         2554     2376         147   \n1          7      6       1  ...       0         1644     1385         225   \n2          7      6       1  ...       0         6704     3376         153   \n3          7      6       1  ...       0         2839     1829         158   \n4          7      6       1  ...       0         4548     2350         100   \n...      ...    ...     ...  ...     ...          ...      ...         ...   \n205432   121     60      64  ...       0         4731     2076         146   \n205433   121     60      64  ...       0         3542     1637         283   \n205434   121     60      64  ...       2         6124     3289         111   \n205435   121     60      64  ...       0         4727     2843         155   \n205436   121     60      64  ...       0         4614     2537          78   \n\n        n_workers_16plus  n_drove_alone  median_hh_inc  n_units_tot  \\\n0                   1005            698        43575.0         1132   \n1                    702            503        40395.0          828   \n2                   2434           1848        42393.0         1854   \n3                   1061            665        41821.0          870   \n4                   1629           1248        35305.0         1526   \n...                  ...            ...            ...          ...   \n205432              1455           1266        51950.0         1323   \n205433              1180            984        51151.0         1112   \n205434              2395           1759        43721.0         1786   \n205435              1782           1351        54397.0         1412   \n205436              1953           1432        51116.0         1215   \n\n        n_units_1detached  n_units_1attached  \n0                     884                 37  \n1                     656                  0  \n2                     646                  0  \n3                     514                 28  \n4                    1082                 27  \n...                   ...                ...  \n205432               1051                 38  \n205433                772                  5  \n205434               1186                 44  \n205435               1037                 23  \n205436                952                 14  \n\n[205437 rows x 22 columns]",
      "text/html": "<div>\n<style scoped>\n    .dataframe tbody tr th:only-of-type {\n        vertical-align: middle;\n    }\n\n    .dataframe tbody tr th {\n        vertical-align: top;\n    }\n\n    .dataframe thead th {\n        text-align: right;\n    }\n</style>\n<table border=\"1\" class=\"dataframe\">\n  <thead>\n    <tr style=\"text-align: right;\">\n      <th></th>\n      <th>time</th>\n      <th>census_tract_2010</th>\n      <th>county</th>\n      <th>zip_code</th>\n      <th>n_ev</th>\n      <th>n_bev</th>\n      <th>n_phev</th>\n      <th>m_ev</th>\n      <th>m_bev</th>\n      <th>m_phev</th>\n      <th>...</th>\n      <th>n_evse</th>\n      <th>n_total_pop</th>\n      <th>n_white</th>\n      <th>n_bachelor</th>\n      <th>n_workers_16plus</th>\n      <th>n_drove_alone</th>\n      <th>median_hh_inc</th>\n      <th>n_units_tot</th>\n      <th>n_units_1detached</th>\n      <th>n_units_1attached</th>\n    </tr>\n  </thead>\n  <tbody>\n    <tr>\n      <th>0</th>\n      <td>2011-01-31</td>\n      <td>53001950100</td>\n      <td>Adams</td>\n      <td>99169.0</td>\n      <td>0</td>\n      <td>0</td>\n      <td>0</td>\n      <td>7</td>\n      <td>6</td>\n      <td>1</td>\n      <td>...</td>\n      <td>0</td>\n      <td>2554</td>\n      <td>2376</td>\n      <td>147</td>\n      <td>1005</td>\n      <td>698</td>\n      <td>43575.0</td>\n      <td>1132</td>\n      <td>884</td>\n      <td>37</td>\n    </tr>\n    <tr>\n      <th>1</th>\n      <td>2011-01-31</td>\n      <td>53001950200</td>\n      <td>Adams</td>\n      <td>99371.0</td>\n      <td>0</td>\n      <td>0</td>\n      <td>0</td>\n      <td>7</td>\n      <td>6</td>\n      <td>1</td>\n      <td>...</td>\n      <td>0</td>\n      <td>1644</td>\n      <td>1385</td>\n      <td>225</td>\n      <td>702</td>\n      <td>503</td>\n      <td>40395.0</td>\n      <td>828</td>\n      <td>656</td>\n      <td>0</td>\n    </tr>\n    <tr>\n      <th>2</th>\n      <td>2011-01-31</td>\n      <td>53001950300</td>\n      <td>Adams</td>\n      <td>99344.0</td>\n      <td>0</td>\n      <td>0</td>\n      <td>0</td>\n      <td>7</td>\n      <td>6</td>\n      <td>1</td>\n      <td>...</td>\n      <td>0</td>\n      <td>6704</td>\n      <td>3376</td>\n      <td>153</td>\n      <td>2434</td>\n      <td>1848</td>\n      <td>42393.0</td>\n      <td>1854</td>\n      <td>646</td>\n      <td>0</td>\n    </tr>\n    <tr>\n      <th>3</th>\n      <td>2011-01-31</td>\n      <td>53001950400</td>\n      <td>Adams</td>\n      <td>99344.0</td>\n      <td>0</td>\n      <td>0</td>\n      <td>0</td>\n      <td>7</td>\n      <td>6</td>\n      <td>1</td>\n      <td>...</td>\n      <td>0</td>\n      <td>2839</td>\n      <td>1829</td>\n      <td>158</td>\n      <td>1061</td>\n      <td>665</td>\n      <td>41821.0</td>\n      <td>870</td>\n      <td>514</td>\n      <td>28</td>\n    </tr>\n    <tr>\n      <th>4</th>\n      <td>2011-01-31</td>\n      <td>53001950500</td>\n      <td>Adams</td>\n      <td>99344.0</td>\n      <td>0</td>\n      <td>0</td>\n      <td>0</td>\n      <td>7</td>\n      <td>6</td>\n      <td>1</td>\n      <td>...</td>\n      <td>0</td>\n      <td>4548</td>\n      <td>2350</td>\n      <td>100</td>\n      <td>1629</td>\n      <td>1248</td>\n      <td>35305.0</td>\n      <td>1526</td>\n      <td>1082</td>\n      <td>27</td>\n    </tr>\n    <tr>\n      <th>...</th>\n      <td>...</td>\n      <td>...</td>\n      <td>...</td>\n      <td>...</td>\n      <td>...</td>\n      <td>...</td>\n      <td>...</td>\n      <td>...</td>\n      <td>...</td>\n      <td>...</td>\n      <td>...</td>\n      <td>...</td>\n      <td>...</td>\n      <td>...</td>\n      <td>...</td>\n      <td>...</td>\n      <td>...</td>\n      <td>...</td>\n      <td>...</td>\n      <td>...</td>\n      <td>...</td>\n    </tr>\n    <tr>\n      <th>205432</th>\n      <td>2022-09-30</td>\n      <td>53077940002</td>\n      <td>Yakima</td>\n      <td>98948.0</td>\n      <td>6</td>\n      <td>4</td>\n      <td>2</td>\n      <td>121</td>\n      <td>60</td>\n      <td>64</td>\n      <td>...</td>\n      <td>0</td>\n      <td>4731</td>\n      <td>2076</td>\n      <td>146</td>\n      <td>1455</td>\n      <td>1266</td>\n      <td>51950.0</td>\n      <td>1323</td>\n      <td>1051</td>\n      <td>38</td>\n    </tr>\n    <tr>\n      <th>205433</th>\n      <td>2022-09-30</td>\n      <td>53077940003</td>\n      <td>Yakima</td>\n      <td>98903.0</td>\n      <td>4</td>\n      <td>1</td>\n      <td>3</td>\n      <td>121</td>\n      <td>60</td>\n      <td>64</td>\n      <td>...</td>\n      <td>0</td>\n      <td>3542</td>\n      <td>1637</td>\n      <td>283</td>\n      <td>1180</td>\n      <td>984</td>\n      <td>51151.0</td>\n      <td>1112</td>\n      <td>772</td>\n      <td>5</td>\n    </tr>\n    <tr>\n      <th>205434</th>\n      <td>2022-09-30</td>\n      <td>53077940004</td>\n      <td>Yakima</td>\n      <td>98951.0</td>\n      <td>2</td>\n      <td>2</td>\n      <td>0</td>\n      <td>121</td>\n      <td>60</td>\n      <td>64</td>\n      <td>...</td>\n      <td>2</td>\n      <td>6124</td>\n      <td>3289</td>\n      <td>111</td>\n      <td>2395</td>\n      <td>1759</td>\n      <td>43721.0</td>\n      <td>1786</td>\n      <td>1186</td>\n      <td>44</td>\n    </tr>\n    <tr>\n      <th>205435</th>\n      <td>2022-09-30</td>\n      <td>53077940005</td>\n      <td>Yakima</td>\n      <td>98948.0</td>\n      <td>1</td>\n      <td>1</td>\n      <td>0</td>\n      <td>121</td>\n      <td>60</td>\n      <td>64</td>\n      <td>...</td>\n      <td>0</td>\n      <td>4727</td>\n      <td>2843</td>\n      <td>155</td>\n      <td>1782</td>\n      <td>1351</td>\n      <td>54397.0</td>\n      <td>1412</td>\n      <td>1037</td>\n      <td>23</td>\n    </tr>\n    <tr>\n      <th>205436</th>\n      <td>2022-09-30</td>\n      <td>53077940006</td>\n      <td>Yakima</td>\n      <td>98948.0</td>\n      <td>2</td>\n      <td>2</td>\n      <td>0</td>\n      <td>121</td>\n      <td>60</td>\n      <td>64</td>\n      <td>...</td>\n      <td>0</td>\n      <td>4614</td>\n      <td>2537</td>\n      <td>78</td>\n      <td>1953</td>\n      <td>1432</td>\n      <td>51116.0</td>\n      <td>1215</td>\n      <td>952</td>\n      <td>14</td>\n    </tr>\n  </tbody>\n</table>\n<p>205437 rows × 22 columns</p>\n</div>"
     },
     "execution_count": 49,
     "metadata": {},
     "output_type": "execute_result"
    }
   ],
   "source": [
    "#investigations\n",
    "df = pd.read_csv(\"data/data_2011_to_2022.csv\")#, index_col=[\"time\", \"census_tract_2010\"])\n",
    "# df = pd.read_csv(\"data/data_2011_to_2022_R.csv\")#, index_col=[\"time\", \"census_tract_2010\"])\n",
    "df"
   ],
   "metadata": {
    "collapsed": false
   }
  },
  {
   "cell_type": "code",
   "execution_count": 31,
   "outputs": [
    {
     "data": {
      "text/plain": "1442"
     },
     "execution_count": 31,
     "metadata": {},
     "output_type": "execute_result"
    }
   ],
   "source": [
    "to_exclude = set([*census_tracts_2010_0n_veh, *census_tracts_2010_less_than_100n_veh, *census_tracts_2010_missing_ACS_data])\n",
    "census_tracts_2010_2 = [x for x in census_tracts_2010 if x not in to_exclude]\n",
    "# census_tracts_2010_2 = [x for x in census_tracts_2010 if x not in census_tracts_2010_0n_veh]\n",
    "# census_tracts_2010_2 = [x for x in census_tracts_2010 if x not in census_tracts_2010_0n_veh]\n",
    "len(census_tracts_2010_2)"
   ],
   "metadata": {
    "collapsed": false
   }
  },
  {
   "cell_type": "code",
   "execution_count": 51,
   "outputs": [
    {
     "name": "stdout",
     "output_type": "stream",
     "text": [
      "53009000200 0\n"
     ]
    },
    {
     "data": {
      "text/plain": "1"
     },
     "execution_count": 51,
     "metadata": {},
     "output_type": "execute_result"
    }
   ],
   "source": [
    "c = 0\n",
    "for census_tract_2010 in census_tracts_2010:\n",
    "    times_for_tract = df.loc[df[\"census_tract_2010\"] == census_tract_2010]\n",
    "    n_times = len(times_for_tract)\n",
    "    if n_times != 141:\n",
    "        print(census_tract_2010, n_times)\n",
    "        # print(n_times, \"\", end=\"\")\n",
    "        c += 1\n",
    "    # print()\n",
    "c"
   ],
   "metadata": {
    "collapsed": false
   }
  },
  {
   "cell_type": "code",
   "execution_count": 50,
   "outputs": [
    {
     "data": {
      "text/plain": "1457"
     },
     "execution_count": 50,
     "metadata": {},
     "output_type": "execute_result"
    }
   ],
   "source": [
    "len(df[\"census_tract_2010\"].unique())\n",
    "# len(census_tracts_2010)"
   ],
   "metadata": {
    "collapsed": false
   }
  },
  {
   "cell_type": "code",
   "execution_count": 59,
   "outputs": [],
   "source": [
    "preds = pd.read_csv(\"results/preds.csv\")\n",
    "res = pd.read_csv(\"results/res.csv\")\n",
    "preds = preds.rename(columns={\"Unnamed: 0\" : \"tract-time\"})\n",
    "res = res.rename(columns={\"Unnamed: 0\" : \"tract-time\"})\n",
    "preds = preds.set_index(\"tract-time\")\n",
    "res = res.set_index(\"tract-time\")"
   ],
   "metadata": {
    "collapsed": false
   }
  },
  {
   "cell_type": "code",
   "execution_count": 60,
   "outputs": [
    {
     "data": {
      "text/plain": "                               x\ntract-time                      \n53001950100-2011-01-31  1.884832\n53001950100-2011-02-28  1.850987\n53001950100-2011-03-31  1.822081\n53001950100-2011-04-30  1.716856\n53001950100-2011-05-31  1.536090\n...                          ...\n53077940006-2022-05-31  0.372868\n53077940006-2022-06-30  0.362798\n53077940006-2022-07-31  0.324819\n53077940006-2022-08-31  0.292269\n53077940006-2022-09-30  0.273078\n\n[202965 rows x 1 columns]",
      "text/html": "<div>\n<style scoped>\n    .dataframe tbody tr th:only-of-type {\n        vertical-align: middle;\n    }\n\n    .dataframe tbody tr th {\n        vertical-align: top;\n    }\n\n    .dataframe thead th {\n        text-align: right;\n    }\n</style>\n<table border=\"1\" class=\"dataframe\">\n  <thead>\n    <tr style=\"text-align: right;\">\n      <th></th>\n      <th>x</th>\n    </tr>\n    <tr>\n      <th>tract-time</th>\n      <th></th>\n    </tr>\n  </thead>\n  <tbody>\n    <tr>\n      <th>53001950100-2011-01-31</th>\n      <td>1.884832</td>\n    </tr>\n    <tr>\n      <th>53001950100-2011-02-28</th>\n      <td>1.850987</td>\n    </tr>\n    <tr>\n      <th>53001950100-2011-03-31</th>\n      <td>1.822081</td>\n    </tr>\n    <tr>\n      <th>53001950100-2011-04-30</th>\n      <td>1.716856</td>\n    </tr>\n    <tr>\n      <th>53001950100-2011-05-31</th>\n      <td>1.536090</td>\n    </tr>\n    <tr>\n      <th>...</th>\n      <td>...</td>\n    </tr>\n    <tr>\n      <th>53077940006-2022-05-31</th>\n      <td>0.372868</td>\n    </tr>\n    <tr>\n      <th>53077940006-2022-06-30</th>\n      <td>0.362798</td>\n    </tr>\n    <tr>\n      <th>53077940006-2022-07-31</th>\n      <td>0.324819</td>\n    </tr>\n    <tr>\n      <th>53077940006-2022-08-31</th>\n      <td>0.292269</td>\n    </tr>\n    <tr>\n      <th>53077940006-2022-09-30</th>\n      <td>0.273078</td>\n    </tr>\n  </tbody>\n</table>\n<p>202965 rows × 1 columns</p>\n</div>"
     },
     "execution_count": 60,
     "metadata": {},
     "output_type": "execute_result"
    }
   ],
   "source": [
    "res"
   ],
   "metadata": {
    "collapsed": false
   }
  },
  {
   "cell_type": "code",
   "execution_count": 66,
   "outputs": [
    {
     "name": "stdout",
     "output_type": "stream",
     "text": [
      "53033005302-2015-01-31\n",
      "53033005302-2015-02-28\n",
      "53033005302-2015-03-31\n",
      "53033005302-2015-04-30\n",
      "53033005302-2015-05-31\n",
      "53033005302-2015-06-30\n",
      "53033005302-2015-07-31\n",
      "53033005302-2015-08-31\n",
      "53033005302-2015-09-30\n",
      "53033005302-2015-10-31\n",
      "53033005302-2015-11-30\n",
      "53033005302-2015-12-31\n",
      "53033005302-2018-01-31\n",
      "53033005302-2018-02-28\n",
      "53033005302-2018-03-31\n",
      "53033005302-2018-04-30\n",
      "53033005302-2018-05-31\n",
      "53033005302-2018-06-30\n",
      "53033005302-2018-07-31\n",
      "53033005302-2018-08-31\n",
      "53033005302-2018-09-30\n",
      "53033005302-2018-10-31\n",
      "53033005302-2018-11-30\n",
      "53033005302-2018-12-31\n",
      "53033005302-2020-01-31\n",
      "53033005302-2020-02-29\n",
      "53033005302-2020-03-31\n",
      "53033005302-2020-04-30\n",
      "53033005302-2020-05-31\n",
      "53033005302-2020-06-30\n",
      "53033005302-2020-07-31\n",
      "53033005302-2020-08-31\n",
      "53033005302-2020-09-30\n",
      "53033005302-2020-10-31\n",
      "53033005302-2020-11-30\n",
      "53033005302-2020-12-31\n",
      "53033005302-2021-01-31\n",
      "53033005302-2021-02-28\n",
      "53033005302-2021-03-31\n",
      "53033005302-2021-04-30\n",
      "53033005302-2021-05-31\n",
      "53033005302-2021-06-30\n",
      "53033005302-2021-07-31\n",
      "53033005302-2021-08-31\n",
      "53033005302-2021-09-30\n",
      "53033005302-2021-10-31\n",
      "53033005302-2021-11-30\n",
      "53033005302-2021-12-31\n",
      "53033005302-2022-01-31\n",
      "53033005302-2022-02-28\n",
      "53033005302-2022-03-31\n",
      "53033005302-2022-04-30\n",
      "53033005302-2022-05-31\n",
      "53033005302-2022-06-30\n",
      "53033005302-2022-07-31\n",
      "53033005302-2022-08-31\n",
      "53033005302-2022-09-30\n",
      "53035081400-2017-01-31\n",
      "53035081400-2017-02-28\n",
      "53035081400-2017-03-31\n",
      "53035081400-2017-04-30\n",
      "53035081400-2017-05-31\n",
      "53035081400-2017-06-30\n",
      "53035081400-2017-07-31\n",
      "53035081400-2017-08-31\n",
      "53035081400-2017-09-30\n",
      "53035081400-2017-10-31\n",
      "53035081400-2017-11-30\n",
      "53035081400-2017-12-31\n",
      "53035081400-2018-01-31\n",
      "53035081400-2018-02-28\n",
      "53035081400-2018-03-31\n",
      "53035081400-2018-04-30\n",
      "53035081400-2018-05-31\n",
      "53035081400-2018-06-30\n",
      "53035081400-2018-07-31\n",
      "53035081400-2018-08-31\n",
      "53035081400-2018-09-30\n",
      "53035081400-2018-10-31\n",
      "53035081400-2018-11-30\n",
      "53035081400-2018-12-31\n",
      "53035081400-2019-01-31\n",
      "53035081400-2019-02-28\n",
      "53035081400-2019-03-31\n",
      "53035081400-2019-04-30\n",
      "53035081400-2019-05-31\n",
      "53035081400-2019-06-30\n",
      "53035081400-2019-07-31\n",
      "53035081400-2019-08-31\n",
      "53035081400-2019-09-30\n",
      "53035081400-2019-10-31\n",
      "53035081400-2019-11-30\n",
      "53035081400-2019-12-31\n",
      "53035081400-2020-01-31\n",
      "53035081400-2020-02-29\n",
      "53035081400-2020-03-31\n",
      "53035081400-2020-04-30\n",
      "53035081400-2020-05-31\n",
      "53035081400-2020-06-30\n",
      "53035081400-2020-07-31\n",
      "53035081400-2020-08-31\n",
      "53035081400-2020-09-30\n",
      "53035081400-2020-10-31\n",
      "53035081400-2020-11-30\n",
      "53035081400-2020-12-31\n",
      "53035081400-2021-01-31\n",
      "53035081400-2021-02-28\n",
      "53035081400-2021-03-31\n",
      "53035081400-2021-04-30\n",
      "53035081400-2021-05-31\n",
      "53035081400-2021-06-30\n",
      "53035081400-2021-07-31\n",
      "53035081400-2021-08-31\n",
      "53035081400-2021-09-30\n",
      "53035081400-2021-10-31\n",
      "53035081400-2021-11-30\n",
      "53035081400-2021-12-31\n",
      "53035081400-2022-01-31\n",
      "53035081400-2022-02-28\n",
      "53035081400-2022-03-31\n",
      "53035081400-2022-04-30\n",
      "53035081400-2022-05-31\n",
      "53035081400-2022-06-30\n",
      "53035081400-2022-07-31\n",
      "53035081400-2022-08-31\n",
      "53035081400-2022-09-30\n",
      "53037975401-2020-01-31\n",
      "53037975401-2020-02-29\n",
      "53037975401-2020-03-31\n",
      "53037975401-2020-04-30\n",
      "53037975401-2020-05-31\n",
      "53037975401-2020-06-30\n",
      "53037975401-2020-07-31\n",
      "53037975401-2020-08-31\n",
      "53037975401-2020-09-30\n",
      "53037975401-2020-10-31\n",
      "53037975401-2020-11-30\n",
      "53037975401-2020-12-31\n",
      "53037975401-2021-01-31\n",
      "53037975401-2021-02-28\n",
      "53037975401-2021-03-31\n",
      "53037975401-2021-04-30\n",
      "53037975401-2021-05-31\n",
      "53037975401-2021-06-30\n",
      "53037975401-2021-07-31\n",
      "53037975401-2021-08-31\n",
      "53037975401-2021-09-30\n",
      "53037975401-2021-10-31\n",
      "53037975401-2021-11-30\n",
      "53037975401-2021-12-31\n",
      "53037975401-2022-01-31\n",
      "53037975401-2022-02-28\n",
      "53037975401-2022-03-31\n",
      "53037975401-2022-04-30\n",
      "53037975401-2022-05-31\n",
      "53037975401-2022-06-30\n",
      "53037975401-2022-07-31\n",
      "53037975401-2022-08-31\n",
      "53037975401-2022-09-30\n",
      "53053072906-2018-01-31\n",
      "53053072906-2018-02-28\n",
      "53053072906-2018-03-31\n",
      "53053072906-2018-04-30\n",
      "53053072906-2018-05-31\n",
      "53053072906-2018-06-30\n",
      "53053072906-2018-07-31\n",
      "53053072906-2018-08-31\n",
      "53053072906-2018-09-30\n",
      "53053072906-2018-10-31\n",
      "53053072906-2018-11-30\n",
      "53053072906-2018-12-31\n",
      "53053072906-2019-01-31\n",
      "53053072906-2019-02-28\n",
      "53053072906-2019-03-31\n",
      "53053072906-2019-04-30\n",
      "53053072906-2019-05-31\n",
      "53053072906-2019-06-30\n",
      "53053072906-2019-07-31\n",
      "53053072906-2019-08-31\n",
      "53053072906-2019-09-30\n",
      "53053072906-2019-10-31\n",
      "53053072906-2019-11-30\n",
      "53053072906-2019-12-31\n",
      "53053072906-2020-01-31\n",
      "53053072906-2020-02-29\n",
      "53053072906-2020-03-31\n",
      "53053072906-2020-04-30\n",
      "53053072906-2020-05-31\n",
      "53053072906-2020-06-30\n",
      "53053072906-2020-07-31\n",
      "53053072906-2020-08-31\n",
      "53053072906-2020-09-30\n",
      "53053072906-2020-10-31\n",
      "53053072906-2020-11-30\n",
      "53053072906-2020-12-31\n",
      "53053072906-2021-01-31\n",
      "53053072906-2021-02-28\n",
      "53053072906-2021-03-31\n",
      "53053072906-2021-04-30\n",
      "53053072906-2021-05-31\n",
      "53053072906-2021-06-30\n",
      "53053072906-2021-07-31\n",
      "53053072906-2021-08-31\n",
      "53053072906-2021-09-30\n",
      "53053072906-2021-10-31\n",
      "53053072906-2021-11-30\n",
      "53053072906-2021-12-31\n",
      "53053072906-2022-01-31\n",
      "53053072906-2022-02-28\n",
      "53053072906-2022-03-31\n",
      "53053072906-2022-04-30\n",
      "53053072906-2022-05-31\n",
      "53053072906-2022-06-30\n",
      "53053072906-2022-07-31\n",
      "53053072906-2022-08-31\n",
      "53053072906-2022-09-30\n"
     ]
    },
    {
     "data": {
      "text/plain": "216"
     },
     "execution_count": 66,
     "metadata": {},
     "output_type": "execute_result"
    }
   ],
   "source": [
    "#print tract-times that are in preds but not in res\n",
    "counter = 0\n",
    "l = []\n",
    "for i in preds.index:\n",
    "    if i not in res.index:\n",
    "        counter += 1\n",
    "        l += [i]\n",
    "        print(i)\n",
    "counter"
   ],
   "metadata": {
    "collapsed": false
   }
  },
  {
   "cell_type": "code",
   "execution_count": 70,
   "outputs": [
    {
     "data": {
      "text/plain": "['53033005302',\n '53033005302',\n '53033005302',\n '53033005302',\n '53033005302',\n '53033005302',\n '53033005302',\n '53033005302',\n '53033005302',\n '53033005302',\n '53033005302',\n '53033005302',\n '53033005302',\n '53033005302',\n '53033005302',\n '53033005302',\n '53033005302',\n '53033005302',\n '53033005302',\n '53033005302',\n '53033005302',\n '53033005302',\n '53033005302',\n '53033005302',\n '53033005302',\n '53033005302',\n '53033005302',\n '53033005302',\n '53033005302',\n '53033005302',\n '53033005302',\n '53033005302',\n '53033005302',\n '53033005302',\n '53033005302',\n '53033005302',\n '53033005302',\n '53033005302',\n '53033005302',\n '53033005302',\n '53033005302',\n '53033005302',\n '53033005302',\n '53033005302',\n '53033005302',\n '53033005302',\n '53033005302',\n '53033005302',\n '53033005302',\n '53033005302',\n '53033005302',\n '53033005302',\n '53033005302',\n '53033005302',\n '53033005302',\n '53033005302',\n '53033005302',\n '53035081400',\n '53035081400',\n '53035081400',\n '53035081400',\n '53035081400',\n '53035081400',\n '53035081400',\n '53035081400',\n '53035081400',\n '53035081400',\n '53035081400',\n '53035081400',\n '53035081400',\n '53035081400',\n '53035081400',\n '53035081400',\n '53035081400',\n '53035081400',\n '53035081400',\n '53035081400',\n '53035081400',\n '53035081400',\n '53035081400',\n '53035081400',\n '53035081400',\n '53035081400',\n '53035081400',\n '53035081400',\n '53035081400',\n '53035081400',\n '53035081400',\n '53035081400',\n '53035081400',\n '53035081400',\n '53035081400',\n '53035081400',\n '53035081400',\n '53035081400',\n '53035081400',\n '53035081400',\n '53035081400',\n '53035081400',\n '53035081400',\n '53035081400',\n '53035081400',\n '53035081400',\n '53035081400',\n '53035081400',\n '53035081400',\n '53035081400',\n '53035081400',\n '53035081400',\n '53035081400',\n '53035081400',\n '53035081400',\n '53035081400',\n '53035081400',\n '53035081400',\n '53035081400',\n '53035081400',\n '53035081400',\n '53035081400',\n '53035081400',\n '53035081400',\n '53035081400',\n '53035081400',\n '53035081400',\n '53035081400',\n '53035081400',\n '53037975401',\n '53037975401',\n '53037975401',\n '53037975401',\n '53037975401',\n '53037975401',\n '53037975401',\n '53037975401',\n '53037975401',\n '53037975401',\n '53037975401',\n '53037975401',\n '53037975401',\n '53037975401',\n '53037975401',\n '53037975401',\n '53037975401',\n '53037975401',\n '53037975401',\n '53037975401',\n '53037975401',\n '53037975401',\n '53037975401',\n '53037975401',\n '53037975401',\n '53037975401',\n '53037975401',\n '53037975401',\n '53037975401',\n '53037975401',\n '53037975401',\n '53037975401',\n '53037975401',\n '53053072906',\n '53053072906',\n '53053072906',\n '53053072906',\n '53053072906',\n '53053072906',\n '53053072906',\n '53053072906',\n '53053072906',\n '53053072906',\n '53053072906',\n '53053072906',\n '53053072906',\n '53053072906',\n '53053072906',\n '53053072906',\n '53053072906',\n '53053072906',\n '53053072906',\n '53053072906',\n '53053072906',\n '53053072906',\n '53053072906',\n '53053072906',\n '53053072906',\n '53053072906',\n '53053072906',\n '53053072906',\n '53053072906',\n '53053072906',\n '53053072906',\n '53053072906',\n '53053072906',\n '53053072906',\n '53053072906',\n '53053072906',\n '53053072906',\n '53053072906',\n '53053072906',\n '53053072906',\n '53053072906',\n '53053072906',\n '53053072906',\n '53053072906',\n '53053072906',\n '53053072906',\n '53053072906',\n '53053072906',\n '53053072906',\n '53053072906',\n '53053072906',\n '53053072906',\n '53053072906',\n '53053072906',\n '53053072906',\n '53053072906',\n '53053072906']"
     },
     "execution_count": 70,
     "metadata": {},
     "output_type": "execute_result"
    }
   ],
   "source": [
    "l = [j.split(\"-\")[0] for j in l]\n",
    "l"
   ],
   "metadata": {
    "collapsed": false
   }
  },
  {
   "cell_type": "code",
   "execution_count": 69,
   "outputs": [
    {
     "data": {
      "text/plain": "[['53033005302', 57],\n ['53037975401', 33],\n ['53053072906', 57],\n ['53035081400', 69]]"
     },
     "execution_count": 69,
     "metadata": {},
     "output_type": "execute_result"
    }
   ],
   "source": [
    "[[x,l.count(x)] for x in set(l)]"
   ],
   "metadata": {
    "collapsed": false
   }
  },
  {
   "cell_type": "code",
   "execution_count": null,
   "outputs": [],
   "source": [],
   "metadata": {
    "collapsed": false
   }
  }
 ],
 "metadata": {
  "kernelspec": {
   "display_name": "Python 3 (ipykernel)",
   "language": "python",
   "name": "python3"
  },
  "language_info": {
   "codemirror_mode": {
    "name": "ipython",
    "version": 3
   },
   "file_extension": ".py",
   "mimetype": "text/x-python",
   "name": "python",
   "nbconvert_exporter": "python",
   "pygments_lexer": "ipython3",
   "version": "3.8.8"
  }
 },
 "nbformat": 4,
 "nbformat_minor": 5
}
