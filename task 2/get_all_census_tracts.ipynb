{
 "cells": [
  {
   "cell_type": "code",
   "execution_count": null,
   "outputs": [],
   "source": [
    "# File to extract all census tracts in WA from the census data"
   ],
   "metadata": {
    "collapsed": false
   }
  },
  {
   "cell_type": "code",
   "execution_count": 1,
   "outputs": [],
   "source": [
    "import pandas as pd"
   ],
   "metadata": {
    "collapsed": false
   }
  },
  {
   "cell_type": "code",
   "execution_count": 15,
   "outputs": [],
   "source": [
    "year = 2020"
   ],
   "metadata": {
    "collapsed": false
   }
  },
  {
   "cell_type": "code",
   "execution_count": 16,
   "outputs": [
    {
     "data": {
      "text/plain": "      Unnamed: 0        GEOID  \\\n0              1  53001950100   \n1              2  53001950200   \n2              3  53001950301   \n3              4  53001950302   \n4              5  53001950303   \n...          ...          ...   \n1779        1780  53077940003   \n1780        1781  53077940005   \n1781        1782  53077940006   \n1782        1783  53077940007   \n1783        1784  53077940008   \n\n                                                 NAME  n_total_pop  n_white  \\\n0         Census Tract 9501, Adams County, Washington         2606     2285   \n1         Census Tract 9502, Adams County, Washington         1763     1275   \n2      Census Tract 9503.01, Adams County, Washington         1581      592   \n3      Census Tract 9503.02, Adams County, Washington         2434      829   \n4      Census Tract 9503.03, Adams County, Washington         2514     1438   \n...                                               ...          ...      ...   \n1779  Census Tract 9400.03, Yakima County, Washington         3542     1637   \n1780  Census Tract 9400.05, Yakima County, Washington         4727     2843   \n1781  Census Tract 9400.06, Yakima County, Washington         4614     2537   \n1782  Census Tract 9400.07, Yakima County, Washington         3880     2057   \n1783  Census Tract 9400.08, Yakima County, Washington         2244     1232   \n\n      n_bachelor  n_workers_16plus  n_drove_alone  median_hh_inc  n_units_tot  \\\n0            291              1048            699        52589.0         1240   \n1            184               761            574        59886.0          855   \n2             32               483            283        39928.0          522   \n3              0              1048            873        58884.0          644   \n4            123               880            722        50915.0          688   \n...          ...               ...            ...            ...          ...   \n1779         283              1180            984        51151.0         1112   \n1780         155              1782           1351        54397.0         1412   \n1781          78              1953           1432        51116.0         1215   \n1782          91              1579           1189        43721.0         1190   \n1783          20               816            570        43135.0          596   \n\n      n_units_1detached  n_units_1attached  \n0                   924                 29  \n1                   690                  4  \n2                   201                  0  \n3                   174                 12  \n4                   267                  0  \n...                 ...                ...  \n1779                772                  5  \n1780               1037                 23  \n1781                952                 14  \n1782                803                 44  \n1783                383                  0  \n\n[1784 rows x 12 columns]",
      "text/html": "<div>\n<style scoped>\n    .dataframe tbody tr th:only-of-type {\n        vertical-align: middle;\n    }\n\n    .dataframe tbody tr th {\n        vertical-align: top;\n    }\n\n    .dataframe thead th {\n        text-align: right;\n    }\n</style>\n<table border=\"1\" class=\"dataframe\">\n  <thead>\n    <tr style=\"text-align: right;\">\n      <th></th>\n      <th>Unnamed: 0</th>\n      <th>GEOID</th>\n      <th>NAME</th>\n      <th>n_total_pop</th>\n      <th>n_white</th>\n      <th>n_bachelor</th>\n      <th>n_workers_16plus</th>\n      <th>n_drove_alone</th>\n      <th>median_hh_inc</th>\n      <th>n_units_tot</th>\n      <th>n_units_1detached</th>\n      <th>n_units_1attached</th>\n    </tr>\n  </thead>\n  <tbody>\n    <tr>\n      <th>0</th>\n      <td>1</td>\n      <td>53001950100</td>\n      <td>Census Tract 9501, Adams County, Washington</td>\n      <td>2606</td>\n      <td>2285</td>\n      <td>291</td>\n      <td>1048</td>\n      <td>699</td>\n      <td>52589.0</td>\n      <td>1240</td>\n      <td>924</td>\n      <td>29</td>\n    </tr>\n    <tr>\n      <th>1</th>\n      <td>2</td>\n      <td>53001950200</td>\n      <td>Census Tract 9502, Adams County, Washington</td>\n      <td>1763</td>\n      <td>1275</td>\n      <td>184</td>\n      <td>761</td>\n      <td>574</td>\n      <td>59886.0</td>\n      <td>855</td>\n      <td>690</td>\n      <td>4</td>\n    </tr>\n    <tr>\n      <th>2</th>\n      <td>3</td>\n      <td>53001950301</td>\n      <td>Census Tract 9503.01, Adams County, Washington</td>\n      <td>1581</td>\n      <td>592</td>\n      <td>32</td>\n      <td>483</td>\n      <td>283</td>\n      <td>39928.0</td>\n      <td>522</td>\n      <td>201</td>\n      <td>0</td>\n    </tr>\n    <tr>\n      <th>3</th>\n      <td>4</td>\n      <td>53001950302</td>\n      <td>Census Tract 9503.02, Adams County, Washington</td>\n      <td>2434</td>\n      <td>829</td>\n      <td>0</td>\n      <td>1048</td>\n      <td>873</td>\n      <td>58884.0</td>\n      <td>644</td>\n      <td>174</td>\n      <td>12</td>\n    </tr>\n    <tr>\n      <th>4</th>\n      <td>5</td>\n      <td>53001950303</td>\n      <td>Census Tract 9503.03, Adams County, Washington</td>\n      <td>2514</td>\n      <td>1438</td>\n      <td>123</td>\n      <td>880</td>\n      <td>722</td>\n      <td>50915.0</td>\n      <td>688</td>\n      <td>267</td>\n      <td>0</td>\n    </tr>\n    <tr>\n      <th>...</th>\n      <td>...</td>\n      <td>...</td>\n      <td>...</td>\n      <td>...</td>\n      <td>...</td>\n      <td>...</td>\n      <td>...</td>\n      <td>...</td>\n      <td>...</td>\n      <td>...</td>\n      <td>...</td>\n      <td>...</td>\n    </tr>\n    <tr>\n      <th>1779</th>\n      <td>1780</td>\n      <td>53077940003</td>\n      <td>Census Tract 9400.03, Yakima County, Washington</td>\n      <td>3542</td>\n      <td>1637</td>\n      <td>283</td>\n      <td>1180</td>\n      <td>984</td>\n      <td>51151.0</td>\n      <td>1112</td>\n      <td>772</td>\n      <td>5</td>\n    </tr>\n    <tr>\n      <th>1780</th>\n      <td>1781</td>\n      <td>53077940005</td>\n      <td>Census Tract 9400.05, Yakima County, Washington</td>\n      <td>4727</td>\n      <td>2843</td>\n      <td>155</td>\n      <td>1782</td>\n      <td>1351</td>\n      <td>54397.0</td>\n      <td>1412</td>\n      <td>1037</td>\n      <td>23</td>\n    </tr>\n    <tr>\n      <th>1781</th>\n      <td>1782</td>\n      <td>53077940006</td>\n      <td>Census Tract 9400.06, Yakima County, Washington</td>\n      <td>4614</td>\n      <td>2537</td>\n      <td>78</td>\n      <td>1953</td>\n      <td>1432</td>\n      <td>51116.0</td>\n      <td>1215</td>\n      <td>952</td>\n      <td>14</td>\n    </tr>\n    <tr>\n      <th>1782</th>\n      <td>1783</td>\n      <td>53077940007</td>\n      <td>Census Tract 9400.07, Yakima County, Washington</td>\n      <td>3880</td>\n      <td>2057</td>\n      <td>91</td>\n      <td>1579</td>\n      <td>1189</td>\n      <td>43721.0</td>\n      <td>1190</td>\n      <td>803</td>\n      <td>44</td>\n    </tr>\n    <tr>\n      <th>1783</th>\n      <td>1784</td>\n      <td>53077940008</td>\n      <td>Census Tract 9400.08, Yakima County, Washington</td>\n      <td>2244</td>\n      <td>1232</td>\n      <td>20</td>\n      <td>816</td>\n      <td>570</td>\n      <td>43135.0</td>\n      <td>596</td>\n      <td>383</td>\n      <td>0</td>\n    </tr>\n  </tbody>\n</table>\n<p>1784 rows × 12 columns</p>\n</div>"
     },
     "execution_count": 16,
     "metadata": {},
     "output_type": "execute_result"
    }
   ],
   "source": [
    "df = pd.read_csv(\"data/census/all_acs_by_tract_%d.csv\"%year)\n",
    "df"
   ],
   "metadata": {
    "collapsed": false
   }
  },
  {
   "cell_type": "code",
   "execution_count": 12,
   "outputs": [
    {
     "name": "stdout",
     "output_type": "stream",
     "text": [
      "1458 1458\n"
     ]
    }
   ],
   "source": [
    "print(len(df[\"GEOID\"]), len(df[\"GEOID\"].unique()))"
   ],
   "metadata": {
    "collapsed": false
   }
  },
  {
   "cell_type": "code",
   "execution_count": 13,
   "outputs": [],
   "source": [
    "string = \"census_tracts = [\" + \", \".join(df[\"GEOID\"].astype(str).tolist()) + \"]\\n\"\n",
    "string\n",
    "with open(\"config/census_tracts_%d.py\"%year, \"w\") as fd:\n",
    "    fd.write(string)"
   ],
   "metadata": {
    "collapsed": false
   }
  },
  {
   "cell_type": "code",
   "execution_count": null,
   "outputs": [],
   "source": [],
   "metadata": {
    "collapsed": false
   }
  }
 ],
 "metadata": {
  "kernelspec": {
   "display_name": "Python 3",
   "language": "python",
   "name": "python3"
  },
  "language_info": {
   "codemirror_mode": {
    "name": "ipython",
    "version": 2
   },
   "file_extension": ".py",
   "mimetype": "text/x-python",
   "name": "python",
   "nbconvert_exporter": "python",
   "pygments_lexer": "ipython2",
   "version": "2.7.6"
  }
 },
 "nbformat": 4,
 "nbformat_minor": 0
}
