{
 "cells": [
  {
   "cell_type": "code",
   "execution_count": 88,
   "metadata": {
    "collapsed": true
   },
   "outputs": [],
   "source": [
    "import pandas as pd\n",
    "\n",
    "import utils as u\n",
    "from config.GLOBAL import *"
   ]
  },
  {
   "cell_type": "code",
   "execution_count": 89,
   "outputs": [
    {
     "data": {
      "text/plain": "          OID_TRACT_20  GEOID_TRACT_20     NAMELSAD_TRACT_20  \\\n0       20790225757139     53001950100     Census Tract 9501   \n1       20790225757139     53001950100     Census Tract 9501   \n2       20790225757139     53001950100     Census Tract 9501   \n3       20790225757084     53001950200     Census Tract 9502   \n4       20790225757084     53001950200     Census Tract 9502   \n...                ...             ...                   ...   \n3073    20790483254622     53077940003  Census Tract 9400.03   \n3074   207903716948425     53077940005  Census Tract 9400.05   \n3075   207903716948423     53077940006  Census Tract 9400.06   \n3076  2079015504443611     53077940007  Census Tract 9400.07   \n3077  2079015504443639     53077940008  Census Tract 9400.08   \n\n      AREALAND_TRACT_20  AREAWATER_TRACT_20 MTFCC_TRACT_20 FUNCSTAT_TRACT_20  \\\n0            1615246453             7701924          G5020                 S   \n1            1615246453             7701924          G5020                 S   \n2            1615246453             7701924          G5020                 S   \n3            2629354892             2148452          G5020                 S   \n4            2629354892             2148452          G5020                 S   \n...                 ...                 ...            ...               ...   \n3073         4621265520             3847213          G5020                 S   \n3074            5135226                   0          G5020                 S   \n3075            4504123                   0          G5020                 S   \n3076            5016436                   0          G5020                 S   \n3077            3351657                   0          G5020                 S   \n\n         OID_TRACT_10  GEOID_TRACT_10     NAMELSAD_TRACT_10  \\\n0      20740225757139     53001950100     Census Tract 9501   \n1      20740480264312     53043960400     Census Tract 9604   \n2      20740256954118     53075000900        Census Tract 9   \n3      20740225757084     53001950200     Census Tract 9502   \n4      20740246568089     53021020700      Census Tract 207   \n...               ...             ...                   ...   \n3073   20740483254622     53077940003  Census Tract 9400.03   \n3074  207403716948425     53077940005  Census Tract 9400.05   \n3075  207403716948423     53077940006  Census Tract 9400.06   \n3076   20740483254628     53077940004  Census Tract 9400.04   \n3077   20740483254628     53077940004  Census Tract 9400.04   \n\n      AREALAND_TRACT_10  AREAWATER_TRACT_10 MTFCC_TRACT_10 FUNCSTAT_TRACT_10  \\\n0            1615379080             7701924          G5020                 S   \n1            2659105111            12808774          G5020                 S   \n2            2053443772            11728753          G5020                 S   \n3            2629585982             2151218          G5020                 S   \n4            1408199208            30711543          G5020                 S   \n...                 ...                 ...            ...               ...   \n3073         4624030592             3847213          G5020                 S   \n3074            5135226                   0          G5020                 S   \n3075            4504123                   0          G5020                 S   \n3076            8368093                   0          G5020                 S   \n3077            8368093                   0          G5020                 S   \n\n      AREALAND_PART  AREAWATER_PART  FRACTION  \n0        1615185150         7701924  0.999962  \n1             12825               0  0.000008  \n2             48478               0  0.000030  \n3        2629148339         2137958  0.999921  \n4            148183             783  0.000056  \n...             ...             ...       ...  \n3073     4621208312         3847213  0.999988  \n3074        5135226               0  1.000000  \n3075        4504123               0  1.000000  \n3076        5016436               0  1.000000  \n3077        3351657               0  1.000000  \n\n[3078 rows x 17 columns]",
      "text/html": "<div>\n<style scoped>\n    .dataframe tbody tr th:only-of-type {\n        vertical-align: middle;\n    }\n\n    .dataframe tbody tr th {\n        vertical-align: top;\n    }\n\n    .dataframe thead th {\n        text-align: right;\n    }\n</style>\n<table border=\"1\" class=\"dataframe\">\n  <thead>\n    <tr style=\"text-align: right;\">\n      <th></th>\n      <th>OID_TRACT_20</th>\n      <th>GEOID_TRACT_20</th>\n      <th>NAMELSAD_TRACT_20</th>\n      <th>AREALAND_TRACT_20</th>\n      <th>AREAWATER_TRACT_20</th>\n      <th>MTFCC_TRACT_20</th>\n      <th>FUNCSTAT_TRACT_20</th>\n      <th>OID_TRACT_10</th>\n      <th>GEOID_TRACT_10</th>\n      <th>NAMELSAD_TRACT_10</th>\n      <th>AREALAND_TRACT_10</th>\n      <th>AREAWATER_TRACT_10</th>\n      <th>MTFCC_TRACT_10</th>\n      <th>FUNCSTAT_TRACT_10</th>\n      <th>AREALAND_PART</th>\n      <th>AREAWATER_PART</th>\n      <th>FRACTION</th>\n    </tr>\n  </thead>\n  <tbody>\n    <tr>\n      <th>0</th>\n      <td>20790225757139</td>\n      <td>53001950100</td>\n      <td>Census Tract 9501</td>\n      <td>1615246453</td>\n      <td>7701924</td>\n      <td>G5020</td>\n      <td>S</td>\n      <td>20740225757139</td>\n      <td>53001950100</td>\n      <td>Census Tract 9501</td>\n      <td>1615379080</td>\n      <td>7701924</td>\n      <td>G5020</td>\n      <td>S</td>\n      <td>1615185150</td>\n      <td>7701924</td>\n      <td>0.999962</td>\n    </tr>\n    <tr>\n      <th>1</th>\n      <td>20790225757139</td>\n      <td>53001950100</td>\n      <td>Census Tract 9501</td>\n      <td>1615246453</td>\n      <td>7701924</td>\n      <td>G5020</td>\n      <td>S</td>\n      <td>20740480264312</td>\n      <td>53043960400</td>\n      <td>Census Tract 9604</td>\n      <td>2659105111</td>\n      <td>12808774</td>\n      <td>G5020</td>\n      <td>S</td>\n      <td>12825</td>\n      <td>0</td>\n      <td>0.000008</td>\n    </tr>\n    <tr>\n      <th>2</th>\n      <td>20790225757139</td>\n      <td>53001950100</td>\n      <td>Census Tract 9501</td>\n      <td>1615246453</td>\n      <td>7701924</td>\n      <td>G5020</td>\n      <td>S</td>\n      <td>20740256954118</td>\n      <td>53075000900</td>\n      <td>Census Tract 9</td>\n      <td>2053443772</td>\n      <td>11728753</td>\n      <td>G5020</td>\n      <td>S</td>\n      <td>48478</td>\n      <td>0</td>\n      <td>0.000030</td>\n    </tr>\n    <tr>\n      <th>3</th>\n      <td>20790225757084</td>\n      <td>53001950200</td>\n      <td>Census Tract 9502</td>\n      <td>2629354892</td>\n      <td>2148452</td>\n      <td>G5020</td>\n      <td>S</td>\n      <td>20740225757084</td>\n      <td>53001950200</td>\n      <td>Census Tract 9502</td>\n      <td>2629585982</td>\n      <td>2151218</td>\n      <td>G5020</td>\n      <td>S</td>\n      <td>2629148339</td>\n      <td>2137958</td>\n      <td>0.999921</td>\n    </tr>\n    <tr>\n      <th>4</th>\n      <td>20790225757084</td>\n      <td>53001950200</td>\n      <td>Census Tract 9502</td>\n      <td>2629354892</td>\n      <td>2148452</td>\n      <td>G5020</td>\n      <td>S</td>\n      <td>20740246568089</td>\n      <td>53021020700</td>\n      <td>Census Tract 207</td>\n      <td>1408199208</td>\n      <td>30711543</td>\n      <td>G5020</td>\n      <td>S</td>\n      <td>148183</td>\n      <td>783</td>\n      <td>0.000056</td>\n    </tr>\n    <tr>\n      <th>...</th>\n      <td>...</td>\n      <td>...</td>\n      <td>...</td>\n      <td>...</td>\n      <td>...</td>\n      <td>...</td>\n      <td>...</td>\n      <td>...</td>\n      <td>...</td>\n      <td>...</td>\n      <td>...</td>\n      <td>...</td>\n      <td>...</td>\n      <td>...</td>\n      <td>...</td>\n      <td>...</td>\n      <td>...</td>\n    </tr>\n    <tr>\n      <th>3073</th>\n      <td>20790483254622</td>\n      <td>53077940003</td>\n      <td>Census Tract 9400.03</td>\n      <td>4621265520</td>\n      <td>3847213</td>\n      <td>G5020</td>\n      <td>S</td>\n      <td>20740483254622</td>\n      <td>53077940003</td>\n      <td>Census Tract 9400.03</td>\n      <td>4624030592</td>\n      <td>3847213</td>\n      <td>G5020</td>\n      <td>S</td>\n      <td>4621208312</td>\n      <td>3847213</td>\n      <td>0.999988</td>\n    </tr>\n    <tr>\n      <th>3074</th>\n      <td>207903716948425</td>\n      <td>53077940005</td>\n      <td>Census Tract 9400.05</td>\n      <td>5135226</td>\n      <td>0</td>\n      <td>G5020</td>\n      <td>S</td>\n      <td>207403716948425</td>\n      <td>53077940005</td>\n      <td>Census Tract 9400.05</td>\n      <td>5135226</td>\n      <td>0</td>\n      <td>G5020</td>\n      <td>S</td>\n      <td>5135226</td>\n      <td>0</td>\n      <td>1.000000</td>\n    </tr>\n    <tr>\n      <th>3075</th>\n      <td>207903716948423</td>\n      <td>53077940006</td>\n      <td>Census Tract 9400.06</td>\n      <td>4504123</td>\n      <td>0</td>\n      <td>G5020</td>\n      <td>S</td>\n      <td>207403716948423</td>\n      <td>53077940006</td>\n      <td>Census Tract 9400.06</td>\n      <td>4504123</td>\n      <td>0</td>\n      <td>G5020</td>\n      <td>S</td>\n      <td>4504123</td>\n      <td>0</td>\n      <td>1.000000</td>\n    </tr>\n    <tr>\n      <th>3076</th>\n      <td>2079015504443611</td>\n      <td>53077940007</td>\n      <td>Census Tract 9400.07</td>\n      <td>5016436</td>\n      <td>0</td>\n      <td>G5020</td>\n      <td>S</td>\n      <td>20740483254628</td>\n      <td>53077940004</td>\n      <td>Census Tract 9400.04</td>\n      <td>8368093</td>\n      <td>0</td>\n      <td>G5020</td>\n      <td>S</td>\n      <td>5016436</td>\n      <td>0</td>\n      <td>1.000000</td>\n    </tr>\n    <tr>\n      <th>3077</th>\n      <td>2079015504443639</td>\n      <td>53077940008</td>\n      <td>Census Tract 9400.08</td>\n      <td>3351657</td>\n      <td>0</td>\n      <td>G5020</td>\n      <td>S</td>\n      <td>20740483254628</td>\n      <td>53077940004</td>\n      <td>Census Tract 9400.04</td>\n      <td>8368093</td>\n      <td>0</td>\n      <td>G5020</td>\n      <td>S</td>\n      <td>3351657</td>\n      <td>0</td>\n      <td>1.000000</td>\n    </tr>\n  </tbody>\n</table>\n<p>3078 rows × 17 columns</p>\n</div>"
     },
     "execution_count": 89,
     "metadata": {},
     "output_type": "execute_result"
    }
   ],
   "source": [
    "# tract_20_10 = pd.read_csv(\"config/tab20_tract20_tract10_st53.txt\", delimiter=\"|\", usecols=[\"GEOID_TRACT_20\", \"GEOID_TRACT_10\"], index_col=\"GEOID_TRACT_20\")\n",
    "tract_20_10 = pd.read_csv(\"config/tab20_tract20_tract10_st53.txt\", delimiter=\"|\")\n",
    "tract_20_10[\"FRACTION\"] = tract_20_10[\"AREALAND_PART\"]/tract_20_10[\"AREALAND_TRACT_20\"]\n",
    "#catch the water-only census tracts\n",
    "for ind,row in tract_20_10.loc[tract_20_10[\"FRACTION\"].isna()].iterrows():\n",
    "    tract_20_10.loc[ind, \"FRACTION\"] = tract_20_10.loc[ind, \"AREAWATER_PART\"]/tract_20_10.loc[ind, \"AREAWATER_TRACT_20\"]\n",
    "tract_20_10"
   ],
   "metadata": {
    "collapsed": false
   }
  },
  {
   "cell_type": "code",
   "execution_count": 12,
   "outputs": [
    {
     "data": {
      "text/plain": "array([53009002400, 53009940000], dtype=int64)"
     },
     "execution_count": 12,
     "metadata": {},
     "output_type": "execute_result"
    }
   ],
   "source": [
    "53009000200 in tract_20_10[\"GEOID_TRACT_10\"].values\n",
    "vals = tract_20_10.loc[tract_20_10[\"GEOID_TRACT_10\"] == 53009000200, \"GEOID_TRACT_20\"].values\n",
    "vals"
   ],
   "metadata": {
    "collapsed": false
   }
  },
  {
   "cell_type": "code",
   "execution_count": 20,
   "outputs": [
    {
     "data": {
      "text/plain": "True"
     },
     "execution_count": 20,
     "metadata": {},
     "output_type": "execute_result"
    }
   ],
   "source": [
    "53009002400 in census_tracts_2020\n",
    "53009002400 in df.index\n",
    "# 53009940000 in census_tracts_2020\n",
    "53009940000 in df.index"
   ],
   "metadata": {
    "collapsed": false
   }
  },
  {
   "cell_type": "code",
   "execution_count": 5,
   "outputs": [
    {
     "data": {
      "text/plain": "(3078, 17)"
     },
     "execution_count": 5,
     "metadata": {},
     "output_type": "execute_result"
    }
   ],
   "source": [
    "tract_20_10.shape"
   ],
   "metadata": {
    "collapsed": false
   }
  },
  {
   "cell_type": "code",
   "execution_count": 6,
   "outputs": [
    {
     "data": {
      "text/plain": "OID_TRACT_20            int64\nGEOID_TRACT_20          int64\nNAMELSAD_TRACT_20      object\nAREALAND_TRACT_20       int64\nAREAWATER_TRACT_20      int64\nMTFCC_TRACT_20         object\nFUNCSTAT_TRACT_20      object\nOID_TRACT_10            int64\nGEOID_TRACT_10          int64\nNAMELSAD_TRACT_10      object\nAREALAND_TRACT_10       int64\nAREAWATER_TRACT_10      int64\nMTFCC_TRACT_10         object\nFUNCSTAT_TRACT_10      object\nAREALAND_PART           int64\nAREAWATER_PART          int64\nFRACTION              float64\ndtype: object"
     },
     "execution_count": 6,
     "metadata": {},
     "output_type": "execute_result"
    }
   ],
   "source": [
    "tract_20_10.dtypes"
   ],
   "metadata": {
    "collapsed": false
   }
  },
  {
   "cell_type": "code",
   "execution_count": 90,
   "outputs": [
    {
     "data": {
      "text/plain": "                                                        NAME  n_total_pop  \\\nGEOID                                                                       \n53001950100      Census Tract 9501, Adams County, Washington         2606   \n53001950200      Census Tract 9502, Adams County, Washington         1763   \n53001950301   Census Tract 9503.01, Adams County, Washington         1581   \n53001950302   Census Tract 9503.02, Adams County, Washington         2434   \n53001950303   Census Tract 9503.03, Adams County, Washington         2514   \n...                                                      ...          ...   \n53077940003  Census Tract 9400.03, Yakima County, Washington         3542   \n53077940005  Census Tract 9400.05, Yakima County, Washington         4727   \n53077940006  Census Tract 9400.06, Yakima County, Washington         4614   \n53077940007  Census Tract 9400.07, Yakima County, Washington         3880   \n53077940008  Census Tract 9400.08, Yakima County, Washington         2244   \n\n             n_white  n_bachelor  n_workers_16plus  n_drove_alone  \\\nGEOID                                                               \n53001950100     2285         291              1048            699   \n53001950200     1275         184               761            574   \n53001950301      592          32               483            283   \n53001950302      829           0              1048            873   \n53001950303     1438         123               880            722   \n...              ...         ...               ...            ...   \n53077940003     1637         283              1180            984   \n53077940005     2843         155              1782           1351   \n53077940006     2537          78              1953           1432   \n53077940007     2057          91              1579           1189   \n53077940008     1232          20               816            570   \n\n             median_hh_inc  n_units_tot  n_units_1detached  n_units_1attached  \nGEOID                                                                          \n53001950100        52589.0         1240                924                 29  \n53001950200        59886.0          855                690                  4  \n53001950301        39928.0          522                201                  0  \n53001950302        58884.0          644                174                 12  \n53001950303        50915.0          688                267                  0  \n...                    ...          ...                ...                ...  \n53077940003        51151.0         1112                772                  5  \n53077940005        54397.0         1412               1037                 23  \n53077940006        51116.0         1215                952                 14  \n53077940007        43721.0         1190                803                 44  \n53077940008        43135.0          596                383                  0  \n\n[1784 rows x 10 columns]",
      "text/html": "<div>\n<style scoped>\n    .dataframe tbody tr th:only-of-type {\n        vertical-align: middle;\n    }\n\n    .dataframe tbody tr th {\n        vertical-align: top;\n    }\n\n    .dataframe thead th {\n        text-align: right;\n    }\n</style>\n<table border=\"1\" class=\"dataframe\">\n  <thead>\n    <tr style=\"text-align: right;\">\n      <th></th>\n      <th>NAME</th>\n      <th>n_total_pop</th>\n      <th>n_white</th>\n      <th>n_bachelor</th>\n      <th>n_workers_16plus</th>\n      <th>n_drove_alone</th>\n      <th>median_hh_inc</th>\n      <th>n_units_tot</th>\n      <th>n_units_1detached</th>\n      <th>n_units_1attached</th>\n    </tr>\n    <tr>\n      <th>GEOID</th>\n      <th></th>\n      <th></th>\n      <th></th>\n      <th></th>\n      <th></th>\n      <th></th>\n      <th></th>\n      <th></th>\n      <th></th>\n      <th></th>\n    </tr>\n  </thead>\n  <tbody>\n    <tr>\n      <th>53001950100</th>\n      <td>Census Tract 9501, Adams County, Washington</td>\n      <td>2606</td>\n      <td>2285</td>\n      <td>291</td>\n      <td>1048</td>\n      <td>699</td>\n      <td>52589.0</td>\n      <td>1240</td>\n      <td>924</td>\n      <td>29</td>\n    </tr>\n    <tr>\n      <th>53001950200</th>\n      <td>Census Tract 9502, Adams County, Washington</td>\n      <td>1763</td>\n      <td>1275</td>\n      <td>184</td>\n      <td>761</td>\n      <td>574</td>\n      <td>59886.0</td>\n      <td>855</td>\n      <td>690</td>\n      <td>4</td>\n    </tr>\n    <tr>\n      <th>53001950301</th>\n      <td>Census Tract 9503.01, Adams County, Washington</td>\n      <td>1581</td>\n      <td>592</td>\n      <td>32</td>\n      <td>483</td>\n      <td>283</td>\n      <td>39928.0</td>\n      <td>522</td>\n      <td>201</td>\n      <td>0</td>\n    </tr>\n    <tr>\n      <th>53001950302</th>\n      <td>Census Tract 9503.02, Adams County, Washington</td>\n      <td>2434</td>\n      <td>829</td>\n      <td>0</td>\n      <td>1048</td>\n      <td>873</td>\n      <td>58884.0</td>\n      <td>644</td>\n      <td>174</td>\n      <td>12</td>\n    </tr>\n    <tr>\n      <th>53001950303</th>\n      <td>Census Tract 9503.03, Adams County, Washington</td>\n      <td>2514</td>\n      <td>1438</td>\n      <td>123</td>\n      <td>880</td>\n      <td>722</td>\n      <td>50915.0</td>\n      <td>688</td>\n      <td>267</td>\n      <td>0</td>\n    </tr>\n    <tr>\n      <th>...</th>\n      <td>...</td>\n      <td>...</td>\n      <td>...</td>\n      <td>...</td>\n      <td>...</td>\n      <td>...</td>\n      <td>...</td>\n      <td>...</td>\n      <td>...</td>\n      <td>...</td>\n    </tr>\n    <tr>\n      <th>53077940003</th>\n      <td>Census Tract 9400.03, Yakima County, Washington</td>\n      <td>3542</td>\n      <td>1637</td>\n      <td>283</td>\n      <td>1180</td>\n      <td>984</td>\n      <td>51151.0</td>\n      <td>1112</td>\n      <td>772</td>\n      <td>5</td>\n    </tr>\n    <tr>\n      <th>53077940005</th>\n      <td>Census Tract 9400.05, Yakima County, Washington</td>\n      <td>4727</td>\n      <td>2843</td>\n      <td>155</td>\n      <td>1782</td>\n      <td>1351</td>\n      <td>54397.0</td>\n      <td>1412</td>\n      <td>1037</td>\n      <td>23</td>\n    </tr>\n    <tr>\n      <th>53077940006</th>\n      <td>Census Tract 9400.06, Yakima County, Washington</td>\n      <td>4614</td>\n      <td>2537</td>\n      <td>78</td>\n      <td>1953</td>\n      <td>1432</td>\n      <td>51116.0</td>\n      <td>1215</td>\n      <td>952</td>\n      <td>14</td>\n    </tr>\n    <tr>\n      <th>53077940007</th>\n      <td>Census Tract 9400.07, Yakima County, Washington</td>\n      <td>3880</td>\n      <td>2057</td>\n      <td>91</td>\n      <td>1579</td>\n      <td>1189</td>\n      <td>43721.0</td>\n      <td>1190</td>\n      <td>803</td>\n      <td>44</td>\n    </tr>\n    <tr>\n      <th>53077940008</th>\n      <td>Census Tract 9400.08, Yakima County, Washington</td>\n      <td>2244</td>\n      <td>1232</td>\n      <td>20</td>\n      <td>816</td>\n      <td>570</td>\n      <td>43135.0</td>\n      <td>596</td>\n      <td>383</td>\n      <td>0</td>\n    </tr>\n  </tbody>\n</table>\n<p>1784 rows × 10 columns</p>\n</div>"
     },
     "execution_count": 90,
     "metadata": {},
     "output_type": "execute_result"
    }
   ],
   "source": [
    "df = pd.read_csv(\"data/census/all_acs_by_tract_2020.csv\", index_col=\"GEOID\")\n",
    "df = df.drop(\"Unnamed: 0\", axis=1)\n",
    "# df = pd.read_csv(\"data/census/all_acs_by_tract_2020.csv\", dtype={\"GEOID\": str})\n",
    "df"
   ],
   "metadata": {
    "collapsed": false
   }
  },
  {
   "cell_type": "code",
   "execution_count": 8,
   "outputs": [
    {
     "data": {
      "text/plain": "NAME                  object\nn_total_pop            int64\nn_white                int64\nn_bachelor             int64\nn_workers_16plus       int64\nn_drove_alone          int64\nmedian_hh_inc        float64\nn_units_tot            int64\nn_units_1detached      int64\nn_units_1attached      int64\ndtype: object"
     },
     "execution_count": 8,
     "metadata": {},
     "output_type": "execute_result"
    }
   ],
   "source": [
    "df.dtypes"
   ],
   "metadata": {
    "collapsed": false
   }
  },
  {
   "cell_type": "code",
   "execution_count": 9,
   "outputs": [
    {
     "data": {
      "text/plain": "(1784, 10)"
     },
     "execution_count": 9,
     "metadata": {},
     "output_type": "execute_result"
    }
   ],
   "source": [
    "df.shape\n",
    "# len(df[\"GEOID\"].unique())"
   ],
   "metadata": {
    "collapsed": false
   }
  },
  {
   "cell_type": "code",
   "execution_count": 126,
   "outputs": [
    {
     "name": "stderr",
     "output_type": "stream",
     "text": [
      "C:\\Users\\steff\\AppData\\Local\\Temp/ipykernel_18116/301149277.py:2: DeprecationWarning: The default dtype for empty Series will be 'object' instead of 'float64' in a future version. Specify a dtype explicitly to silence this warning.\n",
      "  df_tract_20_10 = pd.Series(name=\"census_tract_2010\", index=census_tracts_2020)\n"
     ]
    },
    {
     "data": {
      "text/plain": "census_tract_2020\n53001950100    5.300195e+10\n53001950200    5.300195e+10\n53001950301    5.300195e+10\n53001950302    5.300195e+10\n53001950303    5.300195e+10\n                   ...     \n53077940003    5.307794e+10\n53077940005    5.307794e+10\n53077940006    5.307794e+10\n53077940007    5.307794e+10\n53077940008    5.307794e+10\nName: census_tract_2010, Length: 1784, dtype: float64"
     },
     "execution_count": 126,
     "metadata": {},
     "output_type": "execute_result"
    }
   ],
   "source": [
    "#tract 2020 to 2010 map\n",
    "df_tract_20_10 = pd.Series(name=\"census_tract_2010\", index=census_tracts_2020)\n",
    "for tract in df_tract_20_10.index:\n",
    "    a = tract_20_10.loc[tract_20_10[\"GEOID_TRACT_20\"] == tract]\n",
    "    df_tract_20_10.loc[tract] = a.loc[a[\"FRACTION\"].idxmax(), \"GEOID_TRACT_10\"]\n",
    "df_tract_20_10.index.name = \"census_tract_2020\"\n",
    "df_tract_20_10"
   ],
   "metadata": {
    "collapsed": false
   }
  },
  {
   "cell_type": "code",
   "execution_count": 128,
   "outputs": [],
   "source": [
    "df_tract_20_10.to_csv(\"config/df_tract_20_10.csv\")"
   ],
   "metadata": {
    "collapsed": false
   }
  },
  {
   "cell_type": "code",
   "execution_count": 51,
   "outputs": [
    {
     "data": {
      "text/plain": "array([5.30019501e+10, 5.30019502e+10, 5.30019503e+10, ...,\n       5.30779400e+10, 5.30779400e+10, 5.30779400e+10])"
     },
     "execution_count": 51,
     "metadata": {},
     "output_type": "execute_result"
    }
   ],
   "source": [
    "df_tract_20_10.unique()"
   ],
   "metadata": {
    "collapsed": false
   }
  },
  {
   "cell_type": "code",
   "execution_count": 92,
   "outputs": [
    {
     "data": {
      "text/plain": "                                                        NAME  n_total_pop  \\\nGEOID                                                                       \n53001950100      Census Tract 9501, Adams County, Washington         2606   \n53001950200      Census Tract 9502, Adams County, Washington         1763   \n53001950301   Census Tract 9503.01, Adams County, Washington         1581   \n53001950302   Census Tract 9503.02, Adams County, Washington         2434   \n53001950303   Census Tract 9503.03, Adams County, Washington         2514   \n...                                                      ...          ...   \n53077940003  Census Tract 9400.03, Yakima County, Washington         3542   \n53077940005  Census Tract 9400.05, Yakima County, Washington         4727   \n53077940006  Census Tract 9400.06, Yakima County, Washington         4614   \n53077940007  Census Tract 9400.07, Yakima County, Washington         3880   \n53077940008  Census Tract 9400.08, Yakima County, Washington         2244   \n\n             n_white  n_bachelor  n_workers_16plus  n_drove_alone  \\\nGEOID                                                               \n53001950100     2285         291              1048            699   \n53001950200     1275         184               761            574   \n53001950301      592          32               483            283   \n53001950302      829           0              1048            873   \n53001950303     1438         123               880            722   \n...              ...         ...               ...            ...   \n53077940003     1637         283              1180            984   \n53077940005     2843         155              1782           1351   \n53077940006     2537          78              1953           1432   \n53077940007     2057          91              1579           1189   \n53077940008     1232          20               816            570   \n\n             median_hh_inc  n_units_tot  n_units_1detached  n_units_1attached  \\\nGEOID                                                                           \n53001950100        52589.0         1240                924                 29   \n53001950200        59886.0          855                690                  4   \n53001950301        39928.0          522                201                  0   \n53001950302        58884.0          644                174                 12   \n53001950303        50915.0          688                267                  0   \n...                    ...          ...                ...                ...   \n53077940003        51151.0         1112                772                  5   \n53077940005        54397.0         1412               1037                 23   \n53077940006        51116.0         1215                952                 14   \n53077940007        43721.0         1190                803                 44   \n53077940008        43135.0          596                383                  0   \n\n                 GEOID_old  \nGEOID                       \n53001950100  53001950100.0  \n53001950200  53001950200.0  \n53001950301  53001950300.0  \n53001950302  53001950300.0  \n53001950303  53001950300.0  \n...                    ...  \n53077940003  53077940003.0  \n53077940005  53077940005.0  \n53077940006  53077940006.0  \n53077940007  53077940004.0  \n53077940008  53077940004.0  \n\n[1784 rows x 11 columns]",
      "text/html": "<div>\n<style scoped>\n    .dataframe tbody tr th:only-of-type {\n        vertical-align: middle;\n    }\n\n    .dataframe tbody tr th {\n        vertical-align: top;\n    }\n\n    .dataframe thead th {\n        text-align: right;\n    }\n</style>\n<table border=\"1\" class=\"dataframe\">\n  <thead>\n    <tr style=\"text-align: right;\">\n      <th></th>\n      <th>NAME</th>\n      <th>n_total_pop</th>\n      <th>n_white</th>\n      <th>n_bachelor</th>\n      <th>n_workers_16plus</th>\n      <th>n_drove_alone</th>\n      <th>median_hh_inc</th>\n      <th>n_units_tot</th>\n      <th>n_units_1detached</th>\n      <th>n_units_1attached</th>\n      <th>GEOID_old</th>\n    </tr>\n    <tr>\n      <th>GEOID</th>\n      <th></th>\n      <th></th>\n      <th></th>\n      <th></th>\n      <th></th>\n      <th></th>\n      <th></th>\n      <th></th>\n      <th></th>\n      <th></th>\n      <th></th>\n    </tr>\n  </thead>\n  <tbody>\n    <tr>\n      <th>53001950100</th>\n      <td>Census Tract 9501, Adams County, Washington</td>\n      <td>2606</td>\n      <td>2285</td>\n      <td>291</td>\n      <td>1048</td>\n      <td>699</td>\n      <td>52589.0</td>\n      <td>1240</td>\n      <td>924</td>\n      <td>29</td>\n      <td>53001950100.0</td>\n    </tr>\n    <tr>\n      <th>53001950200</th>\n      <td>Census Tract 9502, Adams County, Washington</td>\n      <td>1763</td>\n      <td>1275</td>\n      <td>184</td>\n      <td>761</td>\n      <td>574</td>\n      <td>59886.0</td>\n      <td>855</td>\n      <td>690</td>\n      <td>4</td>\n      <td>53001950200.0</td>\n    </tr>\n    <tr>\n      <th>53001950301</th>\n      <td>Census Tract 9503.01, Adams County, Washington</td>\n      <td>1581</td>\n      <td>592</td>\n      <td>32</td>\n      <td>483</td>\n      <td>283</td>\n      <td>39928.0</td>\n      <td>522</td>\n      <td>201</td>\n      <td>0</td>\n      <td>53001950300.0</td>\n    </tr>\n    <tr>\n      <th>53001950302</th>\n      <td>Census Tract 9503.02, Adams County, Washington</td>\n      <td>2434</td>\n      <td>829</td>\n      <td>0</td>\n      <td>1048</td>\n      <td>873</td>\n      <td>58884.0</td>\n      <td>644</td>\n      <td>174</td>\n      <td>12</td>\n      <td>53001950300.0</td>\n    </tr>\n    <tr>\n      <th>53001950303</th>\n      <td>Census Tract 9503.03, Adams County, Washington</td>\n      <td>2514</td>\n      <td>1438</td>\n      <td>123</td>\n      <td>880</td>\n      <td>722</td>\n      <td>50915.0</td>\n      <td>688</td>\n      <td>267</td>\n      <td>0</td>\n      <td>53001950300.0</td>\n    </tr>\n    <tr>\n      <th>...</th>\n      <td>...</td>\n      <td>...</td>\n      <td>...</td>\n      <td>...</td>\n      <td>...</td>\n      <td>...</td>\n      <td>...</td>\n      <td>...</td>\n      <td>...</td>\n      <td>...</td>\n      <td>...</td>\n    </tr>\n    <tr>\n      <th>53077940003</th>\n      <td>Census Tract 9400.03, Yakima County, Washington</td>\n      <td>3542</td>\n      <td>1637</td>\n      <td>283</td>\n      <td>1180</td>\n      <td>984</td>\n      <td>51151.0</td>\n      <td>1112</td>\n      <td>772</td>\n      <td>5</td>\n      <td>53077940003.0</td>\n    </tr>\n    <tr>\n      <th>53077940005</th>\n      <td>Census Tract 9400.05, Yakima County, Washington</td>\n      <td>4727</td>\n      <td>2843</td>\n      <td>155</td>\n      <td>1782</td>\n      <td>1351</td>\n      <td>54397.0</td>\n      <td>1412</td>\n      <td>1037</td>\n      <td>23</td>\n      <td>53077940005.0</td>\n    </tr>\n    <tr>\n      <th>53077940006</th>\n      <td>Census Tract 9400.06, Yakima County, Washington</td>\n      <td>4614</td>\n      <td>2537</td>\n      <td>78</td>\n      <td>1953</td>\n      <td>1432</td>\n      <td>51116.0</td>\n      <td>1215</td>\n      <td>952</td>\n      <td>14</td>\n      <td>53077940006.0</td>\n    </tr>\n    <tr>\n      <th>53077940007</th>\n      <td>Census Tract 9400.07, Yakima County, Washington</td>\n      <td>3880</td>\n      <td>2057</td>\n      <td>91</td>\n      <td>1579</td>\n      <td>1189</td>\n      <td>43721.0</td>\n      <td>1190</td>\n      <td>803</td>\n      <td>44</td>\n      <td>53077940004.0</td>\n    </tr>\n    <tr>\n      <th>53077940008</th>\n      <td>Census Tract 9400.08, Yakima County, Washington</td>\n      <td>2244</td>\n      <td>1232</td>\n      <td>20</td>\n      <td>816</td>\n      <td>570</td>\n      <td>43135.0</td>\n      <td>596</td>\n      <td>383</td>\n      <td>0</td>\n      <td>53077940004.0</td>\n    </tr>\n  </tbody>\n</table>\n<p>1784 rows × 11 columns</p>\n</div>"
     },
     "execution_count": 92,
     "metadata": {},
     "output_type": "execute_result"
    }
   ],
   "source": [
    "#census\n",
    "df[\"GEOID_old\"] = \"\"\n",
    "for tract in df.index:\n",
    "    df.loc[tract, \"GEOID_old\"] = df_tract_20_10.loc[tract]\n",
    "# df.loc[53009002400, \"GEOID_old\"] = 53009000200\n",
    "df"
   ],
   "metadata": {
    "collapsed": false
   }
  },
  {
   "cell_type": "code",
   "execution_count": 86,
   "outputs": [
    {
     "data": {
      "text/plain": "         OID_TRACT_20  GEOID_TRACT_20  NAMELSAD_TRACT_20  AREALAND_TRACT_20  \\\n228  2079015503997211     53009002400    Census Tract 24         1991877214   \n229  2079015503997211     53009002400    Census Tract 24         1991877214   \n230  2079015503997211     53009002400    Census Tract 24         1991877214   \n231  2079015503997211     53009002400    Census Tract 24         1991877214   \n232  2079015503997211     53009002400    Census Tract 24         1991877214   \n233    20790479118104     53009940000  Census Tract 9400          110360969   \n234    20790479118104     53009940000  Census Tract 9400          110360969   \n235    20790479118104     53009940000  Census Tract 9400          110360969   \n\n     AREAWATER_TRACT_20 MTFCC_TRACT_20 FUNCSTAT_TRACT_20     OID_TRACT_10  \\\n228           140605578          G5020                 S   20740479118101   \n229           140605578          G5020                 S   20740479118089   \n230           140605578          G5020                 S  207403717924259   \n231           140605578          G5020                 S   20740479118104   \n232           140605578          G5020                 S  207403718040470   \n233            35581915          G5020                 S   20740479118101   \n234            35581915          G5020                 S   20740479118104   \n235            35581915          G5020                 S  207403718040470   \n\n     GEOID_TRACT_10  NAMELSAD_TRACT_10  AREALAND_TRACT_10  AREAWATER_TRACT_10  \\\n228     53009000200     Census Tract 2          928962189            32608364   \n229     53009000300     Census Tract 3           59399809               93589   \n230     53009000400     Census Tract 4         1061324847             6248305   \n231     53009940000  Census Tract 9400          110015450              462077   \n232     53009990100  Census Tract 9901              27784          2343118332   \n233     53009000200     Census Tract 2          928962189            32608364   \n234     53009940000  Census Tract 9400          110015450              462077   \n235     53009990100  Census Tract 9901              27784          2343118332   \n\n    MTFCC_TRACT_10 FUNCSTAT_TRACT_10  AREALAND_PART  AREAWATER_PART  FRACTION  \n228          G5020                 S      928576912        32608364  0.999585  \n229          G5020                 S        1937756               0  0.032622  \n230          G5020                 S     1061318518         6243093  0.999994  \n231          G5020                 S          39758               0  0.000361  \n232          G5020                 S           4270       101754121  0.153686  \n233          G5020                 S         385277               0  0.000415  \n234          G5020                 S      109975692          462077  0.999639  \n235          G5020                 S              0        35119838  0.000000  ",
      "text/html": "<div>\n<style scoped>\n    .dataframe tbody tr th:only-of-type {\n        vertical-align: middle;\n    }\n\n    .dataframe tbody tr th {\n        vertical-align: top;\n    }\n\n    .dataframe thead th {\n        text-align: right;\n    }\n</style>\n<table border=\"1\" class=\"dataframe\">\n  <thead>\n    <tr style=\"text-align: right;\">\n      <th></th>\n      <th>OID_TRACT_20</th>\n      <th>GEOID_TRACT_20</th>\n      <th>NAMELSAD_TRACT_20</th>\n      <th>AREALAND_TRACT_20</th>\n      <th>AREAWATER_TRACT_20</th>\n      <th>MTFCC_TRACT_20</th>\n      <th>FUNCSTAT_TRACT_20</th>\n      <th>OID_TRACT_10</th>\n      <th>GEOID_TRACT_10</th>\n      <th>NAMELSAD_TRACT_10</th>\n      <th>AREALAND_TRACT_10</th>\n      <th>AREAWATER_TRACT_10</th>\n      <th>MTFCC_TRACT_10</th>\n      <th>FUNCSTAT_TRACT_10</th>\n      <th>AREALAND_PART</th>\n      <th>AREAWATER_PART</th>\n      <th>FRACTION</th>\n    </tr>\n  </thead>\n  <tbody>\n    <tr>\n      <th>228</th>\n      <td>2079015503997211</td>\n      <td>53009002400</td>\n      <td>Census Tract 24</td>\n      <td>1991877214</td>\n      <td>140605578</td>\n      <td>G5020</td>\n      <td>S</td>\n      <td>20740479118101</td>\n      <td>53009000200</td>\n      <td>Census Tract 2</td>\n      <td>928962189</td>\n      <td>32608364</td>\n      <td>G5020</td>\n      <td>S</td>\n      <td>928576912</td>\n      <td>32608364</td>\n      <td>0.999585</td>\n    </tr>\n    <tr>\n      <th>229</th>\n      <td>2079015503997211</td>\n      <td>53009002400</td>\n      <td>Census Tract 24</td>\n      <td>1991877214</td>\n      <td>140605578</td>\n      <td>G5020</td>\n      <td>S</td>\n      <td>20740479118089</td>\n      <td>53009000300</td>\n      <td>Census Tract 3</td>\n      <td>59399809</td>\n      <td>93589</td>\n      <td>G5020</td>\n      <td>S</td>\n      <td>1937756</td>\n      <td>0</td>\n      <td>0.032622</td>\n    </tr>\n    <tr>\n      <th>230</th>\n      <td>2079015503997211</td>\n      <td>53009002400</td>\n      <td>Census Tract 24</td>\n      <td>1991877214</td>\n      <td>140605578</td>\n      <td>G5020</td>\n      <td>S</td>\n      <td>207403717924259</td>\n      <td>53009000400</td>\n      <td>Census Tract 4</td>\n      <td>1061324847</td>\n      <td>6248305</td>\n      <td>G5020</td>\n      <td>S</td>\n      <td>1061318518</td>\n      <td>6243093</td>\n      <td>0.999994</td>\n    </tr>\n    <tr>\n      <th>231</th>\n      <td>2079015503997211</td>\n      <td>53009002400</td>\n      <td>Census Tract 24</td>\n      <td>1991877214</td>\n      <td>140605578</td>\n      <td>G5020</td>\n      <td>S</td>\n      <td>20740479118104</td>\n      <td>53009940000</td>\n      <td>Census Tract 9400</td>\n      <td>110015450</td>\n      <td>462077</td>\n      <td>G5020</td>\n      <td>S</td>\n      <td>39758</td>\n      <td>0</td>\n      <td>0.000361</td>\n    </tr>\n    <tr>\n      <th>232</th>\n      <td>2079015503997211</td>\n      <td>53009002400</td>\n      <td>Census Tract 24</td>\n      <td>1991877214</td>\n      <td>140605578</td>\n      <td>G5020</td>\n      <td>S</td>\n      <td>207403718040470</td>\n      <td>53009990100</td>\n      <td>Census Tract 9901</td>\n      <td>27784</td>\n      <td>2343118332</td>\n      <td>G5020</td>\n      <td>S</td>\n      <td>4270</td>\n      <td>101754121</td>\n      <td>0.153686</td>\n    </tr>\n    <tr>\n      <th>233</th>\n      <td>20790479118104</td>\n      <td>53009940000</td>\n      <td>Census Tract 9400</td>\n      <td>110360969</td>\n      <td>35581915</td>\n      <td>G5020</td>\n      <td>S</td>\n      <td>20740479118101</td>\n      <td>53009000200</td>\n      <td>Census Tract 2</td>\n      <td>928962189</td>\n      <td>32608364</td>\n      <td>G5020</td>\n      <td>S</td>\n      <td>385277</td>\n      <td>0</td>\n      <td>0.000415</td>\n    </tr>\n    <tr>\n      <th>234</th>\n      <td>20790479118104</td>\n      <td>53009940000</td>\n      <td>Census Tract 9400</td>\n      <td>110360969</td>\n      <td>35581915</td>\n      <td>G5020</td>\n      <td>S</td>\n      <td>20740479118104</td>\n      <td>53009940000</td>\n      <td>Census Tract 9400</td>\n      <td>110015450</td>\n      <td>462077</td>\n      <td>G5020</td>\n      <td>S</td>\n      <td>109975692</td>\n      <td>462077</td>\n      <td>0.999639</td>\n    </tr>\n    <tr>\n      <th>235</th>\n      <td>20790479118104</td>\n      <td>53009940000</td>\n      <td>Census Tract 9400</td>\n      <td>110360969</td>\n      <td>35581915</td>\n      <td>G5020</td>\n      <td>S</td>\n      <td>207403718040470</td>\n      <td>53009990100</td>\n      <td>Census Tract 9901</td>\n      <td>27784</td>\n      <td>2343118332</td>\n      <td>G5020</td>\n      <td>S</td>\n      <td>0</td>\n      <td>35119838</td>\n      <td>0.000000</td>\n    </tr>\n  </tbody>\n</table>\n</div>"
     },
     "execution_count": 86,
     "metadata": {},
     "output_type": "execute_result"
    }
   ],
   "source": [
    "df_tracts2010 = df[\"GEOID_old\"].unique()\n",
    "# len(df_tracts2010)\n",
    "# list(set(census_tracts_2010) - set(df_tracts2010))\n",
    "# 53009000200 in df_tracts2010\n",
    "# 53009000200 in census_tracts_2010\n",
    "tract_20_10.loc[tract_20_10[\"GEOID_TRACT_10\"].isin([53009000200])]\n",
    "# tract_20_10.loc[tract_20_10[\"GEOID_TRACT_10\"].isin([53009000400])]\n",
    "tract_20_10.loc[tract_20_10[\"GEOID_TRACT_20\"].isin([53009002400, 53009940000])]"
   ],
   "metadata": {
    "collapsed": false
   }
  },
  {
   "cell_type": "code",
   "execution_count": 52,
   "outputs": [
    {
     "data": {
      "text/plain": "array([53009002400, 53009940000], dtype=int64)"
     },
     "execution_count": 52,
     "metadata": {},
     "output_type": "execute_result"
    }
   ],
   "source": [
    "vals\n",
    "# df[\"GEOID\"]\n",
    "# list(set(vals) - set(df.index))\n",
    "# vals[1] in df.index"
   ],
   "metadata": {
    "collapsed": false
   }
  },
  {
   "cell_type": "code",
   "execution_count": 93,
   "outputs": [
    {
     "data": {
      "text/plain": "             GEOID  n_total_pop  n_white  n_bachelor  n_workers_16plus  \\\n0     5.300195e+10         2606     2285         291              1048   \n1     5.300195e+10         1763     1275         184               761   \n2     5.300195e+10         6529     2859         155              2411   \n3     5.300195e+10         3144     1661         197              1034   \n4     5.300195e+10         5660     3591          73              2180   \n...            ...          ...      ...         ...               ...   \n1452  5.307794e+10         4731     2076         146              1455   \n1453  5.307794e+10         3542     1637         283              1180   \n1454  5.307794e+10         6124     3289         111              2395   \n1455  5.307794e+10         4727     2843         155              1782   \n1456  5.307794e+10         4614     2537          78              1953   \n\n      n_drove_alone  median_hh_inc  n_units_tot  n_units_1detached  \\\n0               699        52589.0         1240                924   \n1               574        59886.0          855                690   \n2              1878        50915.0         1854                642   \n3               690        63750.0          949                534   \n4              1563        48542.0         1786               1212   \n...             ...            ...          ...                ...   \n1452           1266        51950.0         1323               1051   \n1453            984        51151.0         1112                772   \n1454           1759        43721.0         1786               1186   \n1455           1351        54397.0         1412               1037   \n1456           1432        51116.0         1215                952   \n\n      n_units_1attached  \n0                    29  \n1                     4  \n2                    12  \n3                   124  \n4                    57  \n...                 ...  \n1452                 38  \n1453                  5  \n1454                 44  \n1455                 23  \n1456                 14  \n\n[1457 rows x 10 columns]",
      "text/html": "<div>\n<style scoped>\n    .dataframe tbody tr th:only-of-type {\n        vertical-align: middle;\n    }\n\n    .dataframe tbody tr th {\n        vertical-align: top;\n    }\n\n    .dataframe thead th {\n        text-align: right;\n    }\n</style>\n<table border=\"1\" class=\"dataframe\">\n  <thead>\n    <tr style=\"text-align: right;\">\n      <th></th>\n      <th>GEOID</th>\n      <th>n_total_pop</th>\n      <th>n_white</th>\n      <th>n_bachelor</th>\n      <th>n_workers_16plus</th>\n      <th>n_drove_alone</th>\n      <th>median_hh_inc</th>\n      <th>n_units_tot</th>\n      <th>n_units_1detached</th>\n      <th>n_units_1attached</th>\n    </tr>\n  </thead>\n  <tbody>\n    <tr>\n      <th>0</th>\n      <td>5.300195e+10</td>\n      <td>2606</td>\n      <td>2285</td>\n      <td>291</td>\n      <td>1048</td>\n      <td>699</td>\n      <td>52589.0</td>\n      <td>1240</td>\n      <td>924</td>\n      <td>29</td>\n    </tr>\n    <tr>\n      <th>1</th>\n      <td>5.300195e+10</td>\n      <td>1763</td>\n      <td>1275</td>\n      <td>184</td>\n      <td>761</td>\n      <td>574</td>\n      <td>59886.0</td>\n      <td>855</td>\n      <td>690</td>\n      <td>4</td>\n    </tr>\n    <tr>\n      <th>2</th>\n      <td>5.300195e+10</td>\n      <td>6529</td>\n      <td>2859</td>\n      <td>155</td>\n      <td>2411</td>\n      <td>1878</td>\n      <td>50915.0</td>\n      <td>1854</td>\n      <td>642</td>\n      <td>12</td>\n    </tr>\n    <tr>\n      <th>3</th>\n      <td>5.300195e+10</td>\n      <td>3144</td>\n      <td>1661</td>\n      <td>197</td>\n      <td>1034</td>\n      <td>690</td>\n      <td>63750.0</td>\n      <td>949</td>\n      <td>534</td>\n      <td>124</td>\n    </tr>\n    <tr>\n      <th>4</th>\n      <td>5.300195e+10</td>\n      <td>5660</td>\n      <td>3591</td>\n      <td>73</td>\n      <td>2180</td>\n      <td>1563</td>\n      <td>48542.0</td>\n      <td>1786</td>\n      <td>1212</td>\n      <td>57</td>\n    </tr>\n    <tr>\n      <th>...</th>\n      <td>...</td>\n      <td>...</td>\n      <td>...</td>\n      <td>...</td>\n      <td>...</td>\n      <td>...</td>\n      <td>...</td>\n      <td>...</td>\n      <td>...</td>\n      <td>...</td>\n    </tr>\n    <tr>\n      <th>1452</th>\n      <td>5.307794e+10</td>\n      <td>4731</td>\n      <td>2076</td>\n      <td>146</td>\n      <td>1455</td>\n      <td>1266</td>\n      <td>51950.0</td>\n      <td>1323</td>\n      <td>1051</td>\n      <td>38</td>\n    </tr>\n    <tr>\n      <th>1453</th>\n      <td>5.307794e+10</td>\n      <td>3542</td>\n      <td>1637</td>\n      <td>283</td>\n      <td>1180</td>\n      <td>984</td>\n      <td>51151.0</td>\n      <td>1112</td>\n      <td>772</td>\n      <td>5</td>\n    </tr>\n    <tr>\n      <th>1454</th>\n      <td>5.307794e+10</td>\n      <td>6124</td>\n      <td>3289</td>\n      <td>111</td>\n      <td>2395</td>\n      <td>1759</td>\n      <td>43721.0</td>\n      <td>1786</td>\n      <td>1186</td>\n      <td>44</td>\n    </tr>\n    <tr>\n      <th>1455</th>\n      <td>5.307794e+10</td>\n      <td>4727</td>\n      <td>2843</td>\n      <td>155</td>\n      <td>1782</td>\n      <td>1351</td>\n      <td>54397.0</td>\n      <td>1412</td>\n      <td>1037</td>\n      <td>23</td>\n    </tr>\n    <tr>\n      <th>1456</th>\n      <td>5.307794e+10</td>\n      <td>4614</td>\n      <td>2537</td>\n      <td>78</td>\n      <td>1953</td>\n      <td>1432</td>\n      <td>51116.0</td>\n      <td>1215</td>\n      <td>952</td>\n      <td>14</td>\n    </tr>\n  </tbody>\n</table>\n<p>1457 rows × 10 columns</p>\n</div>"
     },
     "execution_count": 93,
     "metadata": {},
     "output_type": "execute_result"
    }
   ],
   "source": [
    "df_2010tracts = df.groupby(\"GEOID_old\").sum() #for count variables\n",
    "for ind,row in df_2010tracts.iterrows(): #for median_hh_inc, TODO: needs to be weighted with the total population\n",
    "    medians = df.loc[df[\"GEOID_old\"] == ind, \"median_hh_inc\"].values\n",
    "    df_2010tracts.loc[ind, \"median_hh_inc\"] = u.select(medians)\n",
    "df_2010tracts.index.name = \"GEOID\"\n",
    "df_2010tracts = df_2010tracts.reset_index()\n",
    "df_2010tracts"
   ],
   "metadata": {
    "collapsed": false
   }
  },
  {
   "cell_type": "code",
   "execution_count": 94,
   "outputs": [],
   "source": [
    "df_2010tracts.to_csv(\"data/census/all_acs_by_tract_2020_2010tracts.csv\")"
   ],
   "metadata": {
    "collapsed": false
   }
  },
  {
   "cell_type": "code",
   "execution_count": 80,
   "outputs": [
    {
     "data": {
      "text/plain": "<AxesSubplot:>"
     },
     "execution_count": 80,
     "metadata": {},
     "output_type": "execute_result"
    },
    {
     "data": {
      "text/plain": "<Figure size 432x288 with 1 Axes>",
      "image/png": "[encoded data removed]"
     },
     "metadata": {
      "needs_background": "light"
     },
     "output_type": "display_data"
    }
   ],
   "source": [
    "tract_20_10[\"FRACTION\"].hist(bins=100, log=True)"
   ],
   "metadata": {
    "collapsed": false
   }
  },
  {
   "cell_type": "code",
   "execution_count": 13,
   "outputs": [
    {
     "data": {
      "text/plain": "0"
     },
     "execution_count": 13,
     "metadata": {},
     "output_type": "execute_result"
    }
   ],
   "source": [
    "tract_20_10[\"FRACTION\"].describe()\n",
    "tract_20_10[\"FRACTION\"].isna().sum()\n",
    "# tract_20_10[\"AREALAND_PART\"].isna().sum()\n",
    "# tract_20_10[\"AREALAND_TRACT_20\"].isna().sum()\n",
    "# tract_20_10[\"AREALAND_PART\"].describe()\n",
    "# tract_20_10[\"AREALAND_TRACT_20\"].describe()"
   ],
   "metadata": {
    "collapsed": false
   }
  },
  {
   "cell_type": "code",
   "execution_count": 24,
   "outputs": [
    {
     "data": {
      "text/plain": "                                                        NAME  n_total_pop  \\\nGEOID                                                                       \n53001950100      Census Tract 9501, Adams County, Washington         2511   \n53001950200      Census Tract 9502, Adams County, Washington         1630   \n53001950300      Census Tract 9503, Adams County, Washington         6546   \n53001950400      Census Tract 9504, Adams County, Washington         3237   \n53001950500      Census Tract 9505, Adams County, Washington         5670   \n...                                                      ...          ...   \n53077940002  Census Tract 9400.02, Yakima County, Washington         4607   \n53077940003  Census Tract 9400.03, Yakima County, Washington         3315   \n53077940004  Census Tract 9400.04, Yakima County, Washington         6172   \n53077940005  Census Tract 9400.05, Yakima County, Washington         4857   \n53077940006  Census Tract 9400.06, Yakima County, Washington         4724   \n\n             n_white  n_bachelor  n_workers_16plus  n_drove_alone  \\\nGEOID                                                               \n53001950100     2263         255              1083            766   \n53001950200     1449         171               667            476   \n53001950300     3263         214              2188           1478   \n53001950400     1900         186              1204            836   \n53001950500     3886          97              2263           1769   \n...              ...         ...               ...            ...   \n53077940002     2364         165              1547           1335   \n53077940003     1377         117              1148            974   \n53077940004     3532         102              2222           1646   \n53077940005     3620         152              1948           1525   \n53077940006     3365         105              1920           1491   \n\n             median_hh_inc  n_units_tot  n_units_1detached  n_units_1attached  \nGEOID                                                                          \n53001950100        48561.0         1164                909                 14  \n53001950200        56734.0          791                659                  3  \n53001950300        43658.0         1827                743                 13  \n53001950400        46412.0         1045                687                 60  \n53001950500        51543.0         1781               1256                 63  \n...                    ...          ...                ...                ...  \n53077940002        51548.0         1411               1125                 39  \n53077940003        49688.0         1095                763                  5  \n53077940004        42775.0         1731               1212                 43  \n53077940005        44786.0         1463               1039                 30  \n53077940006        49667.0         1294               1031                 22  \n\n[1458 rows x 10 columns]",
      "text/html": "<div>\n<style scoped>\n    .dataframe tbody tr th:only-of-type {\n        vertical-align: middle;\n    }\n\n    .dataframe tbody tr th {\n        vertical-align: top;\n    }\n\n    .dataframe thead th {\n        text-align: right;\n    }\n</style>\n<table border=\"1\" class=\"dataframe\">\n  <thead>\n    <tr style=\"text-align: right;\">\n      <th></th>\n      <th>NAME</th>\n      <th>n_total_pop</th>\n      <th>n_white</th>\n      <th>n_bachelor</th>\n      <th>n_workers_16plus</th>\n      <th>n_drove_alone</th>\n      <th>median_hh_inc</th>\n      <th>n_units_tot</th>\n      <th>n_units_1detached</th>\n      <th>n_units_1attached</th>\n    </tr>\n    <tr>\n      <th>GEOID</th>\n      <th></th>\n      <th></th>\n      <th></th>\n      <th></th>\n      <th></th>\n      <th></th>\n      <th></th>\n      <th></th>\n      <th></th>\n      <th></th>\n    </tr>\n  </thead>\n  <tbody>\n    <tr>\n      <th>53001950100</th>\n      <td>Census Tract 9501, Adams County, Washington</td>\n      <td>2511</td>\n      <td>2263</td>\n      <td>255</td>\n      <td>1083</td>\n      <td>766</td>\n      <td>48561.0</td>\n      <td>1164</td>\n      <td>909</td>\n      <td>14</td>\n    </tr>\n    <tr>\n      <th>53001950200</th>\n      <td>Census Tract 9502, Adams County, Washington</td>\n      <td>1630</td>\n      <td>1449</td>\n      <td>171</td>\n      <td>667</td>\n      <td>476</td>\n      <td>56734.0</td>\n      <td>791</td>\n      <td>659</td>\n      <td>3</td>\n    </tr>\n    <tr>\n      <th>53001950300</th>\n      <td>Census Tract 9503, Adams County, Washington</td>\n      <td>6546</td>\n      <td>3263</td>\n      <td>214</td>\n      <td>2188</td>\n      <td>1478</td>\n      <td>43658.0</td>\n      <td>1827</td>\n      <td>743</td>\n      <td>13</td>\n    </tr>\n    <tr>\n      <th>53001950400</th>\n      <td>Census Tract 9504, Adams County, Washington</td>\n      <td>3237</td>\n      <td>1900</td>\n      <td>186</td>\n      <td>1204</td>\n      <td>836</td>\n      <td>46412.0</td>\n      <td>1045</td>\n      <td>687</td>\n      <td>60</td>\n    </tr>\n    <tr>\n      <th>53001950500</th>\n      <td>Census Tract 9505, Adams County, Washington</td>\n      <td>5670</td>\n      <td>3886</td>\n      <td>97</td>\n      <td>2263</td>\n      <td>1769</td>\n      <td>51543.0</td>\n      <td>1781</td>\n      <td>1256</td>\n      <td>63</td>\n    </tr>\n    <tr>\n      <th>...</th>\n      <td>...</td>\n      <td>...</td>\n      <td>...</td>\n      <td>...</td>\n      <td>...</td>\n      <td>...</td>\n      <td>...</td>\n      <td>...</td>\n      <td>...</td>\n      <td>...</td>\n    </tr>\n    <tr>\n      <th>53077940002</th>\n      <td>Census Tract 9400.02, Yakima County, Washington</td>\n      <td>4607</td>\n      <td>2364</td>\n      <td>165</td>\n      <td>1547</td>\n      <td>1335</td>\n      <td>51548.0</td>\n      <td>1411</td>\n      <td>1125</td>\n      <td>39</td>\n    </tr>\n    <tr>\n      <th>53077940003</th>\n      <td>Census Tract 9400.03, Yakima County, Washington</td>\n      <td>3315</td>\n      <td>1377</td>\n      <td>117</td>\n      <td>1148</td>\n      <td>974</td>\n      <td>49688.0</td>\n      <td>1095</td>\n      <td>763</td>\n      <td>5</td>\n    </tr>\n    <tr>\n      <th>53077940004</th>\n      <td>Census Tract 9400.04, Yakima County, Washington</td>\n      <td>6172</td>\n      <td>3532</td>\n      <td>102</td>\n      <td>2222</td>\n      <td>1646</td>\n      <td>42775.0</td>\n      <td>1731</td>\n      <td>1212</td>\n      <td>43</td>\n    </tr>\n    <tr>\n      <th>53077940005</th>\n      <td>Census Tract 9400.05, Yakima County, Washington</td>\n      <td>4857</td>\n      <td>3620</td>\n      <td>152</td>\n      <td>1948</td>\n      <td>1525</td>\n      <td>44786.0</td>\n      <td>1463</td>\n      <td>1039</td>\n      <td>30</td>\n    </tr>\n    <tr>\n      <th>53077940006</th>\n      <td>Census Tract 9400.06, Yakima County, Washington</td>\n      <td>4724</td>\n      <td>3365</td>\n      <td>105</td>\n      <td>1920</td>\n      <td>1491</td>\n      <td>49667.0</td>\n      <td>1294</td>\n      <td>1031</td>\n      <td>22</td>\n    </tr>\n  </tbody>\n</table>\n<p>1458 rows × 10 columns</p>\n</div>"
     },
     "execution_count": 24,
     "metadata": {},
     "output_type": "execute_result"
    }
   ],
   "source": [
    "dff = pd.read_csv(\"data/census/all_acs_by_tract_2019.csv\", index_col=\"GEOID\")\n",
    "dff = dff.drop(\"Unnamed: 0\", axis=1)\n",
    "dff"
   ],
   "metadata": {
    "collapsed": false
   }
  },
  {
   "cell_type": "code",
   "execution_count": 26,
   "outputs": [
    {
     "data": {
      "text/plain": "True"
     },
     "execution_count": 26,
     "metadata": {},
     "output_type": "execute_result"
    }
   ],
   "source": [
    "53009000200 in dff.index"
   ],
   "metadata": {
    "collapsed": false
   }
  }
 ],
 "metadata": {
  "kernelspec": {
   "display_name": "Python 3",
   "language": "python",
   "name": "python3"
  },
  "language_info": {
   "codemirror_mode": {
    "name": "ipython",
    "version": 2
   },
   "file_extension": ".py",
   "mimetype": "text/x-python",
   "name": "python",
   "nbconvert_exporter": "python",
   "pygments_lexer": "ipython2",
   "version": "2.7.6"
  }
 },
 "nbformat": 4,
 "nbformat_minor": 0
}
